{
 "cells": [
  {
   "cell_type": "code",
   "execution_count": 2,
   "id": "760b987d",
   "metadata": {},
   "outputs": [],
   "source": [
    "import numpy as np\n",
    "import pandas as pd\n",
    "import mysql.connector as sql\n",
    "from IPython.display import clear_output\n",
    "import os\n",
    "from sklearn.svm import SVC\n",
    "from sklearn.model_selection import train_test_split as tts\n",
    "from sklearn.feature_extraction.text import TfidfVectorizer\n",
    "from sklearn.preprocessing import LabelEncoder as LE\n",
    "from sklearn.metrics.pairwise import cosine_similarity\n",
    "from sklearn.metrics import confusion_matrix,accuracy_score,classification_report\n",
    "import nltk\n",
    "# nltk.download('stopwords')\n",
    "# nltk.download('omw-1.4')\n",
    "# nltk.download('punkt')\n",
    "from nltk.stem.lancaster import LancasterStemmer\n",
    "from nltk.corpus import stopwords\n",
    "import datetime\n",
    "stop_words = set(stopwords.words('english'))\n",
    "import re\n",
    "from nltk.stem import WordNetLemmatizer\n",
    "# nltk.download('wordnet')"
   ]
  },
  {
   "cell_type": "code",
   "execution_count": 3,
   "id": "57249d0b",
   "metadata": {},
   "outputs": [
    {
     "name": "stdout",
     "output_type": "stream",
     "text": [
      "8.0.33\n"
     ]
    }
   ],
   "source": [
    "print(sql.__version__)"
   ]
  },
  {
   "cell_type": "markdown",
   "id": "a46864ea",
   "metadata": {},
   "source": [
    "# Data Preprocessing"
   ]
  },
  {
   "cell_type": "code",
   "execution_count": 4,
   "id": "42e33bbf",
   "metadata": {},
   "outputs": [
    {
     "data": {
      "text/html": [
       "<div>\n",
       "<style scoped>\n",
       "    .dataframe tbody tr th:only-of-type {\n",
       "        vertical-align: middle;\n",
       "    }\n",
       "\n",
       "    .dataframe tbody tr th {\n",
       "        vertical-align: top;\n",
       "    }\n",
       "\n",
       "    .dataframe thead th {\n",
       "        text-align: right;\n",
       "    }\n",
       "</style>\n",
       "<table border=\"1\" class=\"dataframe\">\n",
       "  <thead>\n",
       "    <tr style=\"text-align: right;\">\n",
       "      <th></th>\n",
       "      <th>Question</th>\n",
       "      <th>Answer</th>\n",
       "      <th>Class</th>\n",
       "    </tr>\n",
       "  </thead>\n",
       "  <tbody>\n",
       "    <tr>\n",
       "      <th>0</th>\n",
       "      <td>What are the documents required for opening a ...</td>\n",
       "      <td>Following documents are required to open a Cur...</td>\n",
       "      <td>accounts</td>\n",
       "    </tr>\n",
       "    <tr>\n",
       "      <th>1</th>\n",
       "      <td>Can I transfer my Current Account from one bra...</td>\n",
       "      <td>Yes, Current Accounts can be transferred from ...</td>\n",
       "      <td>accounts</td>\n",
       "    </tr>\n",
       "    <tr>\n",
       "      <th>2</th>\n",
       "      <td>My present status is NRI. What extra documents...</td>\n",
       "      <td>NRI/PIO can open the proprietorship/partnershi...</td>\n",
       "      <td>accounts</td>\n",
       "    </tr>\n",
       "    <tr>\n",
       "      <th>3</th>\n",
       "      <td>What are the documents required for opening a ...</td>\n",
       "      <td>Following documents are required for opening a...</td>\n",
       "      <td>accounts</td>\n",
       "    </tr>\n",
       "    <tr>\n",
       "      <th>4</th>\n",
       "      <td>What documents are required to change the addr...</td>\n",
       "      <td>Following documents are required to change the...</td>\n",
       "      <td>accounts</td>\n",
       "    </tr>\n",
       "  </tbody>\n",
       "</table>\n",
       "</div>"
      ],
      "text/plain": [
       "                                            Question  \\\n",
       "0  What are the documents required for opening a ...   \n",
       "1  Can I transfer my Current Account from one bra...   \n",
       "2  My present status is NRI. What extra documents...   \n",
       "3  What are the documents required for opening a ...   \n",
       "4  What documents are required to change the addr...   \n",
       "\n",
       "                                              Answer     Class  \n",
       "0  Following documents are required to open a Cur...  accounts  \n",
       "1  Yes, Current Accounts can be transferred from ...  accounts  \n",
       "2  NRI/PIO can open the proprietorship/partnershi...  accounts  \n",
       "3  Following documents are required for opening a...  accounts  \n",
       "4  Following documents are required to change the...  accounts  "
      ]
     },
     "execution_count": 4,
     "metadata": {},
     "output_type": "execute_result"
    }
   ],
   "source": [
    "df=pd.read_csv('chatbotData.csv')\n",
    "df.head()"
   ]
  },
  {
   "cell_type": "code",
   "execution_count": 5,
   "id": "f2ab9351",
   "metadata": {},
   "outputs": [
    {
     "name": "stdout",
     "output_type": "stream",
     "text": [
      "6228\n"
     ]
    }
   ],
   "source": [
    "print(df.size)"
   ]
  },
  {
   "cell_type": "code",
   "execution_count": 6,
   "id": "b1bdd47f",
   "metadata": {},
   "outputs": [
    {
     "data": {
      "text/html": [
       "<div>\n",
       "<style scoped>\n",
       "    .dataframe tbody tr th:only-of-type {\n",
       "        vertical-align: middle;\n",
       "    }\n",
       "\n",
       "    .dataframe tbody tr th {\n",
       "        vertical-align: top;\n",
       "    }\n",
       "\n",
       "    .dataframe thead th {\n",
       "        text-align: right;\n",
       "    }\n",
       "</style>\n",
       "<table border=\"1\" class=\"dataframe\">\n",
       "  <thead>\n",
       "    <tr style=\"text-align: right;\">\n",
       "      <th></th>\n",
       "      <th>Question</th>\n",
       "      <th>Answer</th>\n",
       "      <th>Class</th>\n",
       "    </tr>\n",
       "  </thead>\n",
       "  <tbody>\n",
       "    <tr>\n",
       "      <th>0</th>\n",
       "      <td>What are the documents required for opening a ...</td>\n",
       "      <td>Following documents are required to open a Cur...</td>\n",
       "      <td>accounts</td>\n",
       "    </tr>\n",
       "    <tr>\n",
       "      <th>1</th>\n",
       "      <td>Can I transfer my Current Account from one bra...</td>\n",
       "      <td>Yes, Current Accounts can be transferred from ...</td>\n",
       "      <td>accounts</td>\n",
       "    </tr>\n",
       "    <tr>\n",
       "      <th>2</th>\n",
       "      <td>My present status is NRI. What extra documents...</td>\n",
       "      <td>NRI/PIO can open the proprietorship/partnershi...</td>\n",
       "      <td>accounts</td>\n",
       "    </tr>\n",
       "    <tr>\n",
       "      <th>3</th>\n",
       "      <td>What are the documents required for opening a ...</td>\n",
       "      <td>Following documents are required for opening a...</td>\n",
       "      <td>accounts</td>\n",
       "    </tr>\n",
       "    <tr>\n",
       "      <th>4</th>\n",
       "      <td>What documents are required to change the addr...</td>\n",
       "      <td>Following documents are required to change the...</td>\n",
       "      <td>accounts</td>\n",
       "    </tr>\n",
       "    <tr>\n",
       "      <th>...</th>\n",
       "      <td>...</td>\n",
       "      <td>...</td>\n",
       "      <td>...</td>\n",
       "    </tr>\n",
       "    <tr>\n",
       "      <th>2071</th>\n",
       "      <td>How much interest did I earn in Q4 of this year?</td>\n",
       "      <td>NaN</td>\n",
       "      <td>NaN</td>\n",
       "    </tr>\n",
       "    <tr>\n",
       "      <th>2072</th>\n",
       "      <td>What is the interest earned on my account duri...</td>\n",
       "      <td>NaN</td>\n",
       "      <td>NaN</td>\n",
       "    </tr>\n",
       "    <tr>\n",
       "      <th>2073</th>\n",
       "      <td>Can you show me a breakdown of the interest ea...</td>\n",
       "      <td>NaN</td>\n",
       "      <td>NaN</td>\n",
       "    </tr>\n",
       "    <tr>\n",
       "      <th>2074</th>\n",
       "      <td>What is the interest earned on my account for ...</td>\n",
       "      <td>NaN</td>\n",
       "      <td>NaN</td>\n",
       "    </tr>\n",
       "    <tr>\n",
       "      <th>2075</th>\n",
       "      <td>What is the interest earned on my account for ...</td>\n",
       "      <td>NaN</td>\n",
       "      <td>NaN</td>\n",
       "    </tr>\n",
       "  </tbody>\n",
       "</table>\n",
       "<p>2076 rows × 3 columns</p>\n",
       "</div>"
      ],
      "text/plain": [
       "                                               Question  \\\n",
       "0     What are the documents required for opening a ...   \n",
       "1     Can I transfer my Current Account from one bra...   \n",
       "2     My present status is NRI. What extra documents...   \n",
       "3     What are the documents required for opening a ...   \n",
       "4     What documents are required to change the addr...   \n",
       "...                                                 ...   \n",
       "2071   How much interest did I earn in Q4 of this year?   \n",
       "2072  What is the interest earned on my account duri...   \n",
       "2073  Can you show me a breakdown of the interest ea...   \n",
       "2074  What is the interest earned on my account for ...   \n",
       "2075  What is the interest earned on my account for ...   \n",
       "\n",
       "                                                 Answer     Class  \n",
       "0     Following documents are required to open a Cur...  accounts  \n",
       "1     Yes, Current Accounts can be transferred from ...  accounts  \n",
       "2     NRI/PIO can open the proprietorship/partnershi...  accounts  \n",
       "3     Following documents are required for opening a...  accounts  \n",
       "4     Following documents are required to change the...  accounts  \n",
       "...                                                 ...       ...  \n",
       "2071                                                NaN       NaN  \n",
       "2072                                                NaN       NaN  \n",
       "2073                                                NaN       NaN  \n",
       "2074                                                NaN       NaN  \n",
       "2075                                                NaN       NaN  \n",
       "\n",
       "[2076 rows x 3 columns]"
      ]
     },
     "execution_count": 6,
     "metadata": {},
     "output_type": "execute_result"
    }
   ],
   "source": [
    "df"
   ]
  },
  {
   "cell_type": "code",
   "execution_count": 7,
   "id": "6a93d624",
   "metadata": {},
   "outputs": [],
   "source": [
    "df['Class'] = df['Class'].fillna('Transaction')"
   ]
  },
  {
   "cell_type": "code",
   "execution_count": 8,
   "id": "d1205d6a",
   "metadata": {},
   "outputs": [
    {
     "data": {
      "text/plain": [
       "Question    object\n",
       "Answer      object\n",
       "Class       object\n",
       "dtype: object"
      ]
     },
     "execution_count": 8,
     "metadata": {},
     "output_type": "execute_result"
    }
   ],
   "source": [
    "df.dtypes"
   ]
  },
  {
   "cell_type": "code",
   "execution_count": 9,
   "id": "2b28a46a",
   "metadata": {},
   "outputs": [
    {
     "data": {
      "text/html": [
       "<div>\n",
       "<style scoped>\n",
       "    .dataframe tbody tr th:only-of-type {\n",
       "        vertical-align: middle;\n",
       "    }\n",
       "\n",
       "    .dataframe tbody tr th {\n",
       "        vertical-align: top;\n",
       "    }\n",
       "\n",
       "    .dataframe thead th {\n",
       "        text-align: right;\n",
       "    }\n",
       "</style>\n",
       "<table border=\"1\" class=\"dataframe\">\n",
       "  <thead>\n",
       "    <tr style=\"text-align: right;\">\n",
       "      <th></th>\n",
       "      <th>Question</th>\n",
       "      <th>Answer</th>\n",
       "      <th>Class</th>\n",
       "    </tr>\n",
       "  </thead>\n",
       "  <tbody>\n",
       "    <tr>\n",
       "      <th>0</th>\n",
       "      <td>What are the documents required for opening a ...</td>\n",
       "      <td>Following documents are required to open a Cur...</td>\n",
       "      <td>accounts</td>\n",
       "    </tr>\n",
       "    <tr>\n",
       "      <th>1</th>\n",
       "      <td>Can I transfer my Current Account from one bra...</td>\n",
       "      <td>Yes, Current Accounts can be transferred from ...</td>\n",
       "      <td>accounts</td>\n",
       "    </tr>\n",
       "    <tr>\n",
       "      <th>2</th>\n",
       "      <td>My present status is NRI. What extra documents...</td>\n",
       "      <td>NRI/PIO can open the proprietorship/partnershi...</td>\n",
       "      <td>accounts</td>\n",
       "    </tr>\n",
       "    <tr>\n",
       "      <th>3</th>\n",
       "      <td>What are the documents required for opening a ...</td>\n",
       "      <td>Following documents are required for opening a...</td>\n",
       "      <td>accounts</td>\n",
       "    </tr>\n",
       "    <tr>\n",
       "      <th>4</th>\n",
       "      <td>What documents are required to change the addr...</td>\n",
       "      <td>Following documents are required to change the...</td>\n",
       "      <td>accounts</td>\n",
       "    </tr>\n",
       "    <tr>\n",
       "      <th>5</th>\n",
       "      <td>What are the documents required for opening Cu...</td>\n",
       "      <td>Following documents are required for opening C...</td>\n",
       "      <td>accounts</td>\n",
       "    </tr>\n",
       "    <tr>\n",
       "      <th>6</th>\n",
       "      <td>Who can be a partner in a partnership firm</td>\n",
       "      <td>Partners must be major (above the age of 18), ...</td>\n",
       "      <td>accounts</td>\n",
       "    </tr>\n",
       "    <tr>\n",
       "      <th>7</th>\n",
       "      <td>What is the time taken to realize outstation c...</td>\n",
       "      <td>The indicative time taken for the realization ...</td>\n",
       "      <td>accounts</td>\n",
       "    </tr>\n",
       "    <tr>\n",
       "      <th>8</th>\n",
       "      <td>Can an individual open a Current Account</td>\n",
       "      <td>Yes. Documentation will be that of an individu...</td>\n",
       "      <td>accounts</td>\n",
       "    </tr>\n",
       "    <tr>\n",
       "      <th>9</th>\n",
       "      <td>Can EEFC Account be opened by Special Economic...</td>\n",
       "      <td>No, SEZ Units cannot open EEFC accounts.</td>\n",
       "      <td>accounts</td>\n",
       "    </tr>\n",
       "  </tbody>\n",
       "</table>\n",
       "</div>"
      ],
      "text/plain": [
       "                                            Question  \\\n",
       "0  What are the documents required for opening a ...   \n",
       "1  Can I transfer my Current Account from one bra...   \n",
       "2  My present status is NRI. What extra documents...   \n",
       "3  What are the documents required for opening a ...   \n",
       "4  What documents are required to change the addr...   \n",
       "5  What are the documents required for opening Cu...   \n",
       "6         Who can be a partner in a partnership firm   \n",
       "7  What is the time taken to realize outstation c...   \n",
       "8           Can an individual open a Current Account   \n",
       "9  Can EEFC Account be opened by Special Economic...   \n",
       "\n",
       "                                              Answer     Class  \n",
       "0  Following documents are required to open a Cur...  accounts  \n",
       "1  Yes, Current Accounts can be transferred from ...  accounts  \n",
       "2  NRI/PIO can open the proprietorship/partnershi...  accounts  \n",
       "3  Following documents are required for opening a...  accounts  \n",
       "4  Following documents are required to change the...  accounts  \n",
       "5  Following documents are required for opening C...  accounts  \n",
       "6  Partners must be major (above the age of 18), ...  accounts  \n",
       "7  The indicative time taken for the realization ...  accounts  \n",
       "8  Yes. Documentation will be that of an individu...  accounts  \n",
       "9           No, SEZ Units cannot open EEFC accounts.  accounts  "
      ]
     },
     "execution_count": 9,
     "metadata": {},
     "output_type": "execute_result"
    }
   ],
   "source": [
    "df.head(10)"
   ]
  },
  {
   "cell_type": "code",
   "execution_count": 10,
   "id": "4aba080d",
   "metadata": {},
   "outputs": [],
   "source": [
    "def cleanup(review):\n",
    "    review = re.sub('[^a-zA-Z]', ' ', review)\n",
    "    \n",
    "    review = review.lower()\n",
    "    review = review.split()\n",
    "    lemmatizer = WordNetLemmatizer()\n",
    "    all_stopwords = stopwords.words('english')\n",
    "    all_stopwords.append('bank')\n",
    "    review = [lemmatizer.lemmatize(word) for word in review if not word in set(all_stopwords)]\n",
    "#     print(type(review))\n",
    "#     print(len(review))\n",
    "#     print(review)\n",
    "    corpus.append(review)\n",
    "    df['Question'][i]=' '.join(review)\n",
    "    return ' '.join(review) "
   ]
  },
  {
   "cell_type": "code",
   "execution_count": 11,
   "id": "89c64105",
   "metadata": {},
   "outputs": [],
   "source": [
    "corpus=[]"
   ]
  },
  {
   "cell_type": "code",
   "execution_count": 12,
   "id": "f9ea1cd2",
   "metadata": {},
   "outputs": [
    {
     "name": "stdout",
     "output_type": "stream",
     "text": [
      "2076\n",
      "210\n"
     ]
    }
   ],
   "source": [
    "from sklearn.preprocessing import LabelEncoder\n",
    "le = LabelEncoder()\n",
    "\n",
    "X=[]\n",
    "m=0\n",
    "y=[]\n",
    "#preparing X and y to use\n",
    "print(len(df))\n",
    "for i in range(len(df)):\n",
    "  m=max(m,len(df['Question'][i]))\n",
    "  X.append(cleanup(df['Question'][i]))\n",
    "  y.append(df['Class'][i])\n",
    "print(m)"
   ]
  },
  {
   "cell_type": "code",
   "execution_count": 13,
   "id": "37bbd0fd",
   "metadata": {},
   "outputs": [
    {
     "name": "stdout",
     "output_type": "stream",
     "text": [
      "<class 'list'>\n",
      "2076\n",
      "2076\n"
     ]
    }
   ],
   "source": [
    "print(type(X))\n",
    "print(len(X))\n",
    "print(len(y))"
   ]
  },
  {
   "cell_type": "code",
   "execution_count": 14,
   "id": "05d6d154",
   "metadata": {},
   "outputs": [
    {
     "name": "stdout",
     "output_type": "stream",
     "text": [
      "[['document', 'required', 'opening', 'current', 'account', 'sole', 'proprietorship', 'firm'], ['transfer', 'current', 'account', 'one', 'branch', 'another'], ['present', 'status', 'nri', 'extra', 'document', 'required', 'opening', 'sole', 'proprietorship', 'current', 'account'], ['document', 'required', 'opening', 'current', 'account', 'limited', 'liability', 'partnership'], ['document', 'required', 'change', 'address', 'entity'], ['document', 'required', 'opening', 'current', 'account', 'company'], ['partner', 'partnership', 'firm'], ['time', 'taken', 'realize', 'outstation', 'cheque'], ['individual', 'open', 'current', 'account'], ['eefc', 'account', 'opened', 'special', 'economic', 'zone', 'sez', 'unit'], ['case', 'unable', 'access', 'company', 'current', 'account'], ['transaction', 'included', 'part', 'free', 'inter', 'city', 'clearing', 'limit'], ['n', 'premium', 'ca', 'different', 'regular', 'ca', 'offered', 'bank'], ['must', 'open', 'premium', 'current', 'account', 'location', 'company', 'office'], ['access', 'premium', 'current', 'account', 'n', 'branch'], ['premium', 'current', 'account', 'make', 'payment', 'supplier', 'n', 'branch', 'single', 'cheque', 'book'], ['access', 'account', 'telephone', 'conduct', 'routine', 'daily', 'transaction'], ['included', 'bulk', 'transaction'], ['document', 'required', 'opening', 'current', 'account', 'partnership', 'firm'], ['access', 'account', 'telephone', 'conduct', 'routine', 'daily', 'transaction'], ['become', 'eligible', 'n', 'regular', 'current', 'account'], ['document', 'required', 'opening', 'current', 'account', 'partnership', 'firm'], ['must', 'open', 'regular', 'current', 'account', 'location', 'company', 'office'], ['initial', 'deposit', 'amount', 'required', 'open', 'flexi', 'account'], ['case', 'unable', 'access', 'company', 'current', 'account', 'using', 'netbanking'], ['access', 'account', 'telephone', 'conduct', 'routine', 'daily', 'transaction'], ['flexi', 'current', 'account', 'different', 'regular', 'current', 'account'], ['document', 'required', 'opening', 'current', 'account', 'partnership', 'firm'], ['transaction', 'included', 'part', 'free', 'anywhere', 'transaction', 'limit', 'month'], ['much', 'cash', 'deposit', 'per', 'month', 'home', 'branch', 'without', 'charged'], ['access', 'account', 'n', 'branch'], ['minimum', 'balance', 'need', 'maintain', 'flexi', 'current', 'account'], ['minimum', 'balance', 'required', 'apex', 'current', 'account'], ['access', 'account', 'n', 'branch'], ['necessary', 'open', 'apex', 'current', 'account', 'location', 'company', 'office'], ['make', 'payment', 'supplier', 'n', 'branch', 'single', 'cheque', 'book'], ['document', 'required', 'opening', 'current', 'account', 'partnership', 'firm'], ['access', 'account', 'telephone', 'conduct', 'routine', 'daily', 'transaction'], ['case', 'unable', 'access', 'company', 'current', 'account', 'net', 'banking'], ['apex', 'current', 'account', 'different', 'regular', 'current', 'account'], ['transaction', 'included', 'part', 'free', 'anywhere', 'transaction', 'limit', 'month'], ['transaction', 'included', 'part', 'free', 'anywhere', 'transaction', 'limit', 'month'], ['make', 'payment', 'supplier', 'n', 'branch', 'single', 'cheque', 'book'], ['case', 'unable', 'access', 'company', 'current', 'account', 'net', 'banking'], ['necessary', 'open', 'max', 'current', 'account', 'location', 'company', 'office'], ['access', 'account', 'telephone', 'conduct', 'routine', 'daily', 'transaction'], ['document', 'required', 'opening', 'current', 'account', 'partnership', 'firm'], ['initial', 'deposit', 'amount', 'required', 'open', 'max', 'current', 'account'], ['minimum', 'balance', 'need', 'maintain', 'max', 'current', 'account'], ['access', 'account', 'n', 'branch'], ['n', 'max', 'current', 'account', 'different', 'regular', 'current', 'account'], ['must', 'open', 'account', 'location', 'company', 'office'], ['minimum', 'average', 'monthly', 'balance', 'required', 'merchant', 'advantage', 'current', 'account'], ['document', 'required', 'opening', 'current', 'account', 'partnership', 'firm'], ['must', 'open', 'merchant', 'advantage', 'current', 'account', 'location', 'company', 'office'], ['access', 'account', 'telephone', 'conduct', 'routine', 'daily', 'transaction'], ['access', 'merchant', 'advantage', 'plus', 'current', 'account', 'n', 'branch'], ['merchant', 'plus', 'current', 'account', 'make', 'payment', 'supplier', 'n', 'branch', 'single', 'cheque', 'book'], ['document', 'required', 'opening', 'current', 'account', 'partnership', 'firm'], ['access', 'account', 'telephone', 'conduct', 'routine', 'daily', 'transaction'], ['merchant', 'advantage', 'plus', 'current', 'account', 'different', 'regular', 'current', 'account', 'offered', 'bank'], ['merchant', 'advantage', 'plus', 'current', 'account', 'different', 'regular', 'current', 'account', 'offered', 'bank'], ['minimum', 'average', 'monthly', 'balance', 'maintain', 'merchant', 'advantage', 'plus', 'current', 'account'], ['document', 'required', 'opening', 'current', 'account', 'partnership', 'firm'], ['document', 'required', 'opening', 'current', 'account', 'partnership', 'firm'], ['document', 'required', 'opening', 'current', 'account', 'partnership', 'firm'], ['document', 'required', 'opening', 'current', 'account', 'partnership', 'firm'], ['document', 'required', 'opening', 'current', 'account', 'partnership', 'firm'], ['document', 'required', 'opening', 'current', 'account', 'partnership', 'firm'], ['document', 'required', 'opening', 'current', 'account', 'partnership', 'firm'], ['document', 'required', 'opening', 'current', 'account', 'partnership', 'firm'], ['access', 'account', 'n', 'branch'], ['make', 'payment', 'supplier', 'n', 'branch', 'single', 'cheque', 'book'], ['necessary', 'open', 'ultima', 'current', 'account', 'location', 'company', 'office'], ['access', 'account', 'telephone', 'conduct', 'routine', 'daily', 'transaction'], ['ultima', 'current', 'account', 'different', 'regular', 'current', 'account'], ['minimum', 'balance', 'required', 'ultima', 'current', 'account'], ['transaction', 'included', 'part', 'free', 'anywhere', 'transaction', 'limit', 'month'], ['case', 'unable', 'access', 'company', 'current', 'account', 'net', 'banking'], ['minimum', 'doc', 'required', 'open', 'institutional', 'current', 'account'], ['institutional', 'current', 'account', 'different', 'regular', 'current', 'account'], ['case', 'unable', 'access', 'institutional', 'current', 'account', 'net', 'banking'], ['access', 'account', 'n', 'branch'], ['must', 'open', 'institutional', 'current', 'account', 'location', 'company', 'office'], ['minimum', 'balance', 'required', 'institutional', 'current', 'account'], ['become', 'eligible', 'n', 'institutional', 'current', 'account'], ['access', 'account', 'telephone', 'conduct', 'routine', 'daily', 'transaction'], ['necessary', 'open', 'institutional', 'current', 'account', 'location', 'company', 'office'], ['transaction', 'included', 'part', 'free', 'anywhere', 'transaction', 'limit', 'month'], ['make', 'payment', 'supplier', 'n', 'branch', 'single', 'cheque', 'book'], ['permissible', 'debit', 'rfc', 'domestic', 'account'], ['access', 'account', 'telephone', 'conduct', 'routine', 'daily', 'transaction'], ['open', 'rfc', 'domestic', 'account'], ['document', 'required', 'opening', 'current', 'account', 'partnership', 'firm'], ['permissible', 'credit', 'rfc', 'domestic', 'account'], ['currency', 'open', 'rfc', 'domestic', 'account'], ['whether', 'eefc', 'balance', 'covered', 'exchange', 'risk'], ['restriction', 'withdrawal', 'rupee', 'fund', 'held', 'eefc', 'account'], ['much', 'foreign', 'exchange', 'earnings', 'credited', 'eefc', 'account'], ['permissible', 'credit', 'eefc', 'account'], ['permissible', 'debit', 'account'], ['benefit', 'smartup', 'solution'], ['offer', 'salary', 'account', 'smartup', 'programme'], ['query', 'need', 'visit', 'branch'], ['key', 'feature', 'cm', 'ecm', 'n'], ['collection', 'solution', 'available'], ['key', 'feature', 'current', 'account'], ['key', 'feature', 'payment', 'gateway', 'n'], ['benefit', 'payzapp', 'business'], ['open', 'smartup', 'current', 'account'], ['smartup', 'solution'], ['payment', 'solution', 'available'], ['existing', 'account', 'still', 'open', 'smartup', 'current', 'account'], ['technology', 'start', 'still', 'open', 'smartup', 'current', 'account'], ['get', 'access', 'service', 'offered', 'smartup', 'programme', 'start', 'banking', 'n'], ['need', 'pay', 'penalty', 'premature', 'closure', 'fixed', 'deposit'], ['get', 'fixed', 'deposit', 'advice'], ['principal', 'amount', 'fixed', 'deposit', 'maturity', 'amount', 'fixed', 'deposit'], ['n', 'offer', 'preferential', 'rate', 'interest', 'fixed', 'deposit', 'senior', 'citizen'], ['register', 'n', 'netbanking', 'facility'], ['book', 'fixed', 'deposit', 'netbanking'], ['made', 'fixed', 'deposit', 'n', 'want', 'update', 'pan', 'detail', 'account', 'update', 'new', 'pan', 'detail'], ['time', 'taken', 'realize', 'outstation', 'cheque'], ['approach', 'service', 'related', 'n', 'fixed', 'deposit'], ['avail', 'exemption', 'tds', 'interest', 'earned', 'fixed', 'deposit'], ['prematurely', 'liquidate', 'fixed', 'deposit'], ['download', 'tds', 'certificate', 'online'], ['change', 'existing', 'fixed', 'deposit', 'account', 'tenure'], ['tds', 'deducted'], ['tds', 'recovered', 'principle', 'fd'], ['issue', 'tds', 'certificate'], ['tds', 'influence', 'maturity', 'deposit'], ['implication', 'booking', 'fd', 'without', 'pan'], ['change', 'deposit', 'portfolio', 'affect', 'tds', 'liability'], ['tds', 'deducted', 'regular', 'fixed', 'deposit'], ['document', 'required', 'open', 'senior', 'citizen', 'regular', 'fixed', 'deposit'], ['open', 'joint', 'account', 'non', 'senior', 'citizen', 'regular', 'fixed', 'deposit'], ['regular', 'fixed', 'deposit', 'holder', 'apply', 'exemption', 'tds'], ['prematurely', 'liquidate', 'fixed', 'deposit', 'online'], ['new', 'policy', 'regard', 'pan', 'book', 'fixed', 'deposit'], ['become', 'liable', 'tds'], ['document', 'required', 'open', 'senior', 'citizen', 'year', 'tax', 'saving', 'fixed', 'deposit'], ['issue', 'tds', 'certificate'], ['year', 'tax', 'saving', 'fixed', 'deposit', 'holder', 'apply', 'exemption', 'tds'], ['tds', 'deducted', 'year', 'tax', 'saving', 'fixed', 'deposit'], ['change', 'enhancement', 'deposit', 'portfolio', 'affect', 'tds', 'liability'], ['need', 'visit', 'branch', 'receive', 'year', 'tax', 'saving', 'fixed', 'deposit', 'proceeds', 'maturity'], ['open', 'joint', 'account', 'non', 'senior', 'citizen', 'year', 'tax', 'saving', 'fixed', 'deposit'], ['apply', 'year', 'tax', 'saving', 'fixed', 'deposit'], ['liable', 'tds', 'tax', 'deduction', 'source'], ['joint', 'super', 'saver', 'account', 'account', 'holder', 'get', 'atm', 'debit', 'card'], ['super', 'saver', 'account', 'normal', 'saving', 'account'], ['document', 'required', 'open', 'senior', 'citizen', 'super', 'saver', 'facility'], ['part', 'trust', 'open', 'super', 'saver', 'account'], ['add', 'fixed', 'deposit'], ['tds', 'charged', 'gross', 'interest', 'earned', 'net', 'interest', 'earned'], ['super', 'saver', 'facility', 'sweep', 'facility', 'one', 'fixed', 'deposit'], ['super', 'saver', 'facility', 'sweep', 'facility', 'saving', 'account'], ['apply', 'super', 'saver', 'account'], ['joint', 'account', 'opened', 'non', 'senior', 'citizen'], ['work'], ['get', 'overdraft', 'facility', 'fixed', 'deposit', 'fund'], ['benefit'], ['apply', 'sweep', 'facility'], ['super', 'saver', 'facility', 'sweep', 'facility', 'fixed', 'deposit'], ['principal', 'interest', 'amount', 'fixed', 'deposit', 'considered'], ['super', 'saver', 'facility', 'sweep', 'facility', 'saving', 'account'], ['basis', 'sweep', 'facility', 'get', 'triggered'], ['fixed', 'deposit', 'linked', 'two', 'different', 'saving', 'account', 'sweep'], ['sweep', 'facility', 'multiple', 'deposit'], ['link', 'account', 'held', 'different', 'account', 'title', 'saving', 'account', 'sweep', 'facility'], ['sweep', 'facility'], ['nomination', 'facility'], ['monthly', 'quarterly', 'interest', 'pay', 'option'], ['change', 'tenure', 'installment', 'due', 'date', 'auto', 'debit', 'date', 'recurring', 'deposit'], ['period', 'open', 'recurring', 'deposit'], ['choose', 'instalment', 'date'], ['partial', 'payment', 'made', 'recurring', 'deposit'], ['maximum', 'deposit', 'amount', 'recurring', 'deposit', 'account', 'opened'], ['certain', 'rd', 'installment', 'paid'], ['recurring', 'deposit', 'work'], ['pay', 'one', 'instalment', 'time'], ['interest', 'rate', 'calculated', 'premature', 'withdrawal', 'recurring', 'deposit'], ['overdraft', 'facility', 'allowed'], ['prematurely', 'liquidate', 'recurring', 'deposit'], ['happens', 'pay', 'instalment'], ['recurring', 'deposit', 'opened', 'joint', 'name'], ['first', 'applicant', 'recurring', 'deposit', 'minor'], ['withdraw', 'prematurely', 'recurring', 'deposit'], ['senior', 'citizen', 'extra', 'benefit'], ['open', 'recurring', 'deposit'], ['covert', 'existing', 'saving', 'account', 'pension', 'account'], ['minimum', 'balance', 'need', 'maintained', 'account'], ['open', 'pension', 'account'], ['nomination', 'required', 'account'], ['pension', 'account', 'opened', 'jointly'], ['charge', 'collection', 'outstation', 'cheque'], ['time', 'taken', 'realize', 'outstation', 'cheque'], ['know', 'beneficiary', 'detail', 'cheque', 'issued', 'name', 'basic', 'saving', 'deposit', 'account', 'farmer'], ['get', 'international', 'debit', 'card', 'basic', 'saving', 'deposit', 'account', 'farmer'], ['neft', 'facility'], ['ivr', 'based', 'call', 'free'], ['apply', 'basic', 'saving', 'deposit', 'account', 'farmer', 'n'], ['know', 'beneficiary', 'detail', 'cheque', 'issued', 'name', 'kisan', 'club', 'saving', 'account'], ['nomination', 'facility', 'available', 'locker'], ['timing', 'locker', 'operation'], ['many', 'nominee', 'added', 'single', 'locker'], ['pay', 'rent', 'locker', 'account'], ['procedure', 'add', 'cancel', 'modify', 'nominee', 'locker'], ['tenure', 'option'], ['open', 'salary', 'account', 'n'], ['received', 'welcome', 'letter', 'atm', 'debit', 'card', 'pin', 'new', 'account'], ['time', 'taken', 'realize', 'outstation', 'cheque'], ['account', 'becomes', 'dormant'], ['document', 'required', 'open', 'salary', 'account'], ['salary', 'account', 'joint', 'applicant'], ['employment', 'confirmation', 'mandatory', 'open', 'classic', 'salary', 'account'], ['time', 'taken', 'realize', 'outstation', 'cheque'], ['stop', 'cheque', 'payment'], ['company', 'id', 'card', 'accepted', 'photo', 'id', 'document'], ['procedure', 'add', 'modify', 'delete', 'nominee', 'account', 'deposit'], ['long', 'take', 'update', 'change', 'address'], ['use', 'existing', 'salary', 'account', 'changed', 'employer'], ['know', 'beneficiary', 'detail', 'cheque', 'issued', 'name'], ['enquire', 'status', 'request', 'change', 'residential', 'address', 'n', 'account'], ['enquire', 'status', 'request', 'change', 'residential', 'address', 'n', 'account'], ['know', 'beneficiary', 'detail', 'cheque', 'issued', 'name'], ['use', 'existing', 'salary', 'account', 'changed', 'employer'], ['employment', 'confirmation', 'mandatory', 'open', 'regular', 'salary', 'account'], ['stop', 'cheque', 'payment'], ['eligibility', 'criterion', 'personal', 'accident', 'death', 'cover'], ['procedure', 'add', 'modify', 'delete', 'nominee', 'account', 'deposit'], ['long', 'take', 'update', 'change', 'address'], ['time', 'taken', 'realize', 'outstation', 'cheque'], ['company', 'id', 'card', 'accepted', 'photo', 'id', 'document'], ['use', 'existing', 'salary', 'account', 'changed', 'employer'], ['salary', 'account', 'joint', 'applicant'], ['time', 'taken', 'realize', 'outstation', 'cheque'], ['long', 'take', 'update', 'change', 'address'], ['employment', 'confirmation', 'mandatory', 'open', 'premium', 'salary', 'account'], ['eligibility', 'criterion', 'personal', 'accident', 'death', 'cover'], ['stop', 'cheque', 'payment'], ['company', 'id', 'card', 'accepted', 'photo', 'id', 'document'], ['know', 'beneficiary', 'detail', 'cheque', 'issued', 'name'], ['enquire', 'status', 'request', 'change', 'residential', 'address', 'n', 'account'], ['mode', 'accident', 'covered', 'personal', 'accidental', 'death', 'cover'], ['know', 'beneficiary', 'detail', 'cheque', 'issued', 'name'], ['enquire', 'status', 'request', 'change', 'residential', 'address', 'n', 'account'], ['employment', 'confirmation', 'mandatory', 'open', 'defence', 'salary', 'account'], ['eligibility', 'criterion', 'personal', 'accident', 'death', 'cover'], ['procedure', 'add', 'modify', 'delete', 'nominee', 'account', 'deposit'], ['defence', 'id', 'card', 'accepted', 'photo', 'id', 'document', 'defense', 'salary', 'account'], ['long', 'take', 'update', 'change', 'address'], ['time', 'taken', 'realize', 'outstation', 'cheque'], ['stop', 'cheque', 'payment'], ['use', 'existing', 'salary', 'account', 'changed', 'employer'], ['company', 'id', 'card', 'accepted', 'photo', 'id', 'document', 'basic', 'saving', 'deposit', 'account', 'salary'], ['address', 'proof', 'mandatory', 'requirement', 'basic', 'saving', 'deposit', 'account', 'salary'], ['stop', 'cheque', 'payment'], ['use', 'existing', 'basic', 'saving', 'deposit', 'account', 'salary', 'changed', 'employer'], ['time', 'taken', 'realize', 'outstation', 'cheque'], ['employment', 'confirmation', 'mandatory', 'open', 'basic', 'saving', 'deposit', 'account', 'salary'], ['procedure', 'add', 'modify', 'delete', 'nominee', 'account', 'deposit'], ['long', 'take', 'update', 'change', 'address'], ['know', 'beneficiary', 'detail', 'cheque', 'issued', 'name'], ['enquire', 'status', 'request', 'change', 'residential', 'address', 'n', 'account'], ['know', 'beneficiary', 'detail', 'cheque', 'issued', 'name'], ['enquire', 'status', 'request', 'change', 'residential', 'address', 'n', 'account'], ['procedure', 'add', 'modify', 'delete', 'nominee', 'account', 'deposit'], ['need', 'open', 'joint', 'account'], ['able', 'access', 'account', 'establishment', 'atm', 'single', 'debit', 'card'], ['earn', 'interest', 'reimbursement', 'account'], ['need', 'reimbursement', 'account'], ['entitled', 'kind', 'benefit', 'account', 'salary', 'account'], ['time', 'taken', 'realize', 'outstation', 'cheque'], ['long', 'take', 'update', 'change', 'address'], ['stop', 'cheque', 'payment'], ['use', 'account', 'regular', 'cheque', 'cash', 'deposit', 'withdrawal'], ['multiple', 'zero', 'balance', 'salary', 'account'], ['rate', 'interest', 'earn', 'balance', 'saving', 'account'], ['happens', 'use', 'saving', 'account', 'long', 'time'], ['register', 'email', 'statement'], ['change', 'add', 'email', 'id', 'account'], ['update', 'pan', 'number'], ['time', 'taken', 'realize', 'outstation', 'cheque'], ['request', 'physical', 'statement'], ['reissuance', 'atm', 'debit', 'card', 'pin'], ['change', 'update', 'address', 'account'], ['activate', 'dormant', 'saving', 'account'], ['change', 'add', 'mobile', 'number'], ['transfer', 'saving', 'account', 'one', 'branch', 'another'], ['document', 'required', 'open', 'new', 'saving', 'account'], ['frequency', 'interest', 'payout', 'saving', 'account'], ['get', 'debit', 'card', 'linked', 'institutional', 'saving', 'account'], ['general', 'documentation', 'requirement', 'open', 'institutional', 'saving', 'account'], ['unregistered', 'institution', 'open', 'institutional', 'saving', 'account'], ['transaction', 'done', 'n', 'branch'], ['institution', 'start', 'receiving', 'foreign', 'contribution', 'receive', 'institutional', 'saving', 'account'], ['fund', 'credited', 'fcra', 'account', 'simply', 'account', 'opened'], ['amb', 'average', 'monthly', 'balance', 'declaration', 'required', 'submitted', 'along', 'document', 'institutional', 'saving', 'account'], ['netbanking', 'facility', 'financial', 'right', 'enjoyed', 'authorized', 'signatory', 'institutional', 'saving', 'account'], ['amb', 'average', 'monthly', 'balance', 'requirement', 'institutional', 'saving', 'account'], ['need', 'close', 'account', 'kid', 'attains', 'majority'], ['long', 'standing', 'instruction', 'given', 'valid'], ['primary', 'customer', 'id', 'kid', 'advantage', 'account', 'customer', 'id'], ['document', 'required', 'open', 'woman', 'saving', 'account'], ['procedure', 'follow', 'debit', 'card', 'pin', 'blocked'], ['nd', 'level', 'authentication', 'made', 'mandatory', 'card', 'related', 'online', 'transaction'], ['use', 'debit', 'card', 'pay', 'online'], ['debit', 'card', 'working'], ['enable', 'international', 'usage', 'n', 'reward', 'debit', 'card'], ['debit', 'card', 'transaction', 'fee', 'swipe', 'card', 'petrol', 'pump', 'railway', 'station'], ['procedure', 'replace', 'damaged', 'debit', 'card'], ['customer', 'required', 'fill', 'cardholder', 'dispute', 'form', 'cdf', 'report', 'transaction', 'dispute'], ['time', 'frame', 'resolve', 'domestic', 'atm', 'transaction', 'dispute'], ['time', 'frame', 'report', 'debit', 'card', 'transaction', 'dispute'], ['document', 'submitted', 'respect', 'failed', 'disputed', 'transaction'], ['report', 'service', 'merchant', 'related', 'transaction', 'dispute', 'incurred', 'using', 'debit', 'card', 'transaction'], ['service', 'dispute'], ['time', 'frame', 'resolve', 'purchase', 'online', 'international', 'atm', 'transaction', 'dispute'], ['charge', 'know', 'imperium', 'platinum', 'chip', 'debit', 'card'], ['case', 'void', 'transaction', 'imperium', 'platinum', 'chip', 'debit', 'card'], ['use', 'easyshop', 'platinum', 'debit', 'card'], ['transaction', 'limit', 'imperium', 'platinum', 'chip', 'debit', 'card'], ['case', 'void', 'transaction', 'platinum', 'debit', 'card'], ['use', 'easyshop', 'platinum', 'debit', 'card'], ['transaction', 'limit', 'platinum', 'debit', 'card'], ['charge', 'know', 'platinum', 'debit', 'card'], ['case', 'void', 'transaction', 'titanium', 'royale', 'debit', 'card'], ['use', 'easyshop', 'titanium', 'royale', 'debit', 'card'], ['charge', 'know', 'titanium', 'royale', 'debit', 'card'], ['transaction', 'limit', 'titanium', 'royale', 'debit', 'card'], ['case', 'void', 'transaction', 'gold', 'debit', 'card'], ['claim', 'personal', 'accident', 'death', 'cover', 'gold', 'debit', 'card'], ['use', 'easyshop', 'gold', 'debit', 'card'], ['extra', 'charge', 'gold', 'debit', 'card'], ['transaction', 'limit', 'gold', 'debit', 'card'], ['use', 'easyshop', 'titanium', 'debit', 'card'], ['charge', 'aware', 'titanium', 'debit', 'card'], ['transaction', 'limit', 'titanium', 'debit', 'card'], ['case', 'void', 'transaction', 'titanium', 'debit', 'card'], ['case', 'void', 'transaction'], ['case', 'void', 'transaction', 'international', 'debit', 'card'], ['charge', 'know', 'international', 'debit', 'card'], ['use', 'easyshop', 'international', 'debit', 'card'], ['transaction', 'limit', 'debit', 'card'], ['extra', 'charge', 'international', 'business', 'debit', 'card'], ['use', 'easyshop', 'business', 'debit', 'card'], ['case', 'void', 'transaction', 'international', 'business', 'debit', 'card'], ['transaction', 'limit', 'business', 'debit', 'card'], ['case', 'void', 'transaction', 'woman', 'advantage', 'debit', 'card'], ['use', 'easyshop', 'woman', 'advantage', 'debit', 'card'], ['extra', 'charge', 'woman', 'advantage', 'debit', 'card'], ['woman', 'advantage', 'debit', 'card', 'lost', 'stolen'], ['transaction', 'limit', 'woman', 'advantage', 'debit', 'card'], ['extra', 'charge', 'nro', 'debit', 'card'], ['use', 'easyshop', 'nro', 'debit', 'card'], ['case', 'void', 'transaction', 'nro', 'debit', 'card'], ['transaction', 'limit', 'nro', 'debit', 'card'], ['jetprivilege', 'n', 'world', 'debit', 'card', 'taken', 'public', 'private', 'partnership', 'firm'], ['earn', 'jpmiles', 'jetprivilege', 'n', 'world', 'card'], ['get', 'enrollment', 'benefit', 'jetprivilege', 'n', 'world', 'debit', 'card'], ['chip', 'card', 'used', 'online', 'transaction'], ['r', 'discount', 'voucher', 'applicable', 'booking', 'done', 'jetairways', 'com'], ['want', 'use', 'debit', 'card', 'internationally'], ['use', 'rupay', 'platinum', 'debit', 'card', 'pay', 'online'], ['rupay', 'platinum', 'debit', 'card', 'used'], ['use', 'rupay', 'atm', 'card', 'merchant', 'outlet', 'ecom', 'website'], ['case', 'void', 'transaction', 'reward', 'debit', 'card'], ['transaction', 'limit', 'reward', 'debit', 'card'], ['charge', 'know', 'n', 'reward', 'debit', 'card'], ['chip', 'card', 'used', 'online', 'transaction'], ['time', 'point'], ['contact', 'write', 'know', 'existing', 'offer', 'card'], ['contact', 'write', 'doubt', 'query'], ['get', 'time', 'point', 'debit', 'card'], ['except', 'digital', 'medium', 'consumption', 'medium', 'earning', 'time', 'point'], ['hotlist', 'card', 'get', 'deregister', 'time', 'point', 'program'], ['reset', 'password'], ['take', 'card'], ['much', 'time', 'point', 'earn', 'activity', 'til'], ['burn', 'accumulated', 'time', 'point'], ['get', 'enrollment', 'time', 'point'], ['long', 'keep', 'earned', 'time', 'point'], ['term', 'condition', 'offer', 'disposal'], ['validity', 'offer'], ['already', 'member', 'time', 'point', 'need', 'register'], ['time', 'group', 'digital', 'property', 'offer', 'time', 'point'], ['customer', 'need', 'log', 'every', 'time', 'internet', 'limited', 'page', 'earning', 'time', 'point'], ['check', 'time', 'point', 'earned', 'transaction'], ['issue', 'related', 'product', 'using', 'time', 'point', 'portal', 'link'], ['much', 'going', 'charged', 'yearly', 'time', 'point', 'debit', 'card'], ['earn', 'time', 'point'], ['get', 'new', 'card', 'reissue', 'time', 'point', 'carry', 'forward'], ['benefit', 'time', 'point', 'debit', 'card'], ['get', 'notification', 'expiry', 'time', 'point'], ['registered', 'time', 'point', 'program', 'apply', 'time', 'point', 'debit', 'card'], ['register', 'time', 'point'], ['redeem', 'time', 'point'], ['time', 'point', 'apps', 'download', 'mobile'], ['two', 'member', 'id', 'merge', 'id', 'point'], ['offer', 'eligible', 'time', 'debit', 'card', 'holder'], ['need', 'mandatorily', 'register'], ['personal', 'accidental', 'death', 'cover', 'time', 'point', 'debit', 'card', 'holder'], ['share', 'calling', 'til', 'identify'], ['able', 'avail', 'merchant', 'offer'], ['exclusive', 'benefit', 'come', 'time', 'point', 'debit', 'card'], ['already', 'registered', 'time', 'point', 'program', 'happens', 'existing', 'time', 'point', 'id', 'apply', 'time', 'point', 'debit', 'card'], ['forget', 'atm', 'pin'], ['check', 'balance', 'n', 'forexplus', 'card'], ['purchase', 'forexplus', 'card'], ['load', 'forexplus', 'card', 'making', 'payment', 'cash'], ['know', 'atm', 'accept', 'forexplus', 'card'], ['document', 'submit', 'purchase', 'n', 'forexplus', 'card'], ['card', 'work'], ['use', 'dcc', 'mcc', 'option', 'time', 'transaction'], ['need', 'pay', 'additional', 'amount', 'cash', 'withdrawal', 'charge', 'levied', 'n', 'atm', 'transaction'], ['currency', 'available'], ['get', 'card'], ['soon', 'card', 'used', 'purchased'], ['cancel', 'forex', 'plus', 'card'], ['activate', 'e', 'commerce', 'card'], ['top', 'value', 'card', 'abroad'], ['contact', 'card', 'lost', 'stolen'], ['n', 'forexplus', 'card'], ['maximum', 'value', 'card', 'used'], ['renewed', 'passport', 'new', 'number', 'need', 'update', 'new', 'passport', 'number', 'forexplus', 'card'], ['dcc', 'mcc', 'stand'], ['need', 'n', 'account', 'purchase', 'n', 'forexplus', 'card'], ['happens', 'card', 'lost'], ['many', 'day', 'advance', 'purchase', 'foreign', 'exchange'], ['much', 'foreign', 'exchange', 'retain', 'foreign', 'trip'], ['value', 'card', 'topped'], ['forget', 'activation', 'code', 'ipin'], ['maximum', 'value', 'card', 'used'], ['much', 'currency', 'conversion', 'service', 'tax', 'applicable', 'time', 'load', 'reload', 'refund'], ['currency', 'available'], ['know', 'atm', 'accept', 'forexplus', 'chip', 'card'], ['document', 'submit', 'purchase', 'n', 'forexplus', 'chip', 'card'], ['get', 'card'], ['soon', 'card', 'used', 'purchased'], ['renewed', 'passport', 'new', 'number', 'need', 'update', 'new', 'passport', 'number', 'forexplus', 'chip', 'card'], ['maximum', 'value', 'card', 'used'], ['transaction', 'card', 'used'], ['non', 'traveller', 'purchase', 'forexplus', 'chip', 'card'], ['load', 'forexplus', 'chip', 'card', 'making', 'payment', 'cash'], ['contact', 'card', 'lost', 'stolen'], ['use', 'dcc', 'mcc', 'option', 'time', 'transaction'], ['issue', 'cheque', 'loading', 'forexplus', 'chip', 'card'], ['atm', 'pin', 'changed'], ['n', 'forexplus', 'chip', 'card'], ['forget', 'atm', 'pin'], ['activate', 'e', 'commerce'], ['cancel', 'forexplus', 'chip', 'card'], ['top', 'value', 'card', 'abroad'], ['check', 'balance', 'n', 'forexplus', 'chip', 'card'], ['need', 'n', 'account', 'purchase', 'n', 'forexplus', 'chip', 'card'], ['dcc', 'mcc', 'stand'], ['much', 'foreign', 'exchange', 'retain', 'foreign', 'trip'], ['value', 'card', 'topped'], ['use', 'dcc', 'mcc', 'option', 'time', 'transaction'], ['happens', 'card', 'lost'], ['cancel', 'forex', 'plus', 'card'], ['traveller', 'still', 'benefit', 'forexplus', 'chip', 'card'], ['forget', 'activation', 'code', 'ipin'], ['load', 'forexplus', 'chip', 'card', 'making', 'payment', 'cash'], ['renewed', 'passport', 'new', 'number', 'need', 'update', 'new', 'passport', 'number', 'forexplus', 'platinum', 'card'], ['currency', 'available'], ['n', 'forexplus', 'platinum', 'chip', 'card'], ['top', 'value', 'card', 'abroad'], ['forget', 'atm', 'pin'], ['need', 'pay', 'additional', 'amount', 'cash', 'withdrawal', 'charge', 'levied', 'n', 'atm', 'transaction'], ['soon', 'card', 'used', 'purchased'], ['contact', 'card', 'lost', 'stolen'], ['currency', 'available', 'n', 'forexplus', 'platinum', 'card'], ['need', 'n', 'account', 'purchase', 'n', 'forexplus', 'platinum', 'card'], ['maximum', 'value', 'card', 'used'], ['need', 'know', 'n', 'forexplus', 'platinum', 'card'], ['non', 'traveller', 'purchase', 'forexplus', 'card'], ['check', 'balance', 'n', 'forexplus', 'platinum', 'card'], ['contact', 'card', 'lost', 'stolen'], ['need', 'pay', 'charge', 'availing', 'gca'], ['cancel', 'forexplus', 'platinum', 'card'], ['card', 'work'], ['transaction', 'card', 'used'], ['issue', 'cheque', 'loading', 'forexplus', 'platinum', 'card'], ['activate', 'e', 'commerce', 'card'], ['service', 'avail', 'gca'], ['atm', 'pin', 'changed'], ['use', 'dcc', 'mcc', 'option', 'time', 'transaction'], ['know', 'atm', 'accept', 'n', 'forexplus', 'platinum', 'card'], ['avail', 'global', 'customer', 'assistance', 'service', 'gca', 'forexplus', 'platinum', 'card'], ['know', 'atm', 'accept', 'forexplus', 'platinum', 'card'], ['load', 'forex', 'card', 'making', 'payment', 'cash'], ['document', 'submit', 'purchase', 'n', 'forexplus', 'platinum', 'card'], ['get', 'card'], ['happens', 'card', 'lost'], ['dcc', 'mcc', 'stand'], ['load', 'forexplus', 'platinum', 'card', 'making', 'payment', 'cash'], ['purchase', 'forexplus', 'platinum', 'card'], ['much', 'foreign', 'exchange', 'retain', 'foreign', 'trip'], ['value', 'card', 'topped'], ['value', 'topped'], ['purchase', 'n', 'giftplus', 'card'], ['load', 'giftplus', 'card', 'making', 'payment', 'cash'], ['value', 'card', 'topped'], ['soon', 'get', 'gitfplus', 'card'], ['gift', 'plus', 'card', 'used', 'outside', 'india'], ['fee', 'levied', 'use', 'card'], ['soon', 'use', 'card', 'purchased'], ['document', 'submit', 'purchase', 'n', 'giftplus', 'card'], ['load', 'amount', 'limit'], ['charge', 'card'], ['forget', 'atm', 'pin'], ['contact', 'card', 'lost', 'stolen'], ['atm', 'pin', 'changed'], ['need', 'n', 'account', 'purchase', 'n', 'giftplus', 'card'], ['transaction', 'cannot', 'use', 'card'], ['n', 'giftplus', 'card'], ['soon', 'get', 'foodplus', 'card'], ['able', 'transfer', 'money', 'food', 'plus', 'card', 'account', 'account'], ['happens', 'pin', 'forgotten'], ['n', 'foodplus', 'card'], ['need', 'know', 'n', 'foodplus', 'card'], ['use', 'card', 'withdraw', 'cash'], ['load', 'reload', 'foodplus', 'card'], ['load', 'amount', 'limit'], ['usage', 'limit'], ['soon', 'get', 'moneyplus', 'card'], ['load', 'amount', 'limit'], ['n', 'moneyplus', 'card'], ['top', 'value', 'card'], ['set', 'atm', 'pin'], ['option', 'choose', 'withdraw', 'cash', 'atm'], ['service', 'avail', 'gca'], ['need', 'load', 'currency', 'card'], ['avail', 'global', 'customer', 'assistance', 'service', 'gca', 'n', 'multi', 'currency', 'forexplus', 'platinum', 'card'], ['need', 'pay', 'additional', 'amount', 'cash', 'withdrawal', 'charge', 'levied', 'n', 'atm', 'transaction'], ['sufficient', 'balance', 'wallet', 'corresponding', 'currency', 'transaction'], ['forget', 'lose', 'activation', 'code'], ['need', 'n', 'account', 'purchase', 'n', 'multi', 'currency', 'forexplus', 'platinum', 'card'], ['activation', 'code'], ['validity', 'period', 'card'], ['currency', 'carry', 'card'], ['contact', 'card', 'lost', 'stolen'], ['value', 'card', 'topped'], ['card', 'used', 'india'], ['much', 'foreign', 'exchange', 'load', 'card'], ['card', 'work'], ['get', 'activation', 'code'], ['get', 'netbanking', 'pin'], ['many', 'currency', 'carry', 'card'], ['transaction', 'card', 'used'], ['get', 'refund', 'towards', 'residual', 'forex', 'return'], ['reload', 'card', 'abroad'], ['transfer', 'currency', 'card', 'one', 'wallet'], ['use', 'card', 'pay', 'currency'], ['forget', 'activation', 'code'], ['cancel', 'multicurrency', 'platinum', 'forexplus', 'card'], ['need', 'n', 'account', 'purchase', 'multicurrency', 'platinum', 'forexplus', 'chip', 'card'], ['document', 'submit', 'purchase', 'n', 'multicurrency', 'platinum', 'forexplus', 'chip', 'card'], ['maximum', 'value', 'card', 'used'], ['multicurrency', 'platinum', 'forexplus', 'chip', 'card', 'enabled', 'verified', 'visa', 'vbv'], ['happens', 'card', 'lost'], ['value', 'card', 'topped'], ['use', 'card', 'pay', 'currency'], ['need', 'activate', 'multicurrency', 'platinum', 'forexplus', 'chip', 'card', 'ecommerce', 'transaction'], ['issue', 'cheque', 'load', 'multicurrency', 'platinum', 'forexplus', 'chip', 'card'], ['extra', 'charge', 'aware'], ['traveller', 'still', 'benefit', 'multicurrency', 'card'], ['customer', 'passing', 'terminal', 'contactless', 'transaction', 'take', 'place'], ['difference', 'process', 'atm', 'internet', 'transaction', 'contactless', 'card'], ['service', 'avail', 'gca'], ['forget', 'atm', 'pin'], ['currency', 'loaded', 'card'], ['much', 'currency', 'conversion', 'service', 'tax', 'applicable', 'time', 'load', 'reload', 'refund'], ['set', 'prepaid', 'netbanking', 'login', 'user', 'id', 'password', 'first', 'time'], ['authorization', 'scenario'], ['check', 'balance', 'n', 'multicurrency', 'forexplus', 'chip', 'card'], ['transaction', 'card', 'used'], ['need', 'pay', 'additional', 'amount', 'cash', 'withdrawal', 'charge', 'levied', 'n', 'atm', 'transaction'], ['dcc', 'mcc', 'stand'], ['use', 'contactless', 'mutlicurrency', 'forexplus', 'card'], ['n', 'contactless', 'multicurrencyforexplus', 'card'], ['many', 'day', 'advance', 'purchase', 'foreign', 'exchange'], ['know', 'atm', 'accept', 'multicurrency', 'card'], ['get', 'card'], ['use', 'dcc', 'mcc', 'option', 'time', 'transaction'], ['avail', 'global', 'customer', 'assistance', 'service', 'gca', 'multicurrency', 'card'], ['exchange', 'rate', 'applicable', 'use', 'travel', 'card', 'transaction', 'cash', 'withdrawal', 'atm', 'point', 'sale', 'transaction', 'merchant', 'outlet'], ['contactless', 'multicurrency', 'forexplus', 'card', 'work'], ['load', 'multiple', 'currency', 'one', 'multicurrency', 'platinum', 'forexplus', 'chip', 'card'], ['multicurrency', 'platinum', 'forexplus', 'chip', 'card', 'expired', 'unutilised', 'balance', 'card'], ['balance', 'currency', 'transaction', 'go'], ['card', 'work'], ['charge', 'towards', 'availing', 'gca', 'service'], ['contact', 'card', 'lost'], ['load', 'hajj', 'umrah', 'forexplus', 'card', 'making', 'payment', 'cash'], ['traveller', 'still', 'benefit', 'hajj', 'umrah', 'forexplus', 'card'], ['transaction', 'card', 'used'], ['issue', 'cheque', 'load', 'hajj', 'umrah', 'forexplus', 'card'], ['n', 'hajj', 'umrah', 'forexplus', 'card'], ['document', 'submit', 'purchase', 'n', 'hajj', 'umrah', 'forexplus', 'card'], ['need', 'n', 'account', 'purchase', 'hajj', 'umrah', 'forexplus', 'card'], ['maximum', 'value', 'card', 'used'], ['card', 'work'], ['currency', 'available'], ['get', 'card'], ['n', 'apollo', 'medical', 'benefit', 'card'], ['contact', 'offer', 'service', 'related', 'issue'], ['contact', 'card', 'transaction', 'related', 'issue'], ['soon', 'get', 'n', 'apollo', 'medical', 'benefit', 'card'], ['usage', 'limit'], ['load', 'amount', 'limit'], ['top', 'value', 'card'], ['case', 'card', 'lost', 'stolen', 'misused', 'hotlist', 'card'], ['use', 'medical', 'benefit', 'card', 'outside', 'india'], ['use', 'card'], ['view', 'card', 'balance', 'card', 'history'], ['get', 'card'], ['contact', 'card', 'lost', 'stolen'], ['check', 'balance', 'n', 'isic', 'forexplus', 'chip', 'card'], ['much', 'foreign', 'exchange', 'retain', 'foreign', 'trip'], ['happens', 'card', 'lost'], ['top', 'value', 'card', 'abroad'], ['document', 'submit', 'purchase', 'isic', 'n', 'forexplus', 'card'], ['renewed', 'passport', 'new', 'number', 'need', 'update', 'new', 'passport', 'number', 'isic', 'forexplus', 'chip', 'card'], ['issue', 'cheque', 'loading', 'isic', 'n', 'forexplus', 'card'], ['know', 'atm', 'accept', 'isic', 'n', 'forexplus', 'card'], ['validity', 'isic', 'n', 'forexplus', 'card'], ['need', 'n', 'account', 'purchase', 'isic', 'n', 'forexplus', 'chip', 'card'], ['dcc', 'mcc', 'stand'], ['forget', 'atm', 'pin'], ['get', 'card', 'reissued', 'post', 'expiry', 'isic', 'forexplus', 'chip', 'card'], ['atm', 'pin', 'changed'], ['soon', 'card', 'used', 'purchased'], ['cancel', 'isic', 'n', 'forexplus', 'card'], ['card', 'work'], ['isic', 'n', 'forexplus', 'card'], ['activate', 'e', 'commerce'], ['top', 'value', 'card', 'abroad'], ['non', 'traveller', 'purchase', 'isic', 'forexplus', 'card'], ['load', 'isic', 'forexplus', 'card', 'making', 'payment', 'cash'], ['need', 'know', 'isic', 'n', 'forexplus', 'card'], ['transaction', 'card', 'used'], ['need', 'pay', 'additional', 'amount', 'cash', 'withdrawal', 'charge', 'levied', 'n', 'atm', 'transaction'], ['currency', 'available'], ['use', 'dcc', 'mcc', 'option', 'time', 'transaction'], ['many', 'day', 'advance', 'purchase', 'foreign', 'exchange'], ['value', 'card', 'topped'], ['maximum', 'value', 'card', 'used'], ['vbv', 'password'], ['load', 'n', 'egiftplus', 'card', 'making', 'payment', 'cash'], ['soon', 'get', 'egiftplus', 'card'], ['buy', 'egiftplus', 'card'], ['maximum', 'amount', 'load', 'n', 'egiftplus', 'card'], ['n', 'egiftplus', 'card', 'different', 'giftplus', 'card'], ['document', 'submit', 'purchase', 'n', 'egiftplus', 'card'], ['need', 'account', 'n', 'account', 'purchase', 'n', 'egiftplus', 'card'], ['contact', 'card', 'lost', 'stolen'], ['change', 'atm', 'pin'], ['transaction', 'cannot', 'use', 'card'], ['purchase', 'n', 'egiftplus', 'card'], ['get', 'card'], ['check', 'balance', 'n', 'regalia', 'forexplus', 'card'], ['need', 'n', 'account', 'purchase', 'regalia', 'forexplus', 'card'], ['need', 'pay', 'additional', 'amount', 'cash', 'withdrawal', 'charge', 'levied', 'n', 'atm', 'transaction'], ['regalia', 'forexplus', 'card', 'expired', 'unutilised', 'balance', 'card'], ['reward', 'credited', 'member', 'account', 'participating', 'reward', 'provider'], ['need', 'register', 'program'], ['earn', 'thanks', 'reward', 'point'], ['redeem', 'thanks', 'reward', 'point'], ['regalia', 'forexplus', 'card', 'used'], ['currency', 'loaded', 'card'], ['rewarding', 'merchant', 'participate'], ['cancel', 'regalia', 'forexplus', 'card'], ['close', 'tap', 'wave', 'reader'], ['know', 'atm', 'accept', 'regalia', 'forexplus', 'card'], ['regalia', 'forexplus', 'card', 'work'], ['reward', 'calculated'], ['many', 'day', 'advance', 'purchase', 'foreign', 'exchange'], ['regalia', 'forexplus', 'card'], ['much', 'service', 'tax', 'cross', 'currency', 'conversion', 'applicable', 'time', 'load', 'reload', 'refund'], ['exchange', 'rate', 'applicable', 'use', 'travel', 'card', 'transaction', 'cash', 'withdrawal', 'atm', 'point', 'sale', 'transaction', 'merchant', 'outlet'], ['transaction', 'card', 'used'], ['issue', 'cheque', 'load', 'regalia', 'forexplus', 'card'], ['load', 'multiple', 'currency', 'one', 'regalia', 'forexplus', 'card'], ['load', 'regalia', 'forexplus', 'card', 'making', 'payment', 'cash'], ['login', 'check', 'account'], ['redeem', 'reward', 'point', 'abroad'], ['use', 'card', 'pay', 'currency'], ['use', 'dcc', 'mcc', 'option', 'time', 'transaction'], ['value', 'card', 'topped'], ['need', 'activate', 'regalia', 'forexplus', 'card', 'ecommerce', 'transaction'], ['secure', 'making', 'payment', 'regalia', 'forexplus', 'card'], ['set', 'prepaid', 'netbanking', 'login', 'user', 'id', 'password', 'first', 'time'], ['use', 'card', 'contactless', 'terminal'], ['know', 'transaction', 'successful'], ['traveller', 'still', 'benefit', 'regalia', 'forexplus', 'card'], ['regalia', 'forexplus', 'card', 'enabled', 'mastercard', 'secure', 'pas'], ['difference', 'process', 'atm', 'internet', 'transaction', 'contactless', 'card'], ['document', 'submit', 'purchase', 'regalia', 'forexplus', 'card'], ['dcc', 'mcc', 'stand'], ['already', 'earn', 'reward', 'card'], ['forget', 'prepaid', 'netbanking', 'login', 'password'], ['maximum', 'value', 'card', 'used'], ['option', 'choose', 'withdraw', 'cash', 'atm'], ['contact', 'card', 'lost'], ['extra', 'charge', 'aware'], ['use', 'e', 'monies', 'neft', 'foreign', 'remittance'], ['e', 'monies', 'neft', 'system', 'better', 'existing', 'rbi', 'eft', 'system'], ['information', 'required', 'use', 'e', 'monies', 'neft', 'service'], ['money', 'credited', 'beneficiary', 'account', 'using', 'e', 'monies', 'neft', 'service', 'get', 'back'], ['e', 'monies', 'neft', 'service', 'differ', 'rgts', 'eft'], ['charge', 'e', 'monies', 'national', 'electronic', 'fund', 'transfer', 'service'], ['check', 'ifsc', 'receiving', 'branch'], ['rtgs', 'different', 'national', 'electronic', 'fund', 'transfer', 'neft'], ['rtgs', 'fund', 'transfer'], ['minimum', 'maximum', 'limit', 'rtgs', 'transfer'], ['information', 'need', 'provide', 'using', 'rtgs', 'fund', 'transfer', 'service'], ['charge', 'rtgs', 'fund', 'transfer', 'service'], ['long', 'take', 'fund', 'transferred', 'one', 'account', 'another'], ['money', 'credited', 'successfully', 'remitting', 'customer', 'get', 'fund', 'back'], ['mean', 'exclusion', 'accidental', 'protection', 'plan', 'hospital', 'cash'], ['include', 'spouse', 'accidental', 'protection', 'plan', 'hospital', 'cash', 'policy'], ['make', 'claim'], ['revive', 'policy', 'personal', 'accident', 'start'], ['plan', 'available', 'revive', 'policy', 'personal', 'accident'], ['benefit', 'get', 'revive', 'policy', 'personal', 'accident', 'break', 'bone'], ['age', 'limit', 'buy', 'accidental', 'protection', 'plan', 'hospital', 'cash', 'policy'], ['beneficiary', 'accidental', 'protection', 'plan', 'hospital', 'cash'], ['renew', 'accidental', 'protection', 'plan', 'hospital', 'cash', 'policy'], ['get', 'renewed', 'revive', 'policy', 'personal', 'accident', 'policy'], ['definition', 'dependent', 'child'], ['accidental', 'protection', 'plan', 'hospital', 'cash', 'policy', 'cover', 'natural', 'death', 'daily', 'sickness', 'well'], ['revive', 'policy', 'personal', 'accident', 'cover', 'natural', 'death', 'daily', 'sickness'], ['benefit', 'get', 'accidental', 'protection', 'plan', 'hospital', 'cash', 'policy', 'break', 'bone'], ['make', 'premium', 'payment', 'accidental', 'protection', 'plan', 'hospital', 'cash', 'policy'], ['accident'], ['accidental', 'protection', 'plan', 'hospital', 'cash', 'policy', 'start'], ['definition', 'dependent', 'child'], ['accidental', 'protection', 'plan', 'hospital', 'cash', 'policy', 'hospital', 'cash', 'benefit'], ['cancellation', 'procedure'], ['revive', 'policy', 'personal', 'accident', 'hospital', 'cash', 'benefit'], ['mean', 'exclusion', 'revive', 'policy', 'personal', 'accident'], ['many', 'member', 'included', 'family', 'plan', 'revive', 'policy', 'personal', 'accident'], ['age', 'limit', 'opt', 'revive', 'policy', 'personal', 'accident'], ['purchase', 'critical', 'illness', 'insurance'], ['critical', 'illness', 'insurance'], ['make', 'multiple', 'claim', 'listed', 'critical', 'illness'], ['meant', 'disease', 'critical', 'illness', 'platinum', 'plan'], ['available', 'plan', 'critical', 'illness', 'policy'], ['contact', 'case', 'claim', 'critical', 'illness', 'policy'], ['benefit', 'critical', 'illness', 'platinum', 'plan'], ['benefit', 'policy'], ['medical', 'test', 'need', 'undergo', 'enrol', 'platinum', 'plan', 'policy'], ['document', 'required', 'time', 'claim'], ['make', 'claim', 'accidental', 'protection', 'plan', 'hospital', 'cash', 'policy'], ['mean', 'pre', 'existing', 'disease', 'covered', 'critical', 'illness', 'plan'], ['tax', 'exemption', 'health', 'suraksha', 'policy'], ['eligibility', 'criterion', 'purchase', 'critical', 'illness', 'policy'], ['meant', 'disease', 'critical', 'illness', 'platinum', 'plan'], ['make', 'multiple', 'claim', 'listed', 'critical', 'illness'], ['eligibility', 'criterion', 'purchase', 'critical', 'illness', 'platinum', 'plan'], ['critical', 'illness', 'insurance'], ['buy', 'critical', 'illness', 'insurance'], ['make', 'claim', 'accidental', 'protection', 'plan', 'hospital', 'cash', 'policy'], ['document', 'required', 'time', 'claim'], ['contact', 'case', 'claim', 'critical', 'illness', 'platinum', 'plan'], ['medical', 'test', 'need', 'undergo', 'enrol', 'platinum', 'plan', 'policy'], ['buy', 'critical', 'illness', 'insurance'], ['benefit', 'critical', 'illness', 'platinum', 'plan'], ['tax', 'exemption', 'health', 'suraksha', 'policy'], ['mean', 'pre', 'existing', 'disease', 'covered', 'critical', 'illness', 'platinum', 'plan'], ['cumulative', 'bonus'], ['meant', 'day', 'care', 'procedure'], ['pre', 'post', 'hospitalisation', 'expense'], ['benefit', 'health', 'card'], ['need', 'pay', 'hospitalisation'], ['medical', 'test', 'need', 'undergo', 'enrol', 'critical', 'illness', 'policy'], ['family', 'floater', 'feature'], ['meant', 'disease'], ['domiciliary', 'hospitalisation', 'expense', 'health', 'suraksha', 'policy'], ['make', 'claim', 'accidental', 'protection', 'plan', 'hospital', 'cash', 'policy'], ['meant', 'network', 'hospital'], ['special', 'discount', 'available', 'health', 'suraksha', 'policy'], ['mean', 'pre', 'existing', 'disease'], ['hospital', 'nursing', 'home'], ['health', 'suraksha', 'policy', 'holder', 'eligible', 'health', 'card'], ['need', 'health', 'insurance'], ['covered', 'ayush', 'benefit'], ['benefit', 'health', 'suraksha', 'policy'], ['injury', 'injury'], ['meant', 'non', 'network', 'hospital'], ['meant', 'organ', 'donor', 'expense'], ['mean', 'pre', 'existing', 'disease'], ['contact', 'submit', 'claim', 'health', 'suraksha', 'policy', 'case', 'hospitalisation'], ['tax', 'exemption', 'health', 'suraksha', 'policy'], ['plan', 'available', 'policy'], ['eligibility', 'criterion', 'purchase', 'health', 'suraksha', 'policy'], ['benefit', 'broken', 'bone', 'policy'], ['make', 'claim'], ['renew', 'policy'], ['accident', 'policy', 'cover', 'even', 'country'], ['policy', 'hospital', 'cash', 'benefit'], ['policy', 'cover', 'natural', 'death', 'daily', 'sickness', 'also'], ['definition', 'dependent', 'child'], ['beneficiary'], ['many', 'member', 'included', 'family', 'plan'], ['kind', 'documentation', 'required'], ['mean', 'exclusion'], ['policy', 'start'], ['age', 'limit', 'opting', 'individual', 'personal', 'accident', 'plan', 'policy'], ['benefit', 'payable', 'policy'], ['make', 'premium', 'payment'], ['include', 'parent', 'policy'], ['kind', 'benefit', 'spouse', 'child', 'entitled'], ['available', 'plan', 'policy'], ['get', 'renewed', 'policy'], ['cancellation', 'procedure'], ['make', 'premium', 'payment'], ['accident'], ['include', 'parent', 'policy'], ['renew', 'policy'], ['accident'], ['cancellation', 'procedure'], ['make', 'premium', 'payment'], ['accident'], ['age', 'limit', 'opting', 'n', 'ergo', 'personal', 'accident', 'insurance', 'policy'], ['till', 'age', 'n', 'ergo', 'personal', 'accident', 'insurance', 'policy', 'renewed'], ['mean', 'exclusion'], ['policy', 'cover', 'natural', 'death', 'daily', 'sickness', 'also'], ['beneficiary'], ['accident', 'policy', 'cover', 'even', 'country'], ['threshold', 'deductible', 'limit', 'consist', 'single', 'claim', 'multiple', 'claim'], ['co', 'payment', 'applied', 'policy'], ['need', 'undergo', 'medical', 'test', 'buying', 'policy'], ['medical', 'test', 'charge'], ['minimum', 'maximum', 'deductible', 'plan'], ['entry', 'exit', 'age', 'policy'], ['also', 'include', 'parent', 'parent', 'law', 'policy'], ['mandatory', 'inform', 'change', 'health', 'condition', 'writing', 'renewing', 'super', 'top', 'plan'], ['claim', 'amount', 'lakh', 'much', 'paid', 'n', 'ergo', 'general', 'insurance'], ['document', 'required'], ['continuity', 'benefit', 'year', 'given', 'super', 'top', 'plan', 'well'], ['pre', 'existing', 'cover', 'start', 'year', 'year'], ['chemo', 'dialysis', 'required', 'local', 'general', 'anesthesia', 'cover', 'day', 'care'], ['loading', 'pre', 'existing', 'ailment'], ['person', 'undergoes', 'dialysis', 'time', 'week', 'covered', 'basic', 'deductible', 'exhausted'], ['cover', 'family', 'member', 'policy'], ['get', 'tax', 'benefit', 'cover', 'family', 'individual', 'sum', 'insured', 'basis'], ['start', 'date', 'insurance', 'policy'], ['home', 'insurance', 'policy', 'two', 'different', 'company', 'benefit'], ['age', 'limit', 'property', 'insured'], ['document', 'required', 'submitted', 'case', 'home', 'burglary', 'claim'], ['happens', 'home', 'insurance', 'policy', 'insured', 'house', 'sold'], ['difference', 'burglary', 'theft', 'larceny'], ['huf', 'leased', 'mhada', 'cidco', 'property', 'insured'], ['fir', 'necessary', 'home', 'insurance', 'claim'], ['happens', 'home', 'insurance', 'claim', 'registered'], ['know', 'home', 'insurance', 'policy', 'due', 'renewal'], ['home', 'insurance', 'premium', 'charged', 'fire', 'special', 'peril', 'cover', 'burglary', 'theft', 'cover'], ['offer', 'discount', 'home', 'insurance'], ['laptop', 'covered', 'home', 'insurance', 'policy'], ['value', 'property', 'home', 'insurance'], ['fir', 'necessary', 'property', 'damage', 'claim', 'home', 'insurance', 'policy'], ['entire', 'society', 'building', 'covered', 'home', 'insurance', 'policy'], ['property', 'covered', 'home', 'insurance'], ['eligibility', 'criterion', 'avail', 'home', 'insurance', 'policy'], ['need', 'child', 'plan'], ['also', 'able', 'save', 'tax', 'child', 'plan'], ['factor', 'consider', 'buying', 'child', 'plan'], ['n', 'sl', 'offer', 'unit', 'linked', 'plan', 'within', 'entire', 'range', 'child', 'plan'], ['buy', 'plan', 'child', 'name', 'name'], ['surrender', 'benefit'], ['take', 'loan'], ['exclusion', 'available', 'plan'], ['fund', 'choice'], ['plan', 'option', 'available'], ['settlement', 'option'], ['min', 'max', 'age', 'entry', 'maturity'], ['maturity', 'benefit', 'plan'], ['premium', 'frequency', 'available', 'policy'], ['plan', 'offered', 'limited', 'underwriting'], ['option', 'avail', 'loan', 'policy'], ['plan', 'acquire', 'guaranteed', 'surrender', 'value'], ['limited', 'pay', 'term', 'available', 'plan'], ['death', 'benefit', 'plan'], ['exclusion', 'plan'], ['retirement', 'plan'], ['automatic', 'conversion', 'vesting', 'benefit', 'annuity', 'happen'], ['additional', 'servicing', 'charge'], ['type', 'bonus', 'plan', 'eligible'], ['condition', 'revival'], ['liquidity', 'complete', 'amount', 'surrender'], ['vesting', 'age', 'post', 'poned', 'pre', 'poned'], ['addition', 'guaranteed'], ['sum', 'assured', 'death', 'benefit'], ['condition', 'revival'], ['sum', 'assured', 'used', 'calculate', 'benefit'], ['choose', 'unit', 'linked', 'non', 'unit', 'linked', 'plan'], ['mean', 'switching', 'fund'], ['different', 'type', 'saving', 'plan'], ['policyholder', 'track', 'performance', 'policy', 'fund'], ['take', 'plan', 'without', 'going', 'medical'], ['premium', 'frequency', 'available', 'plan'], ['surrender', 'benefit', 'plan'], ['take', 'loan'], ['fund', 'choice'], ['settlement', 'option'], ['take', 'loan'], ['fund', 'choice'], ['happens', 'premium', 'paid'], ['surrender', 'benefit'], ['settlement', 'option'], ['fund', 'choice'], ['take', 'loan'], ['surrender', 'benefit'], ['happens', 'premium', 'paid'], ['settlement', 'option'], ['different', 'type', 'saving', 'plan'], ['meant', 'profit', 'plan'], ['choose', 'unit', 'linked', 'non', 'unit', 'linked', 'plan'], ['benefit', 'retirement', 'plan'], ['retirement', 'plan'], ['n', 'life', 'new', 'immediate', 'annuity', 'plan'], ['need', 'health', 'insurance'], ['health', 'insurance', 'life', 'insurance'], ['policy', 'term', 'plan'], ['policyholder', 'get', 'premium', 'discount', 'case', 'claim', 'submitted', 'previous', 'year'], ['covered', 'family', 'floater', 'plan'], ['factor', 'one', 'consider', 'choosing', 'health', 'insurance', 'plan'], ['policyholder', 'get', 'cashless', 'service', 'case', 'hospitalization', 'non', 'network', 'hospital'], ['tax', 'benefit'], ['buy', 'n', 'life', 'health', 'assure', 'plan'], ['amount', 'tax', 'saved'], ['policyholder', 'premium', 'increase', 'next', 'year', 'make', 'claim', 'current', 'year'], ['policyholder', 'get', 'list', 'network', 'hospital'], ['insure', 'child', 'family', 'floater', 'plan'], ['difference', 'fixed', 'benefit', 'health', 'insurance', 'plan', 'reimbursement', 'health', 'insurance', 'plan'], ['service', 'offered', 'tpa'], ['health', 'insurance'], ['co', 'pay', 'need', 'borne', 'life', 'insured', 'case', 'hospitalization', 'non', 'network', 'hospital'], ['maximum', 'age', 'limit', 'buying', 'plan'], ['maturity', 'benefit', 'plan'], ['min', 'max', 'age', 'entry', 'maturity'], ['premium', 'frequency', 'available', 'policy'], ['plan', 'offered', 'limited', 'underwriting'], ['exclusion', 'plan'], ['option', 'avail', 'loan', 'policy'], ['withdraw', 'maturity'], ['surrender', 'benefit'], ['happens', 'premium', 'paid'], ['death', 'benefit', 'plan'], ['exclusion', 'plan'], ['plan', 'acquire', 'guaranteed', 'surrender', 'value'], ['option', 'avail', 'loan', 'policy'], ['option', 'available', 'monthly', 'payout'], ['guaranteed', 'base', 'income', 'plan'], ['death', 'benefit', 'plan'], ['premium', 'frequency', 'available', 'policy'], ['premium', 'frequency', 'available', 'policy'], ['minimum', 'maximum', 'policy', 'term', 'premium', 'payment', 'term'], ['minimum', 'maximum', 'age', 'entry', 'maturity'], ['exclusion', 'plan'], ['maturity', 'benefit', 'plan'], ['plan', 'acquire', 'guaranteed', 'surrender', 'value'], ['plan', 'offered', 'limited', 'underwriting'], ['death', 'benefit', 'plan'], ['plan', 'acquire', 'guaranteed', 'surrender', 'value'], ['premium', 'frequency', 'available', 'policy'], ['choose', 'option', 'available', 'plan'], ['option', 'avail', 'loan', 'policy'], ['take', 'monthly', 'payouts', 'instead', 'annual', 'payouts'], ['exclusion', 'plan'], ['basic', 'death', 'benefit', 'amount', 'reduced', 'survival', 'benefit', 'already', 'paid'], ['payouts', 'get', 'different', 'plan', 'option'], ['change', 'maturity', 'death', 'benefit', 'option', 'policy', 'term'], ['guaranteed', 'addition', 'plan'], ['death', 'benefit', 'plan'], ['policy', 'term', 'premium', 'payment', 'term'], ['plan', 'offered', 'limited', 'underwriting'], ['option', 'avail', 'loan', 'policy'], ['happens', 'case', 'wanting', 'surrender', 'policy'], ['min', 'max', 'age', 'entry', 'maturity'], ['exclusion', 'plan'], ['charge', 'policy'], ['death', 'benefit', 'plan'], ['policy', 'term', 'available', 'plan'], ['plan', 'available', 'online'], ['n', 'life', 'c', 'p', 'extra', 'life', 'cover', 'important'], ['plan', 'offer', 'tax', 'benefit'], ['long', 'family', 'get', 'monthly', 'income'], ['difference', 'income', 'income', 'plus', 'option'], ['nri', 'invest', 'plan'], ['limited', 'mode', 'premium', 'pay'], ['loan', 'facility', 'policy'], ['partial', 'withdraw', 'fund'], ['terminate', 'policy'], ['many', 'year', 'stay', 'invested', 'plan'], ['plan', 'good'], ['charge', 'applicable', 'plan'], ['maximum', 'amount', 'invest'], ['minimum', 'premium', 'need', 'paid'], ['surrender', 'policy'], ['plan', 'different', 'ulips'], ['kind', 'return', 'get', 'investing', 'plan'], ['medical', 'involved', 'buy', 'plan'], ['frequency', 'invest', 'money'], ['various', 'fund', 'option', 'plan'], ['save', 'tax', 'investing', 'policy'], ['buy', 'one', 'policy'], ['settlement', 'option'], ['fund', 'value', 'calculated'], ['get', 'end', 'policy', 'term'], ['family', 'receive', 'case', 'unfortunate', 'demise'], ['protection', 'cover', 'plan'], ['different', 'plan', 'option', 'plan'], ['getting', 'maturity'], ['exclusion', 'plan'], ['limited', 'premium', 'payment', 'term', 'available', 'policy'], ['guaranteed', 'benefit', 'policy'], ['death', 'benefit', 'plan'], ['accidental', 'death', 'benefit', 'policy'], ['premium', 'paying', 'frequency', 'available', 'policy'], ['option', 'avail', 'loan', 'policy'], ['duration', 'policy', 'term', 'case', 'choose', 'endowment', 'endowment', 'whole', 'life', 'option'], ['plan', 'acquire', 'guaranteed', 'surrender', 'value'], ['n', 'life', 'cancer', 'care', 'policy'], ['plan', 'option', 'available', 'product'], ['discounted', 'premium', 'higher', 'sum', 'assured'], ['would', 'go', 'medical'], ['opt', 'plan', 'pre', 'existing', 'cancer'], ['death', 'benefit', 'plan'], ['maturity', 'benefit', 'plan'], ['surrender', 'benefit', 'plan'], ['save', 'tax', 'investing', 'policy'], ['extra', 'life', 'option', 'policy'], ['plan', 'option', 'available'], ['exclusion', 'available', 'plan'], ['free', 'switch', 'premium', 'redirection', 'plan'], ['fund', 'option'], ['take', 'loan'], ['fund', 'value', 'calculated'], ['surrender', 'benefit'], ['minimum', 'premium', 'need', 'paid'], ['death', 'benefit', 'plan'], ['maximum', 'amount', 'invest'], ['premium', 'paying', 'frequency', 'available', 'policy'], ['many', 'year', 'stay', 'invested', 'plan'], ['loyalty', 'addition', 'plan'], ['receive', 'maturity'], ['happens', 'premium', 'paid'], ['settlement', 'option'], ['buy', 'one', 'policy'], ['partial', 'withdraw', 'fund'], ['feature', 'available', 'n', 'life', 'uday'], ['minimum', 'premium', 'need', 'pay', 'order', 'take', 'n', 'life', 'uday', 'policy'], ['miss', 'one', 'due', 'premium'], ['policy', 'acquire', 'guaranteed', 'surrender', 'value', 'gsv'], ['take', 'loan', 'n', 'life', 'uday', 'case', 'need', 'money', 'emergency'], ['minimum', 'maximum', 'age', 'limit', 'investing', 'n', 'life', 'uday'], ['rate', 'guaranteed', 'addition', 'available', 'policy'], ['death', 'benefit', 'receive', 'choose', 'n', 'life', 'uday'], ['maturity', 'benefit', 'receive', 'invest', 'plan'], ['discount', 'choose', 'higher', 'premium'], ['policy', 'term', 'premium', 'payment', 'term', 'option', 'available', 'n', 'life', 'uday'], ['need', 'money', 'emergency'], ['special', 'product'], ['would', 'annuity', 'rate', 'time', 'maturity'], ['year', 'retirement', 'need', 'plan'], ['top', 'ups', 'allowed', 'plan'], ['step', 'involved', 'purchase', 'policy', 'quickly', 'case', 'travelling', 'much', 'time'], ['want', 'wait', 'till', 'year', 'retirement', 'way'], ['n', 'life', 'assured', 'pension', 'plan'], ['buy', 'n', 'life', 'assured', 'pension', 'plan'], ['n', 'life', 'app', 'ulip', 'plan', 'get', 'choose', 'fund', 'plan'], ['tax', 'benefit', 'available'], ['source', 'income', 'still', 'need', 'plan', 'retirement'], ['would', 'utilise', 'fund'], ['get', 'life', 'cover', 'plan'], ['exercise', 'freelook', 'option', 'policy'], ['get', 'loan', 'partial', 'withdrawal', 'plan'], ['get', 'choose', 'annuity', 'option'], ['n', 'life', 'easy', 'health', 'plan'], ['different', 'plan', 'option', 'available', 'product'], ['would', 'go', 'medical'], ['different', 'sum', 'insured', 'option', 'available', 'underthis', 'product'], ['tax', 'benefit', 'product'], ['exclusion', 'product'], ['miss', 'pay', 'premium'], ['miss', 'pay', 'premium', 'even', 'grace', 'period'], ['reinstate', 'policy', 'lapsed'], ['death', 'benefit', 'product'], ['surrender', 'benefit', 'product'], ['different', 'benefit', 'available', 'product'], ['term', 'condition'], ['maturity', 'benefit', 'product'], ['pay', 'happen', 'plan'], ['policy', 'term', 'available', 'product'], ['premium', 'payment', 'frequency', 'available', 'product'], ['eligibility', 'criterion', 'product'], ['minimum', 'maximum', 'premium', 'available', 'product'], ['n', 'life', 'capital', 'shield'], ['policy', 'term', 'available', 'plan'], ['death', 'benefit', 'plan'], ['maturity', 'benefit', 'available', 'plan'], ['exclusion', 'plan'], ['age', 'limit', 'plan'], ['key', 'feature', 'plan'], ['difference', 'life', 'extra', 'life', 'option'], ['benefit', 'available', 'income', 'option'], ['difference', 'income', 'extra', 'life', 'income', 'option'], ['difference', 'life', 'life', 'long', 'protection', 'option'], ['life', 'stage', 'protection', 'feature'], ['accidental', 'total', 'permanent', 'disability', 'atpd'], ['many', 'critical', 'illness', 'covered', 'life', 'life', 'long', 'protection', 'option', 'benefit', 'associated'], ['top', 'option'], ['policy', 'term', 'available', 'plan'], ['many', 'plan', 'option', 'available', 'plan'], ['plan', 'available', 'online'], ['difference', 'life', 'life', 'option'], ['difference', 'life', 'return', 'premium', 'option'], ['difference', 'life', 'life', 'long', 'protection', 'option'], ['alteration', 'allowed', 'plan'], ['plan', 'offer', 'tax', 'benefit'], ['benefit', 'available', 'life', 'option'], ['stand', 'n', 'life', 'click', 'protect', 'plus'], ['need', 'auto', 'insurance'], ['need', 'lodge', 'fir', 'case', 'accident'], ['policy', 'period', 'add', 'accessory', 'like', 'music', 'system', 'vehicle', 'also', 'covered'], ['idv', 'insured', 'declared', 'value'], ['salvage', 'happens'], ['document', 'need', 'submit', 'buying', 'insurance', 'vehicle'], ['specific', 'exclusion', 'motor', 'policy'], ['buy', 'motor', 'insurance', 'policy', 'online'], ['pay', 'premium', 'auto', 'insurance', 'instalment'], ['renew', 'motor', 'policy', 'online'], ['renew', 'insurer', 'policy', 'n', 'ergo', 'online'], ['premium', 'motor', 'insurance', 'calculated'], ['motor', 'insurance', 'cover', 'note'], ['document', 'need', 'submitted', 'make', 'claim', 'motor', 'insurance', 'policy'], ['n', 'ergo', 'general', 'insurance', 'give', 'advance', 'basis', 'damage', 'estimate', 'motor', 'insurance', 'policy'], ['misplace', 'motor', 'insurance', 'policy', 'document'], ['meant', 'total', 'loss', 'motor', 'insurance', 'policy'], ['claim', 'bonus', 'ncb', 'motor', 'insurance', 'policy'], ['n', 'ergo', 'general', 'insurance', 'role', 'third', 'party', 'injury', 'property', 'damage', 'suit'], ['different', 'class', 'vehicle', 'insured', 'n', 'ergo'], ['renew', 'commercial', 'vehicle', 'insurance', 'policy'], ['different', 'type', 'personal', 'accident', 'cover', 'available', 'driver', 'passenger'], ['different', 'type', 'commercial', 'vehicle', 'insurance', 'available'], ['different', 'type', 'commercial', 'vehicle', 'insurance', 'available'], ['different', 'type', 'personal', 'accident', 'cover', 'available', 'driver', 'passenger'], ['renew', 'commercial', 'vehicle', 'insurance', 'policy'], ['different', 'class', 'vehicle', 'insured', 'n', 'ergo'], ['n', 'ergo', 'student', 'travel', 'insurance', 'suraksha', 'policy', 'extended'], ['cab', 'sum', 'assured', 'extended'], ['policy', 'cancelled'], ['one', 'avail', 'claim', 'form'], ['deductables', 'mean'], ['many', 'day', 'policy', 'extended'], ['extend', 'n', 'ergo', 'student', 'travel', 'insurance', 'surakshapolicy'], ['submit', 'medical', 'exam'], ['benefit', 'hijack', 'distress', 'allowance'], ['travel', 'insurance', 'mandatory'], ['various', 'n', 'ergo', 'travel', 'insurance', 'policy'], ['covered', 'delay', 'checked', 'baggage'], ['covered', 'benefit', 'loss', 'checked', 'baggage'], ['ambulance', 'charge', 'covered', 'travel', 'policy'], ['foreign', 'national', 'covered', 'travel', 'policy'], ['require', 'travel', 'insurance'], ['claim', 'travel', 'insurance', 'policy', 'settled', 'return', 'india'], ['go', 'medical', 'exam', 'travel', 'insurance', 'policy'], ['claim', 'loss', 'checked', 'baggage', 'delay', 'checked', 'baggage'], ['medical', 'report', 'need', 'submitted', 'avail', 'travel', 'insurance'], ['medical', 'repatriation', 'evacuation', 'cover', 'travel', 'insurance'], ['avail', 'cashless', 'facility', 'hospitalisation', 'travel', 'insurance'], ['loss', 'passport', 'covered', 'travel', 'insurance'], ['travel', 'insurance', 'policy', 'cancelled'], ['get', 'claim', 'form', 'travel', 'insurance'], ['travel', 'insurance', 'policy', 'cover', 'loss', 'cash', 'credit', 'card'], ['insured', 'trip', 'duration', 'travel', 'insurance', 'policy'], ['travel', 'insurance', 'policy', 'cover', 'pre', 'existing', 'disease'], ['travel', 'insurance', 'policy', 'extended'], ['travel', 'insurance', 'plan', 'coverage', 'period', 'reduced'], ['contact', 'case', 'hospitalization', 'covered', 'travel', 'insurance'], ['contact', 'case', 'hospitalization'], ['get', 'list', 'hospital', 'extending', 'cash', 'facility'], ['many', 'day', 'travel', 'insurance', 'policy', 'extended'], ['eligibility', 'criterion', 'travel', 'insurance', 'policy'], ['contact', 'claim', 'travel', 'insurance', 'policy'], ['emergency', 'financial', 'assistance', 'provided', 'travel', 'insurance'], ['mutual', 'fund', 'isa', 'enabled'], ['close', 'online', 'mutual', 'fund', 'account', 'well', 'account', 'linked'], ['nri', 'residing', 'outside', 'india', 'get', 'kyc', 'compliant'], ['change', 'address', 'account', 'nomination', 'need'], ['case', 'existing', 'investor', 'kyc', 'norm', 'introduced'], ['buy', 'mutual', 'fund', 'net'], ['use', 'mobile', 'banking', 'manage', 'mutual', 'fund', 'account'], ['process', 'application', 'right', 'issue', 'asba'], ['minor', 'becoming', 'major'], ['buy', 'sell', 'mutual', 'fund'], ['change', 'default', 'account', 'linked', 'n', 'online', 'mutual', 'fund', 'account'], ['procedure', 'close', 'investment', 'service', 'account'], ['much', 'charged', 'service'], ['cancel', 'transaction'], ['kyc', 'acknowledgement', 'separate', 'form', 'part', 'mutual', 'fund', 'application', 'form', 'require', 'time', 'stamped'], ['transact', 'mutuals', 'fund', 'completing', 'kyc', 'process'], ['sell', 'redeem', 'scheme', 'bought', 'offline', 'online'], ['buy', 'mutual', 'fund', 'net'], ['register', 'service'], ['nri', 'buy', 'mutual', 'fund', 'unit', 'portfolio', 'investment', 'scheme', 'pi', 'account'], ['able', 'view', 'unit', 'holding', 'account', 'time', 'purchase'], ['special', 'requirement', 'nri', 'invest', 'mutual', 'fund'], ['get', 'online', 'confirmation', 'transaction'], ['first', 'purchase', 'invest', 'amc', 'day'], ['kyc', 'application', 'form'], ['already', 'obtained', 'min'], ['open', 'investment', 'service', 'account'], ['advantage', 'investing', 'sip'], ['happens', 'multiple', 'folio', 'account', 'mutual', 'fund'], ['forget', 'customer', 'id', 'ipin', 'number'], ['scheme', 'available', 'customer'], ['need', 'inform', 'change', 'income', 'status'], ['kyc', 'requirement', 'mutual', 'fund', 'investor'], ['convert', 'existing', 'portfolio', 'mutual', 'fund', 'unit', 'online', 'mutual', 'fund', 'portfolio'], ['special', 'requirement', 'pio', 'person', 'indian', 'origin'], ['visit', 'po', 'personally', 'obtain', 'kyc', 'compliance'], ['consequence', 'kyc', 'cancellation', 'rejection'], ['account', 'n', 'would', 'like', 'invest', 'mutual', 'fund'], ['inform', 'change', 'name', 'address', 'status', 'signature', 'etc'], ['online', 'investing', 'convenient'], ['minimum', 'transaction', 'amount', 'scheme'], ['charge', 'need', 'pay', 'get', 'kyc', 'compliant'], ['kyc', 'acknowledgement', 'expiry', 'date'], ['invest', 'sip', 'right'], ['date', 'mandatory', 'kyc', 'compliant'], ['transaction', 'charge', 'placing', 'transaction', 'offline', 'online'], ['transact', 'anytime', 'day'], ['transact', 'holiday'], ['receive', 'redemption', 'amount'], ['receive', 'dividend', 'pay', 'amount'], ['redeem', 'mutual', 'fund', 'unit', 'net'], ['inform', 'change', 'name', 'address', 'status', 'signature', 'etc'], ['investor', 'give', 'coa', 'change', 'address', 'along', 'redemption', 'request'], ['update', 'e', 'mail', 'id', 'online', 'mutual', 'fund', 'account'], ['fatca', 'cr', 'kyc'], ['kyc'], ['cut', 'timing', 'investment', 'service', 'account'], ['open', 'online', 'mutual', 'fund', 'account', 'n'], ['cancel', 'modify', 'bid', 'placed', 'asba', 'bidding', 'period'], ['product', 'trade', 'using', 'trading', 'account'], ['sent', 'application', 'happens', 'next'], ['asba', 'option', 'applying', 'ipo'], ['open', 'security', 'trading', 'account', 'n', 'security'], ['various', 'channel', 'trade', 'invest'], ['withdraw', 'amount', 'blocked', 'asba', 'bid', 'application'], ['need', 'submit', 'place', 'ipo', 'ncd', 'order', 'n', 'security', 'trading', 'account'], ['trade', 'derivative', 'n', 'security', 'trading', 'account'], ['difference', 'non', 'asba', 'ipo', 'process', 'asba', 'ipo', 'process'], ['trade', 'derivative', 'n', 'security', 'trading', 'account'], ['call', 'charge', 'applicable', 'use', 'call', 'n', 'trade', 'facility', 'trade', 'security'], ['call', 'charge', 'offline', 'customer', 'n', 'security', 'trading', 'account'], ['many', 'depository', 'account', 'link', 'trading', 'account'], ['need', 'submit', 'place', 'ipo', 'ncd', 'order', 'n', 'security', 'trading', 'account'], ['know', 'application', 'accepted'], ['cancel', 'withdraw', 'ipo', 'application', 'bid', 'submitted', 'using', 'asba'], ['revise', 'bid'], ['many', 'asba', 'application', 'made', 'blocking', 'single', 'account'], ['difference', 'non', 'asba', 'ipo', 'process', 'asba', 'process'], ['apply', 'asba'], ['made', 'application', 'asba', 'money', 'saving', 'account', 'blocked', 'get', 'interest', 'period'], ['possible', 'bid', 'ipo', 'asba', 'well', 'non', 'asba'], ['time', 'limit', 'submit', 'form', 'designated', 'n', 'branch'], ['still', 'approach', 'broker', 'apply', 'ipo'], ['bid', 'multiple', 'rate', 'asba'], ['lock', 'money', 'account', 'asba', 'payment'], ['asba'], ['happens', 'issue', 'fails', 'withdrawn'], ['benefit', 'apply', 'ipo', 'asba'], ['nre', 'nro', 'customer', 'apply', 'asba'], ['priority', 'allotment', 'given', 'application', 'bid', 'asba', 'facility'], ['possible', 'withdraw', 'amount', 'blocked', 'ipo', 'application', 'asba'], ['charge', 'additional', 'fee', 'choose', 'asba', 'payment', 'option'], ['additional', 'documentation', 'required', 'availing', 'asba', 'facility'], ['want', 'apply', 'physically', 'ipo', 'asba'], ['account', 'n', 'still', 'apply', 'ipo', 'using', 'n', 'asba', 'process'], ['gold', 'rate', 'newspaper', 'lower', 'n', 'gold', 'rate', 'gold', 'bar', 'sold', 'n', 'expensive', 'sold', 'market'], ['tax', 'applicable', 'mudra', 'pure', 'gold', 'bar'], ['mudra', 'pure', 'gold', 'bar', 'different', 'carat', 'gold', 'available', 'market'], ['form', 'gold', 'sold'], ['n', 'buy', 'back', 'gold', 'sold'], ['authenticity', 'proof'], ['assay', 'certification'], ['feature', 'n', 'mudra', 'pure', 'gold', 'bar'], ['n', 'sell', 'gold'], ['buy', 'back', 'gold', 'bar', 'purchased', 'branch'], ['give', 'bill', 'purchase', 'mudra', 'pure', 'gold', 'bar', 'n'], ['bar', 'authenticity', 'proof'], ['get', 'today', 'price', 'mudra', 'pure', 'gold', 'bar'], ['n', 'venturing', 'gold', 'bullion', 'market'], ['gold', 'imported'], ['price', 'gold', 'sold'], ['size', 'shape', 'mudra', 'pure', 'gold', 'bar', 'available'], ['weight', 'gold', 'bar', 'available'], ['different', 'weight', 'mudra', 'pure', 'gold', 'bar', 'available'], ['price', 'silver', 'sold'], ['n', 'venturing', 'silver', 'bullion', 'market'], ['authenticity', 'proof'], ['n', 'buy', 'back', 'silver', 'sold'], ['weight', 'silver', 'bar', 'available'], ['assay', 'certification'], ['purity', 'factor', 'silver'], ['form', 'silver', 'sold'], ['n', 'sell', 'silver'], ['form', 'bond', 'issued'], ['nomination', 'facility', 'available'], ['bond', 'option', 'available'], ['much', 'tax', 'pay'], ['minimum', 'maximum', 'limit', 'investment', 'saving', 'taxable', 'bond'], ['tenure', 'saving', 'taxable', 'bond'], ['saving', 'taxable', 'bond', 'transferable'], ['much', 'interest', 'saving', 'taxable', 'bond', 'bear'], ['claim', 'exemption', 'exemption', 'c', 'exemption', 'ec'], ['rate', 'interest', 'bond'], ['block', 'period', 'investment'], ['bond', 'eligible', 'section', 'ec'], ['take', 'loan', 'bond'], ['maximum', 'investment', 'limit', 'section', 'ec', 'capital', 'gain', 'bond'], ['benefit', 'investtrack'], ['requirement', 'avail', 'investtrack', 'facility'], ['avail', 'investtrack', 'facility'], ['security', 'need', 'provide', 'obtain', 'business', 'loan'], ['benefit', 'current', 'saving', 'account', 'business', 'loan'], ['long', 'take', 'get', 'business', 'loan'], ['repay', 'loan', 'earlier', 'business', 'loan'], ['get', 'address', 'changed', 'loan', 'account'], ['done', 'post', 'dated', 'cheque', 'request', 'change', 'mode', 'repayment', 'account', 'loan'], ['charge', 'pay', 'change', 'mode', 'repayment', 'account', 'loan'], ['change', 'mode', 'repayment', 'account', 'loan'], ['obtain', 'duplicate', 'repayment', 'schedule', 'loan', 'account'], ['much', 'loan', 'avail', 'business', 'loan'], ['repay', 'business', 'loan'], ['loan', 'tenure', 'option', 'business', 'loan'], ['need', 'pledge', 'anything', 'give', 'collateral', 'get', 'car', 'loan'], ['long', 'tenure', 'loan'], ['document', 'need', 'submit', 'loan', 'amount', 'disbursed'], ['happens', 'car', 'meet', 'accident'], ['get', 'finance', 'insurance', 'registration'], ['much', 'loan', 'get'], ['sell', 'car', 'repay', 'loan'], ['much', 'time', 'take', 'change', 'mode', 'repayment', 'account', 'repay', 'loan'], ['de', 'pledge'], ['guarantor'], ['amortization'], ['pledge'], ['rtgs'], ['neft'], ['si'], ['cibil'], ['document', 'carry', 'time', 'visiting', 'n'], ['resolve', 'query'], ['obtain', 'noc', 'fitting', 'lpg', 'cng', 'kit', 'vehicle', 'finance', 'n'], ['obtain', 'noc', 'settling', 'partial', 'loss', 'insurance', 'claim', 'vehicle', 'finance', 'n'], ['get', 'address', 'changed', 'loan', 'account'], ['obtain', 'noc', 'registration', 'certificate', 'mutilated', 'wish', 'apply', 'duplicate', 'registration', 'certificate', 'book', 'vehicle', 'finance', 'n'], ['obtain', 'noc', 'lost', 'registration', 'certificate', 'book', 'vehicle', 'finance', 'n'], ['obtain', 'duplicate', 'repayment', 'schedule', 'loan', 'account'], ['done', 'post', 'dated', 'cheque', 'request', 'change', 'mode', 'repayment', 'account', 'loan'], ['obtain', 'duplicate', 'noc', 'form', 'vehicle', 'loan', 'closed', 'fully', 'repaid'], ['change', 'mode', 'repayment', 'account', 'loan'], ['tenure', 'option', 'available'], ['much', 'finance', 'avail', 'new', 'car', 'loan'], ['avail', 'n', 'new', 'car', 'loan'], ['special', 'privilege', 'n', 'customer', 'avail'], ['option', 'pre', 'pay', 'entire', 'loan', 'amount'], ['car', 'financed', 'new', 'car', 'loan'], ['maximum', 'amount', 'borrow', 'n', 'new', 'car', 'loan'], ['need', 'guarantor', 'new', 'car', 'loan'], ['account', 'n', 'still', 'avail', 'new', 'car', 'loan'], ['long', 'take', 'process', 'loan', 'new', 'car', 'loan'], ['need', 'co', 'applicant', 'new', 'car', 'loan'], ['option', 'pre', 'paying', 'entire', 'loan', 'amount'], ['get', 'n', 'car', 'loan'], ['important', 'guideline', 'post', 'disbursement', 'new', 'car', 'loan'], ['option', 'pay', 'skipped', 'missed', 'emi', 'new', 'car', 'loan'], ['obtain', 'noc', 'registration', 'certificate', 'mutilated', 'wish', 'apply', 'duplicate', 'registration', 'certificate', 'book', 'vehicle', 'finance', 'n'], ['get', 'address', 'changed', 'loan', 'account'], ['change', 'mode', 'repayment', 'account', 'loan'], ['obtain', 'noc', 'settling', 'partial', 'loss', 'insurance', 'claim', 'vehicle', 'finance', 'n'], ['obtain', 'noc', 'lost', 'registration', 'certificate', 'book', 'vehicle', 'finance', 'n'], ['charge', 'pay', 'change', 'mode', 'repayment', 'account', 'loan'], ['obtain', 'duplicate', 'repayment', 'schedule', 'loan', 'account'], ['obtain', 'duplicate', 'noc', 'form', 'vehicle', 'loan', 'closed', 'fully', 'repaid'], ['done', 'post', 'dated', 'cheque', 'request', 'change', 'mode', 'repayment', 'account', 'loan'], ['obtain', 'noc', 'fitting', 'lpg', 'cng', 'kit', 'vehicle', 'finance', 'n'], ['tenure', 'option', 'pre', 'owned', 'car', 'loan'], ['many', 'time', 'annual', 'salary', 'borrow', 'n', 'auto', 'loan'], ['need', 'guarantor', 'pre', 'owned', 'car', 'loan'], ['much', 'finance', 'avail', 'pre', 'owned', 'car', 'loan'], ['special', 'privilege', 'n', 'account', 'holder', 'avail'], ['important', 'guideline', 'post', 'disbursement', 'pre', 'owned', 'car', 'loan'], ['car', 'financed', 'pre', 'owned', 'car', 'loan'], ['maximum', 'amount', 'borrow', 'n', 'pre', 'owned', 'car', 'loan'], ['long', 'take', 'process', 'loan', 'pre', 'owned', 'car', 'loan'], ['account', 'n', 'still', 'avail', 'pre', 'owned', 'car', 'loan'], ['avail', 'n', 'pre', 'owned', 'car', 'loan'], ['need', 'co', 'applicant', 'new', 'car', 'loan'], ['get', 'n', 'pre', 'owned', 'car', 'loan'], ['option', 'pay', 'skipped', 'missed', 'emi', 'pre', 'owned', 'car', 'loan'], ['change', 'mode', 'repayment', 'account', 'loan'], ['obtain', 'noc', 'registration', 'certificate', 'mutilated', 'wish', 'apply', 'duplicate', 'registration', 'certificate', 'book', 'vehicle', 'finance', 'n'], ['obtain', 'noc', 'lost', 'registration', 'certificate', 'book', 'vehicle', 'finance', 'n'], ['obtain', 'noc', 'settling', 'partial', 'loss', 'insurance', 'claim', 'vehicle', 'finance', 'n'], ['charge', 'pay', 'change', 'mode', 'repayment', 'account', 'loan'], ['obtain', 'duplicate', 'repayment', 'schedule', 'loan', 'account'], ['obtain', 'noc', 'fitting', 'lpg', 'cng', 'kit', 'vehicle', 'finance', 'n'], ['obtain', 'duplicate', 'noc', 'form', 'vehicle', 'loan', 'closed', 'fully', 'repaid'], ['get', 'address', 'changed', 'loan', 'account'], ['done', 'post', 'dated', 'cheque', 'request', 'change', 'mode', 'repayment', 'account', 'loan'], ['get', 'loan', 'car'], ['long', 'take', 'process', 'loan', 'loan', 'car'], ['require', 'car', 'verification', 'valuation'], ['car', 'financed', 'loan', 'car'], ['tenure', 'option', 'loan', 'car'], ['avail', 'loan', 'car'], ['need', 'guarantor', 'loan', 'car'], ['much', 'finance', 'avail', 'loan', 'car'], ['option', 'pay', 'skipped', 'missed', 'emi', 'loan', 'car'], ['done', 'post', 'dated', 'cheque', 'request', 'change', 'mode', 'repayment', 'account', 'loan'], ['obtain', 'duplicate', 'noc', 'form', 'vehicle', 'loan', 'closed', 'fully', 'repaid'], ['charge', 'pay', 'change', 'mode', 'repayment', 'account', 'loan'], ['obtain', 'noc', 'fitting', 'lpg', 'cng', 'kit', 'vehicle', 'finance', 'n'], ['obtain', 'duplicate', 'repayment', 'schedule', 'loan', 'account'], ['obtain', 'noc', 'settling', 'partial', 'loss', 'insurance', 'claim', 'vehicle', 'finance', 'n'], ['obtain', 'noc', 'lost', 'registration', 'certificate', 'book', 'vehicle', 'finance', 'n'], ['account', 'n', 'still', 'avail', 'loan'], ['obtain', 'noc', 'registration', 'certificate', 'mutilated', 'wish', 'apply', 'duplicate', 'registration', 'certificate', 'book', 'vehicle', 'finance', 'n'], ['change', 'mode', 'repayment', 'account', 'loan'], ['get', 'address', 'changed', 'loan', 'account'], ['contact', 'case', 'ay', 'query', 'regarding', 'loan'], ['tenure', 'avail', 'loan'], ['location', 'n', 'consumer', 'durable', 'loan', 'available', 'currently'], ['minimum', 'loan', 'value', 'product', 'value'], ['change', 'mode', 'repayment', 'account', 'loan'], ['charge', 'pay', 'change', 'mode', 'repayment', 'account', 'loan'], ['get', 'address', 'changed', 'loan', 'account'], ['done', 'post', 'dated', 'cheque', 'request', 'change', 'mode', 'repayment', 'account', 'loan'], ['pledge'], ['document', 'carry', 'time', 'visiting', 'n'], ['much', 'time', 'take', 'change', 'mode', 'repayment', 'account', 'loan'], ['resolve', 'query'], ['get', 'address', 'changed', 'loan', 'account'], ['done', 'post', 'dated', 'cheque', 'request', 'change', 'mode', 'repayment', 'account', 'loan'], ['change', 'mode', 'repayment', 'account', 'loan'], ['obtain', 'duplicate', 'repayment', 'schedule', 'loan', 'account'], ['charge', 'pay', 'change', 'mode', 'repayment', 'account', 'loan'], ['need', 'provide', 'collateral', 'avail', 'education', 'loan', 'education', 'loan', 'indian', 'education'], ['maximum', 'loan', 'amount', 'get', 'study', 'india'], ['moratorium', 'repayment', 'holiday', 'available', 'education', 'loan', 'indian', 'education'], ['course', 'take', 'education', 'loan', 'education', 'loan', 'indian', 'education'], ['know', 'eligible', 'education', 'loan', 'indian', 'education'], ['long', 'tenure', 'loan', 'education', 'loan', 'indian', 'education'], ['need', 'co', 'applicant', 'loan', 'education', 'loan', 'indian', 'education'], ['moratorium', 'period', 'mean', 'education', 'loan', 'indian', 'education'], ['pay', 'margin', 'money', 'funding', 'education', 'loan', 'indian', 'education'], ['course', 'related', 'expense', 'loan', 'cover', 'education', 'loan', 'indian', 'education'], ['loan', 'disbursed', 'favour', 'institute', 'college', 'university', 'education', 'loan', 'indian', 'education'], ['make', 'repayment', 'moratorium', 'period', 'education', 'loan', 'indian', 'education'], ['change', 'mode', 'repayment', 'account', 'loan'], ['charge', 'pay', 'change', 'mode', 'repayment', 'account', 'loan'], ['mode', 'repayment', 'student', 'loan', 'india'], ['done', 'post', 'dated', 'cheque', 'request', 'change', 'mode', 'repayment', 'account', 'loan'], ['get', 'address', 'changed', 'loan', 'account'], ['obtain', 'duplicate', 'repayment', 'schedule', 'loan', 'account'], ['course', 'take', 'education', 'loan'], ['loan', 'study', 'stay', 'study'], ['get', 'loan', 'sanction', 'admission'], ['moratorium', 'repayment', 'holiday', 'available'], ['loan', 'study', 'stay', 'study'], ['co', 'borrower'], ['need', 'co', 'borrower', 'loan'], ['apply', 'credila', 'education', 'loan'], ['apply', 'confirmed', 'admission'], ['much', 'loan', 'get', 'credila'], ['start', 'paying', 'emi'], ['get', 'tax', 'benefit', 'interest', 'paid', 'education', 'loan'], ['course', 'related', 'expense', 'loan', 'cover', 'education', 'loan', 'foreign', 'education'], ['loan', 'disbursed', 'favour', 'institute', 'college', 'university', 'education', 'loan', 'foreign', 'education'], ['need', 'provide', 'collateral', 'avail', 'education', 'loan', 'education', 'loan', 'foreign', 'education'], ['long', 'tenure', 'loan', 'education', 'loan', 'indian', 'education'], ['make', 'repayment', 'moratorium', 'period', 'education', 'loan', 'foreign', 'education'], ['mode', 'repayment', 'education', 'loan', 'foreign', 'education'], ['course', 'take', 'education', 'loan', 'education', 'loan', 'foreign', 'education'], ['moratorium', 'repayment', 'holiday', 'available', 'education', 'loan', 'foreign', 'education'], ['maximum', 'loan', 'amount', 'get', 'study', 'abroad'], ['need', 'co', 'applicant', 'loan', 'education', 'loan', 'foreign', 'education'], ['moratorium', 'period', 'mean', 'education', 'loan', 'foreign', 'education'], ['mode', 'repayment'], ['make', 'repayment', 'moratorium', 'period'], ['kind', 'collateral', 'security', 'required'], ['opt', 'education', 'loan'], ['pay', 'margin', 'money', 'funding', 'education', 'loan', 'foreign', 'education'], ['know', 'eligible', 'education', 'loan', 'foreign', 'education'], ['done', 'post', 'dated', 'cheque', 'request', 'change', 'mode', 'repayment', 'account', 'loan'], ['get', 'address', 'changed', 'loan', 'account'], ['change', 'mode', 'repayment', 'account', 'loan'], ['long', 'take', 'process', 'gold', 'loan'], ['much', 'loan', 'amount', 'availed', 'time'], ['benefit', 'agricultural', 'priority', 'sector'], ['gold', 'loan', 'repaid'], ['security', 'required', 'gold', 'loan'], ['tenure', 'gold', 'loan'], ['benefit', 'n', 'account', 'holder'], ['de', 'pledge'], ['guarantor'], ['amortization'], ['pledge'], ['rtgs'], ['neft'], ['si'], ['cibil'], ['document', 'carry', 'time', 'visiting', 'n'], ['resolve', 'query'], ['change', 'mode', 'repayment', 'account', 'loan'], ['additional', 'charge', 'loan', 'repayment'], ['option', 'structure', 'loan', 'partly', 'fixed', 'partly', 'floating'], ['give', 'standing', 'instruction', 'repay', 'home', 'loan', 'emis', 'directly', 'n', 'saving', 'account'], ['pledge'], ['n', 'decide', 'home', 'loan', 'eligibility'], ['pre', 'emi', 'interest'], ['property', 'document', 'safe', 'n', 'ltd'], ['property', 'considered', 'collateral', 'lap'], ['additional', 'charge', 'loan', 'pre', 'payment'], ['fee', 'charge', 'applicable'], ['avail', 'overdraft', 'property'], ['maximum', 'tenure', 'repay', 'loan', 'property'], ['maximum', 'loan', 'get', 'property'], ['apply', 'loan', 'property', 'lap'], ['make', 'request', 'foreclose', 'loan', 'property', 'account'], ['pdc'], ['document', 'required', 'avail', 'loan', 'property'], ['get', 'address', 'changed', 'loan', 'account'], ['done', 'post', 'dated', 'cheque', 'request', 'change', 'mode', 'repayment', 'account', 'loan'], ['change', 'mode', 'repayment', 'account', 'loan'], ['charge', 'pay', 'change', 'mode', 'repayment', 'account', 'loan'], ['charge', 'need', 'pay', 'foreclose', 'loan', 'property'], ['charge', 'need', 'pay', 'foreclose', 'loan'], ['much', 'time', 'take', 'decision', 'application', 'loan', 'property'], ['de', 'pledge'], ['guarantor'], ['amortization'], ['pledge'], ['rtgs'], ['neft'], ['si'], ['cibil'], ['document', 'carry', 'time', 'visiting', 'n'], ['resolve', 'query'], ['obtain', 'noc', 'registration', 'certificate', 'mutilated', 'wish', 'apply', 'duplicate', 'registration', 'certificate', 'book', 'vehicle', 'finance', 'n'], ['obtain', 'noc', 'lost', 'registration', 'certificate', 'book', 'vehicle', 'finance', 'n'], ['obtain', 'noc', 'settling', 'partial', 'loss', 'insurance', 'claim', 'vehicle', 'finance', 'n'], ['obtain', 'noc', 'fitting', 'lpg', 'cng', 'kit', 'vehicle', 'finance', 'n'], ['get', 'address', 'changed', 'loan', 'account'], ['different', 'loan', 'repayment', 'mode'], ['share', 'one', 'company', 'get', 'limit', 'one', 'script'], ['obtain', 'duplicate', 'repayment', 'schedule', 'loan', 'account'], ['done', 'post', 'dated', 'cheque', 'request', 'change', 'mode', 'repayment', 'account', 'loan'], ['obtain', 'duplicate', 'noc', 'form', 'vehicle', 'loan', 'closed', 'fully', 'repaid'], ['change', 'mode', 'repayment', 'account', 'loan'], ['additional', 'charge', 'loan', 'repayment'], ['repay', 'loan', 'earlier', 'due', 'date'], ['benefit', 'get', 'loan', 'security', 'account'], ['overdraft', 'limit', 'fixed'], ['charge', 'la', 'account', 'limit'], ['get', 'security', 'released'], ['procedure', 'get', 'trf', 'booklet'], ['would', 'pay', 'interest', 'debited', 'loan', 'security', 'account', 'month'], ['get', 'statement', 'account'], ['minimum', 'loan', 'value'], ['frequently', 'portfolio', 'valued'], ['would', 'share', 'held', 'name'], ['document', 'required', 'avail', 'loan', 'rental', 'receivables'], ['much', 'loan', 'offered', 'property'], ['apply', 'loan', 'rent', 'receivables', 'larr'], ['fee', 'charge', 'applicable'], ['much', 'time', 'take', 'decision', 'application', 'loan', 'rental', 'receivables'], ['emi'], ['additional', 'charge', 'loan', 'prepayment'], ['charge', 'need', 'pay', 'foreclose', 'loan', 'rental', 'receivable'], ['make', 'request', 'foreclose', 'loan', 'rental', 'receivables', 'account'], ['apply', 'duplicate', 'noc', 'closure', 'letter'], ['property', 'considered', 'collateral', 'larr'], ['maximum', 'tenure', 'repay', 'loan', 'rental', 'receivables'], ['long', 'take', 'professional', 'loan', 'processed'], ['repay', 'loan', 'earlier', 'professional', 'loan'], ['get', 'address', 'changed', 'loan', 'account'], ['done', 'post', 'dated', 'cheque', 'request', 'change', 'mode', 'repayment', 'account', 'loan'], ['charge', 'pay', 'change', 'mode', 'repayment', 'account', 'loan'], ['change', 'mode', 'repayment', 'account', 'loan'], ['obtain', 'duplicate', 'repayment', 'schedule', 'loan', 'account'], ['security', 'need', 'provide', 'obtain', 'professional', 'loan'], ['loan', 'tenure', 'option', 'professional', 'loan'], ['benefit', 'current', 'saving', 'account', 'loan', 'professional'], ['much', 'loan', 'avail', 'professional'], ['repay', 'professional', 'loan'], ['long', 'take', 'repay', 'personal', 'loan'], ['much', 'borrow'], ['repay', 'personal', 'loan'], ['part', 'prepayment', 'personal', 'loan', 'allowed'], ['salary', 'account', 'help', 'get', 'personal', 'loan'], ['need', 'provide', 'security', 'collateral', 'obtain', 'personal', 'loan', 'n'], ['de', 'pledge'], ['guarantor'], ['amortization'], ['pledge'], ['rtgs'], ['neft'], ['si'], ['cibil'], ['repay', 'personal', 'loan', 'earlier'], ['document', 'carry', 'time', 'visiting', 'n'], ['resolve', 'query'], ['done', 'post', 'dated', 'cheque', 'request', 'change', 'mode', 'repayment', 'account', 'loan'], ['change', 'mode', 'repayment', 'account', 'loan'], ['get', 'address', 'changed', 'loan', 'account'], ['obtain', 'duplicate', 'repayment', 'schedule', 'loan', 'account'], ['charge', 'pay', 'change', 'mode', 'repayment', 'account', 'loan'], ['additional', 'charge', 'loan', 'repayment'], ['long', 'take', 'personal', 'loan', 'processed'], ['de', 'pledge'], ['guarantor'], ['amortization'], ['pledge'], ['rtgs'], ['neft'], ['si'], ['cibil'], ['document', 'carry', 'time', 'visiting', 'n'], ['resolve', 'query'], ['obtain', 'noc', 'settling', 'partial', 'loss', 'insurance', 'claim', 'vehicle', 'finance', 'n'], ['obtain', 'noc', 'registration', 'certificate', 'mutilated', 'wish', 'apply', 'duplicate', 'registration', 'certificate', 'book', 'vehicle', 'finance', 'n'], ['obtain', 'noc', 'lost', 'registration', 'certificate', 'book', 'vehicle', 'finance', 'n'], ['obtain', 'duplicate', 'noc', 'form', 'vehicle', 'loan', 'closed', 'fully', 'repaid'], ['get', 'address', 'changed', 'loan', 'account'], ['done', 'post', 'dated', 'cheque', 'request', 'change', 'mode', 'repayment', 'account', 'loan'], ['change', 'mode', 'repayment', 'account', 'loan'], ['eligible', 'tractor', 'loan'], ['get', 'tractor', 'loan', 'tractor', 'want', 'purchase'], ['different', 'mode', 'loan', 'repayment'], ['pre', 'pay', 'entire', 'loan', 'amount'], ['want', 'repay', 'loan', 'earlier', 'due', 'date'], ['guarantor', 'required'], ['want', 'repay', 'loan', 'earlier', 'due', 'date'], ['maximum', 'loan', 'amount', 'take', 'tractor', 'loan'], ['obtain', 'duplicate', 'noc', 'form', 'vehicle', 'loan', 'closed', 'fully', 'repaid'], ['change', 'mode', 'repayment', 'account', 'loan'], ['get', 'address', 'changed', 'loan', 'account'], ['obtain', 'noc', 'settling', 'partial', 'loss', 'insurance', 'claim', 'vehicle', 'finance', 'n'], ['charge', 'pay', 'change', 'mode', 'repayment', 'account', 'loan'], ['obtain', 'noc', 'registration', 'certificate', 'mutilated', 'wish', 'apply', 'duplicate', 'registration', 'certificate', 'book', 'vehicle', 'finance', 'n'], ['obtain', 'noc', 'lost', 'registration', 'certificate', 'book', 'vehicle', 'finance', 'n'], ['done', 'post', 'dated', 'cheque', 'request', 'change', 'mode', 'repayment', 'account', 'loan'], ['utilize', 'amount'], ['many', 'salary', 'credit', 'required', 'existing', 'account', 'qualify', 'smartdraft'], ['amount', 'get', 'overdraft'], ['smartdraft', 'limit', 'renewed'], ['location', 'smartdraft', 'available'], ['eligible', 'smartdraft'], ['de', 'pledge'], ['guarantor'], ['amortization'], ['pledge'], ['rtgs'], ['neft'], ['si'], ['cibil'], ['document', 'carry', 'time', 'visiting', 'n'], ['resolve', 'query'], ['get', 'address', 'changed', 'loan', 'account'], ['obtain', 'duplicate', 'noc', 'form', 'vehicle', 'loan', 'closed', 'fully', 'repaid'], ['obtain', 'noc', 'fitting', 'lpg', 'cng', 'kit', 'vehicle', 'finance', 'n'], ['obtain', 'noc', 'settling', 'partial', 'loss', 'insurance', 'claim', 'vehicle', 'finance', 'n'], ['obtain', 'noc', 'lost', 'registration', 'certificate', 'book', 'vehicle', 'finance', 'n'], ['obtain', 'noc', 'registration', 'certificate', 'mutilated', 'wish', 'apply', 'duplicate', 'registration', 'certificate', 'book', 'vehicle', 'finance', 'n'], ['obtain', 'duplicate', 'repayment', 'schedule', 'loan', 'account'], ['change', 'mode', 'repayment', 'account', 'loan'], ['charge', 'pay', 'change', 'mode', 'repayment', 'account', 'loan'], ['done', 'post', 'dated', 'cheque', 'request', 'change', 'mode', 'repayment', 'account', 'loan'], ['much', 'finance', 'avail'], ['option', 'pre', 'pay', 'entire', 'loan', 'amount'], ['long', 'take', 'process', 'loan'], ['much', 'time', 'take', 'change', 'mode', 'repayment', 'account', 'repayment', 'loan'], ['way', 'get', 'touch', 'detail', 'two', 'wheeler', 'loan'], ['account', 'n', 'still', 'avail', 'loan'], ['grahak', 'seva', 'kendra'], ['need', 'guarantor'], ['obtain', 'noc', 'registration', 'certificate', 'mutilated', 'wish', 'apply', 'duplicate', 'registration', 'certificate', 'book', 'vehicle', 'finance', 'n'], ['obtain', 'duplicate', 'noc', 'form', 'vehicle', 'loan', 'closed', 'fully', 'repaid'], ['done', 'post', 'dated', 'cheque', 'request', 'change', 'mode', 'repayment', 'account', 'loan'], ['obtain', 'noc', 'settling', 'partial', 'loss', 'insurance', 'claim', 'vehicle', 'finance', 'n'], ['obtain', 'noc', 'lost', 'registration', 'certificate', 'book', 'vehicle', 'finance', 'n'], ['get', 'address', 'changed', 'loan', 'account'], ['obtain', 'noc', 'fitting', 'lpg', 'cng', 'kit', 'vehicle', 'finance', 'n'], ['change', 'mode', 'repayment', 'account', 'loan'], ['obtain', 'duplicate', 'repayment', 'schedule', 'loan', 'account'], ['charge', 'pay', 'change', 'mode', 'repayment', 'account', 'loan'], ['need', 'enter', 'keying', 'card', 'number', 'card', 'expiry', 'date', 'cvv', 'number'], ['detail', 'required', 'want', 'perform', 'secure', 'ivr', 'transaction'], ['get', 'ivr', 'password', 'hold', 'add', 'card'], ['register', 'mobile', 'number', 'ivr', 'password'], ['obtain', 'ivr', 'password'], ['use', 'ivr', 'password', 'perform', 'multiple', 'transaction'], ['generate', 'multiple', 'ivr', 'password'], ['register', 'ivr', 'password'], ['ivr', 'password', 'work'], ['much', 'time', 'ivr', 'password', 'delivered', 'mobile', 'phone', 'email', 'id'], ['otp', 'generated', 'prior', 'transaction'], ['continue', 'using', 'verified', 'visa', 'mastercard', 'securecode', 'protectbuy', 'password', 'online', 'transaction'], ['mobile', 'number', 'receive', 'otp'], ['necessary', 'register', 'card', 'otp', 'transaction'], ['option', 'available', 'online', 'transaction'], ['otp', 'used', 'multiple', 'online', 'transaction'], ['otp', 'sent', 'customer'], ['validity', 'period', 'otp'], ['happens', 'shop', 'verified', 'visa', 'mastercard', 'securecode', 'merchant', 'website', 'registered', 'feature'], ['shop', 'verified', 'visa'], ['online', 'store', 'know', 'verified', 'visa', 'mastercard', 'securecode'], ['register', 'set', 'password', 'vbv', 'msc', 'mobile', 'number', 'email', 'id', 'updated', 'record'], ['registered', 'long', 'take', 'verified', 'visa', 'mastercard', 'securecode', 'become', 'active', 'card'], ['happen', 'try', 'register', 'generate', 'otp', 'within', 'hour'], ['account', 'blocked', 'unblock'], ['use', 'verified', 'visa', 'mastercard', 'securecode', 'shop', 'online', 'registered'], ['verified', 'visa', 'mastercard', 'securecode', 'work'], ['suspect', 'someone', 'stolen', 'password', 'used', 'make', 'fraudulent', 'purchase'], ['spouse', 'card', 'number', 'verified', 'visa', 'mastercard', 'securecode', 'work', 'u'], ['verified', 'visa', 'mastercard', 'securecode'], ['register', 'n', 'card'], ['register', 'verified', 'visa', 'mastercard', 'securecode', 'existing', 'n', 'card', 'need', 'apply', 'new', 'one'], ['register', 'one', 'n', 'credit', 'debit', 'card'], ['received', 'renewed', 'card', 'need', 'register'], ['register', 'non', 'visa', 'payment', 'card', 'verified', 'visa', 'non', 'mastercard', 'payment', 'card', 'mastercard', 'securecode'], ['use', 'verified', 'visa', 'mastercard', 'securecode', 'computer'], ['need', 'special', 'equipment', 'software', 'computer'], ['personal', 'assurance', 'message', 'personal', 'greeting'], ['register', 'vbv', 'sc', 'mobile', 'number', 'email', 'id', 'updated', 'credit', 'card', 'record'], ['long', 'take', 'ivr', 'password', 'get', 'delivered', 'using', 'verified', 'visa', 'mastercard', 'secure', 'code'], ['registered', 'two', 'email', 'id', 'email', 'id', 'receive', 'ivr', 'password'], ['validity', 'ivr', 'password', 'using', 'verified', 'visa', 'mastercard', 'secure', 'code'], ['thing', 'need', 'keep', 'mind', 'ivr', 'password', 'using', 'verified', 'visa', 'mastercard', 'secure', 'code'], ['transaction', 'one', 'time', 'password', 'ivr', 'password', 'process', 'applicable'], ['see', 'personal', 'assurance', 'message', 'secure', 'page'], ['forget', 'vbv', 'msc', 'password', 'retrieve'], ['trying', 'register', 'card', 'getting', 'error', 'message', 'stating', 'mobile', 'mismatch', 'could', 'reason'], ['email', 'id', 'receive', 'otp', 'credit', 'card', 'registration', 'password', 'reset'], ['trying', 'register', 'getting', 'error', 'message', 'card', 'already', 'enrolled'], ['remember', 'verified', 'visa', 'mastercard', 'securecode', 'login', 'id'], ['find', 'cvv'], ['unable', 'transact', 'online', 'card', 'de', 'registered', 'status', 'register', 'card'], ['fee', 'register', 'verified', 'visa', 'mastercard', 'securecode'], ['step', 'take', 'ensure', 'vbv', 'msc', 'password', 'strong', 'difficult', 'guess'], ['set', 'personal', 'assurance', 'message', 'vbv', 'msc', 'password'], ['happens', 'try', 'make', 'purchase', 'merchant', 'participate', 'verified', 'visa', 'mastercard', 'securecode', 'service'], ['get', 'benefit', 'verified', 'visa', 'mastercard', 'securecode', 'security', 'online', 'store', 'participating', 'service'], ['branch', 'n'], ['real'], ['look', 'like'], ['help'], ['language', 'speak'], ['much', 'interest', 'fd'], ['much', 'interest', 'fixed', 'deposit'], ['fixed', 'deposit'], ['current', 'balance'], ['much', 'money', 'account', 'right'], ['current', 'account', 'balance'], ['tell', 'account', 'balance', 'moment'], ['much', 'money', 'currently', 'account'], ['current', 'balance', 'account'], ['could', 'inform', 'current', 'balance'], ['like', 'know', 'present', 'account', 'balance', 'tell'], ['balance', 'account', 'moment'], ['provide', 'current', 'balance', 'information'], ['balance', 'account', 'right'], ['balance', 'account', 'present', 'time'], ['could', 'tell', 'much', 'money', 'account', 'right'], ['current', 'balance', 'account'], ['give', 'update', 'current', 'balance'], ['want', 'know', 'current', 'balance', 'account', 'help'], ['amount', 'money', 'currently', 'account'], ['tell', 'balance', 'account', 'currently'], ['much', 'money', 'currently', 'account'], ['give', 'information', 'present', 'account', 'balance'], ['balance', 'account', 'moment'], ['total', 'transaction', 'month'], ['much', 'money', 'spend', 'month'], ['tell', 'total', 'transaction', 'account', 'month'], ['total', 'amount', 'transaction', 'made', 'month'], ['want', 'know', 'total', 'transaction', 'account', 'month', 'help'], ['could', 'provide', 'total', 'transaction', 'account', 'month'], ['sum', 'transaction', 'month'], ['give', 'information', 'total', 'transaction', 'made', 'account', 'month'], ['total', 'amount', 'transaction', 'account', 'month'], ['much', 'spend', 'total', 'month'], ['curious', 'total', 'transaction', 'account', 'month', 'could', 'tell'], ['total', 'expenditure', 'account', 'month'], ['give', 'detail', 'transaction', 'month'], ['many', 'transaction', 'make', 'month'], ['want', 'know', 'total', 'amount', 'transaction', 'made', 'account', 'month', 'provide', 'information'], ['total', 'amount', 'money', 'spent', 'account', 'month'], ['could', 'inform', 'total', 'transaction', 'account', 'month'], ['much', 'money', 'transact', 'month'], ['total', 'number', 'transaction', 'made', 'account', 'month'], ['give', 'breakdown', 'transaction', 'month'], ['like', 'know', 'total', 'transaction', 'made', 'account', 'month', 'give', 'information'], ['total', 'balance', 'credited', 'account', 'month'], ['much', 'money', 'credited', 'account', 'month'], ['tell', 'total', 'amount', 'credited', 'account', 'month'], ['sum', 'credit', 'account', 'month'], ['want', 'know', 'total', 'balance', 'credited', 'account', 'month', 'help'], ['could', 'provide', 'detail', 'total', 'credit', 'account', 'month'], ['total', 'amount', 'money', 'credited', 'account', 'month'], ['give', 'information', 'total', 'balance', 'credited', 'account', 'month'], ['total', 'amount', 'credit', 'account', 'month'], ['much', 'money', 'added', 'account', 'month'], ['curious', 'total', 'credit', 'account', 'month', 'could', 'tell'], ['total', 'balance', 'added', 'account', 'month'], ['give', 'detail', 'credit', 'account', 'month'], ['many', 'credit', 'made', 'account', 'month'], ['want', 'know', 'total', 'amount', 'credited', 'account', 'month', 'provide', 'information'], ['total', 'amount', 'money', 'deposited', 'account', 'month'], ['could', 'inform', 'total', 'credit', 'account', 'month'], ['much', 'money', 'transferred', 'account', 'month'], ['total', 'number', 'credit', 'made', 'account', 'month'], ['give', 'breakdown', 'credit', 'account', 'month'], ['like', 'know', 'total', 'balance', 'credited', 'account', 'month', 'give', 'information'], ['total', 'balance', 'credited', 'account', 'month', 'using', 'payment', 'method'], ['much', 'money', 'credited', 'account', 'month', 'using', 'payment', 'method'], ['tell', 'total', 'amount', 'credited', 'account', 'month', 'using', 'payment', 'method'], ['sum', 'credit', 'account', 'month', 'using', 'payment', 'method'], ['want', 'know', 'total', 'balance', 'credited', 'account', 'month', 'using', 'payment', 'method', 'help'], ['could', 'provide', 'detail', 'total', 'credit', 'account', 'month', 'using', 'payment', 'method'], ['total', 'amount', 'money', 'credited', 'account', 'month', 'using', 'payment', 'method'], ['give', 'information', 'total', 'balance', 'credited', 'account', 'month', 'using', 'payment', 'method'], ['total', 'amount', 'credit', 'account', 'month', 'using', 'payment', 'method'], ['much', 'money', 'added', 'account', 'month', 'using', 'payment', 'method'], ['curious', 'total', 'credit', 'account', 'month', 'using', 'payment', 'method', 'could', 'tell'], ['total', 'balance', 'added', 'account', 'month', 'using', 'payment', 'method'], ['give', 'detail', 'credit', 'account', 'month', 'using', 'payment', 'method'], ['many', 'credit', 'made', 'account', 'month', 'using', 'payment', 'method'], ['want', 'know', 'total', 'amount', 'credited', 'account', 'month', 'using', 'payment', 'method', 'provide', 'information'], ['total', 'amount', 'money', 'deposited', 'account', 'month', 'using', 'payment', 'method'], ['could', 'inform', 'total', 'credit', 'account', 'month', 'using', 'payment', 'method'], ['much', 'money', 'transferred', 'account', 'month', 'using', 'payment', 'method'], ['total', 'number', 'credit', 'made', 'account', 'month', 'using', 'payment', 'method'], ['give', 'breakdown', 'credit', 'account', 'month', 'using', 'payment', 'method'], ['like', 'know', 'total', 'balance', 'credited', 'account', 'month', 'using', 'payment', 'method', 'give', 'information'], ['total', 'balance', 'credited', 'account', 'month', 'using', 'payment', 'method'], ['much', 'money', 'debited', 'account', 'month', 'using', 'payment', 'method'], ['tell', 'total', 'amount', 'debited', 'account', 'month', 'using', 'payment', 'method'], ['sum', 'debit', 'account', 'month', 'using', 'payment', 'method'], ['want', 'know', 'total', 'balance', 'debited', 'account', 'month', 'using', 'payment', 'method', 'help'], ['could', 'provide', 'detail', 'total', 'debit', 'account', 'month', 'using', 'payment', 'method'], ['total', 'amount', 'money', 'debited', 'account', 'month', 'using', 'payment', 'method'], ['give', 'information', 'total', 'balance', 'debited', 'account', 'month', 'using', 'payment', 'method'], ['total', 'amount', 'debit', 'account', 'month', 'using', 'payment', 'method'], ['much', 'money', 'deducted', 'account', 'month', 'using', 'payment', 'method'], ['curious', 'total', 'debit', 'account', 'month', 'using', 'payment', 'method', 'could', 'tell'], ['total', 'balance', 'deducted', 'account', 'month', 'using', 'payment', 'method'], ['give', 'detail', 'debit', 'account', 'month', 'using', 'payment', 'method'], ['many', 'debit', 'made', 'account', 'month', 'using', 'payment', 'method'], ['want', 'know', 'total', 'amount', 'debited', 'account', 'month', 'using', 'payment', 'method', 'provide', 'information'], ['total', 'amount', 'money', 'withdrawn', 'account', 'month', 'using', 'payment', 'method'], ['could', 'inform', 'total', 'debit', 'account', 'month', 'using', 'payment', 'method'], ['much', 'money', 'transferred', 'account', 'month', 'using', 'payment', 'method'], ['total', 'number', 'debit', 'made', 'account', 'month', 'using', 'payment', 'method'], ['give', 'breakdown', 'debit', 'account', 'month', 'using', 'payment', 'method'], ['like', 'know', 'total', 'balance', 'debited', 'account', 'month', 'using', 'payment', 'method', 'give', 'information'], ['show', 'transaction'], ['show', 'list', 'transaction'], ['transaction', 'made', 'account'], ['could', 'provide', 'detail', 'recent', 'transaction'], ['would', 'like', 'see', 'summary', 'account', 'activity', 'show', 'transaction'], ['history', 'account', 'transaction'], ['view', 'transaction', 'history'], ['transaction', 'made', 'account', 'recently'], ['give', 'rundown', 'recent', 'account', 'transaction'], ['record', 'recent', 'account', 'transaction'], ['possible', 'see', 'log', 'account', 'transaction'], ['could', 'please', 'show', 'list', 'transaction', 'made', 'account'], ['need', 'review', 'account', 'activity', 'help', 'see', 'transaction'], ['check', 'transaction', 'history'], ['transaction', 'occurred', 'account', 'past', 'week'], ['provide', 'report', 'account', 'transaction'], ['transaction', 'processed', 'account', 'lately'], ['want', 'see', 'detailed', 'list', 'recent', 'transaction'], ['could', 'please', 'show', 'transaction', 'history', 'past', 'month'], ['recent', 'transaction', 'history'], ['help', 'access', 'transaction', 'log'], ['total', 'transaction', 'first', 'last', 'month'], ['total', 'number', 'transaction', 'made', 'account', 'first', 'last', 'month'], ['many', 'transaction', 'processed', 'account', 'first', 'last', 'month'], ['give', 'summary', 'transaction', 'period', 'first', 'last', 'month'], ['total', 'amount', 'transaction', 'account', 'time', 'frame', 'first', 'last', 'month'], ['would', 'like', 'know', 'total', 'number', 'transaction', 'account', 'first', 'last', 'month', 'help'], ['much', 'money', 'involved', 'transaction', 'made', 'account', 'first', 'last', 'month'], ['could', 'provide', 'report', 'transaction', 'made', 'account', 'first', 'last', 'month'], ['total', 'volume', 'transaction', 'account', 'period', 'first', 'last', 'month'], ['need', 'know', 'number', 'transaction', 'made', 'account', 'first', 'last', 'month', 'show', 'information'], ['please', 'tell', 'many', 'transaction', 'made', 'account', 'first', 'last', 'month'], ['total', 'transaction', 'first', 'last', 'month', 'using', 'upi', 'credit', 'card', 'dabit', 'card', 'net', 'banking'], ['tell', 'total', 'number', 'transaction', 'made', 'account', 'using', 'upi', 'credit', 'card', 'debit', 'card', 'net', 'banking', 'first', 'last', 'month'], ['many', 'transaction', 'processed', 'account', 'using', 'upi', 'credit', 'card', 'debit', 'card', 'net', 'banking', 'first', 'last', 'month'], ['total', 'amount', 'transaction', 'account', 'using', 'upi', 'credit', 'card', 'debit', 'card', 'net', 'banking', 'time', 'frame', 'first', 'last', 'month'], ['would', 'like', 'know', 'total', 'number', 'transaction', 'made', 'account', 'using', 'upi', 'credit', 'card', 'debit', 'card', 'net', 'banking', 'first', 'last', 'month', 'help'], ['much', 'money', 'involved', 'transaction', 'made', 'account', 'using', 'upi', 'credit', 'card', 'debit', 'card', 'net', 'banking', 'first', 'last', 'month'], ['could', 'provide', 'report', 'transaction', 'made', 'account', 'using', 'upi', 'credit', 'card', 'debit', 'card', 'net', 'banking', 'first', 'last', 'month'], ['total', 'volume', 'transaction', 'made', 'account', 'using', 'upi', 'credit', 'card', 'debit', 'card', 'net', 'banking', 'period', 'first', 'last', 'month'], ['need', 'know', 'number', 'transaction', 'made', 'account', 'using', 'upi', 'credit', 'card', 'debit', 'card', 'net', 'banking', 'first', 'last', 'month', 'show', 'information'], ['please', 'tell', 'many', 'transaction', 'made', 'account', 'using', 'upi', 'credit', 'card', 'debit', 'card', 'net', 'banking', 'first', 'last', 'month'], ['total', 'transaction', 'amount', 'upi', 'credit', 'card', 'debit', 'card', 'net', 'banking', 'transaction', 'made', 'account', 'first', 'last', 'month'], ['many', 'transaction', 'using', 'upi', 'credit', 'card', 'debit', 'card', 'net', 'banking', 'made', 'account', 'first', 'last', 'month'], ['give', 'summary', 'transaction', 'made', 'using', 'upi', 'credit', 'card', 'debit', 'card', 'net', 'banking', 'account', 'first', 'last', 'month'], ['many', 'transaction', 'using', 'upi', 'credit', 'card', 'debit', 'card', 'net', 'banking', 'make', 'first', 'last', 'month'], ['total', 'count', 'transaction', 'made', 'account', 'using', 'upi', 'credit', 'card', 'debit', 'card', 'net', 'banking', 'first', 'last', 'month'], ['total', 'value', 'transaction', 'using', 'upi', 'credit', 'card', 'debit', 'card', 'net', 'banking', 'made', 'account', 'first', 'last', 'month'], ['show', 'total', 'transaction', 'volume', 'upi', 'credit', 'card', 'debit', 'card', 'net', 'banking', 'transaction', 'made', 'account', 'first', 'last', 'month'], ['would', 'like', 'know', 'total', 'value', 'transaction', 'made', 'using', 'upi', 'credit', 'card', 'debit', 'card', 'net', 'banking', 'account', 'first', 'last', 'month', 'provide', 'information'], ['balance', 'till', 'month', 'date'], ['account', 'balance', 'month', 'year', 'date'], ['tell', 'balance', 'month', 'year', 'date'], ['much', 'money', 'account', 'month', 'year', 'date'], ['need', 'know', 'account', 'balance', 'month', 'year', 'date', 'help'], ['balance', 'account', 'month', 'year', 'date'], ['show', 'account', 'balance', 'history', 'month', 'year', 'date'], ['balance', 'account', 'month', 'year', 'date'], ['could', 'provide', 'account', 'balance', 'month', 'year', 'date'], ['much', 'money', 'account', 'month', 'year', 'date'], ['want', 'know', 'account', 'balance', 'month', 'year', 'date', 'give', 'information'], ['account', 'balance', 'month', 'year', 'date'], ['tell', 'much', 'money', 'account', 'month', 'year', 'date'], ['would', 'like', 'know', 'balance', 'month', 'year', 'date', 'show', 'information'], ['balance', 'account', 'month', 'year', 'date'], ['much', 'money', 'account', 'month', 'year', 'date'], ['provide', 'balance', 'history', 'month', 'year', 'date'], ['need', 'find', 'balance', 'month', 'year', 'date', 'tell'], ['account', 'balance', 'end', 'month', 'year'], ['balance', 'end', 'month', 'year'], ['show', 'account', 'balance', 'month', 'year', 'date'], ['tell', 'name'], ['name'], ['name', 'associated', 'account'], ['could', 'please', 'provide', 'name'], ['forgot', 'name', 'remind'], ['may', 'know', 'name', 'registered', 'account'], ['need', 'know', 'name', 'linked', 'account'], ['please', 'inform', 'registered', 'name'], ['name', 'recorded', 'account', 'detail'], ['would', 'like', 'know', 'name', 'associated', 'account'], ['share', 'name'], ['name', 'banking', 'profile'], ['could', 'please', 'disclose', 'name', 'account'], ['kindly', 'let', 'know', 'name', 'linked', 'account'], ['curious', 'name', 'associated', 'account'], ['please', 'provide', 'name', 'account'], ['name', 'provided', 'account', 'registration'], ['may', 'name', 'associated', 'banking', 'account'], ['inform', 'name', 'used', 'creating', 'account'], ['would', 'appreciate', 'could', 'tell', 'name'], ['name', 'provide', 'opening', 'account'], ['interest', 'income', 'q'], ['could', 'provide', 'interest', 'earnings', 'first', 'quarter'], ['balance', 'month'], ['provide', 'account', 'balance', 'insert', 'month'], ['account', 'balance', 'month', 'insert', 'month'], ['could', 'tell', 'balance', 'account', 'insert', 'month'], ['balance', 'account', 'insert', 'month'], ['much', 'money', 'account', 'insert', 'month'], ['balance', 'insert', 'month'], ['show', 'balance', 'account', 'insert', 'month'], ['account', 'balance', 'end', 'insert', 'month'], ['could', 'give', 'balance', 'account', 'month', 'insert', 'month'], ['available', 'balance', 'account', 'insert', 'month'], ['tell', 'balance', 'account', 'insert', 'month', 'year'], ['closing', 'balance', 'insert', 'month'], ['much', 'money', 'account', 'insert', 'month'], ['account', 'balance', 'last', 'day', 'insert', 'month'], ['show', 'balance', 'account', 'beginning', 'insert', 'month'], ['account', 'balance', 'start', 'insert', 'month'], ['could', 'provide', 'balance', 'account', 'insert', 'date', 'month'], ['balance', 'insert', 'month'], ['tell', 'balance', 'account', 'end', 'insert', 'month'], ['balance', 'account', 'entire', 'month', 'insert', 'month'], ['much', 'interest', 'earned', 'st', 'quarter'], ['much', 'interest', 'earn', 'first', 'quarter', 'year'], ['interest', 'earned', 'account', 'first', 'quarter'], ['could', 'tell', 'interest', 'earned', 'account', 'january', 'march'], ['interest', 'earned', 'account', 'first', 'three', 'month', 'year'], ['much', 'interest', 'account', 'earn', 'first', 'quarter'], ['total', 'interest', 'credited', 'account', 'january', 'march'], ['interest', 'earned', 'account', 'first', 'quarter', 'year'], ['show', 'interest', 'earned', 'account', 'first', 'quarter', 'year'], ['interest', 'rate', 'first', 'quarter', 'much', 'interest', 'earn'], ['total', 'interest', 'credited', 'account', 'first', 'quarter', 'year'], ['much', 'interest', 'earn', 'first', 'three', 'month', 'year', 'fixed', 'deposit', 'account'], ['provide', 'interest', 'earned', 'saving', 'account', 'first', 'quarter'], ['interest', 'earned', 'account', 'start', 'year', 'march'], ['could', 'tell', 'interest', 'earned', 'account', 'first', 'quarter', 'financial', 'year'], ['interest', 'earned', 'account', 'first', 'quarter', 'fiscal', 'year'], ['much', 'interest', 'earn', 'q', 'year'], ['account', 'interest', 'income', 'first', 'quarter', 'year'], ['interest', 'earned', 'account', 'month', 'january', 'february', 'march'], ['show', 'breakdown', 'interest', 'earned', 'account', 'first', 'quarter'], ['interest', 'earned', 'account', 'first', 'quarter', 'broken', 'month'], ['much', 'interest', 'earned', 'nd', 'quarter'], ['interest', 'earned', 'account', 'second', 'quarter'], ['much', 'interest', 'earn', 'month', 'april', 'may', 'june'], ['tell', 'interest', 'earned', 'account', 'second', 'quarter', 'year'], ['interest', 'earned', 'account', 'month', 'april', 'may', 'june'], ['total', 'interest', 'credited', 'account', 'second', 'quarter', 'year'], ['much', 'interest', 'account', 'earn', 'second', 'quarter'], ['interest', 'earned', 'account', 'april', 'june'], ['show', 'interest', 'earned', 'account', 'second', 'quarter', 'year'], ['interest', 'rate', 'second', 'quarter', 'much', 'interest', 'earn'], ['total', 'interest', 'credited', 'account', 'second', 'quarter', 'year'], ['much', 'interest', 'earn', 'month', 'april', 'may', 'june', 'fixed', 'deposit', 'account'], ['could', 'tell', 'interest', 'earned', 'saving', 'account', 'second', 'quarter'], ['interest', 'earned', 'account', 'april', 'june', 'year'], ['interest', 'earned', 'account', 'second', 'quarter', 'financial', 'year'], ['interest', 'earned', 'account', 'second', 'quarter', 'fiscal', 'year'], ['much', 'interest', 'earn', 'q', 'year'], ['account', 'interest', 'income', 'second', 'quarter', 'year'], ['show', 'breakdown', 'interest', 'earned', 'account', 'second', 'quarter'], ['interest', 'earned', 'account', 'second', 'quarter', 'broken', 'month'], ['could', 'tell', 'interest', 'earned', 'account', 'month', 'april', 'may', 'june', 'separately'], ['much', 'interest', 'earned', 'rd', 'quarter'], ['much', 'interest', 'earn', 'month', 'july', 'august', 'september'], ['interest', 'earned', 'account', 'third', 'quarter'], ['tell', 'interest', 'earned', 'account', 'third', 'quarter', 'year'], ['interest', 'earned', 'account', 'july', 'september'], ['total', 'interest', 'credited', 'account', 'third', 'quarter', 'year'], ['interest', 'earned', 'account', 'third', 'quarter', 'financial', 'year'], ['much', 'interest', 'account', 'earn', 'third', 'quarter'], ['total', 'interest', 'credited', 'account', 'third', 'quarter', 'year'], ['interest', 'rate', 'third', 'quarter', 'much', 'interest', 'earn'], ['show', 'interest', 'earned', 'account', 'third', 'quarter', 'year'], ['much', 'interest', 'earn', 'month', 'july', 'august', 'september', 'fixed', 'deposit', 'account'], ['could', 'tell', 'interest', 'earned', 'saving', 'account', 'third', 'quarter'], ['interest', 'earned', 'account', 'july', 'september', 'year'], ['interest', 'earned', 'account', 'third', 'quarter', 'fiscal', 'year'], ['account', 'interest', 'income', 'third', 'quarter', 'year'], ['much', 'interest', 'earn', 'q', 'year'], ['interest', 'earned', 'account', 'third', 'quarter', 'broken', 'month'], ['show', 'breakdown', 'interest', 'earned', 'account', 'third', 'quarter'], ['interest', 'earned', 'account', 'month', 'july', 'august', 'september', 'separately'], ['interest', 'earned', 'account', 'third', 'quarter', 'compare', 'previous', 'quarter'], ['much', 'interest', 'earned', 'th', 'quarter'], ['interest', 'earned', 'account', 'fourth', 'quarter'], ['much', 'interest', 'earn', 'month', 'october', 'november', 'december'], ['tell', 'interest', 'earned', 'account', 'fourth', 'quarter', 'year'], ['interest', 'earned', 'account', 'october', 'december'], ['total', 'interest', 'credited', 'account', 'fourth', 'quarter', 'year'], ['interest', 'earned', 'account', 'fourth', 'quarter', 'financial', 'year'], ['much', 'interest', 'account', 'earn', 'fourth', 'quarter'], ['total', 'interest', 'credited', 'account', 'fourth', 'quarter', 'year'], ['interest', 'rate', 'fourth', 'quarter', 'much', 'interest', 'earn'], ['show', 'interest', 'earned', 'account', 'fourth', 'quarter', 'year'], ['much', 'interest', 'earn', 'month', 'october', 'november', 'december', 'fixed', 'deposit', 'account'], ['could', 'tell', 'interest', 'earned', 'saving', 'account', 'fourth', 'quarter'], ['interest', 'earned', 'account', 'october', 'december', 'year'], ['interest', 'earned', 'account', 'fourth', 'quarter', 'fiscal', 'year'], ['account', 'interest', 'income', 'fourth', 'quarter', 'year'], ['much', 'interest', 'earn', 'q', 'year'], ['interest', 'earned', 'account', 'fourth', 'quarter', 'broken', 'month'], ['show', 'breakdown', 'interest', 'earned', 'account', 'fourth', 'quarter'], ['interest', 'earned', 'account', 'month', 'october', 'november', 'december', 'separately'], ['interest', 'earned', 'account', 'fourth', 'quarter', 'compare', 'previous', 'quarter']]\n"
     ]
    }
   ],
   "source": [
    "print(corpus)"
   ]
  },
  {
   "cell_type": "code",
   "execution_count": 15,
   "id": "2acf7d04",
   "metadata": {},
   "outputs": [],
   "source": [
    "le = LabelEncoder()\n",
    "y=le.fit_transform(y)"
   ]
  },
  {
   "cell_type": "code",
   "execution_count": 16,
   "id": "dee9795c",
   "metadata": {},
   "outputs": [
    {
     "name": "stdout",
     "output_type": "stream",
     "text": [
      "dict_keys([1, 2, 3, 4, 5, 6, 7, 0])\n"
     ]
    }
   ],
   "source": [
    "from collections import Counter\n",
    "items = Counter(y).keys()\n",
    "print(items)"
   ]
  },
  {
   "cell_type": "code",
   "execution_count": 17,
   "id": "f9ac0596",
   "metadata": {
    "scrolled": false
   },
   "outputs": [
    {
     "data": {
      "text/plain": [
       "Class\n",
       "Transaction      304\n",
       "accounts         314\n",
       "cards            403\n",
       "fundstransfer     14\n",
       "insurance        469\n",
       "investments      140\n",
       "loans            375\n",
       "security          57\n",
       "dtype: int64"
      ]
     },
     "execution_count": 17,
     "metadata": {},
     "output_type": "execute_result"
    }
   ],
   "source": [
    "df.groupby('Class').size()"
   ]
  },
  {
   "cell_type": "markdown",
   "id": "5bc6dc4d",
   "metadata": {},
   "source": [
    "# APPLYING TF-IDF TO CONVERT TEXT TO NUMBERS"
   ]
  },
  {
   "cell_type": "code",
   "execution_count": 18,
   "id": "26c9e0a9",
   "metadata": {},
   "outputs": [],
   "source": [
    "tfv = TfidfVectorizer(min_df=1, stop_words='english')\n",
    "X=tfv.fit_transform(X)"
   ]
  },
  {
   "cell_type": "code",
   "execution_count": 19,
   "id": "1918eae7",
   "metadata": {},
   "outputs": [
    {
     "name": "stdout",
     "output_type": "stream",
     "text": [
      "(1, 1105)\n",
      "<class 'scipy.sparse._csr.csr_matrix'>\n"
     ]
    }
   ],
   "source": [
    "x=tfv.transform(['account are very important'])\n",
    "x\n",
    "print(x.shape)\n",
    "print(type(x))"
   ]
  },
  {
   "cell_type": "markdown",
   "id": "edac69fa",
   "metadata": {},
   "source": [
    "# Splitting dataset to train model"
   ]
  },
  {
   "cell_type": "code",
   "execution_count": 20,
   "id": "692fec6e",
   "metadata": {},
   "outputs": [],
   "source": [
    "from sklearn.model_selection import train_test_split\n",
    "X_train, X_test, y_train, y_test = train_test_split(X, y, test_size = 0.15, random_state = 0)"
   ]
  },
  {
   "cell_type": "code",
   "execution_count": 21,
   "id": "1d62a65f",
   "metadata": {},
   "outputs": [
    {
     "name": "stdout",
     "output_type": "stream",
     "text": [
      "(1764, 1105)\n",
      "(1764,)\n",
      "(312, 1105)\n",
      "(312,)\n"
     ]
    }
   ],
   "source": [
    "print(X_train.shape)\n",
    "print(y_train.shape)\n",
    "print(X_test.shape)\n",
    "print(y_test.shape)"
   ]
  },
  {
   "cell_type": "markdown",
   "id": "e7f81849",
   "metadata": {},
   "source": [
    "# Training Model to predict the class of the query"
   ]
  },
  {
   "cell_type": "code",
   "execution_count": 22,
   "id": "4b5932d6",
   "metadata": {},
   "outputs": [
    {
     "name": "stdout",
     "output_type": "stream",
     "text": [
      "SVC: 0.9391025641025641\n"
     ]
    }
   ],
   "source": [
    "model = SVC(kernel='linear')\n",
    "model.fit(X_train, y_train)\n",
    "print(\"SVC:\", model.score(X_test, y_test))"
   ]
  },
  {
   "cell_type": "code",
   "execution_count": 23,
   "id": "5b1c2339",
   "metadata": {},
   "outputs": [],
   "source": [
    "y_pred=model.predict(X_test)"
   ]
  },
  {
   "cell_type": "code",
   "execution_count": 24,
   "id": "2a8f9ed8",
   "metadata": {},
   "outputs": [
    {
     "name": "stdout",
     "output_type": "stream",
     "text": [
      "93.91025641025641\n",
      "              precision    recall  f1-score   support\n",
      "\n",
      "           0       0.96      1.00      0.98        50\n",
      "           1       0.93      0.86      0.90        50\n",
      "           2       1.00      0.93      0.96        55\n",
      "           3       1.00      1.00      1.00         2\n",
      "           4       0.90      0.97      0.94        75\n",
      "           5       0.83      0.83      0.83        12\n",
      "           6       0.95      0.95      0.95        61\n",
      "           7       0.86      0.86      0.86         7\n",
      "\n",
      "    accuracy                           0.94       312\n",
      "   macro avg       0.93      0.93      0.93       312\n",
      "weighted avg       0.94      0.94      0.94       312\n",
      "\n"
     ]
    }
   ],
   "source": [
    "#Creating the confusion matrix and checking the accuracy\n",
    "cm=confusion_matrix(y_test,y_pred)\n",
    "acc=accuracy_score(y_test,y_pred)\n",
    "print(acc*100)\n",
    "print (classification_report(y_test, y_pred) )"
   ]
  },
  {
   "cell_type": "code",
   "execution_count": 25,
   "id": "aebec8af",
   "metadata": {},
   "outputs": [
    {
     "data": {
      "image/png": "[encoded data removed]",
      "text/plain": [
       "<Figure size 360x360 with 1 Axes>"
      ]
     },
     "metadata": {
      "needs_background": "light"
     },
     "output_type": "display_data"
    }
   ],
   "source": [
    "import matplotlib.pyplot as plt\n",
    "fig, ax = plt.subplots(figsize=(5, 5))\n",
    "ax.matshow(cm, cmap=plt.cm.Oranges, alpha=0.3)\n",
    "for i in range(cm.shape[0]):\n",
    "    for j in range(cm.shape[1]):\n",
    "        ax.text(x=j, y=i,s=cm[i, j], va='center', ha='center', size='xx-large')\n",
    " \n",
    "plt.xlabel('Predictions', fontsize=18)\n",
    "plt.ylabel('Actuals', fontsize=18)\n",
    "plt.title('Confusion Matrix', fontsize=18)\n",
    "plt.show()\n"
   ]
  },
  {
   "cell_type": "markdown",
   "id": "2d14bd30",
   "metadata": {},
   "source": [
    "# Creating a Function which will return the response to query"
   ]
  },
  {
   "cell_type": "code",
   "execution_count": 26,
   "id": "4b9b6cd5",
   "metadata": {},
   "outputs": [],
   "source": [
    "def get_max5(arr):\n",
    "    ixarr = []\n",
    "    for ix, el in enumerate(arr):\n",
    "        ixarr.append((el, ix))\n",
    "    ixarr.sort()\n",
    "    ixs = []\n",
    "    for i in ixarr[-5:]:\n",
    "        ixs.append(i[1])\n",
    "    return ixs[::-1]\n",
    "\n",
    "def get_response(usrText):\n",
    "    while True:\n",
    "        if usrText.lower() == \"bye\":\n",
    "            return \"Bye\"\n",
    "        GREETING_INPUTS = [\"hello\", \"hi\", \"greetings\", \"sup\", \"what's up\", \"hey\",\"hiii\",\"hii\",\"yo\"]\n",
    "        a = [x.lower() for x in GREETING_INPUTS]\n",
    "        sd=[\"Thanks\",\"Welcome\"]\n",
    "        d = [x.lower() for x in sd]\n",
    "        am=[\"OK\"]\n",
    "        c = [x.lower() for x in am]\n",
    "        qurstr=cleanup(usrText.strip().lower())\n",
    "        t_usr = tfv.transform([cleanup(usrText)])\n",
    "#         print(model.predict(t_usr))\n",
    "#         print('----')\n",
    "        class_ = le.inverse_transform(model.predict(t_usr))\n",
    "#         print(class_)\n",
    "        questionset = df[df['Class'].values == class_]\n",
    "        \n",
    "        cos_sims = []\n",
    "        for question in questionset['Question']:\n",
    "#             print(question,end=' ')\n",
    "            sims = cosine_similarity(tfv.transform([question]), t_usr)\n",
    "#             print(sims)\n",
    "            cos_sims.append(sims)\n",
    "        \n",
    "        \n",
    "        ind = cos_sims.index(max(cos_sims))\n",
    "        b = [questionset.index[ind]]\n",
    "        \n",
    "        if usrText.lower() in a:\n",
    "\n",
    "            return (\"Hi, I'm Emily!\\U0001F60A\")\n",
    "\n",
    "        if usrText.lower() in c:\n",
    "            return \"Ok...Alright!\\U0001F64C\"\n",
    "\n",
    "        if usrText.lower() in d:\n",
    "            return (\"My pleasure! \\U0001F607\")\n",
    "\n",
    "        if max(cos_sims) > [[0.]]:\n",
    "            a = df['Answer'][questionset.index[ind]]\n",
    "            if class_=='Transaction':\n",
    "                return sqlquery(a,usrText,qurstr)\n",
    "            else:\n",
    "                return a\n",
    "        elif max(cos_sims)==[[0.]]:\n",
    "           return \"sorry! \\U0001F605\""
   ]
  },
  {
   "cell_type": "markdown",
   "id": "2def3b1b",
   "metadata": {},
   "source": [
    "# asking query "
   ]
  },
  {
   "cell_type": "code",
   "execution_count": 27,
   "id": "9ca96fdf",
   "metadata": {},
   "outputs": [
    {
     "data": {
      "text/plain": [
       "'No policy loans are available for this product.'"
      ]
     },
     "execution_count": 27,
     "metadata": {},
     "output_type": "execute_result"
    }
   ],
   "source": [
    "get_response('loan policy')"
   ]
  },
  {
   "cell_type": "code",
   "execution_count": 28,
   "id": "f51b3c46",
   "metadata": {},
   "outputs": [
    {
     "data": {
      "text/plain": [
       "'Credila provides education loan to Indian students for higher studies in India and abroad. Credila has funded Indian students for pursuing higher studies in over 2000 institutes across 36 countries.'"
      ]
     },
     "execution_count": 28,
     "metadata": {},
     "output_type": "execute_result"
    }
   ],
   "source": [
    "get_response('How can i apply for a loan')"
   ]
  },
  {
   "cell_type": "code",
   "execution_count": 29,
   "id": "1d0cbdc6",
   "metadata": {},
   "outputs": [
    {
     "data": {
      "text/plain": [
       "'The indicative time taken for the realization of outstation cheques is given below: Cheques drawn where M&N  Bank has a branch, credit will be given on receipt of clear funds in: Main metro locations (Mumbai, Chennai, Kolkata, New Delhi): 7 working days Metro centers and state capitals (other than those of North Eastern states and Sikkim): Maximum period of 10 working days. In all other centres where we have branches: maximum period of 14 working days. Cheques drawn on non-branch locations where we have a tie-up with correspondent banks, credit will be given on receipt of clear funds: Within a maximum period of 14 working days Cheques drawn on non-branch locations where we do not have a tie-up with correspondent banks, credit will be given on receipt of clear funds: Within a maximum period of 14 working days For more details on the outstation cheque collection policy, click here. For other queries, Contact Us. View more'"
      ]
     },
     "execution_count": 29,
     "metadata": {},
     "output_type": "execute_result"
    }
   ],
   "source": [
    "get_response('document required to open a bank account')"
   ]
  },
  {
   "cell_type": "code",
   "execution_count": 30,
   "id": "93481693",
   "metadata": {},
   "outputs": [
    {
     "data": {
      "text/plain": [
       "'The indicative time taken for the realization of outstation cheques is given below: Cheques drawn where M&N  Bank has a branch, credit will be given on receipt of clear funds in: Main metro locations (Mumbai, Chennai, Kolkata, New Delhi): 7 working days Metro centers and state capitals (other than those of North Eastern states and Sikkim): Maximum period of 10 working days. In all other centres where we have branches: maximum period of 14 working days. Cheques drawn on non-branch locations where we have a tie-up with correspondent banks, credit will be given on receipt of clear funds: Within a maximum period of 14 working days Cheques drawn on non-branch locations where we do not have a tie-up with correspondent banks, credit will be given on receipt of clear funds: Within a maximum period of 14 working days For more details on the outstation cheque collection policy, click here. For other queries, Contact Us. View more'"
      ]
     },
     "execution_count": 30,
     "metadata": {},
     "output_type": "execute_result"
    }
   ],
   "source": [
    "get_response('process to open a bank account')"
   ]
  },
  {
   "cell_type": "markdown",
   "id": "9eccd0f6",
   "metadata": {},
   "source": [
    "# creating a sql query function which will deal with transaction related query of the customer"
   ]
  },
  {
   "cell_type": "code",
   "execution_count": 61,
   "id": "d44bbf1d",
   "metadata": {},
   "outputs": [],
   "source": [
    "def sqlquery(qr,a,b):\n",
    "    mydb= sql.connect(\n",
    "     host='localhost',\n",
    "     user='root',\n",
    "     passwd=\"Sahil@123\",\n",
    "     database='chatbotdb',\n",
    "     use_pure= True\n",
    "    )\n",
    "    userid= \"1\"\n",
    "    cur= mydb.cursor()\n",
    "    query = qr\n",
    "#     print(query)\n",
    "    allMonths = ['january', 'february', 'march', 'april', 'may', 'june', 'july', 'august', 'september', 'october', 'november', 'december']\n",
    "    monthArg=[]\n",
    "    yearArg=[]\n",
    "    #have to handle inputList\n",
    "    inputList=[]\n",
    "    for inp in inputList:\n",
    "        if inp.lower() in allMonths:\n",
    "            monthArg.append(inp.lower())\n",
    "        elif inp.isnumeric() and len(inp)==4:\n",
    "            yearArg.append(int(inp))\n",
    "    if len(yearArg)==2 and yearArg[0]>yearArg[1]:\n",
    "        return \"Invalid Date Range\"\n",
    "    while len(monthArg)<2:\n",
    "        monthArg.append(\"Dummy_Value\")\n",
    "    while len(yearArg)<2:\n",
    "        yearArg.append(\"Dummy_Value\")\n",
    "    \n",
    "    #monthArg and YearArg are two list which will keep the information taken out from query\n",
    "    #We will keep the size of these two list as 2(Will pad with 0 if needed)\n",
    "    query=query.replace(\"userIdArg\", userid)\n",
    "    query=query.replace(\"month1Arg\", monthArg[0])\n",
    "    query=query.replace(\"month2Arg\", monthArg[1])\n",
    "    query=query.replace(\"year1Arg\", yearArg[0])\n",
    "    query=query.replace(\"year2Arg\", yearArg[1])\n",
    "    \n",
    "\n",
    "    cur.execute(query)\n",
    "    data_bases = cur.fetchall()\n",
    "#     print(type(data_bases))\n",
    "    return data_bases"
   ]
  },
  {
   "cell_type": "markdown",
   "id": "1dece82e",
   "metadata": {},
   "source": [
    "# creating a virtual interface to check if it is working "
   ]
  },
  {
   "cell_type": "code",
   "execution_count": 62,
   "id": "781a5c4a",
   "metadata": {},
   "outputs": [
    {
     "name": "stdout",
     "output_type": "stream",
     "text": [
      "Enter your user id and password\n",
      "1\n",
      "john\n",
      "Hello John\n",
      "current balance\n",
      "(2500,)\n",
      "show my transactions\n",
      "('1', '1', 10001, datetime.datetime(2022, 1, 15, 0, 0), 'Deposit', 1000, 'Grocery Store', 'Credit Card')\n",
      "('11', '1', 10001, datetime.datetime(2022, 3, 5, 0, 0), 'Withdrawal', 500, 'ATM', 'Debit Card')\n",
      "('16', '1', 10001, datetime.datetime(2022, 2, 20, 0, 0), 'Deposit', 2000, 'Retail Store', 'Credit Card')\n",
      "('21', '1', 10001, datetime.datetime(2022, 1, 15, 0, 0), 'Deposit', 1000, 'Grocery Store', 'Credit Card')\n",
      "('26', '1', 10001, datetime.datetime(2022, 2, 1, 0, 0), 'Deposit', 800, 'Retail Store', 'Debit Card')\n",
      "('31', '1', 10001, datetime.datetime(2022, 3, 5, 0, 0), 'Withdrawal', 500, 'ATM', 'Debit Card')\n",
      "('36', '1', 10001, datetime.datetime(2022, 2, 20, 0, 0), 'Deposit', 2000, 'Retail Store', 'Credit Card')\n",
      "('6', '1', 10001, datetime.datetime(2022, 2, 1, 0, 0), 'Deposit', 800, 'Retail Store', 'Debit Card')\n",
      "thanks\n",
      "You are Welcome\n"
     ]
    }
   ],
   "source": [
    "flag= True\n",
    "print(\"Enter your user id and password\")\n",
    "userid=input()\n",
    "passwd=input()\n",
    "passwd= \"'\" + passwd +\"'\"\n",
    "# print(passwd)\n",
    "# print(type(passwd))\n",
    "mydb= sql.connect(\n",
    "     host='localhost',\n",
    "     user='root',\n",
    "     passwd=\"Sahil@123\",\n",
    "     database='chatbotdb',\n",
    "     use_pure= True\n",
    ")\n",
    "cur= mydb.cursor()\n",
    "\n",
    "query= 'select count(*) from user where user_id='+ userid +' and first_name='+ passwd\n",
    "# print(query)\n",
    "cur.execute(query)\n",
    "\n",
    "data_bases = cur.fetchall()\n",
    "if(data_bases[0][0]==1):\n",
    "    query= 'select * from user where user_id='+userid+' and first_name='+passwd\n",
    "    cur.execute(query)\n",
    "\n",
    "    data_bases = cur.fetchall()\n",
    "    print('Hello', data_bases[0][2])\n",
    "    flag=True\n",
    "else:\n",
    "    print('Wrong Credentials')\n",
    "\n",
    "\n",
    "while(flag==True):\n",
    "    user_response=input()\n",
    "    user_response=user_response.lower()\n",
    "    if(user_response!='bye'):\n",
    "        if(user_response=='thanks'):\n",
    "            flag=False\n",
    "            print('You are Welcome')\n",
    "        else:\n",
    "            a=get_response(user_response)\n",
    "            for i in range(len(a)):\n",
    "                print(a[i])\n",
    "    else:\n",
    "        flag=False\n",
    "        print('take care')"
   ]
  },
  {
   "cell_type": "code",
   "execution_count": null,
   "id": "22f19eb2",
   "metadata": {},
   "outputs": [],
   "source": []
  },
  {
   "cell_type": "code",
   "execution_count": null,
   "id": "1346b1cb",
   "metadata": {},
   "outputs": [],
   "source": []
  },
  {
   "cell_type": "code",
   "execution_count": null,
   "id": "93fde972",
   "metadata": {},
   "outputs": [],
   "source": []
  },
  {
   "cell_type": "code",
   "execution_count": null,
   "id": "6f72b298",
   "metadata": {},
   "outputs": [],
   "source": []
  },
  {
   "cell_type": "code",
   "execution_count": null,
   "id": "e11f33ce",
   "metadata": {},
   "outputs": [],
   "source": []
  }
 ],
 "metadata": {
  "kernelspec": {
   "display_name": "Python 3",
   "language": "python",
   "name": "python3"
  },
  "language_info": {
   "codemirror_mode": {
    "name": "ipython",
    "version": 3
   },
   "file_extension": ".py",
   "mimetype": "text/x-python",
   "name": "python",
   "nbconvert_exporter": "python",
   "pygments_lexer": "ipython3",
   "version": "3.8.8"
  }
 },
 "nbformat": 4,
 "nbformat_minor": 5
}
