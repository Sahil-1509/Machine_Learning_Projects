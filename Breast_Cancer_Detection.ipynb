{
 "cells": [
  {
   "cell_type": "code",
   "execution_count": 22,
   "id": "5e0dab55",
   "metadata": {},
   "outputs": [],
   "source": [
    "import numpy as np\n",
    "import pandas as pd\n",
    "import matplotlib.pyplot as plt\n",
    "import seaborn as sns\n",
    "from sklearn import preprocessing\n",
    "from sklearn.neighbors import KNeighborsClassifier\n",
    "from sklearn.svm import SVC\n",
    "from sklearn import model_selection\n",
    "from sklearn.metrics import classification_report,accuracy_score\n",
    "from pandas.plotting import scatter_matrix\n",
    "from sklearn.metrics import precision_score\n"
   ]
  },
  {
   "cell_type": "code",
   "execution_count": 23,
   "id": "fdafa160",
   "metadata": {},
   "outputs": [],
   "source": [
    "url = \"https://archive.ics.uci.edu/ml/machine-learning-databases/breast-cancer-wisconsin/breast-cancer-wisconsin.data\"\n",
    "names = [\"id\",\"clump_thickness\",\"uniform_cell_size\",\"uniform_cell_shape\",\"marginal_adhesion\",\"single_epithelial_size\",\n",
    "         \"bare_nulcei\",\"bland_chromatin\",\"normal_nuclei\",\"mitoses\",\"class\"]\n",
    "Data = pd.read_csv(url,names=names)"
   ]
  },
  {
   "cell_type": "code",
   "execution_count": 24,
   "id": "3daf9f06",
   "metadata": {},
   "outputs": [
    {
     "name": "stdout",
     "output_type": "stream",
     "text": [
      "[RangeIndex(start=0, stop=699, step=1), Index(['id', 'clump_thickness', 'uniform_cell_size', 'uniform_cell_shape',\n",
      "       'marginal_adhesion', 'single_epithelial_size', 'bare_nulcei',\n",
      "       'bland_chromatin', 'normal_nuclei', 'mitoses', 'class'],\n",
      "      dtype='object')]\n",
      "(699, 10)\n"
     ]
    }
   ],
   "source": [
    "Data.replace('?', -99999, inplace=True)\n",
    "print(Data.axes)\n",
    "Data.drop(['id'], 1, inplace=True)\n",
    "\n",
    "print(Data.shape)"
   ]
  },
  {
   "cell_type": "code",
   "execution_count": 25,
   "id": "b97dd753",
   "metadata": {},
   "outputs": [
    {
     "name": "stdout",
     "output_type": "stream",
     "text": [
      "clump_thickness           5\n",
      "uniform_cell_size         1\n",
      "uniform_cell_shape        1\n",
      "marginal_adhesion         1\n",
      "single_epithelial_size    2\n",
      "bare_nulcei               1\n",
      "bland_chromatin           3\n",
      "normal_nuclei             1\n",
      "mitoses                   1\n",
      "class                     2\n",
      "Name: 0, dtype: object\n",
      "       clump_thickness  uniform_cell_size  uniform_cell_shape  \\\n",
      "count       699.000000         699.000000          699.000000   \n",
      "mean          4.417740           3.134478            3.207439   \n",
      "std           2.815741           3.051459            2.971913   \n",
      "min           1.000000           1.000000            1.000000   \n",
      "25%           2.000000           1.000000            1.000000   \n",
      "50%           4.000000           1.000000            1.000000   \n",
      "75%           6.000000           5.000000            5.000000   \n",
      "max          10.000000          10.000000           10.000000   \n",
      "\n",
      "       marginal_adhesion  single_epithelial_size  bland_chromatin  \\\n",
      "count         699.000000              699.000000       699.000000   \n",
      "mean            2.806867                3.216023         3.437768   \n",
      "std             2.855379                2.214300         2.438364   \n",
      "min             1.000000                1.000000         1.000000   \n",
      "25%             1.000000                2.000000         2.000000   \n",
      "50%             1.000000                2.000000         3.000000   \n",
      "75%             4.000000                4.000000         5.000000   \n",
      "max            10.000000               10.000000        10.000000   \n",
      "\n",
      "       normal_nuclei     mitoses       class  \n",
      "count     699.000000  699.000000  699.000000  \n",
      "mean        2.866953    1.589413    2.689557  \n",
      "std         3.053634    1.715078    0.951273  \n",
      "min         1.000000    1.000000    2.000000  \n",
      "25%         1.000000    1.000000    2.000000  \n",
      "50%         1.000000    1.000000    2.000000  \n",
      "75%         4.000000    1.000000    4.000000  \n",
      "max        10.000000   10.000000    4.000000  \n"
     ]
    }
   ],
   "source": [
    "print(Data.loc[0])\n",
    "print(Data.describe())"
   ]
  },
  {
   "cell_type": "code",
   "execution_count": 26,
   "id": "b8945c87",
   "metadata": {},
   "outputs": [
    {
     "data": {
      "image/png": "[encoded data removed]",
      "text/plain": [
       "<Figure size 720x720 with 9 Axes>"
      ]
     },
     "metadata": {
      "needs_background": "light"
     },
     "output_type": "display_data"
    }
   ],
   "source": [
    "Data.hist(figsize=(10,10))\n",
    "plt.show()"
   ]
  },
  {
   "cell_type": "code",
   "execution_count": 27,
   "id": "bc2430ee",
   "metadata": {},
   "outputs": [],
   "source": [
    "X=np.array(Data.drop(['class'],1))\n",
    "y=np.array(Data['class'])\n",
    "\n",
    "X_train,X_test,y_train,y_test = model_selection.train_test_split(X,y,test_size=0.2)"
   ]
  },
  {
   "cell_type": "code",
   "execution_count": 28,
   "id": "a5a0ec5e",
   "metadata": {},
   "outputs": [],
   "source": [
    "seed=8\n",
    "scoring='accuracy'"
   ]
  },
  {
   "cell_type": "code",
   "execution_count": 29,
   "id": "753a01d6",
   "metadata": {},
   "outputs": [],
   "source": [
    "models=[]\n",
    "models.append(('KNN',KNeighborsClassifier(n_neighbors=5)))\n",
    "models.append(('SVM',SVC()))"
   ]
  },
  {
   "cell_type": "code",
   "execution_count": 30,
   "id": "8b050440",
   "metadata": {},
   "outputs": [
    {
     "name": "stdout",
     "output_type": "stream",
     "text": [
      "KNN: 0.964065  (0.037917)\n",
      "SVM: 0.665215  (0.088384)\n"
     ]
    }
   ],
   "source": [
    "results = []\n",
    "names = []\n",
    "\n",
    "for name,model in models:\n",
    "    kfold = model_selection.KFold(n_splits=19,shuffle=True,random_state=seed)\n",
    "    cv_results = model_selection.cross_val_score(model,X_train,y_train,cv=kfold,scoring=scoring)\n",
    "    results.append(cv_results)\n",
    "    names.append(name)\n",
    "    \n",
    "    msg = \"%s: %f  (%f)\" % (name,cv_results.mean(),cv_results.std())\n",
    "    print(msg)\n"
   ]
  },
  {
   "cell_type": "code",
   "execution_count": 31,
   "id": "e18654ed",
   "metadata": {},
   "outputs": [
    {
     "name": "stdout",
     "output_type": "stream",
     "text": [
      "KNN\n",
      "0.9857142857142858\n",
      "              precision    recall  f1-score   support\n",
      "\n",
      "           2       1.00      0.98      0.99        86\n",
      "           4       0.96      1.00      0.98        54\n",
      "\n",
      "    accuracy                           0.99       140\n",
      "   macro avg       0.98      0.99      0.99       140\n",
      "weighted avg       0.99      0.99      0.99       140\n",
      "\n",
      "SVM\n",
      "0.6142857142857143\n",
      "              precision    recall  f1-score   support\n",
      "\n",
      "           2       0.61      1.00      0.76        86\n",
      "           4       1.00      0.00      0.00        54\n",
      "\n",
      "    accuracy                           0.61       140\n",
      "   macro avg       0.81      0.50      0.38       140\n",
      "weighted avg       0.76      0.61      0.47       140\n",
      "\n"
     ]
    }
   ],
   "source": [
    "for name,model in models:\n",
    "    model.fit(X_train,y_train)\n",
    "    predictions=model.predict(X_test)\n",
    "    print(name)\n",
    "    print(accuracy_score(y_test,predictions))\n",
    "    print(classification_report(y_test,predictions, zero_division=1))"
   ]
  },
  {
   "cell_type": "code",
   "execution_count": null,
   "id": "e62ea74a",
   "metadata": {},
   "outputs": [],
   "source": []
  }
 ],
 "metadata": {
  "kernelspec": {
   "display_name": "Python 3",
   "language": "python",
   "name": "python3"
  },
  "language_info": {
   "codemirror_mode": {
    "name": "ipython",
    "version": 3
   },
   "file_extension": ".py",
   "mimetype": "text/x-python",
   "name": "python",
   "nbconvert_exporter": "python",
   "pygments_lexer": "ipython3",
   "version": "3.8.8"
  }
 },
 "nbformat": 4,
 "nbformat_minor": 5
}
