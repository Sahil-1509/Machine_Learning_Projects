{
  "cells": [
    {
      "cell_type": "markdown",
      "metadata": {
        "id": "view-in-github",
        "colab_type": "text"
      },
      "source": [
        "<a href=\"https://colab.research.google.com/github/Sahil-1509/Machine_Learning_Projects/blob/main/Rumour_Verification_.ipynb\" target=\"_parent\"><img src=\"https://colab.research.google.com/assets/colab-badge.svg\" alt=\"Open In Colab\"/></a>"
      ]
    },
    {
      "cell_type": "code",
      "execution_count": null,
      "metadata": {
        "colab": {
          "base_uri": "https://localhost:8080/"
        },
        "id": "U86l4I4tSSp-",
        "outputId": "71a9af04-fd95-4c13-d283-3a4ecb19d93b"
      },
      "outputs": [
        {
          "output_type": "stream",
          "name": "stdout",
          "text": [
            "[nltk_data] Downloading package stopwords to /root/nltk_data...\n",
            "[nltk_data]   Unzipping corpora/stopwords.zip.\n",
            "[nltk_data] Downloading package wordnet to /root/nltk_data...\n",
            "[nltk_data]   Unzipping corpora/wordnet.zip.\n",
            "[nltk_data] Downloading package punkt to /root/nltk_data...\n",
            "[nltk_data]   Unzipping tokenizers/punkt.zip.\n"
          ]
        }
      ],
      "source": [
        "import numpy as np\n",
        "import matplotlib.pyplot as plt\n",
        "import pandas as pd\n",
        "import re\n",
        "import nltk\n",
        "from tensorflow import keras\n",
        "from gensim.models import Word2Vec\n",
        "nltk.download('stopwords')\n",
        "nltk.download('wordnet')\n",
        "nltk.download('punkt')\n",
        "from nltk.corpus import stopwords\n",
        "from nltk.stem.porter import PorterStemmer\n",
        "from nltk.stem import WordNetLemmatizer\n",
        "from nltk.tokenize import PunktSentenceTokenizer\n",
        "from sklearn.metrics import confusion_matrix, accuracy_score\n",
        "import tensorflow as tf"
      ]
    },
    {
      "cell_type": "code",
      "execution_count": null,
      "metadata": {
        "colab": {
          "base_uri": "https://localhost:8080/"
        },
        "id": "J_wrFmu_r4Y1",
        "outputId": "1f9c18d5-935e-4709-faf1-38ebf27e4a92"
      },
      "outputs": [
        {
          "output_type": "stream",
          "name": "stdout",
          "text": [
            "      731166399389962242  \\\n",
            "0     714598641827246081   \n",
            "1     691809004356501505   \n",
            "2     693204708933160960   \n",
            "3     551099691702956032   \n",
            "4     767223774072676354   \n",
            "...                  ...   \n",
            "1484  692004901455556608   \n",
            "1485  760109079133990912   \n",
            "1486  500281131057811456   \n",
            "1487  523098334421319680   \n",
            "1488  523545090099523584   \n",
            "\n",
            "     🔥ca kkk grand wizard 🔥 endorses @hillaryclinton #neverhillary #trump2016 URL  \n",
            "0     an open letter to trump voters from his top st...                            \n",
            "1     america is a nation of second chances —@potus ...                            \n",
            "2     brandon marshall visits and offers advice, sup...                            \n",
            "3     rip elly may clampett: so sad to learn #beverl...                            \n",
            "4     former 3 doors down guitarist matt roberts has...                            \n",
            "...                                                 ...                            \n",
            "1484  .@potus just announced new reforms to address ...                            \n",
            "1485                    “after school satan clubs”? URL                            \n",
            "1486  breaking news: according to documents released...                            \n",
            "1487                   ebola vaccines? URL #news #today                            \n",
            "1488  concerned airport passenger suits up in homema...                            \n",
            "\n",
            "[1489 rows x 2 columns]\n"
          ]
        }
      ],
      "source": [
        "read_file = pd.read_table('source_tweets.txt')\n",
        "read_file.to_csv (r'source_tweets.csv', index=None)\n",
        "dataset_1 = pd.read_csv('source_tweets.csv')\n",
        "print(dataset_1)"
      ]
    },
    {
      "cell_type": "code",
      "execution_count": null,
      "metadata": {
        "id": "k_AcS-zTtVpI",
        "colab": {
          "base_uri": "https://localhost:8080/"
        },
        "outputId": "cca74d1f-c343-4f61-9025-2d3798335cc5"
      },
      "outputs": [
        {
          "output_type": "stream",
          "name": "stdout",
          "text": [
            "      unverified  731166399389962242\n",
            "0     unverified  714598641827246081\n",
            "1      non-rumor  691809004356501505\n",
            "2      non-rumor  693204708933160960\n",
            "3           true  551099691702956032\n",
            "4      non-rumor  767223774072676354\n",
            "...          ...                 ...\n",
            "1484   non-rumor  692004901455556608\n",
            "1485  unverified  760109079133990912\n",
            "1486  unverified  500281131057811456\n",
            "1487       false  523098334421319680\n",
            "1488  unverified  523545090099523584\n",
            "\n",
            "[1489 rows x 2 columns]\n"
          ]
        }
      ],
      "source": [
        "read_file = pd.read_table('label.txt')\n",
        "read_file.to_csv (r'label.csv', index=None)\n",
        "dataset_2 = pd.read_csv('label.csv',sep=':')\n",
        "print(dataset_2)"
      ]
    },
    {
      "cell_type": "code",
      "execution_count": null,
      "metadata": {
        "id": "mCG3oCNnvZwA",
        "colab": {
          "base_uri": "https://localhost:8080/"
        },
        "outputId": "f260a369-e2fd-4cb0-9de7-648c4bfd4f89"
      },
      "outputs": [
        {
          "output_type": "stream",
          "name": "stdout",
          "text": [
            "       answer            sourceid\n",
            "0  unverified  714598641827246081\n",
            "1   non-rumor  691809004356501505\n",
            "2   non-rumor  693204708933160960\n",
            "3        true  551099691702956032\n",
            "4   non-rumor  767223774072676354\n",
            "\n",
            "             sourceid                                             review\n",
            "0  714598641827246081  an open letter to trump voters from his top st...\n",
            "1  691809004356501505  america is a nation of second chances —@potus ...\n",
            "2  693204708933160960  brandon marshall visits and offers advice, sup...\n",
            "3  551099691702956032  rip elly may clampett: so sad to learn #beverl...\n",
            "4  767223774072676354  former 3 doors down guitarist matt roberts has...\n"
          ]
        }
      ],
      "source": [
        "headerList = ['answer','sourceid']\n",
        "dataset_2.to_csv(\"label.csv\", header=headerList, index=False)\n",
        "dataset_2 = pd.read_csv(\"label.csv\")\n",
        "print(dataset_2.head())\n",
        "print()\n",
        "headerList = ['sourceid','review']\n",
        "dataset_1.to_csv(\"source_tweets.csv\", header=headerList, index=False)\n",
        "dataset_1 = pd.read_csv(\"source_tweets.csv\")\n",
        "print(dataset_1.head())"
      ]
    },
    {
      "cell_type": "code",
      "execution_count": null,
      "metadata": {
        "id": "rwOWjlcEtrab",
        "colab": {
          "base_uri": "https://localhost:8080/"
        },
        "outputId": "632d3c45-0a79-4fe4-b741-2acc0148a6f0"
      },
      "outputs": [
        {
          "output_type": "stream",
          "name": "stdout",
          "text": [
            "21566\n",
            "1427\n"
          ]
        }
      ],
      "source": [
        "# dataset = pd.concat(map(pd.read_csv, ['source_tweets.csv', 'label.csv']),axis=1)\n",
        "dataset=pd.merge(dataset_1,dataset_2,on='sourceid')\n",
        "\n",
        "#counting total number of words\n",
        "print(sum(dataset['review'].str.count(' ')))\n",
        "#counting no of unique words\n",
        "print(dataset['review'].nunique())"
      ]
    },
    {
      "cell_type": "code",
      "execution_count": null,
      "metadata": {
        "id": "rphI3U9abWYC",
        "colab": {
          "base_uri": "https://localhost:8080/"
        },
        "outputId": "2cfd601e-f7b3-4510-9819-9472112dd5cf"
      },
      "outputs": [
        {
          "output_type": "stream",
          "name": "stdout",
          "text": [
            "0       12\n",
            "1       15\n",
            "2       15\n",
            "3       15\n",
            "4       17\n",
            "        ..\n",
            "1484    13\n",
            "1485     4\n",
            "1486    17\n",
            "1487     4\n",
            "1488    11\n",
            "Name: review, Length: 1489, dtype: int64\n",
            "28\n",
            "14.48354600402955\n"
          ]
        }
      ],
      "source": [
        "print((dataset['review'].str.count(' ')))\n",
        "print(max(dataset['review'].str.count(' ')))\n",
        "print(sum(dataset['review'].str.count(' '))/len(dataset))"
      ]
    },
    {
      "cell_type": "code",
      "execution_count": null,
      "metadata": {
        "id": "UHNzT9lP_zfG",
        "colab": {
          "base_uri": "https://localhost:8080/"
        },
        "outputId": "ab9871a7-3c01-4aa0-a46e-06054eb75b17"
      },
      "outputs": [
        {
          "output_type": "execute_result",
          "data": {
            "text/plain": [
              "             sourceid                                             review  \\\n",
              "0  714598641827246081  an open letter to trump voters from his top st...   \n",
              "1  691809004356501505  america is a nation of second chances —@potus ...   \n",
              "2  693204708933160960  brandon marshall visits and offers advice, sup...   \n",
              "3  551099691702956032  rip elly may clampett: so sad to learn #beverl...   \n",
              "4  767223774072676354  former 3 doors down guitarist matt roberts has...   \n",
              "\n",
              "       answer  \n",
              "0  unverified  \n",
              "1   non-rumor  \n",
              "2   non-rumor  \n",
              "3        true  \n",
              "4   non-rumor  "
            ],
            "text/html": [
              "\n",
              "  <div id=\"df-5114c3b5-4733-455a-a7b1-ceecccc876c9\">\n",
              "    <div class=\"colab-df-container\">\n",
              "      <div>\n",
              "<style scoped>\n",
              "    .dataframe tbody tr th:only-of-type {\n",
              "        vertical-align: middle;\n",
              "    }\n",
              "\n",
              "    .dataframe tbody tr th {\n",
              "        vertical-align: top;\n",
              "    }\n",
              "\n",
              "    .dataframe thead th {\n",
              "        text-align: right;\n",
              "    }\n",
              "</style>\n",
              "<table border=\"1\" class=\"dataframe\">\n",
              "  <thead>\n",
              "    <tr style=\"text-align: right;\">\n",
              "      <th></th>\n",
              "      <th>sourceid</th>\n",
              "      <th>review</th>\n",
              "      <th>answer</th>\n",
              "    </tr>\n",
              "  </thead>\n",
              "  <tbody>\n",
              "    <tr>\n",
              "      <th>0</th>\n",
              "      <td>714598641827246081</td>\n",
              "      <td>an open letter to trump voters from his top st...</td>\n",
              "      <td>unverified</td>\n",
              "    </tr>\n",
              "    <tr>\n",
              "      <th>1</th>\n",
              "      <td>691809004356501505</td>\n",
              "      <td>america is a nation of second chances —@potus ...</td>\n",
              "      <td>non-rumor</td>\n",
              "    </tr>\n",
              "    <tr>\n",
              "      <th>2</th>\n",
              "      <td>693204708933160960</td>\n",
              "      <td>brandon marshall visits and offers advice, sup...</td>\n",
              "      <td>non-rumor</td>\n",
              "    </tr>\n",
              "    <tr>\n",
              "      <th>3</th>\n",
              "      <td>551099691702956032</td>\n",
              "      <td>rip elly may clampett: so sad to learn #beverl...</td>\n",
              "      <td>true</td>\n",
              "    </tr>\n",
              "    <tr>\n",
              "      <th>4</th>\n",
              "      <td>767223774072676354</td>\n",
              "      <td>former 3 doors down guitarist matt roberts has...</td>\n",
              "      <td>non-rumor</td>\n",
              "    </tr>\n",
              "  </tbody>\n",
              "</table>\n",
              "</div>\n",
              "      <button class=\"colab-df-convert\" onclick=\"convertToInteractive('df-5114c3b5-4733-455a-a7b1-ceecccc876c9')\"\n",
              "              title=\"Convert this dataframe to an interactive table.\"\n",
              "              style=\"display:none;\">\n",
              "        \n",
              "  <svg xmlns=\"http://www.w3.org/2000/svg\" height=\"24px\"viewBox=\"0 0 24 24\"\n",
              "       width=\"24px\">\n",
              "    <path d=\"M0 0h24v24H0V0z\" fill=\"none\"/>\n",
              "    <path d=\"M18.56 5.44l.94 2.06.94-2.06 2.06-.94-2.06-.94-.94-2.06-.94 2.06-2.06.94zm-11 1L8.5 8.5l.94-2.06 2.06-.94-2.06-.94L8.5 2.5l-.94 2.06-2.06.94zm10 10l.94 2.06.94-2.06 2.06-.94-2.06-.94-.94-2.06-.94 2.06-2.06.94z\"/><path d=\"M17.41 7.96l-1.37-1.37c-.4-.4-.92-.59-1.43-.59-.52 0-1.04.2-1.43.59L10.3 9.45l-7.72 7.72c-.78.78-.78 2.05 0 2.83L4 21.41c.39.39.9.59 1.41.59.51 0 1.02-.2 1.41-.59l7.78-7.78 2.81-2.81c.8-.78.8-2.07 0-2.86zM5.41 20L4 18.59l7.72-7.72 1.47 1.35L5.41 20z\"/>\n",
              "  </svg>\n",
              "      </button>\n",
              "      \n",
              "  <style>\n",
              "    .colab-df-container {\n",
              "      display:flex;\n",
              "      flex-wrap:wrap;\n",
              "      gap: 12px;\n",
              "    }\n",
              "\n",
              "    .colab-df-convert {\n",
              "      background-color: #E8F0FE;\n",
              "      border: none;\n",
              "      border-radius: 50%;\n",
              "      cursor: pointer;\n",
              "      display: none;\n",
              "      fill: #1967D2;\n",
              "      height: 32px;\n",
              "      padding: 0 0 0 0;\n",
              "      width: 32px;\n",
              "    }\n",
              "\n",
              "    .colab-df-convert:hover {\n",
              "      background-color: #E2EBFA;\n",
              "      box-shadow: 0px 1px 2px rgba(60, 64, 67, 0.3), 0px 1px 3px 1px rgba(60, 64, 67, 0.15);\n",
              "      fill: #174EA6;\n",
              "    }\n",
              "\n",
              "    [theme=dark] .colab-df-convert {\n",
              "      background-color: #3B4455;\n",
              "      fill: #D2E3FC;\n",
              "    }\n",
              "\n",
              "    [theme=dark] .colab-df-convert:hover {\n",
              "      background-color: #434B5C;\n",
              "      box-shadow: 0px 1px 3px 1px rgba(0, 0, 0, 0.15);\n",
              "      filter: drop-shadow(0px 1px 2px rgba(0, 0, 0, 0.3));\n",
              "      fill: #FFFFFF;\n",
              "    }\n",
              "  </style>\n",
              "\n",
              "      <script>\n",
              "        const buttonEl =\n",
              "          document.querySelector('#df-5114c3b5-4733-455a-a7b1-ceecccc876c9 button.colab-df-convert');\n",
              "        buttonEl.style.display =\n",
              "          google.colab.kernel.accessAllowed ? 'block' : 'none';\n",
              "\n",
              "        async function convertToInteractive(key) {\n",
              "          const element = document.querySelector('#df-5114c3b5-4733-455a-a7b1-ceecccc876c9');\n",
              "          const dataTable =\n",
              "            await google.colab.kernel.invokeFunction('convertToInteractive',\n",
              "                                                     [key], {});\n",
              "          if (!dataTable) return;\n",
              "\n",
              "          const docLinkHtml = 'Like what you see? Visit the ' +\n",
              "            '<a target=\"_blank\" href=https://colab.research.google.com/notebooks/data_table.ipynb>data table notebook</a>'\n",
              "            + ' to learn more about interactive tables.';\n",
              "          element.innerHTML = '';\n",
              "          dataTable['output_type'] = 'display_data';\n",
              "          await google.colab.output.renderOutput(dataTable, element);\n",
              "          const docLink = document.createElement('div');\n",
              "          docLink.innerHTML = docLinkHtml;\n",
              "          element.appendChild(docLink);\n",
              "        }\n",
              "      </script>\n",
              "    </div>\n",
              "  </div>\n",
              "  "
            ]
          },
          "metadata": {},
          "execution_count": 7
        }
      ],
      "source": [
        "dataset.head()"
      ]
    },
    {
      "cell_type": "markdown",
      "metadata": {
        "id": "cYC7We1AbVX-"
      },
      "source": [
        ""
      ]
    },
    {
      "cell_type": "code",
      "execution_count": null,
      "metadata": {
        "id": "_tQ79buytE3e",
        "colab": {
          "base_uri": "https://localhost:8080/"
        },
        "outputId": "8ca15c32-bc43-4f5f-b398-486109664470"
      },
      "outputs": [
        {
          "output_type": "stream",
          "name": "stderr",
          "text": [
            "/usr/local/lib/python3.7/dist-packages/ipykernel_launcher.py:11: SettingWithCopyWarning: \n",
            "A value is trying to be set on a copy of a slice from a DataFrame\n",
            "\n",
            "See the caveats in the documentation: https://pandas.pydata.org/pandas-docs/stable/user_guide/indexing.html#returning-a-view-versus-a-copy\n",
            "  # This is added back by InteractiveShellApp.init_path()\n"
          ]
        }
      ],
      "source": [
        "corpus=[]\n",
        "for i in range(len(dataset)):\n",
        "  review = re.sub('[^a-zA-Z]', ' ', dataset['review'][i])\n",
        "  review = review.lower()\n",
        "  review = review.split()\n",
        "  lemmatizer = WordNetLemmatizer()\n",
        "  all_stopwords = stopwords.words('english')\n",
        "  review = [lemmatizer.lemmatize(word) for word in review if not word in set(all_stopwords)]\n",
        "  corpus.append(review)  \n",
        "  review=' '.join(review)\n",
        "  dataset['review'][i]=review"
      ]
    },
    {
      "cell_type": "code",
      "execution_count": null,
      "metadata": {
        "id": "E0YhzND33L1t",
        "colab": {
          "base_uri": "https://localhost:8080/"
        },
        "outputId": "f02a4232-261d-4d21-e451-4f0b367b512d"
      },
      "outputs": [
        {
          "output_type": "stream",
          "name": "stdout",
          "text": [
            "Index(['sourceid', 'review', 'answer'], dtype='object')\n"
          ]
        }
      ],
      "source": [
        "dataset.head()\n",
        "print(dataset.columns)"
      ]
    },
    {
      "cell_type": "code",
      "execution_count": null,
      "metadata": {
        "id": "ljQcpgcYOwBV",
        "colab": {
          "base_uri": "https://localhost:8080/"
        },
        "outputId": "70a5343c-c333-4034-e0bd-17b230ec1bc1"
      },
      "outputs": [
        {
          "output_type": "stream",
          "name": "stdout",
          "text": [
            "0       open letter trump voter top strategist turned ...\n",
            "1       america nation second chance potus new reform ...\n",
            "2       brandon marshall visit offer advice support br...\n",
            "3       rip elly may clampett sad learn beverlyhillbil...\n",
            "4       former door guitarist matt robert died age acc...\n",
            "                              ...                        \n",
            "1484    potus announced new reform address overuse sol...\n",
            "1485                                school satan club url\n",
            "1486    breaking news according document released pres...\n",
            "1487                         ebola vaccine url news today\n",
            "1488    concerned airport passenger suit homemade hazm...\n",
            "Name: review, Length: 1489, dtype: object\n",
            "14584\n",
            "1416\n"
          ]
        }
      ],
      "source": [
        "print(dataset['review'])\n",
        "print(sum(dataset['review'].str.count(' ')))\n",
        "print(dataset['review'].nunique())"
      ]
    },
    {
      "cell_type": "code",
      "execution_count": null,
      "metadata": {
        "id": "xAWoKDr9LAKr",
        "colab": {
          "base_uri": "https://localhost:8080/"
        },
        "outputId": "b710c5da-7793-4899-aeac-891a2ca5c891"
      },
      "outputs": [
        {
          "output_type": "stream",
          "name": "stdout",
          "text": [
            "[['open', 'letter', 'trump', 'voter', 'top', 'strategist', 'turned', 'defector', 'url', 'via', 'xojanedotcom'], ['america', 'nation', 'second', 'chance', 'potus', 'new', 'reform', 'solitary', 'confinement', 'url', 'url'], ['brandon', 'marshall', 'visit', 'offer', 'advice', 'support', 'brother', 'fallen', 'hero', 'zaevion', 'dobson', 'url', 'url'], ['rip', 'elly', 'may', 'clampett', 'sad', 'learn', 'beverlyhillbillies', 'star', 'donna', 'douglas', 'passed', 'away', 'url'], ['former', 'door', 'guitarist', 'matt', 'robert', 'died', 'age', 'according', 'father', 'url', 'url'], ['craigslist', 'ad', 'get', 'paid', 'hour', 'protest', 'trump', 'rally', 'url', 'url'], ['missing', 'afghan', 'soldier', 'found', 'trying', 'enter', 'canada', 'near', 'niagara', 'fall', 'url', 'url'], ['day', 'ferguson', 'cop', 'told', 'dirty', 'bloody', 'lie', 'via', 'thedailybeast', 'url', 'url'], ['riphulkhogan', 'heart', 'ripping', 'like', 'shirt', 'wwe', 'miss'], ['chick', 'fil', 'manager', 'allegedly', 'banned', 'hilarious', 'list', 'slang', 'word', 'url', 'url'], ['islamic', 'tribunal', 'using', 'sharia', 'law', 'texas', 'confirmed', 'url', 'breitbartnews', 'url'], ['alpha', 'male', 'rt', 'marc', 'leibowitz', 'photo', 'vladimir', 'putin', 'motorcade', 'posted', 'without', 'comment', 'url'], ['mh', 'url', 'url'], ['shooter', 'still', 'loose', 'uniformed', 'soldier', 'shot', 'ottawa', 'war', 'memorial', 'across', 'road', 'parliament', 'mp', 'taken', 'office'], ['report', 'american', 'fifth', 'grader', 'taking', 'gap', 'year', 'unwind', 'middle', 'school', 'url', 'url'], ['woman', 'ferguson', 'shot', 'head', 'last', 'night', 'released', 'selfie', 'conflicting', 'report', 'happened', 'url'], ['report', 'amazon', 'plan', 'open', 'first', 'physical', 'store', 'new', 'york', 'url'], ['keep', 'say', 'simone', 'bile', 'throwing', 'gold', 'medal', 'adoring', 'men', 'gymnastics', 'team', 'url', 'rio', 'url'], ['let', 'let', 'friend', 'know', 'state', 'senator', 'south', 'carolina', 'stated', 'woman', 'lesser', 'cut', 'meat', 'chewonthis', 'url'], ['traditional', 'beer', 'authority', 'believe', 'poisoned', 'crocodile', 'bile', 'killed', 'people', 'mozambique', 'url'], ['nothing', 'see', 'nugget', 'forward', 'wilson', 'chandler', 'catching', 'pound', 'fish', 'url', 'url'], ['report', 'shooting', 'dammartin', 'en', 'goele', 'route', 'n', 'north', 'east', 'paris', 'french', 'medium', 'say', 'car', 'chase', 'way'], ['police', 'chief', 'helric', 'fredou', 'one', 'police', 'officer', 'investigating', 'case', 'charliehebdo', 'commits', 'suicide', 'url'], ['reminder', 'forget', 'robbery', 'forget', 'minor', 'looting', 'nothing', 'justifies', 'militarized', 'police', 'pointing', 'sniper', 'rifle', 'journalist', 'ferguson'], ['afghan', 'woman', 'picked', 'dead', 'son', 'gun', 'helped', 'kill', 'taliban', 'militant', 'save', 'village', 'url', 'url'], ['ferguson', 'hongkong', 'hongkongdemocracy', 'protest', 'adopt', 'hand', 'shoot', 'url'], ['seriously', 'racist', 'mcdonald', 'sign', 'obviously', 'hoax', 'url'], ['several', 'critical', 'condition', 'one', 'coma', 'clinical', 'trial', 'new', 'drug', 'france', 'health', 'minister', 'say', 'url'], ['omfg', 'read', 'personal', 'experience', 'talking', 'angela', 'url'], ['macklemore', 'delete', 'tweet', 'macklemorejoinedisis', 'url'], ['jackalltimelow', 'asking', 'watch', 'vma', 'weekendbrunch', 'starting', 'right', 'url'], ['paul', 'walker', 'died', 'fast', 'furious'], ['tupac', 'hiding', 'year', 'url'], ['putin', 'reappears', 'tv', 'amid', 'claim', 'unwell', 'threat', 'coup', 'url', 'url'], ['eagle', 'co', 'founder', 'glenn', 'frey', 'died', 'aged'], ['passenger', 'dulles', 'international', 'airport', 'spotted', 'wearing', 'homemade', 'hazmat', 'suit', 'via', 'dailycaller', 'ebola', 'url'], ['amber', 'alert', 'really', 'shutdown', 'b', 'c', 'lack', 'fund', 'obama', 'said', 'go', 'back', 'today', 'bad', 'pr', 'governmentshutdown'], ['raise', 'creative', 'child', 'step', 'one', 'back', 'url', 'url'], ['berniesanders', 'end', 'institutional', 'racism', 'reform', 'broken', 'criminal', 'justice', 'system', 'demdebate'], ['iraqi', 'official', 'say', 'isi', 'leader', 'wounded', 'airstrike', 'url'], ['baes', 'allowed', 'chick', 'fil', 'manager', 'ban', 'hip', 'word', 'url', 'url'], ['key', 'foley', 'beheading', 'suspect', 'abdel', 'majed', 'bary', 'left', 'west', 'london', 'home', 'last', 'year', 'url'], ['still', 'confused', 'highly', 'trained', 'individual', 'left', 'id', 'getaway', 'car', 'charliehebdo'], ['spend', 'whole', 'day', 'thinking', 'friday', 'url'], ['accident', 'aircraft', 'look', 'germanwings', 'airline', 'code', 'u', 'gwi', 'flight', 'barcelona', 'dusseldorf', 'u', 'url'], ['alaskan', 'reporter', 'say', 'f', 'ck', 'quits', 'live', 'tv', 'marijuana', 'legalization', 'protest', 'url', 'url'], ['ex', 'president', 'el', 'salvador', 'francisco', 'flores', 'dy', 'government', 'say', 'url', 'url'], ['transgender', 'teen', 'leelah', 'alcorn', 'publishes', 'suicide', 'note', 'tumblr', 'death', 'need', 'mean', 'something', 'url'], ['paul', 'walker', 'mourned', 'vin', 'diesel', 'fast', 'furious', 'co', 'star', 'url', 'rippaulwalker', 'url'], ['apparently', 'microsoft', 'trying', 'buy', 'mojang', 'creator', 'minecraft', 'around', 'billion'], ['nearly', 'k', 'black', 'murdered', 'last', 'yr', 'almost', 'black', 'tiny', 'unarmed', 'killed', 'cop', 'al', 'jesse', 'tcot', 'ferguson'], ['la', 'vega', 'raider', 'url', 'url'], ['poster', 'girl', 'kobane', 'resistance', 'reportedly', 'beheaded', 'sickening', 'url', 'rehana', 'kobane', 'url'], ['target', 'boycott', 'cross', 'million', 'signer', 'stock', 'sink', 'billion', 'url'], ['ca', 'grand', 'dragon', 'endorses', 'hillary', 'clinton', 'behalf', 'kkk', 'trump', 'url', 'url'], ['teenage', 'girl', 'made', 'migrant', 'rape', 'claim', 'caused', 'uproar', 'germany', 'url'], ['potus', 'reform', 'solitary', 'confinement', 'expand', 'treatment', 'mentally', 'ill', 'url', 'url'], ['news', 'saudi', 'arabia', 'national', 'airline', 'planning', 'introduce', 'gender', 'segregation', 'flight', 'url', 'url'], ['paul', 'walker', 'dy', 'million', 'cried', 'million', 'died', 'human', 'hunger', 'one', 'simply', 'give', 'fk'], ['islamic', 'tribunal', 'texas', 'operating', 'sharia', 'law', 'wtf', 'lodisilverado', 'amymek', 'tcot', 'url', 'url'], ['landmark', 'around', 'world', 'turn', 'purple', 'honor', 'prince', 'princerip', 'purplerain', 'url'], ['vladimir', 'putin', 'motorcade', 'seen', 'air', 'url', 'url'], ['death', 'toll', 'bachakhanuniattack', 'rise', 'least', 'army', 'official', 'say', 'firing', 'stopped', 'campus', 'searched', 'url'], ['islamic', 'tribunal', 'texas', 'operating', 'sharia', 'law', 'wtf', 'lodisilverado', 'amymek', 'tcot', 'url', 'url'], ['president', 'argentina', 'adopted', 'jewish', 'teenager', 'stop', 'becoming', 'werewolf', 'url', 'url'], ['hp', 'confirmed', 'splitting', 'two', 'company', 'cutting', 'job', 'url', 'hp', 'url'], ['mean', 'let', 'turn', 'healthcare', 'decision', 'making', 'people', 'willing', 'shut', 'amber', 'alert', 'website', 'spite'], ['video', 'hero', 'sergeant', 'arm', 'kevin', 'vickers', 'return', 'parliament', 'incredible', 'welcome', 'url', 'url'], ['dangerburgundy', 'joerogan', 'successful', 'clone', 'dinosaur', 'url', 'holy', 'shit', 'real'], ['never', 'thought', 'see', 'day', 'obama', 'would', 'play', 'politics', 'kid', 'url', 'pjnet', 'url'], ['charliehebdo', 'shooting', 'suspect', 'tell', 'police', 'prepared', 'die', 'martyr', 'french', 'medium', 'url', 'url'], ['google', 'south', 'american', 'goliath', 'birdeater', 'helllll', 'noooooo'], ['breaking', 'news', 'isi', 'beheads', 'british', 'hostage', 'david', 'haines', 'message', 'america', 'partner', 'url'], ['transgender', 'teen', 'leaf', 'heartbreaking', 'suicide', 'note', 'tumblr', 'begging', 'u', 'fix', 'society', 'url', 'leelahalcorn'], ['forty', 'percent', 'german', 'want', 'angela', 'merkel', 'resign', 'refugee', 'policy', 'poll', 'show', 'url', 'url'], ['puppy', 'sized', 'spider', 'surprise', 'scientist', 'rainforest', 'livescience', 'url', 'url'], ['vladimir', 'putin', 'travel', 'phallic', 'motorcade', 'formation', 'url', 'url'], ['texas', 'plumbing', 'company', 'truck', 'somehow', 'ended', 'syria', 'civil', 'war', 'url', 'url'], ['hongkong', 'protester', 'using', 'hand', 'shoot', 'gesture', 'ferguson', 'url', 'url'], ['fast', 'furious', 'delayed', 'scrapped', 'following', 'paul', 'walker', 'death', 'report', 'url'], ['breaking', 'news', 'photo', 'gallery', 'parliament', 'hill', 'attacked', 'soldier', 'shot', 'national', 'war', 'memorial', 'url', 'url'], ['transgender', 'year', 'old', 'left', 'suicide', 'note', 'tumblr', 'pleading', 'fix', 'society', 'url', 'url'], ['wind', 'solar', 'could', 'power', 'u', 'without', 'raising', 'electricity', 'price', 'url', 'url'], ['leonardo', 'dicaprio', 'giving', 'away', 'million', 'environmental', 'cause', 'url', 'url'], ['talking', 'angela', 'actually', 'boris', 'laursen', 'like', 'stole', 'personal', 'information', 'going'], ['meet', 'barak', 'hussein', 'obama', 'appointment', 'next', 'assistant', 'director', 'homeland', 'security', 'fatima', 'noor', 'url'], ['open', 'letter', 'realdonaldtrump', 'top', 'strategist', 'turned', 'defector', 'url', 'url'], ['make', 'way', 'leonardo', 'dicaprio', 'sagawards', 'url'], ['oregon', 'police', 'officer', 'step', 'make', 'delivery', 'pizza', 'hut', 'driver', 'get', 'injured', 'car', 'crash', 'url', 'odd'], ['vaughn', 'food', 'co', 'worker', 'witnessed', 'murder', 'tell', 'news', 'murder', 'suspect', 'alton', 'nolen', 'shouting', 'islamic', 'phrase', 'fbi', 'investigating'], ['historic', 'first', 'international', 'criminal', 'court', 'classified', 'destroying', 'cultural', 'artifact', 'war', 'crime', 'url'], ['complexmag', 'someone', 'spray', 'painted', 'penis', 'million', 'bugatti', 'veyron', 'url', 'url', 'legendary'], ['avoid', 'p', 'bag', 'charge', 'using', 'trolleybagsuk', 'enter', 'win', 'set', 'star', 'x', 'url', 'url'], ['clear', 'unarmed', 'teenager', 'possibly', 'stealing', 'box', 'cigar', 'warrant', 'shot', 'death', 'police', 'ferguson'], ['know', 'know', 'heart', 'muslim', 'new', 'york', 'share', 'experience', 'url', 'url'], ['surface', 'air', 'missile', 'ukraine', 'say', 'shot', 'malaysia', 'airline', 'plane', 'url', 'url'], ['bobby', 'shmurda', 'stabbed', 'death', 'jail', 'cell', 'mate', 'url', 'url'], ['breaking', 'police', 'operation', 'bataclan', 'concert', 'venue', 'two', 'attacker', 'killed', 'bfm', 'tv', 'url'], ['zika', 'fever', 'newly', 'emerging', 'disease', 'threatening', 'america', 'url', 'url'], ['many', 'white', 'celebrity', 'caught', 'shoplifting', 'end', 'dead', 'street', 'wait', 'ferguson'], ['otlonespn', 'baylor', 'face', 'accusation', 'ignoring', 'sex', 'assault', 'claim', 'athlete', 'supporting', 'victim', 'url'], ['manager', 'ban', 'teen', 'slang', 'work', 'including', 'chill', 'add', 'stop', 'accusing', 'people', 'ebola', 'url', 'url'], ['japanese', 'prime', 'minister', 'shinzo', 'abe', 'rio', 'closing', 'ceremony', 'super', 'mario', 'dream', 'url'], ['justin', 'bieber', 'ringtone', 'save', 'russian', 'fisherman', 'potentially', 'fatal', 'bear', 'attack'], ['uk', 'home', 'secretary', 'theresa', 'may', 'say', 'litvinenko', 'murder', 'blatant', 'unacceptable', 'breach', 'international', 'law', 'url'], ['interested', 'growing', 'follower', 'base', 'twitter', 'set', 'follower', 'campaign', 'today', 'url', 'url'], ['passenger', 'african', 'airport', 'man', 'homemade', 'hazmat', 'suit', 'flying', 'dulles', 'washington', 'ebola', 'url'], ['breaking', 'news', 'iraqi', 'state', 'tv', 'confirms', 'isi', 'group', 'leader', 'al', 'baghdadi', 'wounded', 'airstrike', 'url', 'url'], ['jk', 'rowling', 'working', 'eighth', 'harry', 'potter', 'book', 'expect', 'rumour', 'originated', 'either', 'quibbler', 'trelawney'], ['shot', 'everyone', 'street', 'stealing', 'imagine', 'carnage', 'wall', 'st', 'mikebrown', 'ferguson'], ['seek', 'death', 'moore', 'oklahoma', 'beheading', 'case', 'altonnolen', 'kellyfile', 'url'], ['isi', 'barbarian', 'using', 'chemical', 'weapon', 'kurd', 'kobane', 'airdrop', 'kobane', 'barackobama', 'un', 'url'], ['official', 'gunman', 'holding', 'least', 'five', 'hostage', 'paris', 'market', 'threatened', 'kill', 'police', 'approach', 'url'], ['please', 'pray', 'steven', 'sotloff', 'another', 'captive', 'american', 'isi', 'threatened', 'behead', 'tcot', 'url'], ['cpl', 'nathan', 'cirillo', 'pictured', 'left', 'minute', 'shot', 'war', 'memorial', 'today', 'cbcott', 'ottnews', 'url'], ['poll', 'five', 'percent', 'american', 'would', 'vote', 'harambe', 'dead', 'ape', 'president', 'url', 'url'], ['banksy', 'response', 'charliehebdo', 'attack', 'banksy', 'striking', 'url', 'url'], ['year', 'old', 'conservative', 'cj', 'pearson', 'defends', 'giuliani', 'comment', 'obama', 'facebook', 'get', 'shut', 'url'], ['breaking', 'huge', 'explosion', 'oil', 'pipeline', 'belonging', 'saudi', 'aramco', 'near', 'sudair', 'saudiarabia', 'url'], ['uk', 'mother', 'tareena', 'shakil', 'took', 'son', 'syria', 'guilty', 'joining', 'called', 'islamic', 'state', 'encouraging', 'terror', 'url'], ['breaking', 'news', 'u', 'detects', 'activity', 'north', 'korea', 'suggesting', 'plan', 'toward', 'space', 'launch'], ['bernie', 'sander', 'donald', 'trump', 'continue', 'hold', 'wide', 'lead', 'new', 'hampshire', 'primary', 'race', 'cnn', 'wmur', 'poll', 'find', 'url'], ['notice', 'similar', 'muslim', 'radical', 'terrorist', 'hand', 'gesture', 'obama', 'isi', 'killer', 'tcot', 'carminezozzora', 'url'], ['obama', 'appoints', 'fatima', 'noor', 'homeland', 'security', 'post', 'fox', 'henhouse', 'ccot', 'tcot', 'pjnet', 'url'], ['colombian', 'government', 'left', 'wing', 'farc', 'rebel', 'movement', 'agree', 'ceasefire', 'end', 'decade', 'long', 'conflict', 'url'], ['fact', 'million', 'american', 'pre', 'existing', 'condition', 'longer', 'denied', 'coverage', 'acaworks', 'url'], ['fanged', 'deer', 'pop', 'afghanistan', 'year', 'last', 'appearance', 'url', 'url'], ['cere', 'captured', 'dawn', 'spacecraft', 'check', 'bright', 'spot', 'video', 'url', 'url'], ['ferguson', 'pd', 'charged', 'henrydavis', 'w', 'destruction', 'property', 'bleeding', 'uniform', 'url', 'url'], ['pathetic', 'little', 'twat', 'wait', 'argue', 'p', 'bag', 'charge', 'url', 'url'], ['r', 'p', 'paul', 'walker', 'died', 'loved', 'going', 'fast', 'url'], ['obamacare', 'soon', 'require', 'get', 'rfid', 'chip', 'implanted', 'skin', 'monitor', 'track'], ['jamie', 'dornan', 'leaving', 'fifty', 'shade', 'grey', 'yeah', 'much', 'url'], ['passenger', 'wear', 'personal', 'protective', 'equipment', 'ppe', 'flight', 'dulles', 'ebola', 'url', 'url'], ['flight', 'u', 'initially', 'climbed', 'foot', 'started', 'descend', 'lost', 'signal', 'foot', 'url'], ['gop', 'strategist', 'say', 'trump', 'supporter', 'childless', 'single', 'men', 'masturbate', 'anime', 'url', 'url'], ['developing', 'news', 'soldier', 'shot', 'war', 'memorial', 'watch', 'cbc', 'nn', 'coverage', 'follow', 'online', 'url', 'url'], ['prayer', 'friend', 'tyrese', 'emotional', 'message', 'paul', 'walker', 'got', 'u', 'choked', 'url'], ['baseball', 'player', 'fight', 'club', 'texas', 'high', 'school', 'investigation', 'find', 'url', 'url'], ['japanese', 'government', 'say', 'fukushima', 'nuclear', 'plant', 'leaking', 'ton', 'radioactive', 'water', 'ocean', 'every', 'day', 'url'], ['iraq', 'executes', 'jihadist', 'massacre', 'army', 'recruit', 'camp', 'speicher', 'url'], ['rip', 'david', 'bowie', 'also', 'rip', 'battle', 'cancer', 'cliche', 'implies', 'lost', 'battle', 'fight', 'hard', 'enough'], ['young', 'people', 'power', 'potential', 'change', 'world', 'happy', 'youthday', 'url', 'url'], ['breaking', 'news', 'missing', 'afghan', 'soldier', 'found', 'trying', 'cross', 'canada', 'rainbow', 'bridge', 'niagara', 'fall', 'ny', 'nbc'], ['isi', 'militant', 'beheading', 'fighter', 'url', 'url'], ['good', 'news', 'business', 'answered', 'potus', 'call', 'give', 'american', 'criminal', 'record', 'fair', 'chance', 'future', 'url'], ['ukraine', 'official', 'say', 'malaysian', 'jet', 'shot', 'buk', 'missile', 'system', 'url', 'mh', 'url'], ['letter', 'lego', 'group', 'boxed', 'toy', 'via', 'mb', 'hfdsp', 'gender', 'equality', 'url'], ['calm', 'durex', 'come', 'pumpkin', 'spice', 'condom', 'url', 'url'], ['fan', 'fast', 'furious', 'actor', 'paul', 'walker', 'shocked', 'death', 'memorial', 'grows', 'url', 'url'], ['oscarnoms', 'nomination', 'best', 'picture', 'url', 'url'], ['paul', 'walker', 'co', 'star', 'take', 'twitter', 'share', 'condolence', 'following', 'death', 'url', 'rippaulwalker', 'teampw'], ['powerful', 'letter', 'lego', 'parent', 'real', 'url', 'url'], ['heart', 'breaking', 'french', 'police', 'commissioner', 'commits', 'suicide', 'meeting', 'charliehebdo', 'bereaved', 'url'], ['talking', 'angela', 'get', 'ur', 'personal', 'info', 'kidnapper', 'watch', 'u', 'ur', 'camera', 'url'], ['buzzfeed', 'transgender', 'year', 'old', 'left', 'suicide', 'note', 'tumblr', 'pleading', 'fix', 'society', 'url'], ['donna', 'douglas', 'star', 'beverly', 'hillbilly', 'passed', 'away', 'url', 'url'], ['breaking', 'news', 'one', 'soldier', 'died', 'ottawa', 'shooting', 'suspect', 'still', 'large', 'url'], ['david', 'haines', 'beheading', 'isi', 'release', 'video', 'claiming', 'show', 'execution', 'british', 'hostage', 'url', 'url'], ['macklemore', 'announced', 'today', 'joined', 'isi'], ['hillary', 'clinton', 'strategist', 'bob', 'beckel', 'called', 'wikileaks', 'editor', 'julian', 'assange', 'assassinated', 'url'], ['isi', 'confirms', 'leader', 'al', 'baghdadi', 'wounded', 'u', 'airstrike', 'url', 'url'], ['laziness', 'trait', 'black', 'book', 'quote', 'trump', 'saying', 'url', 'url'], ['neurotic', 'woman', 'turn', 'neurotic', 'friend', 'support', 'url', 'url'], ['police', 'say', 'located', 'car', 'belonging', 'suspect', 'ottawa', 'shooting', 'uniformed', 'soldier', 'shot', 'war', 'memorial', 'condition', 'unknown'], ['remarkably', 'despite', 'military', 'style', 'police', 'presence', 'ferguson', 'known', 'killer', 'able', 'skip', 'town', 'url'], ['saudi', 'cleric', 'proclaims', 'snowman', 'building', 'anti', 'islamic', 'photo', 'video', 'url', 'url'], ['laziness', 'trait', 'black', 'book', 'quote', 'trump', 'saying', 'url', 'url'], ['left', 'syria', 'camp', 'jordan', 'arrived', 'detroit', 'last', 'week', 'story', 'url', 'url'], ['man', 'salad', 'bar', 'say', 'every', 'item', 'aloud', 'add', 'salad', 'url', 'url'], ['colleen', 'hufford', 'white', 'woman', 'hardly', 'worth', 'mention', 'pres', 'obama', 'unlike', 'ferguson', 'url', 'url'], ['france', 'shooting', 'hostage', 'taking', 'kosher', 'market', 'paris', 'several', 'reported', 'wounded', 'url'], ['matt', 'taibbi', 'left', 'first', 'look', 'medium', 'sorry', 'see', 'go', 'great', 'talent', 'wish', 'well', 'url'], ['ottawa', 'police', 'confirm', 'multiple', 'suspect', 'shooting', 'saying', 'possibly', 'shooter', 'url'], ['paul', 'walker', 'death', 'keep', 'getting', 'ironic', 'driver', 'roger', 'rodas', 'former', 'racecar', 'driver', 'rip', 'url'], ['transgender', 'teen', 'pleads', 'u', 'fix', 'society', 'tumblr', 'suicide', 'note', 'url', 'url'], ['last', 'photo', 'paul', 'walker', 'taken', 'crash', 'killed', 'rip', 'url'], ['someone', 'spray', 'painted', 'penis', 'mill', 'bugatti', 'url'], ['hong', 'kong', 'protester', 'using', 'hand', 'shoot', 'gesture', 'ferguson', 'url', 'url'], ['texas', 'health', 'official', 'say', 'nd', 'person', 'test', 'positive', 'ebola', 'dallas', 'hospital', 'treat', 'thomas', 'eric', 'duncan', 'url'], ['beautiful', 'global', 'solidarity', 'hongkong', 'protester', 'marching', 'hand', 'shoot', 'gesture', 'ferguson', 'url'], ['look', 'stage', 'talk', 'talk', 'diversity', 'sagawards', 'url'], ['goodbye', 'elly', 'may', 'beverly', 'hillbilly', 'star', 'donna', 'douglas', 'dead', 'report', 'say', 'url', 'url'], ['nine', 'briton', 'u', 'citizen', 'child', 'feared', 'dead', 'mh', 'jet', 'shot', 'url', 'url'], ['berniesanders', 'pulling', 'magic', 'trick', 'hat', 'nevada', 'officially', 'url'], ['banksy', 'account', 'join', 'cartoonist', 'support', 'charliehebdo', 'jesuischarlie', 'url', 'url'], ['fast', 'furious', 'franchise', 'responds', 'paul', 'walker', 'death', 'url', 'url'], ['ben', 'simmons', 'could', 'st', 'sec', 'player', 'since', 'shaq', 'average', 'minus', 'hour', 'till', 'face', 'ou', 'espn', 'url'], ['marlboro', 'man', 'dy', 'smoking', 'related', 'disease', 'url', 'url'], ['shooting', 'investigation', 'going', 'hour', 'much', 'downtown', 'ottawa', 'still', 'lockdown', 'url', 'cbcott', 'ottnews'], ['currently', 'boycotting', 'walmart', 'sam', 'w', 'florissant', 'donated', 'darren', 'wilson', 'car', 'turning', 'around', 'fergusonoctober'], ['expect', 'see', 'russian', 'force', 'u', 'event', 'provide', 'security', 'illegal', 'posse', 'comitatus', 'url'], ['photo', 'black', 'nurse', 'saving', 'life', 'kkk', 'member', 'url'], ['big', 'one', 'large', 'scale', 'motion', 'detected', 'along', 'san', 'andreas', 'fault', 'url', 'url'], ['icymi', 'mammoth', 'bone', 'ice', 'age', 'unearthed', 'oregon', 'state', 'football', 'stadium', 'url', 'url'], ['grandpa', 'tryin', 'tell', 'leonardo', 'dicapro', 'gonna', 'play', 'martin', 'luther', 'king', 'movie', 'lol'], ['put', 'iphone', 'pocket', 'url', 'url'], ['oscarnoms', 'nomination', 'best', 'actress', 'leading', 'role', 'url', 'url'], ['older', 'brother', 'syrian', 'boy', 'iconic', 'image', 'dy', 'injury', 'airstrike', 'family', 'home', 'url', 'url'], ['vandal', 'painted', 'brilliantly', 'simple', 'penis', 'million', 'bugatti', 'veyron', 'url', 'url'], ['potus', 'favorite', 'movie', 'year', 'hint', 'love', 'saying', 'science', 'heck', 'thing', 'youtubeasksobama', 'url'], ['amid', 'chaos', 'winning', 'gold', 'neymarjr', 'found', 'moment', 'son', 'url'], ['chick', 'fil', 'manager', 'reportedly', 'ban', 'list', 'unprofessional', 'word', 'internet', 'erupts', 'url', 'url'], ['alaskan', 'reporter', 'say', 'f', 'ck', 'quits', 'live', 'tv', 'coworker', 'reaction', 'priceless', 'url', 'url'], ['leading', 'cause', 'death', 'u', 'heart', 'disease', 'cancer', 'medical', 'error', 'url', 'url'], ['target', 'belief', 'men', 'pee', 'girl', 'stock', 'taken', 'huge', 'hit', 'good', 'keep', 'boycotting', 'target', 'url'], ['hand', 'shoot', 'used', 'ten', 'thousand', 'form', 'protest', 'hong', 'kong', 'powerful', 'url'], ['charliehebdo', 'suspect', 'prepared', 'die', 'martyr', 'tell', 'police', 'making', 'contact', 'french', 'medium', 'url'], ['potus', 'oval', 'office', 'snowy', 'afternoon', 'white', 'house', 'url'], ['help', 'score', 'ianmckellen', 'team', 'batman', 'team', 'superman', 'let', 'u', 'know', 'empirebvs', 'url'], ['mother', 'revenge', 'afghan', 'woman', 'kill', 'taliban', 'militant', 'son', 'shot', 'dead', 'url', 'url'], ['fuck', 'advance', 'writer', 'site', 'late', 'night', 'show', 'host', 'etc', 'make', 'joke', 'michael', 'phelps', 'girlfriend', 'intersex'], ['breaking', 'missing', 'afghan', 'soldier', 'found', 'trying', 'cross', 'border', 'canada', 'senior', 'law', 'enforcement', 'source', 'tell', 'nbc', 'news'], ['dog', 'abandoned', 'scottish', 'railway', 'station', 'suitcase', 'full', 'belonging', 'url', 'url'], ['caitlyn', 'jenner', 'reportedly', 'pose', 'nude', 'sport', 'illustrated', 'url', 'url'], ['malaysia', 'airline', 'plane', 'mh', 'shot', 'ukraine', 'near', 'russian', 'border', 'url', 'url'], ['alaskan', 'reporter', 'say', 'f', 'ck', 'quits', 'live', 'tv', 'coworker', 'reaction', 'priceless', 'url', 'url'], ['report', 'microsoft', 'trying', 'buy', 'mojang', 'creator', 'minecraft', 'url'], ['breaking', 'malaysian', 'airline', 'passenger', 'shot', 'near', 'russian', 'border', 'ukraine', 'url', 'url'], ['peek', 'behind', 'curtain', 'save', 'american', 'video', 'url'], ['craigslist', 'ad', 'allegedly', 'posted', 'bernie', 'supporter', 'offered', 'protest', 'trump', 'rally', 'wisconsin', 'trump', 'already', 'creating', 'job'], ['official', 'say', 'least', 'people', 'died', 'latest', 'attack', 'nigeria', 'homegrown', 'islamic', 'extremist', 'boko', 'haram', 'url'], ['official', 'french', 'terror', 'suspect', 'want', 'martyr', 'holed', 'hostage', 'north', 'paris', 'url'], ['yes', 'trump', 'really', 'said', 'white', 'get', 'nomination', 'bet', 'award', 'url', 'url'], ['unpopular', 'police', 'officer', 'thinking', 'committing', 'racially', 'motivated', 'offense', 'little', 'support', 'url'], ['sugarhill', 'gang', 'big', 'bank', 'hank', 'dy', 'dead', 'cancer', 'url'], ['report', 'toronto', 'seattle', 'quebec', 'city', 'join', 'vega', 'nhl', 'expansion', 'url'], ['leicester', 'kfc', 'refusing', 'hand', 'wipe', 'customer', 'anti', 'islamic', 'next', 'separate', 'door', 'woman', 'sharia', 'sauce', 'kfc', 'arses'], ['well', 'done', 'scotland', 'p', 'carrier', 'bag', 'charge', 'yr', 'old', 'today', 'cut', 'usage', 'le', 'bag', 'good', 'cause', 'url'], ['jjauthor', 'fingersflying', 'peddoc', 'chucknellis', 'waynebogda', 'happens', 'witness', 'url', 'url'], ['letter', 'trump', 'voter', 'top', 'strategist', 'turned', 'defector', 'know', 'real', 'believable', 'url'], ['nbc', 'arrest', 'record', 'show', 'ferguson', 'cop', 'jailed', 'twice', 'many', 'people', 'last', 'night', 'originally', 'claimed', 'url'], ['official', 'officially', 'hottest', 'year', 'ever', 'even', 'hotter', 'url', 'url'], ['update', 'rebel', 'leader', 'recorded', 'call', 'shot', 'plane', 'english', 'subtitle', 'url', 'mh', 'url'], ['shot', 'plane', 'black', 'box', 'unanswered', 'question', 'mh', 'url', 'url'], ['disease', 'spread', 'bug', 'bite', 'face', 'sleep', 'found', 'u', 'url', 'url'], ['judd', 'nelson', 'die', 'last', 'night', 'sent', 'u', 'photo', 'debunk', 'rumor', 'url', 'url'], ['rare', 'white', 'giraffe', 'spotted', 'tanzania', 'perhaps', 'one', 'world', 'url', 'url'], ['dog', 'abandoned', 'scottish', 'railway', 'station', 'suitcase', 'full', 'belonging', 'url', 'url'], ['new', 'transgender', 'bathroom', 'policy', 'target', 'real', 'fabulous', 'url', 'url'], ['photo', 'taken', 'tourist', 'national', 'war', 'memorial', 'shortly', 'nathan', 'cirillo', 'shot', 'killed', 'url'], ['bernie', 'sander', 'speaking', 'institutional', 'racism', 'url'], ['suspect', 'beheading', 'journalist', 'james', 'foley', 'named', 'abdel', 'majed', 'abdel', 'bary', 'url'], ['story', 'year', 'old', 'stock', 'whiz', 'rumored', 'net', 'worth', 'million', 'made', 'splash', 'quickly', 'unraveled', 'url'], ['police', 'report', 'somehow', 'ferguson', 'cop', 'valued', 'box', 'swishers', 'nearly', 'time', 'stop', 'smokin', 'guess', 'url'], ['donald', 'spunktrumpet', 'former', 'communication', 'director', 'stephanie', 'cegielski', 'resigned', 'written', 'url'], ['dointoomuch', 'rt', 'dahndahlas', 'jemelehill', 'chick', 'fil', 'manager', 'banned', 'slang', 'location', 'url', 'url'], ['year', 'ban', 'u', 'start', 'exporting', 'crude', 'oil', 'url', 'url'], ['muslim', 'arrested', 'texas', 'today', 'isi', 'flag', 'body', 'armor', 'url'], ['charliehebdo', 'attack', 'suspect', 'reportedly', 'fired', 'shot', 'robbing', 'petrol', 'station', 'url', 'url'], ['world', 'running', 'chocolate', 'world', 'largest', 'chocolate', 'manufacturer', 'warns', 'url', 'url'], ['remembering', 'paul', 'walker', 'fast', 'furious', 'star', 'happy', 'hour', 'tragic', 'death', 'url'], ['islamic', 'state', 'leader', 'al', 'baghdadi', 'wounded', 'airstrikes', 'iraqi', 'official', 'say', 'url', 'isi', 'url'], ['canadian', 'soldier', 'shot', 'ottawa', 'war', 'memorial', 'reservist', 'serving', 'argyll', 'sutherland', 'highlander', 'hamilton', 'ont'], ['breaking', 'isi', 'leader', 'al', 'baghdadi', 'critically', 'wounded', 'coalition', 'airstrikes', 'near', 'mosul', 'url', 'url'], ['ahh', 'jk', 'rowling', 'encyclopedia', 'work', 'harrypotter', 'pottermore', 'open', 'url'], ['bbc', 'report', 'broadcaster', 'sir', 'terry', 'wogan', 'died', 'cancer', 'aged'], ['breaking', 'video', 'hillary', 'surrogate', 'call', 'assassination', 'julian', 'assange', 'url'], ['good', 'day', 'seeing', 'possible', 'strong', 'american', 'diplomacy', 'potus', 'irandeal', 'url'], ['pregnant', 'woman', 'lost', 'eye', 'shot', 'bean', 'bag', 'police', 'ferguson', 'url', 'url'], ['ted', 'cruz', 'apparently', 'riding', 'president', 'air', 'force', 'one', 'en', 'route', 'dallas', 'man', 'barack', 'obama', 'saint'], ['tweet', 'realdonaldtrump', 'orlando', 'shooting', 'url', 'url'], ['nyc', 'break', 'record', 'snowiest', 'day', 'history', 'url', 'davidsnowie', 'blizzard', 'url'], ['bernie', 'sander', 'actually', 'nevada', 'hillary', 'clinton', 'people', 'spoken', 'url', 'url'], ['line', 'police', 'car', 'high', 'beam', 'greets', 'anyone', 'trying', 'enter', 'ferguson', 'shut', 'medium', 'allowed', 'url'], ['massachusetts', 'court', 'find', 'reasonable', 'black', 'men', 'run', 'police', 'avoid', 'racial', 'profiling', 'url'], ['pregnant', 'woman', 'lost', 'eye', 'getting', 'shot', 'police', 'bean', 'bag', 'round', 'car', 'ferguson', 'url'], ['donald', 'trump', 'tell', 'chris', 'matthew', 'woman', 'deserve', 'form', 'punishment', 'abortion', 'url', 'url'], ['people', 'boycotting', 'target', 'new', 'transgender', 'bathroom', 'policy', 'like', 'url'], ['florida', 'woman', 'surgery', 'give', 'third', 'boob', 'url', 'url'], ['shot', 'war', 'memorial', 'canada', 'capital', 'url'], ['psa', 'please', 'drink', 'pepsi', 'soda', 'worker', 'company', 'put', 'blood', 'contaminated', 'aid', 'inside', 'bottle', 'please', 'rt'], ['quote', 'day', 'american', 'writer', 'dorothy', 'parker', 'url'], ['thousand', 'people', 'china', 'claim', 'seen', 'floating', 'city', 'sky', 'url'], ['lego', 'letter', 'still', 'offer', 'powerful', 'message', 'parent', 'year', 'later', 'url', 'url'], ['mike', 'penny', 'donald', 'trump', 'becomes', 'president', 'pay', 'ransom', 'terrorist', 'terror', 'sponsoring', 'state', 'url'], ['considering', 'orlando', 'shooter', 'registered', 'democrat', 'like', 'put', 'back', 'url'], ['million', 'observation', 'amateur', 'bird', 'watcher', 'helped', 'collect', 'data', 'map', 'url', 'url'], ['mexico', 'doubt', 'grow', 'fate', 'missing', 'student', 'body', 'found', 'mass', 'grave', 'url', 'url'], ['raven', 'symone', 'blast', 'bill', 'cosby', 'rape', 'story', 'url', 'url'], ['russian', 'kid', 'got', 'zapped', 'faulty', 'electrical', 'wire', 'real', 'life', 'magneto', 'url', 'url'], ['one', 'thing', 'say', 'giant', 'goliath', 'birdeater', 'spider', 'url', 'url'], ['paul', 'walker', 'character', 'name', 'fast', 'furious', 'brian', 'brian', 'family', 'guy', 'died', 'car', 'accident', 'coincidence', 'think'], ['tesla', 'reportedly', 'selects', 'nevada', 'build', 'massive', 'billion', 'battery', 'plant', 'url', 'via', 'foxcarreport', 'url'], ['talking', 'angela', 'hacker', 'kidnapper', 'watch', 'u', 'ur', 'camera', 'asks', 'ur', 'personal', 'life', 'url'], ['federal', 'reserve', 'decline', 'raise', 'key', 'interest', 'rate', 'citing', 'slowing', 'economic', 'growth', 'url', 'url'], ['horrified', 'news', 'macklemore', 'joined', 'isi', 'macklemorejoinedisis', 'url'], ['time', 'make', 'two', 'year', 'community', 'college', 'free', 'responsible', 'student', 'url', 'url'], ['u', 'olympic', 'swimmer', 'invented', 'robbery', 'story', 'cover', 'petrol', 'station', 'altercation', 'rio', 'police', 'source', 'tell', 'bbc', 'url'], ['iphone', 'plus', 'user', 'sitting', 'bending', 'enormous', 'new', 'phone', 'url'], ['favorite', 'moment', 'week', 'teenwolf', 'watch', 'let', 'know', 'url', 'url'], ['mother', 'revenge', 'afghan', 'woman', 'kill', 'taliban', 'militant', 'son', 'shot', 'dead', 'url', 'url'], ['isi', 'used', 'chemical', 'weapon', 'kobani', 'civilian', 'kurd', 'retweeet', 'savekobani', 'twitterkurds', 'kobane', 'url'], ['morocco', 'say', 'arrested', 'belgian', 'national', 'linked', 'men', 'carried', 'paris', 'attack', 'people', 'died', 'url'], ['atheist', 'mad', 'carrieunderwood', 'applaud', 'url'], ['portland', 'cop', 'complete', 'delivery', 'pizza', 'hut', 'driver', 'injured', 'crash', 'url', 'url'], ['meet', 'kenny', 'tiger', 'born', 'syndrome', 'proof', 'perfect', 'beautiful', 'url'], ['afternoon', 'bo', 'sunny', 'snow', 'url'], ['joseph', 'pena', 'joseph', 'pena', 'high', 'school', 'joseph', 'pena', 'squat', 'pound', 'watch', 'url'], ['donna', 'douglas', 'played', 'buxom', 'tomboy', 'elly', 'may', 'clampett', 'sitcom', 'beverly', 'hillbilly', 'died', 'url'], ['breaking', 'soldier', 'shot', 'war', 'memorial', 'ottawa', 'hill', 'lockdown', 'shooter', 'large', 'url', 'ottnews'], ['new', 'victim', 'en', 'route', 'ottawa', 'hospital', 'shot', 'non', 'life', 'threatening', 'hospital', 'say', 'michaelctv', 'cbcnews', 'url'], ['hard', 'work', 'focus', 'dream', 'spirit', 'michaelphelps', 'tonight', 'congratulate', 'teamusa', 'making', 'history'], ['man', 'walk', 'south', 'american', 'rainforest', 'night', 'see', 'spider', 'size', 'small', 'puppy', 'url'], ['good', 'fancy', 'swiss', 'brand', 'nestle', 'philly', 'steak', 'cheese', 'hotpockets', 'linked', 'massive', 'beef', 'recall', 'url', 'food'], ['boko', 'haram', 'burn', 'kid', 'alive', 'northeast', 'nigeria', 'witness', 'say', 'url'], ['fast', 'furious', 'delayed', 'scrapped', 'following', 'paul', 'walker', 'death', 'report', 'url'], ['drift', 'peaceful', 'slumber', 'w', 'thejeffbridges', 'new', 'sleepingtapes', 'album', 'listen', 'url', 'om', 'url'], ['hillary', 'clinton', 'strategist', 'bob', 'beckel', 'called', 'wikileaks', 'editor', 'julian', 'assange', 'assassinated', 'dncleaks', 'url'], ['mozambique', 'death', 'toll', 'rise', 'beer', 'believed', 'poisoned', 'crocodile', 'bile', 'url'], ['ukraine', 'official', 'say', 'malaysia', 'plane', 'mh', 'shot', 'buk', 'missile', 'system', 'url', 'url'], ['darren', 'wilson', 'got', 'k', 'abc', 'interview', 'plus', 'k', 'donation', 'killer', 'millionaire', 'literally'], ['paris', 'say', 'highest', 'alert', 'level', 'extended', 'north', 'region', 'attack', 'suspect', 'spotted', 'afp', 'melissabellf', 'url'], ['police', 'chief', 'investigating', 'charliehebdo', 'reportedly', 'killed', 'preparing', 'report', 'terror', 'attack', 'hmm', 'url'], ['america', 'biggest', 'toy', 'company', 'changing', 'famous', 'body', 'world', 'url', 'url'], ['target', 'backlash', 'transgender', 'bathroom', 'policy', 'hit', 'boiling', 'point', 'url', 'boycotttarget', 'url'], ['microsoft', 'reportedly', 'buying', 'minecraft', 'developer', 'mojang', 'billion', 'url'], ['stuff', 'nightmare', 'guy', 'ran', 'puppy', 'sized', 'spider', 'rainforest', 'night', 'url', 'url'], ['walmart', 'donates', 'support', 'darren', 'wilson', 'going', 'racist', 'police', 'murder', 'ferguson', 'boycottwalmart', 'url'], ['sugarhill', 'gang', 'rapper', 'big', 'bank', 'hank', 'died', 'age', 'read', 'legacy', 'contribution', 'hip', 'hop', 'url'], ['update', 'french', 'medium', 'year', 'old', 'man', 'carrying', 'two', 'gun', 'arrested', 'eurodisney', 'near', 'paris', 'carrying', 'box', 'bullet', 'copy', 'koran'], ['open', 'letter', 'trump', 'voter', 'top', 'strategist', 'turned', 'defector', 'url', 'juddapatow', 'andylassner', 'bettemidler'], ['r', 'p', 'driver', 'died', 'paul', 'walker', 'one', 'care', 'famous'], ['fight', 'isi', 'start', 'border', 'least', 'isi', 'caught', 'crossing', 'mexico', 'border', 'build', 'wall'], ['black', 'men', 'legitimate', 'reason', 'run', 'police', 'massachusetts', 'supreme', 'court', 'url', 'url'], ['fanged', 'deer', 'spotted', 'afghanistan', 'first', 'time', 'yr', 'url', 'rt', 'independent', 'mt', 'thewcs', 'cc', 'url'], ['paul', 'walker', 'remembered', 'celebs', 'react', 'fast', 'furious', 'star', 'death', 'url'], ['kentucky', 'lead', 'kansa', 'half', 'tyler', 'ulis', 'scored', 'assisted', 'wildcat', 'field', 'goal', 'url'], ['mass', 'grave', 'found', 'mexico', 'town', 'student', 'went', 'missing', 'url'], ['islamic', 'state', 'release', 'audio', 'say', 'leader', 'abu', 'bakr', 'al', 'baghdadi', 'day', 'report', 'killed', 'injured', 'url'], ['dear', 'hillaryclinton', 'st', 'woman', 'presidential', 'candidate', 'victoria', 'woodhull', 'look', 'realdonaldtrump', 'url'], ['actor', 'abe', 'vigoda', 'known', 'role', 'godfather', 'barney', 'miller', 'died', 'url', 'url'], ['mexico', 'iguala', 'mass', 'grave', 'body', 'missing', 'student', 'guerrero', 'state', 'governor', 'say', 'url', 'url'], ['actor', 'played', 'marlboro', 'man', 'ad', 'dy', 'smoking', 'related', 'disease', 'url'], ['obama', 'say', 'america', 'want', 'stay', 'home', 'mom', 'enough', 'enough', 'fireobama', 'url', 'url'], ['lego', 'letter', 'still', 'offer', 'powerful', 'message', 'parent', 'year', 'later', 'url', 'url'], ['corporal', 'nathan', 'cirillo', 'shot', 'dead', 'ottawa', 'war', 'memorial', 'today', 'reservist', 'member', 'argyll', 'sutherland', 'highlander', 'cdnpoli'], ['half', 'sleeve', 'oreo', 'lost', 'house', 'fire', 'url', 'url'], ['police', 'report', 'released', 'morning', 'indicate', 'mike', 'brown', 'suspect', 'strong', 'armed', 'robbery', 'ferguson'], ['turkey', 'claim', 'russian', 'plane', 'violated', 'airspace', 'summons', 'ambassador', 'url'], ['fbi', 'probing', 'alleged', 'audio', 'michael', 'brown', 'shooting', 'url', 'url'], ['day', 'asked', 'manager', 'ferguson', 'market', 'police', 'requested', 'surveillance', 'video', 'said'], ['scientist', 'release', 'horrifying', 'picture', 'puppy', 'sized', 'spider', 'found', 'rainforest', 'url', 'url'], ['happy', 'nationalhugday', 'url'], ['update', 'ferguson', 'police', 'release', 'still', 'convenience', 'store', 'footage', 'showing', 'robbery', 'url', 'url'], ['mass', 'grave', 'found', 'mexico', 'near', 'area', 'student', 'vanished', 'confrontation', 'police', 'url', 'thisisfusion'], ['st', 'louis', 'co', 'police', 'tell', 'ofcr', 'shot', 'man', 'pointed', 'handgun', 'chamber', 'sheffingdell', 'man', 'critical', 'ferguson'], ['banksy', 'share', 'simple', 'beautiful', 'tribute', 'charlie', 'hebdo', 'cartoonist', 'url', 'url'], ['breaking', 'malaysian', 'airline', 'passenger', 'shot', 'near', 'russian', 'border', 'ukraine', 'url', 'url'], ['gunman', 'headband', 'read', 'soldier', 'muhammad', 'martinplace', 'sydneysiege', 'url'], ['walmart', 'donates', 'support', 'darren', 'wilson', 'give', 'tracy', 'morgan', 'penny', 'accident', 'company', 'caused', 'boycottwalmart'], ['hug', 'simone', 'bile', 'aly', 'raisman', 'closingceremony', 'photo', 'rob', 'schumacher', 'usatodaysports', 'url'], ['people', 'die', 'drinking', 'beer', 'believed', 'poisoned', 'crocodile', 'bile', 'mozambique', 'url'], ['two', 'week', 'thousand', 'gravity', 'fall', 'fan', 'completed', 'global', 'scavenger', 'hunt', 'url', 'url'], ['making', 'doritos', 'flavored', 'mountain', 'dew', 'url'], ['michael', 'jackson', 'told', 'oprah', 'want', 'white', 'actor', 'playing', 'url', 'url'], ['zika', 'virus', 'everything', 'need', 'know', 'mosquito', 'spread', 'url', 'url'], ['bad', 'news', 'friend', 'fan', 'whole', 'cast', 'reuniting', 'february', 'url', 'url'], ['iraqi', 'official', 'state', 'tv', 'say', 'airstrike', 'wound', 'islamic', 'state', 'group', 'leader', 'al', 'baghdadi', 'ap', 'url'], ['r', 'p', 'driver', 'died', 'paul', 'walker', 'one', 'care', 'famous'], ['refusing', 'pay', 'p', 'bag', 'charge', 'backfire', 'url'], ['afghan', 'woman', 'kill', 'taliban', 'militant', 'son', 'shot', 'dead', 'url', 'url'], ['darren', 'wilson', 'told', 'post', 'dispatch', 'paid', 'abc', 'news', 'interview', 'ferguson', 'via', 'christinedbyers', 'url'], ['report', 'indicate', 'isi', 'leader', 'abu', 'bakr', 'al', 'baghdadi', 'injured', 'u', 'air', 'strike', 'syria', 'iraq'], ['today', 'cover', 'meet', 'teen', 'made', 'million', 'trading', 'stock', 'lunch', 'break', 'url', 'url'], ['perhaps', 'medium', 'ask', 'hillary', 'clinton', 'campaign', 'made', 'payment', 'hard', 'drive', 'destruction', 'company', 'url'], ['orlando', 'oh', 'look', 'muslim', 'shooter', 'also', 'democrat', 'url'], ['obama', 'skip', 'nancy', 'reagan', 'funeral', 'music', 'film', 'festival', 'austin', 'tx', 'url', 'via', 'waynedupreeshow'], ['really', 'amber', 'alert', 'website', 'go', 'dark', 'government', 'shutdown', 'url'], ['remembering', 'paul', 'walker', 'url', 'url'], ['authoritarian', 'american', 'pissed', 'helping', 'hong', 'kong', 'hand', 'shoot', 'picture', 'go', 'viral', 'url'], ['r', 'p', 'driver', 'died', 'paul', 'walker', 'one', 'care', 'famous'], ['nigerian', 'government', 'say', 'secured', 'release', 'schoolgirl', 'agreeing', 'ceasefire', 'boko', 'haram', 'url'], ['police', 'shut', 'restaurant', 'officer', 'cut', 'mouth', 'shard', 'glass', 'found', 'sandwich', 'url', 'url'], ['exclusive', 'angelina', 'jolie', 'visiting', 'professor', 'georgetown', 'university', 'url', 'url'], ['paula', 'deen', 'forget', 'food', 'network', 'already', 'offered', 'cooking', 'show', 'new', 'fox', 'news', 'food', 'channel'], ['malaysia', 'airline', 'executive', 'release', 'partial', 'list', 'passenger', 'nationality', 'url', 'url', 'mh'], ['nine', 'briton', 'child', 'feared', 'dead', 'flight', 'mh', 'shot', 'url', 'url'], ['fukushima', 'highly', 'radioactive', 'water', 'seeping', 'ocean', 'url'], ['cut', 'every', 'single', 'path', 'iran', 'could', 'used', 'build', 'bomb', 'potus', 'irandeal', 'url'], ['report', 'breast', 'feeding', 'increase', 'could', 'save', 'life', 'annually', 'url', 'url'], ['banksy', 'arrested', 'story', 'hoax', 'url', 'url'], ['breaking', 'news', 'search', 'move', 'canada', 'skyrocketed', 'following', 'supertuesday', 'url'], ['worry', 'ppl', 'isi', 'threat', 'homeland', 'man', 'wearing', 'body', 'armor', 'isi', 'flag', 'arrested', 'texas', 'url'], ['still', 'sobbing', 'onedirection', 'dhistoryvideo', 'hbu', 'url', 'url'], ['breaking', 'video', 'claim', 'show', 'beheading', 'british', 'aid', 'worker', 'david', 'haines', 'isi'], ['hero', 'kevin', 'vickers', 'moment', 'shooting', 'dead', 'canadian', 'parliament', 'attacker', 'url', 'url'], ['press', 'conf', 'make', 'ferguson', 'pd', 'look', 'like', 'gone', 'stonewalling', 'counter', 'punching', 'give', 'name', 'drag', 'thru', 'mud'], ['hey', 'guy', 'target', 'backing', 'check', 'usa', 'today', 'article', 'boycott', 'url'], ['donald', 'trump', 'laziness', 'trait', 'black', 'really', 'believe', 'anything', 'control', 'url'], ['undefeated', 'high', 'school', 'wrestler', 'lost', 'purpose', 'opponent', 'syndrome', 'url', 'url'], ['happy', 'birthday', 'potus', 'url'], ['breaking', 'foot', 'tsunami', 'reported', 'coquimbo', 'earthquake', 'tsunami'], ['clinton', 'hide', 'failing', 'health', 'full', 'disclosure', 'covert', 'doctor', 'nurse', 'url', 'via', 'mailonline', 'maga', 'realdonaldtrump'], ['broadcast', 'premiere', 'zaynmalik', 'pillowtalk', 'mtv', 'right', 'url', 'url'], ['year', 'old', 'girl', 'wake', 'brain', 'surgery', 'asks', 'doctor', 'going', 'url', 'via', 'foxnewshealth'], ['twerking', 'louisiana', 'really', 'get', 'mandatory', 'day', 'jail', 'url'], ['million', 'dead', 'bloodiest', 'black', 'friday', 'weekend', 'record', 'url'], ['hoax', 'mcdonald', 'issue', 'official', 'statement', 'racist', 'sign', 'updated', 'url', 'seriouslymcdonalds'], ['report', 'christian', 'bale', 'play', 'steve', 'job', 'url', 'url'], ['starve', 'beast', 'destroying', 'civilsociety', 'target', 'stock', 'sink', 'billion', 'url', 'url'], ['weekend', 'ppl', 'talking', 'robbery', 'instead', 'shooting', 'bc', 'ferguson', 'pd', 'release', 'info', 'shooting'], ['surprise', 'surprise', 'shaq', 'jimmykimmellive', 'lakers', 'icon', 'learned', 'honored', 'w', 'staple', 'center', 'statue', 'url'], ['malaysia', 'airline', 'plane', 'mh', 'shot', 'ukraine', 'near', 'russian', 'border', 'url', 'url'], ['ex', 'marlboro', 'man', 'dy', 'smoking', 'related', 'disease', 'url'], ['charliehebdo', 'cartoonist', 'killed', 'charb', 'cabu', 'tignous', 'george', 'wolinski', 'jesuischarlie', 'url'], ['pope', 'francis', 'appears', 'suggest', 'progress', 'make', 'false', 'claim', 'religious', 'belief', 'requires', 'url'], ['laziness', 'trait', 'black', 'trump', 'according', 'former', 'president', 'trump', 'plaza', 'hotel', 'casino', 'vitico', 'url'], ['darren', 'wilson', 'paid', 'abc', 'would', 'painful', 'reminder', 'destroying', 'black', 'life', 'remains', 'profitable', 'america', 'ferguson'], ['iphone', 'plus', 'really', 'bending', 'problem', 'url', 'url'], ['purple', 'memorial', 'landmark', 'across', 'globe', 'honor', 'prince', 'death', 'url', 'url'], ['dammit', 'janet', 'fox', 'rocky', 'horror', 'picture', 'show', 'cast', 'victoriajustice', 'url', 'url'], ['wtf', 'community', 'agitator', 'obama', 'secretly', 'met', 'w', 'ferguson', 'activist', 'told', 'stay', 'course', 'url', 'url'], ['fierce', 'fighting', 'reported', 'outskirt', 'baghdad', 'isi', 'jihadist', 'fight', 'one', 'mile', 'western', 'city', 'boundary', 'much', 'airstrikes'], ['billion', 'young', 'people', 'start', 'work', 'next', 'decade', 'job', 'exist', 'url', 'url'], ['video', 'show', 'suffering', 'starving', 'syrian', 'town', 'madaya', 'url', 'url'], ['graffiti', 'artist', 'banksy', 'arrested', 'london', 'identity', 'revealed', 'national', 'report', 'national', 'report', 'url', 'via', 'wpusta'], ['wapo', 'british', 'examining', 'foley', 'video', 'compare', 'former', 'guantanamo', 'bay', 'prisoner', 'believed', 'joined', 'islamic', 'state'], ['ottawa', 'shooting', 'event', 'unfolded', 'first', 'shot', 'fired', 'war', 'memorial', 'url', 'url'], ['r', 'p', 'driver', 'died', 'paul', 'walker', 'one', 'care', 'famous'], ['malaysia', 'airline', 'say', 'lost', 'contact', 'plane', 'flying', 'ukrainian', 'airspace', 'url', 'url'], ['scientist', 'discover', 'puppy', 'sized', 'spider', 'rainforest', 'better', 'known', 'nope', 'spider', 'url', 'url'], ['man', 'portrayed', 'marlboro', 'man', 'dy', 'smoking', 'related', 'disease', 'url'], ['recall', 'iraqi', 'chem', 'weapon', 'gwb', 'lied', 'kobani', 'kurd', 'report', 'isi', 'using', 'chem', 'weapon', 'url', 'url'], ['ball', 'feel', 'little', 'flat', 'icymi', 'von', 'miller', 'joked', 'patriot', 'football', 'intercepted', 'url'], ['uk', 'right', 'nervous', 'p', 'plastic', 'bag', 'charge', 'implemented', 'california', 'street', 'ran', 'red', 'blood'], ['argentina', 'president', 'adopted', 'jewish', 'boy', 'save', 'life', 'werewolf', 'url', 'url'], ['poll', 'show', 'percent', 'german', 'want', 'merkel', 'resign', 'refugee', 'policy', 'url', 'url'], ['fukushima', 'reactor', 'leaking', 'groundwater', 'stopped', 'getting', 'ocean', 'building', 'mushy', 'land', 'url'], ['running', 'chocolate', 'warns', 'world', 'largest', 'chocolate', 'manufacturer', 'url', 'url'], ['potus', 'keep', 'pocket', 'remind', 'people', 'meet', 'along', 'way', 'youtubeasksobama', 'url'], ['boko', 'haram', 'ceasefire', 'includes', 'release', 'bringbackourgirls', 'hostage', 'nigerian', 'government', 'say', 'url'], ['canadian', 'cpl', 'nathan', 'cirillo', 'killed', 'gunman', 'guarding', 'canada', 'national', 'war', 'memorial', 'url', 'url'], ['paul', 'walker', 'good', 'giving', 'back', 'day', 'tragic', 'death', 'url'], ['mr', 'president', 'stop', 'mansplaining', 'need', 'government', 'care', 'child', 'url', 'sotu'], ['police', 'ottawa', 'cannot', 'confirm', 'whether', 'gunman', 'shot', 'dead', 'parliament', 'person', 'shot', 'killed', 'soldier', 'war', 'memorial'], ['father', 'shot', 'head', 'honor', 'killing', 'url', 'via', 'nytopinion', 'url'], ['fukushima', 'new', 'looming', 'crisis', 'radioactive', 'groundwater', 'seeping', 'toward', 'pacific', 'ocean', 'mariyamaguchi', 'report', 'url', 'jm'], ['talking', 'angela', 'app', 'hacked', 'asks', 'personal', 'information', 'spread', 'word', 'url'], ['eagle', 'guitarist', 'glenn', 'frey', 'died', 'band', 'announces', 'url'], ['police', 'bystander', 'soldier', 'rushed', 'help', 'memorial', 'shooting', 'ottawa', 'url', 'url'], ['ooooh', 'rose', 'url'], ['new', 'york', 'city', 'marijuana', 'may', 'mean', 'ticket', 'arrest', 'url'], ['huh', 'wall', 'street', 'journal', 'report', 'microsoft', 'close', 'b', 'deal', 'mojang', 'aka', 'creator', 'minecraft', 'url'], ['one', 'person', 'shot', 'outside', 'centre', 'block', 'second', 'wounded', 'inside', 'building', 'parliament', 'hill', 'shooting', 'url'], ['nonwhite', 'actor', 'nearly', 'swept', 'every', 'nominated', 'category', 'sagawards', 'url', 'url'], ['child', 'worried', 'water', 'drinking', 'potus', 'situation', 'flint', 'url'], ['frustrating', 'talking', 'robbery', 'killing', 'unarmed', 'kid', 'ferguson'], ['test', 'find', 'human', 'dna', 'hot', 'dog', 'meat', 'vegetarian', 'product', 'url', 'url'], ['obama', 'cut', 'military', 'pay', 'third', 'year', 'row', 'pushing', 'min', 'wage', 'burger', 'flipper', 'url', 'url'], ['million', 'green', 'card', 'work', 'permit', 'url'], ['target', 'new', 'transgender', 'policy', 'raise', 'sort', 'question', 'url'], ['january', 'th', 'microsoft', 'longer', 'support', 'internet', 'explorer', 'url'], ['sugarhill', 'gang', 'big', 'bank', 'hank', 'dy', 'cancer', 'url', 'url'], ['starbucks', 'testing', 'new', 'latte', 'taste', 'exactly', 'like', 'guinness', 'url', 'url'], ['world', 'without', 'chocolate', 'two', 'world', 'biggest', 'chocolate', 'maker', 'could', 'face', 'shortage', 'url', 'url'], ['afghan', 'woman', 'kill', 'taliban', 'militant', 'son', 'shot', 'dead', 'url', 'bravo', 'url', 'v', 'sydrza'], ['meet', 'quasimodo', 'dog', 'short', 'spine', 'url', 'url'], ['banksy', 'instagram', 'tribute', 'charliehebdo', 'victim', 'posted', 'artist', 'url', 'pic', 'lucille', 'clerc', 'url'], ['woah', 'olivia', 'pope', 'ditch', 'white', 'hat', 'hot', 'new', 'look', 'badass', 'scandal', 'promo', 'url', 'url'], ['kevinvickers', 'hailed', 'hero', 'took', 'attacker', 'parliament', 'hill', 'url', 'ottawashooting', 'url'], ['read', 'thing', 'talking', 'angela', 'talking', 'angela', 'get', 'ur', 'personal', 'info', 'talking', 'angela', 'access', 'ur', 'photo', 'url'], ['alarming', 'isi', 'us', 'chemical', 'weapon', 'kurd', 'kobane', 'url', 'savekobane', 'drwidad', 'url'], ['good', 'news', 'target', 'stock', 'plummet', 'lbgtq', 'bathroombill', 'url', 'tcot', 'pjnet', 'rednationrising', 'url'], ['outrage', 'understatement', 'irs', 'sent', 'refund', 'unauthorized', 'alien', 'atl', 'address', 'url'], ['spider', 'burrow', 'man', 'appendix', 'scar', 'crawl', 'skin', 'url', 'url'], ['happy', 'gossipgirlday', 'url'], ['update', 'downtown', 'ottawa', 'lockdown', 'police', 'say', 'url'], ['year', 'old', 'swatter', 'got', 'year', 'url'], ['new', 'low', 'obama', 'spent', 'money', 'close', 'natl', 'park', 'shut', 'amber', 'alert', 'website', 'look', 'url'], ['oregon', 'militiaman', 'receive', 'fitting', 'nickname', 'yallqaeda', 'url', 'url'], ['seth', 'rogen', 'cast', 'steve', 'wozniak', 'steve', 'job', 'biopic', 'starring', 'christian', 'bale', 'url', 'url'], ['report', 'spider', 'url'], ['newsflash', 'orlando', 'shooter', 'muslim', 'democrat', 'republican', 'christian', 'gaypride', 'url'], ['sugarhill', 'gang', 'big', 'bank', 'hank', 'died', 'url', 'url'], ['uk', 'krispykreme', 'apologizes', 'kkk', 'wednesday', 'customer', 'promo', 'url', 'url'], ['nurse', 'save', 'life', 'different', 'race', 'color', 'hillaryclinton', 'think', 'belong', 'basketofdeplorables', 'url'], ['hillary', 'clinton', 'victoria', 'woodhull', 'pro', 'life', 'feminist', 'ran', 'nominated', 'president', 'url'], ['report', 'caitlyn', 'jenner', 'pose', 'nude', 'sport', 'illustrated', 'url', 'url'], ['sad', 'learn', 'big', 'bank', 'hank', 'passed', 'away', 'sugarhill', 'gang', 'rapper', 'url', 'url'], ['three', 'five', 'detainee', 'swapped', 'isi', 'leader', 'url', 'talibanswap', 'tcot', 'ccot', 'usa', 'bowie', 'url'], ['memorial', 'mh', 'victim', 'form', 'near', 'netherlands', 'embassy', 'kiev', 'url', 'roman', 'pilipey', 'epa', 'url'], ['set', 'first', 'ever', 'national', 'standard', 'limiting', 'amount', 'carbon', 'pollution', 'power', 'plant', 'emit', 'potus', 'url'], ['little', 'known', 'actor', 'became', 'obamas', 'url', 'url'], ['cdc', 'confirmed', 'patient', 'dallas', 'tested', 'positive', 'ebola', 'virus', 'coming', 'khou', 'news', 'p'], ['karma', 'ferguson', 'protestor', 'accidentally', 'burn', 'house', 'url', 'sheepawoken', 'youngblkrepub', 'tcot', 'url'], ['bos', 'want', 'friendly', 'relaxed', 'company', 'culture', 'place', 'friday', 'url', 'url'], ['dog', 'found', 'abandoned', 'scottish', 'train', 'station', 'suitcase', 'filled', 'belonging', 'url', 'url'], ['breaking', 'patient', 'tested', 'ebola', 'kansa', 'url', 'url'], ['ottawa', 'shooting', 'suspect', 'identified', 'michael', 'zehaf', 'bibeau', 'unclear', 'shooter', 'url'], ['niagara', 'fall', 'turned', 'purple', 'day', 'prince', 'died', 'url', 'url'], ['pictured', 'kevin', 'vickers', 'moment', 'shooting', 'dead', 'canadian', 'parliament', 'attacker', 'url', 'url'], ['breaking', 'news', 'ottawa', 'police', 'confirm', 'least', 'separate', 'shooting', 'site', 'multiple', 'suspect', 'url'], ['shooter', 'orlando', 'muslim', 'b', 'registered', 'democrat', 'voter', 'c', 'isi', 'homophobic', 'e', 'ready', 'hillary', 'url'], ['actor', 'portrayed', 'marlboro', 'man', 'cigarette', 'ad', 'late', 'dy', 'smoking', 'related', 'disease', 'url'], ['north', 'korea', 'medium', 'say', 'kim', 'jong', 'un', 'made', 'appearance', 'day', 'missing', 'url', 'url'], ['penis', 'spray', 'painted', 'million', 'bugatti', 'prank', 'video', 'url', 'url'], ['breaking', 'show', 'solidarity', 'hongkong', 'ferguson', 'hand', 'shoot', 'url'], ['north', 'korea', 'say', 'arrested', 'u', 'student', 'charge', 'committing', 'hostile', 'act', 'url'], ['say', 'love', 'fry'], ['celebrity', 'friend', 'co', 'star', 'react', 'paul', 'walker', 'tragic', 'death', 'rippaulwalker', 'url', 'url'], ['paul', 'walker', 'last', 'pic', 'death', 'car', 'accident', 'rip', 'paulwalker', 'url'], ['jose', 'canseco', 'accidentally', 'shot', 'hand', 'la', 'vega', 'home', 'url', 'url'], ['powerful', 'lego', 'letter', 'parent', 'real', 'url', 'url'], ['killer', 'american', 'ranking', 'changed', 'little', 'year', 'url', 'url'], ['florida', 'woman', 'surgically', 'add', 'third', 'breast', 'bid', 'become', 'reality', 'tv', 'star', 'url', 'via', 'daily', 'mail'], ['running', 'chocolate', 'warns', 'world', 'largest', 'chocolate', 'manufacturer', 'url', 'url'], ['j', 'k', 'rowling', 'working', 'th', 'harry', 'potter', 'book'], ['texas', 'first', 'islamic', 'tribunal', 'u', 'sharia', 'law', 'america', 'must', 'stop', 'url', 'fritobandito', 'amymek', 'url'], ['scene', 'ottawa', 'war', 'memorial', 'soldier', 'duty', 'shot', 'url'], ['meet', 'south', 'american', 'goliath', 'birdeater', 'spider', 'size', 'puppy', 'url', 'url'], ['canadian', 'soldier', 'shot', 'war', 'memorial', 'ottawa', 'died', 'according', 'two', 'member', 'parliament', 'live', 'blog', 'url'], ['could', 'buk', 'surface', 'air', 'missile', 'system', 'brought', 'malaysia', 'airline', 'flight', 'url', 'mh', 'url'], ['alan', 'rickman', 'goodbye', 'letter', 'harry', 'potter', 'perfect', 'url', 'url'], ['r', 'p', 'driver', 'died', 'paul', 'walker', 'one', 'care', 'famous'], ['francis', 'teach', 'make', 'doritos', 'flavored', 'mountain', 'dew', 'watch', 'url', 'share', 'url'], ['bowie', 'last', 'album', 'parting', 'gift', 'fan', 'carefully', 'planned', 'finale', 'url', 'url'], ['alright', 'till', 'found', 'paul', 'walker', 'died'], ['touching', 'tribute', 'fallen', 'soldier', 'url', 'url'], ['banksy', 'actually', 'arrested', 'url', 'url'], ['underestimate', 'woman', 'afghan', 'woman', 'called', 'reza', 'gul', 'killed', 'taliban', 'hour', 'gun', 'battle', 'url'], ['starbucks', 'experimenting', 'beer', 'flavored', 'latte', 'reportedly', 'taste', 'like', 'guinness', 'url'], ['iowa', 'man', 'asked', 'ted', 'cruz', 'uncomfortable', 'question', 'room', 'went', 'silent', 'url', 'url'], ['boeing', 'win', 'contract', 'build', 'new', 'air', 'force', 'one', 'presidential', 'jet', 'url', 'url'], ['city', 'louisiana', 'made', 'twerking', 'illegal', 'imposing', 'punishment', 'day', 'jail', 'first', 'offense'], ['talking', 'angela', 'get', 'ur', 'personal', 'info', 'kidnapper', 'watch', 'u', 'ur', 'camera', 'url'], ['banksy', 'share', 'simple', 'beautiful', 'tribute', 'charlie', 'hebdo', 'cartoonist', 'url'], ['target', 'stock', 'taken', 'billion', 'hit', 'insistence', 'insulting', 'regular', 'customer', 'url'], ['whether', 'sideline', 'retirement', 'community', 'nc', 'gotta', 'dab', 'em', 'via', 'piedmont', 'crossing', 'fb', 'url'], ['german', 'forest', 'ranger', 'find', 'tree', 'social', 'network', 'url', 'url'], ['breaking', 'gill', 'rosenberg', 'tel', 'aviv', 'former', 'idf', 'soldier', 'captured', 'isi', 'going', 'iraq', 'join', 'kurd', 'fight', 'isi', 'ch'], ['cornelwest', 'join', 'berniesanders', 'rally', 'davenport', 'iowa', 'watch', 'live', 'url', 'url'], ['eulogy', 'show', 'changed', 'kid', 'tv', 'forever', 'gravityfalls', 'url', 'url'], ['another', 'letter', 'parent', 'included', 'lego', 'set', 'url', 'url'], ['fact', 'first', 'time', 'ever', 'american', 'health', 'coverage', 'acaworks', 'url'], ['oh', 'rt', 'dangillmor', 'hong', 'kong', 'hand', 'shoot', 'emulation', 'ferguson', 'protest', 'powerful', 'image', 'url'], ['rt', 'torinoman', 'walmart', 'donates', 'support', 'darren', 'wilson', 'ferguson', 'boycottwalmart', 'url'], ['black', 'people', 'stubborn', 'change', 'pbagcharge', 'url'], ['photo', 'dog', 'canadian', 'reservist', 'killed', 'national', 'war', 'memorial', 'wait', 'return', 'home', 'url', 'url'], ['one', 'day', 'friday', 'url'], ['calm', 'everyone', 'banksy', 'arrested', 'banksy', 'url', 'url'], ['set', 'zika', 'emergency', 'team', 'explosive', 'spread', 'virus', 'url', 'url'], ['statement', 'ottawa', 'hospital', 'received', 'patient', 'stable', 'condition', 'url'], ['selenagomez', 'prowl', 'hot', 'guy', 'instyleglobes', 'party', 'url', 'url'], ['official', 'took', 'away', 'halloween', 'decoration', 'report', 'real', 'suicide', 'victim', 'still', 'unknown', 'url'], ['listen', 'live', 'special', 'coverage', 'parliament', 'hill', 'shooting', 'url', 'url'], ['j', 'k', 'rowling', 'working', 'th', 'harry', 'potter', 'book'], ['updated', 'attacker', 'shot', 'dead', 'parliament', 'soldier', 'shot', 'national', 'war', 'memorial', 'url', 'cbcott', 'ottnews'], ['incredible', 'rt', 'ryan', 'hand', 'shoot', 'travelled', 'ferguson', 'missouri', 'hongkong', 'url'], ['obama', 'declares', 'stay', 'home', 'mom', 'worth', 'hill', 'bean', 'say', 'choice', 'want', 'american', 'url'], ['send', 'deepest', 'condolence', 'family', 'friend', 'paul', 'walker', 'roger', 'rodas', 'url', 'url'], ['want', 'live', 'planet', 'anymore', 'rt', 'juddlegum', 'pepsi', 'making', 'doritos', 'flavored', 'mountain', 'dew', 'dewitos', 'url'], ['sure', 'first', 'dump', 'pluto', 'calling', 'dwarf', 'planet', 'drive', 'house', 'make', 'sure', 'dating', 'solar', 'system'], ['potus', 'announces', 'new', 'rule', 'aimed', 'advance', 'equalpay', 'url', 'url'], ['giant', 'puppy', 'sized', 'spider', 'found', 'south', 'america', 'said', 'world', 'largest', 'url', 'url'], ['chat', 'mtvteenwolf', 'mandaaabearr', 'kaitiii', 'url'], ['traffic', 'camera', 'accidentally', 'snap', 'beautiful', 'photo', 'snowy', 'owl', 'url', 'url'], ['someone', 'spray', 'painted', 'penis', 'million', 'bugatti', 'veyron', 'url', 'url'], ['elvis', 'presley', 'born', 'day', 'url', 'url'], ['well', 'one', 'way', 'quit', 'job', 'watch', 'alaskan', 'reporter', 'charlo', 'green', 'quit', 'live', 'air', 'url', 'url'], ['isi', 'killing', 'baby', 'afflicted', 'syndrome', 'disability', 'activist', 'claim', 'url'], ['talk', 'time', 'nd', 'brk', 'cruz', 'rubio', 'trump', 'paul', 'christie', 'bush', 'kasich', 'carson', 'fiorina', 'nprdebate'], ['audio', 'tape', 'played', 'cnn', 'seems', 'corroborate', 'witness', 'account', 'darrenwilson', 'kept', 'shooting', 'michaelbrown', 'tried', 'surrender'], ['source', 'microsoft', 'discussion', 'buy', 'minecraft', 'maker', 'mojang', 'billion', 'wsj', 'url'], ['paul', 'walker', 'died', 'age', 'saturday', 'heart', 'go', 'family', 'friend', 'url'], ['groundbreaking', 'female', 'pilot', 'bombed', 'isi', 'disowned', 'family', 'url', 'url'], ['fake', 'news', 'banksy', 'arrested', 'unmasked', 'real', 'banksy', 'shockingly', 'revealed', 'url'], ['man', 'cut', 'penis', 'threw', 'bin', 'girlfriend', 'dumped', 'small', 'manhood', 'url', 'url'], ['mexican', 'president', 'pena', 'nieto', 'plagiarized', 'law', 'thesis', 'report', 'say', 'url', 'url'], ['list', 'overnight', 'arrest', 'ferguson', 'show', 'much', 'higher', 'number', 'official', 'reported', 'url', 'url'], ['ted', 'cruz', 'far', 'consistent', 'conservative', 'crowd', 'url', 'ap', 'photo', 'url'], ['assholeoftheday', 'sen', 'thomas', 'corbin', 'saying', 'woman', 'lesser', 'cut', 'meat', 'url', 'url'], ['target', 'boycott', 'cross', 'million', 'signer', 'stock', 'sink', 'billion', 'breitbart', 'url'], ['motoring', 'world', 'responds', 'paul', 'walker', 'death', 'url', 'url'], ['poland', 'say', 'cannot', 'accept', 'migrant', 'eu', 'quota', 'paris', 'attack', 'update', 'url', 'url'], ['bird', 'pooped', 'putin', 'saying', 'violence', 'begets', 'violence', 'opening', 'monument', 'st', 'world', 'war', 'url'], ['list', 'overnight', 'arrest', 'ferguson', 'much', 'higher', 'official', 'reported', 'url', 'url', 'via', 'fergusonunity'], ['fast', 'furious', 'cast', 'mourns', 'paul', 'walker', 'death', 'url'], ['starbucks', 'testing', 'new', 'latte', 'taste', 'exactly', 'like', 'guinness', 'url'], ['date', 'magic', 'johnson', 'returned', 'nba', 'four', 'year', 'testing', 'positive', 'hiv', 'url'], ['one', 'surprised', 'course', 'obama', 'skipping', 'nancy', 'reagan', 'funeral', 'dignity', 'strongest', 'attribute', 'url'], ['ferguson', 'police', 'beat', 'man', 'charged', 'bleeding', 'url'], ['dog', 'afterlife', 'pope', 'francis', 'say', 'place', 'pet', 'paradise', 'url'], ['dammit', 'transgender', 'year', 'old', 'left', 'suicide', 'note', 'tumblr', 'pleading', 'fix', 'society', 'url', 'via', 'jobarrow', 'buzzfeednews'], ['bank', 'japan', 'introduces', 'negative', 'interest', 'rate', 'counter', 'ongoing', 'economic', 'slump', 'surprise', 'move', 'url'], ['protestors', 'hong', 'kong', 'mimicking', 'hand', 'shoot', 'ferguson', 'demonstration', 'alex', 'ogle', 'getty', 'url'], ['darren', 'wilson', 'paid', 'abc', 'interview', 'hand', 'racism', 'capitalism', 'continue', 'wash', 'one', 'another'], ['fact', 'malaysia', 'airline', 'mh', 'shot', 'may', 'hinder', 'insurance', 'payouts', 'url', 'url'], ['rural', 'region', 'northern', 'france', 'searched', 'hunt', 'charliehebdo', 'gunman', 'latest', 'update', 'url', 'url'], ['letter', 'alan', 'rickman', 'wrote', 'u', 'back', 'upon', 'completing', 'harry', 'potter', 'deathly', 'hallows', 'url'], ['called', 'islamic', 'state', 'propaganda', 'magazine', 'confirms', 'british', 'militant', 'known', 'jihadi', 'john', 'died', 'november', 'url'], ['seems', 'berniesanders', 'back', 'nevada', 'let', 'clarkcountynv', 'dems', 'rig', 'sensanders', 'feelthebern', 'url'], ['internet', 'betty', 'white', 'dead', 'url', 'photo', 'getty', 'url'], ['prayforchristopher', 'please', 'rt', 'fav', 'mean', 'u', 'care', 'maybe', 'chris', 'brown', 'see', 'see', 'care', 'smile'], ['islamic', 'state', 'confirmed', 'jihadi', 'john', 'dead', 'following', 'report', 'killed', 'drone', 'strike', 'raqqa', 'last', 'year'], ['watch', 'potus', 'flotus', 'share', 'favorite', 'olympic', 'memory', 'cheer', 'teamusa', 'url', 'url'], ['kenny', 'tiger', 'syndrome', 'prof', 'perfect', 'beautiful', 'url'], ['legendgary', 'hitemup', 'bad', 'boy', 'c', 'e', 'iamdiddy', 'arrested', 'connection', 'murder', 'tupac', 'shakur', 'url', 'wethewest'], ['breaking', 'malaysia', 'airline', 'plane', 'shot', 'carrying', 'people', 'url', 'url'], ['hewlett', 'packard', 'split', 'pc', 'printer', 'business', 'corporate', 'hardware', 'service', 'url', 'hpq', 'url'], ['convicted', 'killer', 'levi', 'bellfield', 'finally', 'admits', 'murder', 'schoolgirl', 'milly', 'dowler', 'police', 'say', 'url'], ['surprising', 'number', 'vegetarian', 'secretly', 'eat', 'meat', 'url', 'url'], ['r', 'p', 'paul', 'walker', 'died', 'loved', 'url'], ['suicide', 'bomber', 'killed', 'least', 'turkey', 'aged', 'state', 'run', 'news', 'agency', 'quote', 'president', 'saying', 'url'], ['james', 'mcavoy', 'make', 'another', 'vote', 'batman', 'agree', 'let', 'u', 'know', 'empirebvs', 'url'], ['obama', 'file', 'federal', 'charge', 'george', 'zimmerman', 'following', 'acquittal', 'shooting', 'murder', 'trayvon', 'martin', 'url'], ['still', 'cah', 'believe', 'paul', 'walker', 'died', 'r', 'p', 'paul', 'walker', 'r', 'p', 'brian', 'connor', 'r', 'p', 'fast', 'furious', 'url'], ['paul', 'walker', 'genuinely', 'admirable', 'history', 'organizing', 'participating', 'international', 'disaster', 'relief', 'mission', 'url'], ['watch', 'paul', 'walker', 'last', 'trailer', 'film', 'hour', 'movie', 'set', 'release', 'two', 'week', 'url'], ['team', 'usa', 'largest', 'margin', 'victory', 'gold', 'medal', 'game', 'since', 'dream', 'team', 'beat', 'croatia', 'url'], ['mike', 'brown', 'murder', 'trial', 'witness', 'deandrejoshua', 'fatally', 'shot', 'set', 'fire', 'verdict', 'deandrejoshua', 'url'], ['ex', 'marlboro', 'man', 'dy', 'smoking', 'related', 'disease', 'url', 'via', 'fox'], ['good', 'sweet', 'lord', 'pepsi', 'actually', 'testing', 'doritos', 'flavored', 'mountain', 'dew', 'url', 'url'], ['get', 'ready', 'binge', 'watch', 'gilmoregirls', 'coming', 'back', 'time', 'netflix', 'url', 'url'], ['eamaddennfl', 'successfully', 'predicted', 'final', 'score', 'sb', 'yes', 'true', 'url', 'url'], ['breaking', 'suspect', 'beheading', 'journalist', 'james', 'foley', 'named', 'abdel', 'majed', 'abdel', 'bary', 'url', 'via', 'israelbreaking'], ['sc', 'state', 'senator', 'also', 'opposes', 'bill', 'would', 'make', 'harder', 'domestic', 'abuser', 'gun', 'url', 'url'], ['initial', 'dq', 'u', 'woman', 'reinstated', 'run', 'x', 'relay', 'bid', 'make', 'final', 'url', 'url'], ['thought', 'love', 'steve', 'carell', 'help', 'carol', 'burnett', 'sagawards', 'stage', 'url'], ['iphone', 'plus', 'owner', 'accidentally', 'bending', 'iphones', 'pocket', 'url', 'kellyhodgkins'], ['charliehebdo', 'shooting', 'gunman', 'shouted', 'avenged', 'prophet', 'attack', 'report', 'url', 'url'], ['annual', 'simulated', 'madden', 'game', 'made', 'several', 'accurate', 'sb', 'prediction', 'including', 'final', 'score', 'url', 'url'], ['fact', 'florida', 'state', 'university', 'shooter', 'last', 'facebook', 'status', 'bible', 'verse', 'matthew', 'imagine', 'quran', 'url'], ['international', 'criminal', 'george', 'soros', 'boi', 'davidbrockdc', 'sooo', 'busted', 'fauxprotests', 'ringer', 'realdonaldtrump', 'url'], ['breaking', 'least', 'shot', 'fired', 'canadian', 'parliament', 'ottawa', 'according', 'witness'], ['target', 'stock', 'plunge', 'early', 'day', 'americanfamassc', 'boycott', 'url'], ['ai', 'weiwei', 'close', 'copenhagen', 'exhibit', 'protest', 'denmark', 'new', 'asylum', 'seeker', 'law', 'url'], ['banksy', 'arrested', 'url', 'url'], ['movie', 'brought', 'thrill', 'laughter', 'million', 'believe', 'died', 'car', 'crash', 'rip', 'paul', 'walker', 'url'], ['female', 'peshmerga', 'warrior', 'rehana', 'credited', 'killing', 'isi', 'scumbags', 'reportedly', 'captured', 'beheaded', 'rip', 'url'], ['astronomer', 'say', 'confirmed', 'existence', 'galaxy', 'largest', 'solar', 'system', 'url'], ['thought', 'prayer', 'canadian', 'soldier', 'shot', 'guarding', 'national', 'war', 'memorial', 'ottawa', 'ableg', 'cdnpoli'], ['three', 'missing', 'afghan', 'officer', 'custody', 'u', 'canada', 'border', 'police', 'say', 'url'], ['live', 'dubai', 'hotel', 'fire', 'near', 'burj', 'khalifa', 'tower', 'url', 'url'], ['let', 'stop', 'calling', 'lady', 'beheaded', 'etc', 'dehumanizes', 'colleen', 'hufford', 'people', 'loved', 'life'], ['human', 'dna', 'found', 'hot', 'dog', 'vegetarian', 'sausage', 'contain', 'meat', 'url', 'url'], ['people', 'killed', 'hurt', 'seattle', 'area', 'homeless', 'encampment', 'police', 'say', 'shooter', 'large', 'url'], ['today', 'mark', 'yr', 'since', 'liberation', 'auschwitz', 'city', 'death', 'url', 'holocaustmemorialday', 'url'], ['abc', 'please', 'tweet', 'saying', 'pay', 'compensate', 'darren', 'wilson', 'interview', 'way', 'waiting', 'ferguson'], ['sudden', 'tragic', 'death', 'paulwalker', 'reminds', 'u', 'take', 'even', 'moment', 'granted', 'bc', 'blink', 'sosad'], ['new', 'audio', 'recording', 'reveals', 'shot', 'pause', 'shot', 'mike', 'brown', 'killing', 'shot', 'fired', 'url'], ['banksy', 'illustrated', 'response', 'charlie', 'hebdo', 'attack', 'banksy', 'striking', 'url', 'url'], ['challenge', 'saudi', 'woman', 'face', 'vote', 'stand', 'election', 'first', 'time', 'url', 'url'], ['ok', 'mt', 'alexpappas', 'photo', 'passenger', 'dulles', 'waiting', 'flight', 'wearing', 'hazmat', 'suit', 'url', 'url'], ['dear', 'president', 'obama', 'look', 'like', 'stay', 'home', 'mom', 'vote'], ['shot', 'fired', 'canada', 'national', 'war', 'memorial', 'ottawa', 'ceremonial', 'guard', 'shot', 'police', 'say', 'url'], ['siege', 'burkina', 'faso', 'hotel', 'taken', 'suspected', 'islamist', 'gunman', 'report', 'say', 'nearby', 'hotel', 'attacked', 'url'], ['congress', 'allocates', 'million', 'protect', 'remaining', 'eagle', 'member', 'url', 'url'], ['realpaulwalker', 'died', 'fiery', 'car', 'crash', 'fastfurious', 'filmmaker', 'commemorate', 'legacy', 'dedicating', 'next', 'six', 'sequel'], ['canadian', 'soldier', 'shot', 'country', 'national', 'war', 'memorial', 'near', 'parliament', 'url', 'url'], ['trump', 'supporter', 'could', 'stand', 'middle', 'th', 'ave', 'shoot', 'somebody', 'lose', 'voter', 'url'], ['explorer', 'henry', 'worsley', 'dy', 'suffering', 'exhaustion', 'dehydration', 'solo', 'antarctic', 'crossing', 'attempt', 'url'], ['sydneysiege', 'latest', 'video', 'hostage', 'escaping', 'url'], ['appeal', 'court', 'judge', 'rule', 'called', 'bedroom', 'tax', 'discriminatory', 'two', 'case', 'brought', 'uk', 'government', 'url'], ['adam', 'test', 'spider', 'adam', 'url', 'url'], ['transgender', 'year', 'old', 'left', 'suicide', 'note', 'tumblr', 'pleading', 'fix', 'society', 'url'], ['congratulation', 'jennifer', 'lawrence', 'url', 'oscarnoms', 'oscar', 'url'], ['powerful', 'letter', 'lego', 'parent', 'real', 'url', 'url'], ['new', 'link', 'ferguson', 'police', 'release', 'video', 'say', 'show', 'robbery', 'involving', 'michaelbrown', 'url', 'url'], ['urgent', 'isi', 'using', 'bomb', 'containing', 'live', 'scorpion', 'spread', 'fear', 'iraq', 'url', 'url'], ['berniesanders', 'hillaryclinton', 'email', 'serious', 'issue', 'url', 'url'], ['breaking', 'tesla', 'choose', 'nevada', 'gigafactory', 'source', 'tell', 'cnbc', 'url'], ['miami', 'desperate', 'turnover', 'instead', 'nc', 'state', 'got', 'dunk', 'big', 'upset', 'win', 'url'], ['vampire', 'bambi', 'rare', 'fanged', 'deer', 'confirmed', 'afghanistan', 'year', 'url', 'url'], ['donna', 'douglas', 'elly', 'may', 'clampett', 'beverly', 'hillbilly', 'dy', 'url'], ['survey', 'vegetarian', 'admits', 'eating', 'meat', 'drunk', 'url'], ['nyc', 'pride', 'parade', 'orlando', 'republican', 'hate', 'kill', 'orlando', 'shooter', 'muslim', 'democrat', 'url'], ['tyrese', 'crash', 'site', 'paul', 'walker', 'died', 'proper', 'feel', 'url'], ['breaking', 'shot', 'fired', 'hostage', 'taken', 'manhunt', 'charliehebdo', 'attacker', 'police', 'say', 'url', 'url'], ['colombus', 'ohio', 'police', 'officer', 'served', 'sandwich', 'shard', 'glass', 'url'], ['week', 'sport', 'bill', 'belichick', 'visit', 'hospital', 'watch', 'terminally', 'ill', 'fan', 'die', 'url', 'url'], ['man', 'saw', 'gunman', 'shoot', 'canadian', 'soldier', 'war', 'memorial', 'say', 'shooter', 'raised', 'arm', 'triumph', 'url'], ['oklahoma', 'beheading', 'suspect', 'alton', 'nolen', 'ordered', 'held', 'without', 'bond', 'url', 'url'], ['fukushima', 'toxic', 'water', 'leak', 'level', 'serious', 'incident', 'url', 'fuck', 'tepco', 'fucking', 'ocean', 'boiling', 'yan'], ['crowd', 'chant', 'job', 'cnn', 'crew', 'url'], ['obama', 'say', 'stay', 'home', 'mom', 'choice', 'want', 'american', 'make', 'url'], ['update', 'parliament', 'hill', 'attack', 'soldier', 'dy', 'injury', 'gunman', 'shot', 'dead', 'url', 'ottawashooting', 'url'], ['transgender', 'teen', 'leelah', 'alcorn', 'publishes', 'suicide', 'note', 'tumblr', 'death', 'need', 'mean', 'something', 'url'], ['minor', 'leaguer', 'hit', 'grand', 'slam', 'later', 'find', 'broke', 'windshield', 'url', 'url'], ['apple', 'fan', 'tight', 'pant', 'bending', 'iphone', 'plus', 'url', 'bendghazi', 'url'], ['surreal', 'photo', 'ottawa', 'vip', 'escorted', 'spark', 'street', 'url', 'url'], ['fdr', 'said', 'nothing', 'american', 'national', 'park', 'potus', 'np', 'findyourpark', 'url'], ['justinbieber', 'kendalljenner', 'strip', 'new', 'calvinklein', 'ad', 'url', 'url'], ['update', 'ottawa', 'police', 'confirm', 'gunman', 'canada', 'shooting', 'shot', 'killed', 'search', 'possible', 'additional', 'gunman', 'url'], ['area', 'dad', 'want', 'watch', 'one', 'hour', 'block', 'television', 'without', 'interruption', 'url', 'url'], ['url', 'end', 'operation', 'next', 'week', 'url'], ['caitlyn', 'jenner', 'pose', 'nude', 'sport', 'illustrated', 'cover', 'nothing', 'say', 'sexy', 'like', 'year', 'old', 'chick', 'ball'], ['dog', 'abandoned', 'scottish', 'railway', 'station', 'suitcase', 'full', 'belonging', 'url', 'url'], ['one', 'direction', 'fan', 'lot', 'mixed', 'emotion', 'zayn', 'pillowtalk', 'think', 'url', 'url'], ['shoot', 'unarmed', 'kid', 'conceal', 'evidence', 'impose', 'martial', 'law', 'harass', 'reporter', 'smear', 'victim', 'worst', 'police', 'ever', 'ferguson', 'mikebrown'], ['pledge', 'boycott', 'target', 'transgender', 'bathroom', 'policy', 'url', 'url'], ['donald', 'trump', 'spokesperson', 'decried', 'lack', 'pure', 'breed', 'running', 'president', 'url', 'url'], ['uk', 'aid', 'worker', 'david', 'haines', 'beheaded', 'isi', 'remember', 'great', 'giving', 'man', 'way', 'isi', 'want', 'acted', 'url'], ['believe', 'got', 'take', 'step', 'modernize', 'unemployment', 'insurance', 'system', 'potus', 'url', 'url'], ['caitlyn', 'jenner', 'pose', 'nude', 'sport', 'illustrated', 'cover', 'ball', 'censored', 'sad', 'michael', 'jordan', 'face'], ['leo', 'first', 'sag', 'sagawards', 'url'], ['hoppla', 'l', 'gg', 'l', 'swiss', 'rumor', 'putin', 'absence', 'due', 'girlfriend', 'alina', 'giving', 'birth', 'ticino', 'url', 'url'], ['remembering', 'paul', 'walker', 'fast', 'furious', 'star', 'happy', 'hour', 'tragic', 'death', 'url'], ['conversation', 'x', 'japan', 'yoshiki', 'documentarian', 'stephen', 'kijak', 'url', 'url'], ['truth', 'bomb', 'zaynmalik', 'dropped', 'first', 'solo', 'broadcast', 'interview', 'url', 'zaynonbeats', 'url'], ['potus', 'bet', 'big', 'rescuing', 'american', 'auto', 'industry', 'today', 'roaring', 'back', 'url', 'url'], ['make', 'sure', 'kid', 'equipped', 'job', 'future', 'potus', 'csforall', 'url'], ['dog', 'found', 'abandoned', 'scottish', 'train', 'station', 'suitcase', 'belonging', 'photo', 'spca', 'url', 'url'], ['paul', 'walker', 'character', 'fast', 'furious', 'named', 'brian', 'brian', 'family', 'guy', 'also', 'died', 'week', 'death', 'involved', 'car', 'umm'], ['animaloftheday', 'first', 'afghan', 'fanged', 'deer', 'seen', 'year', 'url', 'url'], ['breaking', 'michael', 'zehaf', 'bebeau', 'designated', 'high', 'risk', 'traveller', 'cdn', 'govt', 'confiscated', 'passport', 'url'], ['powerful', 'lego', 'letter', 'parent', 'gender', 'creativity', 'real', 'url', 'url'], ['year', 'old', 'swatted', 'gamer', 'convicted', 'domestic', 'terrorism', 'year', 'life', 'federal', 'prison', 'url'], ['sydney', 'opera', 'house', 'evacuated', 'concourse', 'deserted', 'url', 'sydneysiege', 'via', 'cberkman', 'url'], ['donna', 'douglas', 'known', 'role', 'elly', 'may', 'clampett', 'beverly', 'hillbilly', 'dy', 'url', 'url'], ['move', 'get', 'dumbass', 'kristen', 'stewart', 'trash', 'military', 'defends', 'terrorist', 'url', 'tcot', 'url'], ['disney', 'making', 'first', 'movie', 'feature', 'two', 'gay', 'prince', 'fall', 'love', 'amazing'], ['disney', 'world', 'open', 'new', 'ordeal', 'kingdom', 'family', 'meltdown', 'url', 'url'], ['head', 'isi', 'abu', 'bakr', 'al', 'baghdadi', 'said', 'critically', 'wounded', 'u', 'air', 'strike', 'url'], ['hand', 'shoot', 'used', 'ten', 'thousand', 'form', 'protest', 'hong', 'kong', 'powerful', 'via', 'mrmedina', 'url'], ['dorm', 'room', 'decorated', 'empty', 'bottle', 'adderall', 'url'], ['islamic', 'tribunal', 'texas', 'operating', 'sharia', 'law', 'db', 'lodisilverado', 'amymek', 'tcot', 'url', 'url'], ['breaking', 'fbi', 'uncovers', 'new', 'audio', 'neighbor', 'skype', 'lawyer', 'count', 'shot', 'mikebrown', 'url', 'url'], ['police', 'ferguson', 'plan', 'release', 'name', 'officer', 'shot', 'unarmed', 'teen', 'michael', 'brown', 'url', 'url'], ['ignore', 'cold', 'homeless', 'guy', 'sitting', 'outside', 'starbucks', 'please', 'sure', 'complain', 'non', 'christian', 'red', 'cup', 'coffee'], ['french', 'police', 'chief', 'killed', 'charliehebdo', 'attack', 'url', 'url'], ['sister', 'kyliejenner', 'kourtneykardash', 'instyleglobes', 'bash', 'goldenglobes', 'url'], ['someone', 'trolled', 'twitter', 'thinking', 'macklemore', 'joined', 'isi', 'url', 'url'], ['seriously', 'must', 'good', 'life', 'fake', 'fluffydied', 'shit', 'popping', 'url'], ['three', 'five', 'detainee', 'swapped', 'isi', 'leader', 'claim', 'url', 'url', 'url'], ['ap', 'iraqi', 'official', 'say', 'u', 'airstrikes', 'wounded', 'leader', 'islamic', 'state', 'militant', 'group', 'abu', 'bakr', 'al', 'baghdadi'], ['running', 'chocolate', 'warns', 'world', 'largest', 'chocolate', 'manufacturer', 'url', 'url'], ['olympics', 'u', 'woman', 'win', 'th', 'straight', 'x', 'relay', 'gold', 'giving', 'allyson', 'felix', 'career', 'gold', 'url', 'url'], ['clinton', 'campaign', 'made', 'payment', 'hard', 'drive', 'destruction', 'company', 'destruction', 'hard', 'drive', 'hillaryclinton', 'url'], ['hobby', 'lobby', 'asks', 'ferguson', 'pd', 'clarification', 'thought', 'chopping', 'someone', 'hand', 'maximum', 'penalty', 'shoplifting'], ['war', 'memorial', 'ottawa', 'soldier', 'shot', 'giving', 'treatment', 'breaking', 'url'], ['let', 'start', 'boycotting', 'koch', 'industiers', 'paid', 'george', 'zimmerman', 'legal', 'fee', 'justicefortrayvon', 'jurorb', 'url'], ['homicide', 'among', 'top', 'five', 'cause', 'death', 'adolescent', 'url', 'endviolence', 'url'], ['massachusetts', 'court', 'find', 'reasonable', 'black', 'men', 'run', 'police', 'avoid', 'racial', 'profiling', 'url'], ['official', 'berniesanders', 'actually', 'nevada', 'today', 'came', 'factor', 'enthusiasm', 'organization', 'url'], ['helpful', 'know', 'douche', 'harvard', 'prof', 'ben', 'edelman', 'racist', 'student', 'url'], ['polling', 'prove', 'bernie', 'sander', 'hispanic', 'vote', 'nevada', 'url'], ['briton', 'filmed', 'abusing', 'girl', 'young', 'eight', 'philippine', 'sentenced', 'uk', 'year', 'url'], ['r', 'p', 'roger', 'rodas', 'ceo', 'racer', 'died', 'paul', 'walker', 'yesterday', 'originally', 'santa', 'ana', 'el', 'salvador'], ['hp', 'confirms', 'splitting', 'two', 'company', 'cutting', 'job', 'url', 'hp', 'url'], ['transgender', 'teen', 'leaf', 'heartbreaking', 'suicide', 'note', 'tumblr', 'getting', 'hit', 'truck', 'url', 'url'], ['kim', 'jong', 'un', 'may', 'injured', 'leg', 'still', 'control', 'north', 'korea', 'source', 'say', 'url', 'url'], ['evidence', 'found', 'gunfire', 'naval', 'medical', 'center', 'san', 'diego', 'building', 'search', 'continues', 'military', 'say', 'url'], ['banksy', 'prof', 'arrested', 'put', 'new', 'piece', 'bristol', 'take', 'look', 'url', 'url'], ['icymi', 'selena', 'killer', 'former', 'fan', 'club', 'president', 'released', 'early', 'prison', 'url', 'url'], ['passenger', 'waiting', 'flight', 'washington', 'airport', 'taking', 'risk', 'url', 'url'], ['doritos', 'flavored', 'mountain', 'dew', 'real', 'thing', 'url', 'url'], ['pick', 'company', 'month', 'million', 'family', 'join', 'afa', 'target', 'boycott', 'stock', 'take', 'billion', 'hit', 'url'], ['niagara', 'fall', 'turned', 'purple', 'day', 'prince', 'died', 'url', 'url'], ['hp', 'confirmed', 'splitting', 'two', 'company', 'cutting', 'job', 'url', 'hp', 'url'], ['u', 'intel', 'missile', 'hit', 'mh', 'likely', 'fired', 'pro', 'russian', 'separatist', 'detail', 'url', 'url'], ['fanged', 'deer', 'pop', 'afghanistan', 'year', 'last', 'appearance', 'url', 'url'], ['way', 'live', 'social', 'connecting', 'people', 'information', 'world', 'work', 'way', 'url'], ['confirmed', 'mikebrown', 'criminal', 'record', 'url', 'ferguson', 'url'], ['donald', 'trump', 'least', 'favorably', 'viewed', 'presidential', 'candidate', 'since', 'least', 'url'], ['kevin', 'vickers', 'hailed', 'hero', 'took', 'attacker', 'parliament', 'hill', 'url', 'cbcott', 'ottnews', 'url'], ['read', 'abc', 'paid', 'darren', 'wilson', 'k', 'interview', 'destroying', 'black', 'life', 'remains', 'lucrative', 'american', 'career', 'ferguson'], ['barackobama', 'department', 'justice', 'file', 'federal', 'charge', 'georgezimmerman'], ['onedirection', 'new', 'music', 'video', 'history', 'walk', 'memory', 'lane', 'url', 'dhistoryvideo', 'url'], ['extraordinary', 'broadcaster', 'tribute', 'paid', 'sir', 'terry', 'wogan', 'died', 'aged', 'url', 'url'], ['estimated', 'ton', 'contaminated', 'water', 'leaking', 'pacific', 'ocean', 'per', 'day', 'wrecked', 'fukushima', 'nuclear', 'plant', 'url'], ['old', 'banksy', 'arrested', 'hoax', 'back', 'buy', 'url'], ['hard', 'believe', 'paul', 'walker', 'died', 'yesterday', 'fast', 'furious', 'way', 'young', 'rip', 'url'], ['michigan', 'gov', 'onetoughnerd', 'flintwatercrisis', 'may', 'affect', 'many', 'child', 'url', 'url'], ['drzuhdijasser', 'disgraceful', 'mosque', 'potus', 'picked', 'first', 'visit', 'ffweekend', 'url'], ['barack', 'obama', 'doj', 'shut', 'amber', 'alert', 'system', 'add', 'dead', 'kid', 'length', 'willing', 'go', 'shutdown', 'game'], ['bb', 'vault', 'donald', 'trump', 'dad', 'arrested', 'kkk', 'brawl', 'cop', 'url', 'url'], ['macklemorejoinedisis'], ['employee', 'chick', 'fil', 'said', 'banned', 'using', 'slang', 'bae', 'bruh', 'ratchet', 'url', 'url'], ['five', 'movie', 'role', 'made', 'u', 'fall', 'love', 'paul', 'walker', 'url', 'rippaulwalker', 'url'], ['jack', 'white', 'avett', 'brother', 'premiered', 'six', 'part', 'music', 'doc', 'sundance', 'report', 'url', 'url'], ['maybe', 'tupac', 'alive', 'dead'], ['dead', 'list', 'banned', 'slang', 'chick', 'fil', 'manager', 'url'], ['stop', 'believing', 'see', 'facebook', 'rt', 'lilduval', 'ebola', 'found', 'hair', 'extension', 'bitch', 'wear', 'weave'], ['first', 'female', 'candidate', 'president', 'hillaryclinton', 'victoria', 'woodhull', 'nhpolitics', 'tcot', 'url'], ['viral', 'mexico', 'mass', 'grave', 'discovered', 'student', 'protester', 'go', 'missing', 'url', 'url'], ['alive', 'see', 'soon'], ['believe', 'macklemore', 'joined', 'isi', 'pity', 'macklemorejoinedisis'], ['goliath', 'encounter', 'puppy', 'sized', 'spider', 'surprise', 'scientist', 'rainforest', 'beargrylls', 'midnight', 'url', 'url'], ['say', 'lot', 'worldview', 'hear', 'obama', 'donating', 'muslim', 'museum', 'make', 'sense', 'url'], ['obama', 'daughter', 'pregnant', 'obama', 'get', 'internet', 'shut', 'olivia', 'type', 'time', 'gonna', 'sick'], ['smart', 'people', 'racist', 'le', 'smart', 'people', 'smart', 'enough', 'hide', 'url', 'url'], ['thing', 'successful', 'people', 'breakfast', 'url', 'url'], ['japan', 'first', 'stealth', 'fighter', 'unveiled', 'url', 'url'], ['tiny', 'alpine', 'town', 'northern', 'italy', 'welcomed', 'first', 'baby', 'year', 'url', 'url'], ['jew', 'anywhere', 'targeted', 'jewish', 'must', 'respond', 'together', 'potus', 'israelinusa', 'url'], ['got', 'one', 'planet', 'watch', 'potus', 'share', 'progress', 'made', 'protect', 'actonclimate', 'url'], ['president', 'argentina', 'adopts', 'jewish', 'godson', 'stop', 'turning', 'werewolf', 'url', 'url'], ['hong', 'kong', 'protester', 'using', 'hand', 'shoot', 'gesture', 'ferguson', 'url', 'url'], ['someone', 'spray', 'painted', 'penis', 'bugatti', 'veyron', 'url', 'url'], ['update', 'one', 'shooter', 'possibly', 'loose', 'ottawa', 'amid', 'report', 'shooting', 'city', 'url'], ['ex', 'marlboro', 'man', 'dy', 'smoking', 'related', 'disease', 'url'], ['antoniofrench', 'alleged', 'new', 'shooting', 'audio', 'michaelbrown', 'url'], ['current', 'passenger', 'breakdown', 'nationality', 'via', 'theage', 'smh', 'mh', 'url', 'url'], ['donald', 'trump', 'go', 'louisiana', 'flooding', 'site', 'spends', 'minute', 'handing', 'play', 'doh', 'leaf', 'url', 'whereshillary'], ['surprising', 'number', 'vegetarian', 'secretly', 'eat', 'meat', 'url', 'url'], ['vladimir', 'putin', 'motorcade', 'seen', 'air', 'url', 'url'], ['powerful', 'image', 'yes', 'drawn', 'lucilleclerc', 'banksy', 'detail', 'url', 'charliehebdo', 'url'], ['former', 'federal', 'agent', 'find', 'story', 'hard', 'believe', 'even', 'white', 'house', 'url', 'spitehouse'], ['internet', 'thing', 'security', 'bad', 'search', 'engine', 'sleeping', 'kid', 'url'], ['new', 'audio', 'help', 'michael', 'brown', 'investigation', 'listen', 'attorney', 'say', 'could', 'key', 'investigation', 'url'], ['update', 'uk', 'prime', 'minister', 'david', 'cameron', 'describes', 'apparent', 'beheading', 'david', 'haines', 'act', 'pure', 'evil', 'url'], ['kenny', 'considered', 'first', 'tiger', 'syndrome', 'age', 'nine', 'kenny', 'died', 'cancer', 'url'], ['graffiti', 'artist', 'banksy', 'arrested', 'london', 'identity', 'revealed', 'national', 'report', 'national', 'report', 'url'], ['canadian', 'government', 'office', 'locked', 'ottawa', 'armed', 'attack', 'url', 'url'], ['french', 'justice', 'minister', 'quits', 'apparent', 'protest', 'plan', 'strip', 'citizenship', 'people', 'convicted', 'terrorism', 'url'], ['detail', 'radioactive', 'water', 'fukushima', 'risen', 'cm', 'protective', 'barrier', 'freely', 'leaking', 'ocean', 'url'], ['refusing', 'pay', 'p', 'bag', 'charge', 'backfire', 'url'], ['driver', 'died', 'accident', 'paul', 'walker', 'forget', 'famous', 'url'], ['kinda', 'muslim', 'woman', 'afghan', 'mother', 'daughter', 'daughter', 'law', 'team', 'kill', 'taliban', 'avenge', 'son', 'murder', 'url'], ['obama', 'gently', 'guide', 'michelle', 'hand', 'maneuver', 'drone', 'joystick', 'url', 'url'], ['target', 'boycott', 'cross', 'million', 'signer', 'stock', 'sink', 'billion', 'url'], ['ibtihaj', 'muhammad', 'win', 'bronze', 'fencing', 'becomes', 'first', 'u', 'olympian', 'compete', 'hijab', 'url', 'url'], ['store', 'owner', 'told', 'fox', 'monday', 'theft', 'said', 'michaelbrown', 'said', 'someone', 'else', 'ferguson'], ['least', 'two', 'people', 'dead', 'shooting', 'school', 'northern', 'saskatchewan', 'canadian', 'government', 'official', 'said', 'url'], ['little', 'io', 'bug', 'deletes', 'icloud', 'data', 'try', 'reset', 'setting', 'url', 'url'], ['microsoft', 'buy', 'mojang', 'billion', 'report', 'deal', 'finalised', 'early', 'week', 'url', 'url'], ['afghanistan', 'lot', 'know', 'need', 'deer', 'fang', 'god', 'url', 'url'], ['report', 'active', 'gunman', 'san', 'diego', 'navy', 'medical', 'centre', 'url'], ['rip', 'roger', 'rodas', 'man', 'died', 'paul', 'walker', 'rippaulwalker', 'riprogerrodas', 'url'], ['least', 'killed', 'triple', 'bombing', 'near', 'damascus', 'url'], ['breakfast', 'around', 'url'], ['icymi', 'tom', 'brady', 'penned', 'heartfelt', 'thank', 'note', 'patriot', 'fan', 'url', 'url'], ['killer', 'american', 'ranking', 'changed', 'little', 'year', 'url', 'url'], ['pledge', 'boycott', 'target', 'transgender', 'bathroom', 'policy', 'url', 'url'], ['hewlett', 'packard', 'split', 'pc', 'printer', 'business', 'corporate', 'hardware', 'according', 'report', 'url', 'url'], ['fukushima', 'state', 'emergency', 'leaking', 'ton', 'radioactive', 'water', 'ocean', 'daily', 'learn', 'url'], ['report', 'ferguson', 'police', 'beat', 'wrong', 'suspect', 'charged', 'getting', 'blood', 'uniform', 'url'], ['bug', 'io', 'reset', 'setting', 'option', 'also', 'era', 'icloud', 'drive', 'document', 'url', 'julipuli'], ['truth', 'nod', 'thexfiles', 'cia', 'release', 'hundred', 'declassified', 'doc', 'url', 'url'], ['family', 'say', 'beverly', 'hillbilly', 'actress', 'donna', 'douglas', 'dead', 'age', 'nbc', 'url'], ['cartoon', 'perfect', 'tribute', 'nathan', 'cirillo', 'ottawashooting', 'url', 'url'], ['meet', 'south', 'american', 'goliath', 'birdeater', 'spider', 'size', 'puppy', 'url', 'url'], ['tedcruz', 'bernie', 'socialist', 'admits', 'hillary', 'socialist', 'pretend', 'teamcavuto', 'url'], ['japan', 'fukushima', 'nuclear', 'plant', 'leaking', 'gallon', 'radioactive', 'water', 'ocean', 'daily', 'url'], ['sander', 'latino', 'vote', 'according', 'sample', 'data', 'compared', 'clinton', 'nvcaucus', 'url'], ['quote', 'day', 'url', 'url'], ['update', 'photo', 'suspect', 'alton', 'nolen', 'moore', 'okla', 'beheading', 'released', 'url', 'url'], ['breaking', 'news', 'ottawa', 'police', 'confirm', 'abc', 'news', 'looking', 'suspect', 'one', 'dealt', 'url'], ['mh', 'believed', 'shot', 'old', 'soviet', 'built', 'buk', 'surface', 'air', 'missile', 'system', 'url', 'url'], ['research', 'matter', 'leadership', 'quality', 'competence', 'url', 'url'], ['la', 'vega', 'raider', 'url', 'url'], ['come', 'texas', 'confirmed', 'islamic', 'tribunal', 'using', 'sharia', 'law', 'texas', 'url', 'url'], ['least', 'three', 'french', 'soldier', 'killed', 'avalanche', 'alp', 'training', 'exercise', 'french', 'medium', 'url'], ['hostage', 'taken', 'people', 'killed', 'attack', 'burkina', 'faso', 'hotel', 'militant', 'foreign', 'minister', 'say', 'url'], ['know', 'mostly', 'long', 'article', 'book', 'right', 'url'], ['non', 'essential', 'service', 'shutdown', 'someone', 'explain', 'url', 'essential', 'url'], ['tmz', 'posted', 'two', 'day', 'paul', 'walker', 'died', 'illuminati', 'url'], ['speed', 'play', 'part', 'paul', 'walker', 'death', 'url'], ['always', 'hilarious', 'shelleyhennig', 'taken', 'mtvteenwolf', 'vine', 'amazing', 'sound', 'url'], ['masked', 'men', 'dressed', 'black', 'involved', 'migrant', 'attack', 'stockholm', 'url', 'url'], ['president', 'obama', 'daughter', 'wear', 'pro', 'era', 'shirt', 'url', 'url'], ['fanged', 'deer', 'pop', 'afghanistan', 'year', 'last', 'appearance', 'url', 'url'], ['developing', 'story', 'shot', 'fired', 'parliament', 'hill', 'soldier', 'shot', 'war', 'memorial', 'url', 'ottawa', 'url'], ['young', 'woman', 'shot', 'nerf', 'bullet', 'ferguson', 'police', 'officer', 'lost', 'eye', 'url'], ['hot', 'pocket', 'recall', 'involves', 'meat', 'place', 'fda', 'say', 'processed', 'diseased', 'unsound', 'animal', 'url', 'url'], ['stephen', 'curry', 'taking', 'making', 'absurdly', 'long', 'pointer', 'ever', 'url', 'via', 'wsjsports', 'url'], ['al', 'shabab', 'militant', 'overrun', 'african', 'union', 'base', 'somalia', 'amid', 'unconfirmed', 'claim', 'dozen', 'soldier', 'killed', 'url'], ['puppy', 'sized', 'spider', 'found', 'south', 'america', 'known', 'south', 'american', 'goliath', 'birdeater', 'url'], ['darren', 'wilson', 'six', 'year', 'veteran', 'ferguson', 'police', 'disciplinary', 'action'], ['canada', 'parliament', 'shooting', 'still', 'active', 'shooter', 'separate', 'shooting', 'site', 'multiple', 'gunman', 'gunman', 'dead', 'url'], ['sorry', 'anything', 'today', 'watching', 'pillowtalk', 'repeat', 'url', 'url'], ['paul', 'walker', 'fast', 'furious', 'costars', 'react', 'actor', 'tragic', 'death', 'url'], ['canadian', 'soldier', 'shot', 'war', 'memorial', 'died', 'official', 'reported', 'url', 'ottawashooting', 'url'], ['riphulkhogan', 'lifted', 'weight', 'also', 'lifted', 'heart'], ['almost', 'started', 'cry', 'want', 'make', 'cry', 'face', 'instead', 'jordan', 'draymond', 'green', 'url'], ['man', 'arrested', 'two', 'firearm', 'entrance', 'hotel', 'disneyland', 'paris', 'french', 'medium', 'report', 'url'], ['fort', 'hood', 'shooter', 'reportedly', 'drawn', 'g', 'salary', 'since', 'massacre', 'url'], ['wth', 'michelle', 'obama', 'tell', 'black', 'ppl', 'go', 'eat', 'fried', 'chicken', 'vote', 'u', 'thought', 'could', 'ghetto'], ['wow', 'obama', 'dis', 'stay', 'home', 'mom', 'choice', 'want', 'american', 'make', 'url'], ['really', 'amber', 'alert', 'website', 'go', 'dark', 'government', 'shutdown', 'url'], ['cpl', 'nathan', 'cirillo', 'identified', 'soldier', 'shot', 'killed', 'war', 'memorial', 'today', 'cbcott', 'ottnews', 'url'], ['arrested', 'busy', 'new', 'banksy', 'mural', 'appears', 'bristol', 'url', 'pic', 'banksy', 'url'], ['michelle', 'obama', 'hashtag', 'meriam', 'ibrahim', 'pregnant', 'sentenced', 'die', 'url', 'url'], ['prayforchristopher', 'k', 'run', 'well', 'walking', 'lol', 'savannahn', 'lemongella', 'url'], ['american', 'family', 'association', 'get', 'sign', 'petition', 'boycotting', 'target', 'transgender', 'bathroom', 'policy', 'url'], ['amber', 'alert', 'website', 'show', 'critical', 'missing', 'child', 'bulletin', 'offline', 'due', 'government', 'shutdown', 'url'], ['first', 'general', 'killed', 'combat', 'zone', 'since', 'vietnam', 'travesty', 'obama', 'attend', 'major', 'general', 'harold', 'greene', 'funeral'], ['sloth', 'cling', 'pole', 'ecuador', 'much', 'see', 'week', 'photo', 'url', 'url'], ['breaking', 'microsoft', 'near', 'deal', 'buy', 'minecraft', 'maker', 'mojang', 'url'], ['house', 'sale', 'asking', 'price', 'super', 'bowl', 'ticket', 'well', 'played', 'steelers', 'fan', 'url', 'url'], ['oregon', 'domestic', 'terrorist', 'destroying', 'public', 'property', 'earnest', 'url', 'url'], ['arenal', 'one', 'spectacular', 'volcano', 'located', 'costarica', 'url'], ['banksy', 'response', 'charliehebdo', 'shooting', 'url', 'url'], ['let', 'make', 'next', 'two', 'week', 'black', 'qb', 'let', 'talk', 'greatness', 'guy', 'c', 'barkley', 'url'], ['two', 'favorite', 'landmark', 'go', 'purple', 'honor', 'world', 'missing', 'prince', 'beautiful', 'url'], ['tim', 'kaine', 'besties', 'muslim', 'brotherhood', 'url', 'demsinphilly', 'dncconvention', 'url'], ['new', 'info', 'crash', 'killed', 'paul', 'walker', 'url', 'rippaulwalker'], ['officially', 'clark', 'county', 'population', 'nevada', 'washoe', 'county', 'berniesanders', 'hillary', 'bernietakesnevada'], ['breaking', 'malaysia', 'airline', 'passenger', 'shot', 'near', 'russian', 'border', 'ukraine', 'url', 'url'], ['rest', 'peace', 'big', 'bank', 'hank', 'sugarhill', 'gang', 'dead', 'url', 'url'], ['report', 'nasty', 'io', 'bug', 'could', 'erase', 'icloud', 'drive', 'document', 'url'], ['sweden', 'interior', 'minister', 'say', 'country', 'intends', 'expel', 'migrant', 'whose', 'application', 'asylum', 'rejected'], ['home', 'url'], ['photo', 'alleged', 'robbery', 'involving', 'michael', 'brown', 'ferguson', 'via', 'police', 'url', 'url'], ['krispy', 'kreme', 'thought', 'kkk', 'wednesday', 'would', 'good', 'idea', 'url', 'url'], ['white', 'house', 'shutdown', 'url', 'posting', 'alert', 'getting', 'sandwich', 'url'], ['reporter', 'charlo', 'green', 'quit', 'air', 'start', 'marijuana', 'business', 'url', 'quitting', 'tv', 'pay', 'url'], ['year', 'anticipated', 'pop', 'lp', 'rihanna', 'anti', 'inward', 'searching', 'curveball', 'url', 'url'], ['car', 'chase', 'way', 'paris', 'gunfight', 'break', 'report', 'hostage', 'latest', 'paris', 'url', 'url'], ['update', 'hostage', 'fleeing', 'sydney', 'cafe', 'held', 'iranian', 'gunman', 'explosion', 'gunshot', 'heard', 'url'], ['wtf', 'rt', 'pourmecoffee', 'hello', 'everyone', 'puppy', 'sized', 'spider', 'surprise', 'scientist', 'rainforest', 'url', 'url'], ['danaperino', 'legal', 'trouble', 'would', 'call', 'hillaryclinton', 'find', 'get', 'url'], ['last', 'picture', 'paul', 'walker', 'taken', 'death', 'car', 'crash', 'rippaulwalker', 'fast', 'furious', 'w', 'u', 'url'], ['connection', 'hong', 'kong', 'protester', 'ferguson', 'hand', 'shoot', 'url', 'url'], ['former', 'baseball', 'slugger', 'jose', 'canseco', 'accidentally', 'shot', 'left', 'hand', 'police', 'say', 'url'], ['live', 'follow', 'nye', 'celebration', 'around', 'world', 'currently', 'live', 'sydney', 'url', 'url'], ['claim', 'obama', 'used', 'shutdown', 'scuttle', 'amber', 'alert', 'system', 'reveals', 'ignorance', 'amber', 'alert', 'url'], ['breaking', 'malaysia', 'airline', 'plane', 'shot', 'travelling', 'amsterdam', 'kuala', 'lumpur', 'url', 'url'], ['know', 'orlando', 'shooter', 'gay', 'muslim', 'registered', 'democrat', 'wonder', 'liberal', 'trying', 'blame', 'gun', 'orlandoshooting'], ['russian', 'boy', 'shocked', 'electricity', 'claim', 'superpower', 'like', 'magneto', 'url', 'url'], ['eonline', 'started', 'bottom', 'whole', 'team', 'sagawards', 'url'], ['paul', 'kantner', 'founding', 'member', 'jefferson', 'airplane', 'dy', 'publicist', 'say', 'san', 'francisco', 'gate', 'url'], ['soldier', 'shot', 'national', 'war', 'memorial', 'ottawa', 'url', 'url'], ['black', 'man', 'run', 'police', 'merely', 'might', 'trying', 'avoid', 'recurring', 'indignity', 'profiled', 'url'], ['update', 'donald', 'trump', 'advocate', 'abortion', 'ban', 'form', 'punishment', 'woman', 'abortion', 'url', 'msnbc'], ['least', 'migrant', 'including', 'child', 'drown', 'boat', 'sink', 'turkey', 'greece', 'url', 'url'], ['hong', 'kong', 'hand', 'shoot', 'emulation', 'ferguson', 'protest', 'powerful', 'image', 'url'], ['paul', 'walker', 'friend', 'castmates', 'poured', 'heart', 'overnight', 'url', 'rippaulwalker'], ['report', 'missing', 'afghan', 'soldier', 'found', 'trying', 'cross', 'canada', 'source', 'say', 'wcvb', 'news', 'nbcnews', 'url', 'fix', 'typo'], ['researcher', 'naskrecki', 'encounter', 'goliath', 'birdeater', 'world', 'largest', 'spider', 'url', 'url'], ['woman', 'hospital', 'confusing', 'hair', 'mousse', 'builder', 'foam', 'url'], ['let', 'please', 'remember', 'victim', 'ok', 'beheading', 'colleen', 'hufford', 'rt', 'victim', 'loving', 'grandma', 'url', 'via', 'nypost'], ['best', 'quote', 'davos', 'url', 'url'], ['microsoft', 'buy', 'mojang', 'report', 'url', 'billion', 'deal', 'could', 'signed', 'week', 'url'], ['gonna', 'unreal', 'la', 'vega', 'go', 'undefeated', 'home', 'every', 'year', 'nhl', 'expansion'], ['meet', 'south', 'american', 'goliath', 'birdeater', 'spider', 'size', 'puppy', 'url', 'url'], ['one', 'third', 'vegetarian', 'eat', 'meat', 'get', 'drunk', 'url', 'url'], ['transgender', 'year', 'old', 'left', 'suicide', 'note', 'tumblr', 'pleading', 'fix', 'society', 'url', 'url'], ['hewlett', 'packard', 'plan', 'split', 'two', 'company', 'wsj', 'report', 'url'], ['plastic', 'bag', 'use', 'wale', 'dropped', 'per', 'cent', 'since', 'p', 'charge', 'introduced', 'url', 'url'], ['currently', 'foxnews', 'website', 'zero', 'repeat', 'zero', 'coverage', 'ferguson', 'protest', 'probably', 'due', 'lack', 'cowboy', 'hat'], ['payment', 'hard', 'drive', 'destruction', 'company', 'url'], ['day', 'plane', 'shot', 'ukraine', 'mh', 'pilot', 'laid', 'rest', 'url', 'url'], ['woke', 'news', 'paul', 'walker', 'death', 'train', 'derailment', 'bronx', 'left', 'least', 'dead', 'remember', 'lucky'], ['hewlett', 'packard', 'split', 'two', 'company', 'adapt', 'changing', 'technology', 'landscape', 'url'], ['doctor', 'concussion', 'fame', 'willing', 'bet', 'medical', 'license', 'j', 'simpson', 'cte', 'url', 'url'], ['please', 'read', 'purchase', 'koch', 'product', 'paying', 'zimmerman', 'attorney', 'fee', 'url'], ['russian', 'officer', 'pushed', 'button', 'deliberately', 'shot', 'mh', 'ukrainian', 'gov', 'say', 'url', 'url'], ['cant', 'believe', 'tupac', 'still', 'alive', 'url'], ['breaking', 'missing', 'afghan', 'soldier', 'reportedly', 'found', 'near', 'canadian', 'border', 'url'], ['study', 'concluded', 'clinton', 'camp', 'statistical', 'basis', 'back', 'claim', 'latino', 'vote', 'nv', 'url'], ['typical', 'woman', 'work', 'full', 'time', 'still', 'earns', 'cent', 'every', 'dollar', 'typical', 'man', 'potus', 'url'], ['betty', 'white', 'victim', 'death', 'hoax', 'fan', 'misread', 'satirical', 'story', 'year', 'old', 'dye', 'job', 'url'], ['real', 'takeaway', 'gopdebate', 'ted', 'cruz', 'snub', 'url'], ['ninety', 'took', 'drug', 'french', 'clinical', 'trial', 'left', 'one', 'brain', 'dead', 'five', 'hospitalised', 'health', 'minister', 'say', 'url'], ['quite', 'design', 'flaw', 'rt', 'nymag', 'sit', 'iphone', 'plus', 'pocket', 'bend', 'beyond', 'repair', 'url'], ['orlando', 'shooter', 'murdered', 'gay', 'people', 'registered', 'democrat', 'muslim', 'medium', 'going', 'silent', 'url'], ['teacher', 'pick', 'wrong', 'student', 'believe', 'every', 'fucking', 'year', 'url', 'url'], ['russian', 'fighter', 'came', 'within', 'foot', 'u', 'air', 'force', 'jet', 'url', 'url'], ['madden', 'predicted', 'patriot', 'would', 'win', 'exactly', 'happened', 'url'], ['witness', 'tell', 'cbcnews', 'suspected', 'shooter', 'uniformed', 'soldier', 'ottawa', 'war', 'memorial', 'carrying', 'rifle'], ['parliament', 'hill', 'lockdown', 'soldier', 'shot', 'ottawa', 'war', 'memorial', 'south', 'east', 'block'], ['water', 'leak', 'fukushima', 'could', 'contaminate', 'entire', 'pacific', 'ocean', 'url'], ['taliban', 'say', 'behind', 'bachakhanuniattack', 'left', 'least', 'dead', 'pakistani', 'medium', 'report', 'url'], ['nevada', 'focus', 'group', 'pbsdebate', 'say', 'berniesanders', 'tonight', 'debate', 'margin'], ['banksy', 'meet', 'lucilleclerc', 'artist', 'behind', 'iconic', 'charliehebdo', 'pencil', 'tribute', 'url', 'url'], ['american', 'swimmer', 'claimed', 'robbed', 'rio', 'apologize', 'resident', 'brazilian', 'police', 'said', 'url'], ['latest', 'far', 'shot', 'malaysia', 'airline', 'plane', 'mh', 'url', 'url'], ['breaking', 'news', 'obama', 'administration', 'file', 'federal', 'charge', 'george', 'zimmerman', 'ontheroadtojustice'], ['eric', 'lawson', 'former', 'marlboro', 'man', 'cigarette', 'ad', 'dy', 'smoking', 'related', 'disease', 'url', 'url'], ['obama', 'filed', 'federal', 'charge', 'zimmerman', 'violating', 'trayvon', 'civil', 'right', 'god', 'good'], ['okla', 'beheading', 'victim', 'colleen', 'hufford', 'rest', 'peace', 'beheading', 'jihad', 'jahkeemyisrael', 'url', 'url'], ['president', 'daughter', 'malia', 'obama', 'spotted', 'wearing', 'pro', 'era', 'shirt', 'url', 'url'], ['pray', 'parent', 'school', 'leadership', 'wisdom', 'refuse', 'school', 'satan', 'club', 'url'], ['ukrainian', 'minister', 'say', 'rebel', 'shot', 'mh', 'malaysia', 'airline', 'plane', 'url', 'url'], ['maximum', 'security', 'inmate', 'destroyed', 'harvard', 'debate', 'team', 'prison', 'competition', 'url', 'url'], ['u', 'justice', 'department', 'phase', 'use', 'privately', 'owned', 'prison', 'citing', 'safety', 'concern', 'url'], ['christian', 'bale', 'talk', 'play', 'steve', 'job', 'danny', 'boyle', 'job', 'written', 'aaron', 'sorkin', 'url', 'url'], ['mikebrown', 'wanted', 'walk', 'street', 'dead', 'ferguson', 'pd', 'using', 'silence', 'death', 'make', 'criminal'], ['appears', 'ferguson', 'pd', 'trying', 'assassinate', 'mike', 'brown', 'character', 'literally', 'assassinating', 'mike', 'brown'], ['highly', 'radioactive', 'water', 'seeping', 'ocean', 'japan', 'crippled', 'fukushima', 'nuclear', 'plant', 'url'], ['obama', 'taken', 'amber', 'alert', 'website', 'shutdown', 'michelle', 'let', 'move', 'site', 'still', 'least', 'missing', 'kid', 'thirsty'], ['man', 'died', 'shot', 'taser', 'police', 'shropshire', 'believed', 'ex', 'football', 'star', 'dalian', 'atkinson', 'url'], ['r', 'p', 'rodger', 'rodas', 'guy', 'one', 'seems', 'care', 'famous', 'died', 'paul', 'walker', 'url'], ['realdonaldtrump', 'son', 'eric', 'slam', 'hillaryclinton', 'potus', 'response', 'flooding', 'louisiana', 'url'], ['three', 'passport', 'stamp', 'three', 'data', 'center', 'give', 'big', 'welcome', 'tokyo', 'mexico', 'city', 'frankfurt', 'url'], ['rt', 'cl', 'lfc', 'usvsth', 'vladimir', 'putin', 'motorcade', 'look', 'suspiciously', 'like', 'massive', 'url', 'url'], ['victoria', 'woodhull', 'ran', 'u', 'president', 'year', 'hillary', 'clinton', 'url', 'url'], ['prime', 'minister', 'harper', 'ottawa', 'attack', 'intimidated', 'canada', 'never', 'intimidated', 'live', 'video', 'url'], ['r', 'p', 'driver', 'died', 'paul', 'walker', 'one', 'care', 'famous', 'omg'], ['obama', 'keep', 'michelle', 'url', 'site', 'running', 'despite', 'shutdown', 'url', 'shutdown', 'spitehouse'], ['deadline', 'enroll', 'health', 'coverage', 'almost', 'sign', 'jan', 'url', 'getcovered', 'url'], ['betty', 'white', 'never', 'die', 'lady', 'still', 'never', 'sex'], ['iphone', 'plus', 'owner', 'complaining', 'phone', 'actually', 'bending', 'url', 'url'], ['lego', 'reveals', 'new', 'young', 'disabled', 'figure', 'toylikeme', 'campaign', 'url', 'url'], ['afa', 'rio', 'target', 'transgender', 'bathroom', 'policy', 'push', 'left', 'deconstruct', 'family', 'url', 'via', 'breitbartnews'], ['several', 'hostage', 'flee', 'cafe', 'siege', 'sydney', 'local', 'medium', 'say', 'url'], ['olympics', 'matthew', 'centrowitz', 'win', 'men', 'race', 'first', 'gold', 'u', 'event', 'since', 'url', 'url'], ['life', 'obama', 'america', 'govt', 'official', 'threaten', 'prosecute', 'american', 'family', 'trying', 'save', 'loved', 'one', 'url'], ['rip', 'kenny', 'baker', 'actor', 'behind', 'legendary', 'star', 'war', 'droid', 'r', 'url', 'url'], ['saudi', 'prince', 'take', 'trump', 'twitter', 'bailed', 'twice', 'url', 'url'], ['well', 'make', 'u', 'feel', 'old', 'sunshine', 'baby', 'teletubbies', 'uni', 'url', 'url'], ['conservative', 'caucas', 'informed', 'soldier', 'shot', 'war', 'memorial', 'ottawa', 'morning', 'died', 'sad', 'development', 'shocking', 'day'], ['well', 'new', 'one', 'chelsea', 'clinton', 'implies', 'marijuana', 'kill', 'url', 'mmot', 'p', 'tcot', 'tlot'], ['announcing', 'split', 'hewlett', 'packard', 'also', 'boosted', 'number', 'expected', 'layoff', 'url', 'hpq'], ['r', 'p', 'roger', 'rodas', 'died', 'alongside', 'paul', 'walker', 'url'], ['uk', 'accept', 'child', 'refugee', 'syria', 'conflict', 'zone', 'fled', 'europe', 'url'], ['still', 'sanction', 'iran', 'violation', 'human', 'right', 'support', 'terrorism', 'ballistic', 'missile', 'program', 'potus'], ['r', 'p', 'roger', 'rodas', 'man', 'died', 'paul', 'walker', 'everybody', 'forgot', 'rippaulwalker', 'riprogerrodas', 'url'], ['year', 'old', 'girl', 'wake', 'brain', 'surgery', 'ask', 'doctor', 'going', 'url'], ['donald', 'trump', 'campaign', 'chairman', 'paul', 'manafort', 'resigns', 'url'], ['powerful', 'wife', 'son', 'isi', 'leader', 'abu', 'bakr', 'al', 'baghdadi', 'arrested', 'source', 'cnn', 'url', 'url'], ['u', 'navy', 'sends', 'ship', 'near', 'contested', 'island', 'south', 'china', 'sea', 'challenge', 'claim', 'china', 'taiwan', 'vietnam', 'url'], ['madden', 'nfl', 'predicted', 'patriot', 'victory', 'seahawks', 'also', 'predicted', 'final', 'score', 'url'], ['ap', 'video', 'police', 'say', 'speed', 'factor', 'l', 'crash', 'killed', 'including', 'fast', 'furious', 'actor', 'paul', 'walker', 'url'], ['coming', 'america', 'soon', 'kfc', 'ban', 'alcohol', 'based', 'wet', 'wipe', 'muslim', 'offended', 'url', 'tcot', 'url'], ['keeping', 'c', 'line', 'dion', 'thought', 'brother', 'daniel', 'died', 'cancer', 'age', 'url', 'url'], ['million', 'dead', 'bloodiest', 'black', 'friday', 'weekend', 'record', 'url'], ['actor', 'played', 'marlboro', 'man', 'ad', 'dy', 'smoking', 'related', 'disease', 'url'], ['maoist', 'cult', 'leader', 'aravindan', 'balakrishnan', 'jailed', 'year', 'string', 'sex', 'assault', 'london', 'url'], ['one', 'handed', 'scientist', 'rt', 'cbsnews', 'puppy', 'sized', 'spider', 'surprise', 'scientist', 'rainforest', 'url'], ['magneto', 'boy', 'v', 'science', 'adult', 'pit', 'magnetic', 'russian', 'child', 'grown', 'scientist', 'url', 'url'], ['oklahoma', 'prosecutor', 'file', 'formal', 'notification', 'seek', 'death', 'penalty', 'beheading', 'suspect', 'altonnolen', 'kellyfile'], ['breaking', 'least', 'killed', 'paris', 'hostage', 'situation', 'via', 'afp', 'url'], ['person', 'one', 'season', 'ahead', 'tv', 'show', 'doling', 'counsel', 'like', 'wise', 'elder', 'url', 'url'], ['workplace', 'hero', 'shoot', 'altonnolen', 'stabbings', 'beheading', 'prior', 'drug', 'manhunt', 'recent', 'radical', 'convert', 'judicialgrinds', 'url'], ['nestl', 'usa', 'issued', 'recall', 'hot', 'pocket', 'see', 'variety', 'affected', 'url'], ['ohio', 'police', 'officer', 'hospitalized', 'eating', 'shard', 'glass', 'sandwich', 'columbus', 'restaurant', 'blackliesmatter', 'url'], ['top', 'snowfall', 'total', 'state', 'blizzard', 'url'], ['breaking', 'news', 'cbs', 'report', 'multiple', 'suspect', 'large', 'shot', 'fired', 'canadian', 'parliament', 'url'], ['severus', 'snape', 'sheriff', 'nottingham', 'alexander', 'dane', 'course', 'han', 'gruber', 'devastated'], ['donna', 'douglas', 'played', 'elly', 'may', 'beverly', 'hillbilly', 'died', 'url', 'bill', 'haber', 'ap', 'url'], ['oracle', 'finally', 'killing', 'java', 'rest', 'hell', 'java', 'url', 'url'], ['question', 'ferguson', 'police', 'chief', 'officer', 'darren', 'wilson', 'pursuit', 'robbery', 'suspect', 'tell', 'kid', 'get', 'road', 'lie'], ['sean', 'comb', 'hoax', 'puff', 'daddy', 'arrested', 'tupac', 'shakur', 'murder', 'totally', 'fake', 'p', 'diddy', 'ok', 'url', 'url'], ['revealed', 'fukushima', 'leaking', 'radioactive', 'water', 'year', 'ton', 'flowing', 'pacific', 'daily', 'url'], ['ukrainian', 'military', 'jet', 'flying', 'close', 'mh', 'shot', 'say', 'russian', 'officer', 'url', 'url'], ['pro', 'russian', 'rebel', 'leader', 'leaked', 'audio', 'cossack', 'shot', 'plane', 'url', 'mh', 'url'], ['seen', 'exclusive', 'batmanvsuperman', 'pic', 'yet', 'url', 'url'], ['obama', 'administration', 'shuts', 'amber', 'alert', 'site', 'blame', 'confusion', 'worry', 'still', 'charge', 'health', 'care'], ['obama', 'cut', 'military', 'pay', 'third', 'year', 'row', 'isi', 'nd', 'terrorist', 'attack', 'week', 'wakeupamerica', 'r', 'u', 'ok', 'w', 'url'], ['first', 'cnn', 'tommychong', 'want', 'berniesanders', 'next', 'commander', 'kush', 'url', 'url'], ['photo', 'black', 'nurse', 'saving', 'life', 'kkk', 'member', 'url'], ['ex', 'new', 'york', 'giant', 'safety', 'tyler', 'sash', 'died', 'found', 'degenerative', 'brain', 'disease', 'c', 'e', 'ny', 'time', 'url'], ['iphone', 'user', 'report', 'phone', 'bending', 'pocket', 'lol', 'url', 'url'], ['one', 'person', 'dead', 'many', 'taken', 'hospital', 'shooting', 'stabbing', 'denver', 'coliseum', 'police', 'say', 'url'], ['arrested', 'overnight', 'ferguson', 'double', 'total', 'reported', 'authority', 'url', 'url'], ['paul', 'walker', 'death', 'brought', 'worst', 'twitter', 'user', 'compiled', 'stupidity', 'vice', 'url'], ['achieved', 'historic', 'progress', 'diplomacy', 'without', 'resorting', 'another', 'war', 'middle', 'east', 'potus', 'irandeal'], ['update', 'report', 'gunfire', 'inside', 'hall', 'canadian', 'parliament', 'building', 'ottawa', 'url'], ['tesla', 'motor', 'pick', 'nevada', 'home', 'new', 'electric', 'car', 'battery', 'factory', 'beating', 'state', 'url'], ['president', 'obama', 'skip', 'nancy', 'reagan', 'funeral', 'order', 'attend', 'south', 'southwest', 'url', 'url'], ['bernie', 'sander', 'nevada', 'caucus', 'nvcaucus', 'url'], ['isi', 'executioner', 'jihadi', 'john', 'reported', 'wounded', 'air', 'strike', 'url', 'url'], ['hello', 'everyone', 'puppy', 'sized', 'spider', 'surprise', 'scientist', 'rainforest', 'url', 'url'], ['feel', 'type', 'way', 'url'], ['r', 'p', 'driver', 'died', 'paul', 'walker', 'one', 'care', 'famous'], ['dozen', 'people', 'killed', 'car', 'bomb', 'suicide', 'bombing', 'near', 'damascus', 'syria', 'state', 'medium', 'say', 'url'], ['nhl', 'expansion', 'la', 'vega', 'reportedly', 'done', 'deal', 'url', 'url'], ['cause', 'death', 'usa', 'june', 'url'], ['r', 'p', 'driver', 'died', 'paul', 'walker', 'one', 'care', 'famous'], ['yr', 'old', 'kyliejenner', 'say', 'pregnant', 'yr', 'old', 'rapper', 'tyga', 'full', 'video', 'url', 'url'], ['vp', 'biden', 'malaysia', 'airline', 'mh', 'shot', 'accident', 'blown', 'sky', 'url'], ['ebola', 'real', 'people', 'gotten', 'sick', 'got', 'shot', 'fr', 'red', 'cross', 'url'], ['paul', 'walker', 'died', 'shortly', 'attending', 'charity', 'event', 'organization', 'reach', 'worldwide', 'url'], ['young', 'woman', 'shot', 'nerf', 'bullet', 'ferguson', 'police', 'officer', 'lost', 'eye', 'humanrights', 'nyc', 'rt', 'url'], ['pentagon', 'official', 'skeptical', 'iraqi', 'claim', 'wounded', 'islamic', 'state', 'leader', 'url', 'isi', 'url'], ['study', 'workplace', 'injury', 'caused', 'bare', 'knuckle', 'boxing', 'url', 'url'], ['raven', 'symone', 'blast', 'bill', 'cosby', 'rape', 'story', 'url', 'url'], ['retreating', 'clinton', 'campaign', 'torch', 'iowa', 'town', 'slow', 'advance', 'sander', 'volunteer', 'url', 'url'], ['part', 'nate', 'diaz', 'part', 'conor', 'mcgregor', 'expect', 'trilogy', 'url'], ['afghan', 'woman', 'kill', 'taliban', 'rebel', 'avenge', 'son', 'murder', 'url', 'url'], ['vladimir', 'putin', 'driving', 'round', 'motorcade', 'shaped', 'like', 'penis', 'url', 'url'], ['hillary', 'surroagte', 'bob', 'beckel', 'call', 'assassination', 'julian', 'assange', 'url'], ['asiago', 'ranch', 'wich', 'art', 'call', 'u', 'leonardo', 'da', 'ranchi', 'actually', 'please', 'url'], ['breaking', 'hollande', 'decides', 'state', 'emergency', 'france', 'border', 'closed', 'url', 'url'], ['photo', 'black', 'nurse', 'saving', 'life', 'kkk', 'member', 'url'], ['mh', 'shot', 'terrorist', 'advisor', 'ukraine', 'minister', 'internal', 'affair', 'say', 'url', 'url'], ['viral', 'video', 'prankster', 'joshpalerlin', 'gave', 'homeless', 'man', 'shocked', 'result', 'url', 'url'], ['hong', 'kong', 'pro', 'democracy', 'protester', 'use', 'hand', 'shoot', 'symbol', 'ferguson', 'via', 'gettyimages', 'occupycentral', 'url'], ['greek', 'islander', 'nominated', 'nobel', 'peace', 'prize', 'url', 'url'], ['confirmed', 'jamie', 'dornan', 'leaving', 'fifty', 'shade', 'grey', 'fiftyshades', 'jamiedornan', 'url', 'url'], ['uniformed', 'canadian', 'soldier', 'shot', 'war', 'memorial', 'ottawa'], ['tragic', 'nearly', 'people', 'died', 'funeral', 'drinking', 'contaminated', 'beer', 'url', 'url'], ['keith', 'richards', 'pulled', 'knife', 'donald', 'trump', 'say', 'rolling', 'stone', 'ex', 'event', 'promoter', 'url', 'url'], ['golden', 'send', 'final', 'olympics', 'carmelo', 'anthony', 'becomes', 'first', 'man', 'win', 'three', 'hoop', 'gold', 'medal', 'url'], ['r', 'p', 'roger', 'rodas', 'guy', 'died', 'paul', 'walker', 'human', 'url'], ['latest', 'malaysia', 'airline', 'mh', 'shot', 'surface', 'air', 'missile', 'u', 'official', 'say', 'url', 'url'], ['tedcruz', 'marcorubio', 'broke', 'promise', 'american', 'people', 'immigration', 'url', 'cnnsotu', 'url'], ['still', 'got', 'make', 'sure', 'woman', 'penalized', 'held', 'back', 'workplace', 'simply', 'starting', 'family', 'potus', 'womensucceed'], ['two', 'hewlett', 'packards', 'better', 'one', 'new', 'h', 'p', 'would', 'look', 'url', 'url'], ['kate', 'winslet', 'leonardo', 'dicaprio', 'sagawards', 'embrace', 'repeat', 'kate', 'leo', 'sag', 'award', 'embrace', 'url'], ['photo', 'black', 'nurse', 'saving', 'life', 'kkk', 'member', 'url'], ['apple', 'invented', 'pencil', 'appleevent', 'url'], ['feel', 'good', 'story', 'u', 'airstrikes', 'hit', 'isi', 'leader', 'terror', 'group', 'chief', 'critically', 'wounded', 'url', 'url'], ['hong', 'kong', 'protester', 'using', 'hand', 'shoot', 'gesture', 'ferguson', 'url'], ['employee', 'say', 'manager', 'ban', 'slang', 'chick', 'fil', 'url', 'url'], ['american', 'woman', 'vacation', 'grenada', 'killed', 'attacked', 'man', 'machete', 'url'], ['wednesdaywisdom', 'thelionking', 'url'], ['stop', 'rumor', 'jamie', 'leaving', 'fifty', 'shade', 'amelia', 'still', 'love', 'everything', 'fine', 'jamie', 'url'], ['monday', 'reminder', 'doritos', 'flavored', 'mountain', 'dew', 'exists', 'url', 'url'], ['killed', 'deandre', 'joshua', 'still', 'question', 'answer', 'regarding', 'year', 'old', 'murdered', 'ferguson', 'url'], ['changing', 'job', 'going', 'back', 'school', 'small', 'business', 'owner', 'affordable', 'care', 'act', 'working', 'url'], ['ton', 'people', 'searching', 'move', 'canada', 'following', 'trump', 'clinton', 'win', 'url', 'url'], ['perfect', 'photo', 'even', 'mph', 'optical', 'image', 'stabilization', 'galaxynote', 'url'], ['ohio', 'police', 'officer', 'served', 'sandwich', 'containing', 'shard', 'glass', 'officer', 'hospitalized', 'rncincle', 'url'], ['view', 'incoming', 'rt', 'unboxtherapy', 'iphone', 'plus', 'bend', 'test', 'url'], ['gay', 'muslim', 'democrat', 'terrorist', 'threatened', 'kill', 'classmate', 'nra', 'something', 'url'], ['quebec', 'city', 'seattle', 'toronto', 'join', 'la', 'vega', 'nhl', 'expansion', 'number', 'nhl', 'team', 'raised', 'howard', 'bloom'], ['first', 'photo', 'malaysia', 'airline', 'crash', 'site', 'ukraine', 'via', 'reuters', 'url', 'mh', 'url'], ['holy', 'shit', 'doritos', 'flavored', 'mountain', 'dew', 'lost', 'abandon', 'hope'], ['world', 'let', 'cop', 'killed', 'someone', 'leave', 'town', 'url', 'ferguson'], ['young', 'warrior', 'fan', 'want', 'riley', 'curry', 'valentine', 'pop', 'say', 'url'], ['suspected', 'suicide', 'car', 'bomb', 'blast', 'near', 'russian', 'embassy', 'afghan', 'capital', 'kabul', 'report', 'url'], ['air', 'broadcast', 'premiere', 'zaynmalik', 'pillowtalk', 'mtv', 'p', 'url', 'url'], ['photo', 'taken', 'tourist', 'national', 'war', 'memorial', 'shortly', 'nathan', 'cirillo', 'shot', 'killed', 'url'], ['passenger', 'breakdown', 'nationality', 'url', 'mh', 'url'], ['interesting', 'look', 'tgt', 'target', 'stock', 'price', 'since', 'implemented', 'transgender', 'bathroom', 'policy', 'url'], ['scene', 'war', 'memorial', 'ottawa', 'url', 'url'], ['florida', 'woman', 'pay', 'third', 'breast', 'url', 'url'], ['week', 'top', 'story', 'george', 'zimmerman', 'win', 'florida', 'state', 'lottery', 'url'], ['able', 'float', 'jan', 'aka', 'zero', 'g', 'day', 'hint', 'url', 'url'], ['transgender', 'teen', 'leaf', 'heartbreaking', 'suicide', 'note', 'tumblr', 'getting', 'hit', 'truck', 'url', 'url'], ['surprise', 'target', 'stock', 'drop', 'since', 'transgender', 'bathroom', 'policy', 'url', 'url'], ['bruh', 'chill', 'see', 'slang', 'word', 'chick', 'fil', 'manager', 'banned', 'url', 'url'], ['hewlett', 'packard', 'announces', 'break', 'two', 'url'], ['rip', 'driver', 'died', 'paulwalker', 'one', 'care', 'famous'], ['breaking', 'news', 'banksy', 'arrested', 'cover', 'blown'], ['possible', 'robbery', 'took', 'place', 'bam', 'like', 'magic', 'another', 'unarmed', 'black', 'youth', 'murdered', 'forgotten', 'smh', 'ferguson'], ['put', 'iphone', 'pocket', 'may', 'come', 'shape', 'url'], ['ny', 'ag', 'investigate', 'clinton', 'campaign', 'credit', 'card', 'fraud', 'elderly', 'donor', 'url', 'url'], ['mexico', 'security', 'force', 'hunting', 'missing', 'student', 'clash', 'police', 'find', 'mass', 'grave', 'url'], ['new', 'io', 'bug', 'deleting', 'user', 'icloud', 'document', 'url', 'url'], ['five', 'people', 'killed', 'two', 'others', 'seriously', 'wounded', 'school', 'shooting', 'western', 'canada', 'pm', 'justin', 'trudeau', 'say', 'url'], ['open', 'letter', 'trump', 'voter', 'top', 'strategist', 'turned', 'defector', 'amazing', 'first', 'person', 'account', 'url', 'via', 'xojanedotcom'], ['ugh', 'abc', 'reportedly', 'paid', 'darrenwilson', 'mid', 'high', 'six', 'figure', 'fee', 'interview', 'url', 'ht', 'senorchompers', 'ferguson'], ['ferguson', 'police', 'officer', 'involved', 'fatal', 'shooting', 'michael', 'brown', 'know', 'suspect', 'alleged', 'robbery', 'url'], ['paula', 'deen', 'move', 'discrimination', 'suit', 'dismissed', 'time', 'new', 'book', 'cook', 'jew'], ['rcmp', 'news', 'conference', 'ottawa', 'shooting', 'expected', 'begin', 'momentarily', 'watch', 'live', 'url'], ['obama', 'gently', 'guide', 'michelle', 'hand', 'maneuver', 'drone', 'joystick', 'url', 'url'], ['time', 'editorial', 'board', 'endorses', 'hillary', 'clinton', 'democratic', 'nomination', 'url', 'via', 'nytopinion'], ['canadian', 'mayor', 'tell', 'muslim', 'pound', 'pork', 'refuse', 'remove', 'pork', 'school', 'canteen', 'url', 'url'], ['still', 'waiting', 'tupac', 'accept', 'al', 'ice', 'bucket', 'challenge', 'bruh', 'know', 'still', 'alive'], ['company', 'pay', 'little', 'attention', 'employee', 'feeling', 'mistake', 'url', 'url'], ['retail', 'giant', 'taken', 'huge', 'hit', 'consumer', 'react', 'misguided', 'bathroom', 'policy', 'url', 'url'], ['caitlyn', 'jenner', 'mourns', 'loss', 'bruce', 'maybe', 'deserve', 'gone', 'url', 'url'], ['closest', 'adult', 'get', 'believing', 'santa', 'claus', 'forget', 'ordered', 'something', 'amazon'], ['phil', 'robertson', 'reason', 'going', 'tedcruz', 'cruz', 'love', 'god', 'james', 'madison', 'teamcavuto', 'url'], ['fox', 'obama', 'offer', 'pay', 'pocket', 'museum', 'muslim', 'culture', 'source', 'satire', 'website', 'url'], ['erm', 'quite', 'asked', 'let', 'u', 'know', 'stand', 'batman', 'superman', 'empirebvs', 'url'], ['report', 'nhl', 'expansion', 'la', 'vega', 'done', 'deal', 'url', 'url'], ['walmart', 'donates', 'darrenwilson', 'fund', 'continue', 'police', 'racial', 'profiling', 'brutality', 'murder', 'black', 'ppl', 'url'], ['obama', 'file', 'federal', 'charge', 'george', 'zimmerman', 'myyyyyyy', 'president', 'yaassssss', 'praise', 'lord'], ['corporation', 'sold', 'spun', 'trillion', 'worth', 'subsidiary', 'biz', 'line', 'year', 'url', 'url'], ['breaking', 'news', 'isi', 'terror', 'group', 'confirmed', 'leader', 'abu', 'bakr', 'al', 'baghdadi', 'injured', 'u', 'air', 'strike', 'yesterday', 'channel'], ['icebucketchallenge', 'donation', 'exceed', 'million', 'thank', 'support', 'url'], ['lot', 'tweet', 'darren', 'wilson', 'paid', 'abc', 'interview', 'abc', 'told', 'brianstelter', 'true', 'seen', 'credible', 'reporting', 'contrary'], ['photo', 'day', 'url', 'url'], ['judge', 'issue', 'search', 'warrant', 'seizure', 'passport', 'u', 'swimmer', 'including', 'ryan', 'lochte', 'around', 'alleged', 'robbery', 'url'], ['cop', 'swarm', 'thheaven', 'star', 'stephen', 'collins', 'home', 'suicide', 'report', 'url', 'url'], ['boko', 'haram', 'burned', 'child', 'alive', 'attack', 'nigerian', 'village', 'witness', 'say', 'url'], ['breaking', 'gunman', 'paris', 'store', 'threatens', 'kill', 'hostage', 'charliehebdo', 'suspect', 'harmed', 'url'], ['official', 'boko', 'haram', 'burn', 'kid', 'alive', 'nigeria', 'kill', 'people', 'url'], ['afp', 'report', 'dead', 'hostage', 'held', 'kosher', 'store', 'eastern', 'paris', 'separate', 'incident', 'charlie', 'hebdo', 'shooter'], ['canada', 'parliament', 'shooting', 'active', 'shooter', 'separate', 'shooting', 'site', 'injd', 'multiple', 'gunman', 'soldier', 'dead', 'url'], ['apple', 'report', 'slowest', 'iphone', 'sale', 'growth', 'since', 'product', 'launch', 'url'], ['pentagon', 'hold', 'gala', 'celebrate', 'year', 'bombing', 'iraq', 'url', 'url'], ['sad', 'man', 'tear', 'banana', 'larger', 'bunch', 'url', 'url'], ['letter', 'parent', 'lego', 'set', 'year', 'ahead', 'time', 'url', 'url'], ['lego', 'letter', 'still', 'offer', 'powerful', 'message', 'parent', 'year', 'later', 'url', 'url'], ['win', 'macy', 'stop', 'stocking', 'sodastream', 'url', 'bd', 'palestine', 'aicnews', 'url'], ['florida', 'woman', 'surgically', 'add', 'third', 'breast', 'bid', 'become', 'reality', 'tv', 'star', 'url', 'url'], ['hearing', 'bernie', 'sander', 'flipped', 'clark', 'county', 'nevada', 'state', 'convention', 'may', 'entire', 'state', 'feelthebern'], ['greece', 'seriously', 'neglected', 'obligation', 'control', 'external', 'border', 'european', 'commission', 'say', 'draft', 'report', 'url'], ['happy', 'lefthandersday', 'url'], ['rt', 'dangillmor', 'hong', 'kong', 'hand', 'shoot', 'emulation', 'ferguson', 'protest', 'powerful', 'image', 'url'], ['breaking', 'show', 'solidarity', 'hongkong', 'ferguson', 'hand', 'shoot', 'hong', 'kong', 'protest', 'url'], ['obama', 'skipping', 'nancy', 'reagan', 'funeral', 'attend', 'sxsw', 'url', 'url'], ['fukushima', 'nuclear', 'plant', 'leaking', 'ton', 'radioactive', 'water', 'pacific', 'every', 'day', 'url'], ['latest', 'update', 'attacker', 'shot', 'dead', 'parliament', 'soldier', 'shot', 'national', 'war', 'memorial', 'url', 'url'], ['first', 'month', 'new', 'mexico', 'city', 'data', 'center', 'muy', 'bien', 'url'], ['chelsea', 'clinton', 'implies', 'marijuana', 'kill', 'uhh', 'url'], ['donna', 'douglas', 'known', 'role', 'elly', 'may', 'clampett', 'beverly', 'hillbilly', 'dy', 'url', 'url'], ['end', 'nigh', 'pepsi', 'testing', 'doritos', 'flavored', 'mountain', 'dew', 'yes', 'real', 'url'], ['halftime', 'rio', 'usa', 'serbia', 'kevin', 'durant', 'see', 'kd', 'url'], ['government', 'spare', 'room', 'subsidy', 'bedroomtax', 'declared', 'discriminatory', 'court', 'appeal', 'judge', 'following', 'two', 'legal', 'challenge'], ['breaking', 'justin', 'bieber', 'thwart', 'bear', 'attack', 'url', 'url'], ['news', 'home', 'alone', 'star', 'macauley', 'culkin', 'dead', 'confirmed', 'hoax', 'alive', 'well', 'macauleyculkin', 'url'], ['ebola', 'found', 'hair', 'extension', 'bitch', 'wear', 'weave'], ['rip', 'roger', 'rodas', 'man', 'died', 'paul', 'walker', 'fatal', 'car', 'crash', 'dontforgethim', 'url'], ['florida', 'woman', 'surgery', 'add', 'third', 'breast', 'make', 'unatttractive', 'men', 'url', 'url'], ['got', 'violent', 'pregnant', 'woman', 'shot', 'ferguson', 'cop', 'sitting', 'car', 'tuesday', 'loses', 'eye', 'url', 'url'], ['also', 'rip', 'roger', 'rodas', 'man', 'died', 'along', 'paul', 'walker', 'seems', 'never', 'mentioned', 'url'], ['insane', 'reason', 'chinese', 'driver', 'intentionally', 'kill', 'pedestrian', 'hit', 'via', 'slate', 'url', 'url'], ['hillary', 'overcharge', 'poorest', 'campaign', 'donor', 'lindasuhler', 'realdrgina', 'girlsfortrump', 'cinderella', 'b', 'kamvtv', 'u', 'usa', 'url'], ['banksy', 'arrested', 'internet', 'fall', 'hoax', 'report', 'url', 'url'], ['cop', 'swarm', 'thheaven', 'star', 'stephen', 'collins', 'home', 'suicide', 'report', 'url', 'url'], ['people', 'blame', 'massacre', 'orlando', 'nra', 'newsflash', 'orlando', 'shooter', 'nra', 'member', 'registered', 'democrat'], ['live', 'kobane', 'border', 'growing', 'concern', 'isi', 'using', 'chemical', 'weapon', 'kurdish', 'fighter', 'url'], ['study', 'find', 'third', 'vegetarian', 'eat', 'meat', 'drunk', 'url', 'url'], ['dog', 'dy', 'protecting', 'month', 'old', 'baby', 'girl', 'house', 'fire', 'baltimore', 'url', 'url'], ['today', 'work', 'world', 'requires', 'continuous', 'growth', 'learning', 'process', 'decide', 'skill', 'work', 'next', 'url'], ['look', 'like', 'every', 'charlie', 'hebdo', 'cartoonist', 'killed', 'charb', 'al', 'qaeda', 'hit', 'list', 'cabu', 'wolinski', 'tignous'], ['doctor', 'screen', 'adult', 'depression', 'least', 'task', 'force', 'recommends', 'url'], ['first', 'pic', 'site', 'ukraine', 'mh', 'crashed', 'url', 'url'], ['caitlyn', 'jenner', 'pose', 'nude', 'sport', 'illustrated', 'cover', 'ball', 'censored', 'sad', 'michael', 'jordan', 'face'], ['tesla', 'say', 'broken', 'ground', 'near', 'reno', 'nevada', 'billion', 'battery', 'plant', 'url', 'url'], ['im', 'still', 'paul', 'walker', 'situation', 'believe', 'died', 'especially', 'car'], ['planet', 'nine', 'may', 'exist', 'edge', 'solar', 'system', 'claim', 'astronomer', 'url', 'url'], ['canada', 'parliament', 'hill', 'lockdown', 'police', 'hunt', 'shooting', 'suspect', 'least', 'injured', 'cbcnews', 'torontostar', 'url'], ['rt', 'good', 'news', 'taking', 'new', 'step', 'advance', 'equalpay', 'woman', 'url', 'url'], ['evidence', 'destroyed', 'campaign', 'made', 'payment', 'hard', 'drive', 'document', 'destruction', 'company', 'url', 'makeamericagreatagain'], ['meria', 'sign', 'isi', 'using', 'chemical', 'weapon', 'url', 'url'], ['waking', 'late', 'pre', 'game', 'skate', 'vega', 'like', 'nhl', 'expansion', 'url'], ['al', 'arabiya', 'television', 'station', 'say', 'three', 'american', 'reportedly', 'kidnapped', 'baghdad', 'iraq'], ['breaking', 'ap', 'source', 'tesla', 'motor', 'selected', 'nevada', 'site', 'b', 'electric', 'car', 'battery', 'factory'], ['full', 'lock', 'notice', 'ottawa', 'police'], ['absence', 'year', 'afghan', 'fanged', 'deer', 'returned', 'url', 'url'], ['camilacabello', 'played', 'around', 'justinbieber', 'loveyourself', 'outcome', 'absolutely', 'beautiful', 'url'], ['irish', 'european', 'ioc', 'chief', 'patrick', 'hickey', 'arrested', 'rio', 'illegal', 'olympic', 'ticket', 'sale', 'brazil', 'medium', 'report', 'url'], ['twenty', 'five', 'story', 'proving', 'target', 'pro', 'trans', 'bathroom', 'policy', 'dangerous', 'url'], ['facebook', 'spy', 'government', 'url'], ['squat', 'pound', 'joseph', 'pena', 'world', 'url'], ['trump', 'dems', 'failed', 'betrayed', 'africanamerican', 'community', 'trump', 'laziness', 'trait', 'black', 'really', 'url'], ['hey', 'abc', 'tweet', 'statement', 'saying', 'pay', 'compensate', 'darren', 'wilson', 'interview', 'silent', 'ferguson'], ['get', 'free', 'jr', 'frosty', 'every', 'purchase', 'get', 'frosty', 'key', 'tag', 'help', 'support', 'dtfa', 'url'], ['irs', 'sent', 'refund', 'unauthorized', 'alien', 'atlanta', 'address', 'cns', 'news', 'url', 'via', 'sharethis'], ['ferguson', 'police', 'chief', 'officer', 'involved', 'shooting', 'michael', 'brown', 'darren', 'wilson', 'year', 'veteran', 'disciplinary', 'record'], ['authority', 'collecting', 'passport', 'mh', 'crash', 'site', 'australian', 'coat', 'arm', 'clearly', 'visible', 'url', 'url'], ['weirdest', 'fetish', 'ever', 'heard', 'thinking', 'via', 'elvis', 'url'], ['president', 'petty', 'strike', 'obama', 'reportedly', 'skip', 'nancy', 'reagan', 'funeral', 'url', 'url'], ['extraordinarily', 'sad', 'news', 'guardian', 'reporting', 'great', 'alan', 'rickman', 'died', 'age', 'url'], ['oregon', 'community', 'help', 'mother', 'boy', 'punished', 'tardy', 'due', 'vehicle', 'problem', 'url', 'url'], ['aint', 'know', 'obama', 'daughter', 'pregnant'], ['paul', 'walker', 'still', 'alive', 'dead', 'alive', 'sia', 'paulwalker', 'url'], ['found', 'shot', 'dead', 'burned', 'car', 'ferguson', 'chaos', 'happened', 'deandre', 'joshua', 'url'], ['donald', 'trump', 'msnbc', 'form', 'punishment', 'woman', 'abortion'], ['detroit', 'nigga', 'savage', 'stole', 'batmobile', 'url'], ['bilodope', 'emilybett', 'aishataylor', 'instyleglobes', 'bash', 'goldenglobes', 'url'], ['justify', 'shooting', 'unarmed', 'teenager', 'saying', 'might', 'committing', 'misdemeanor', 'fucking', 'asshole', 'ferguson'], ['unexpected', 'bond', 'developed', 'damaged', 'parrot', 'traumatized', 'veteran', 'url', 'url'], ['forty', 'percent', 'german', 'say', 'merkel', 'resign', 'refugee', 'policy', 'poll', 'url', 'url'], ['donald', 'trump', 'go', 'full', 'anti', 'woman', 'punishment', 'woman', 'abort', 'url', 'url'], ['gerrymandering', 'even', 'infuriating', 'actually', 'see', 'url', 'url'], ['vault', 'anatomical', 'maquettes', 'fanciful', 'creature', 'url', 'url'], ['icymi', 'joe', 'parson', 'snowmobile', 'sit', 'n', 'spin', 'backflip', 'unreal', 'see', 'epic', 'xgames', 'action', 'abc', 'afternoon', 'url'], ['official', 'gilmoregirls', 'coming', 'back', 'get', 'detail', 'netflix', 'revival', 'url'], ['nicoderm', 'introduces', 'new', 'nicotine', 'eye', 'patch', 'url', 'url'], ['malia', 'obama', 'wear', 'shirt', 'anti', 'white', 'anti', 'cop', 'rap', 'group', 'nypd', 'url', 'family', 'agitates', 'together', 'stay', 'together'], ['fast', 'furious', 'star', 'paul', 'walker', 'dead', 'car', 'crash', 'next', 'samuel', 'l', 'jackson', 'killed', 'snake', 'plane'], ['rip', 'driver', 'also', 'killed', 'along', 'paul', 'walker', 'one', 'seems', 'care', 'url'], ['photo', 'proved', 'terrorist', 'used', 'chemical', 'weapon', 'kurd', 'koban', 'airdrop', 'kobane', 'kurdistan', 'isi', 'url'], ['powerful', 'cartoon', 'charlie', 'hebdo', 'attack', 'banksy', 'url', 'url'], ['world', 'running', 'chocolate', 'world', 'largest', 'chocolate', 'manufacturer', 'warns', 'url', 'url'], ['sniper', 'set', 'national', 'art', 'gallery', 'remain', 'barricaded', 'centre', 'block', 'parliament', 'hill', 'cdnpoli', 'url'], ['suspect', 'charliehebdo', 'attack', 'spoke', 'police', 'phone', 'said', 'wanted', 'die', 'martyr', 'say', 'french', 'mp', 'url'], ['hey', 'look', 'like', 'oh', 'rt', 'marc', 'leibowitz', 'photo', 'vladimir', 'putin', 'motorcade', 'posted', 'without', 'comment', 'url'], ['need', 'talk', 'fact', 'teletubby', 'sun', 'baby', 'year', 'old', 'url'], ['canadian', 'soldier', 'shot', 'war', 'memorial', 'died', 'one', 'three', 'suspected', 'gunman', 'also', 'dead', 'police', 'say', 'url'], ['anyone', 'think', 'comparing', 'clothes', 'mikebrown', 'wearing', 'laying', 'street', 'security', 'footage', 'ferguson'], ['daughter', 'get', 'paid', 'son', 'work', 'period', 'url', 'url'], ['breaking', 'news', 'isi', 'executioner', 'jihadi', 'john', 'reportedly', 'wounded', 'air', 'strike', 'big', 'scoop', 'tomorrow', 'mo', 'url'], ['urgent', 'darren', 'wilson', 'police', 'officer', 'shot', 'mike', 'brown', 'url', 'ferguson', 'url'], ['lego', 'letter', 'still', 'offer', 'powerful', 'message', 'parent', 'year', 'later', 'url', 'url'], ['actor', 'eric', 'lawson', 'portrayed', 'marlboro', 'man', 'dy', 'chronic', 'obstructive', 'pulmonary', 'disease', 'url'], ['cool', 'dog', 'mt', 'cbsnews', 'goliath', 'encounter', 'puppy', 'sized', 'spider', 'surprise', 'scientist', 'rainforest', 'url', 'url'], ['u', 'evacuated', 'consulate', 'sydney', 'sydneysiege', 'emergency', 'warning', 'u', 'citizen', 'urging', 'maintain', 'high', 'level', 'vigilance'], ['subaru', 'get', 'snowbound', 'police', 'back', 'patrol', 'dontletwinterwin', 'url'], ['powerful', 'year', 'old', 'letter', 'lego', 'parent', 'real', 'url', 'url'], ['attorney', 'new', 'audio', 'reveals', 'pause', 'gunfire', 'michael', 'brown', 'shot', 'url'], ['say', 'labor', 'union', 'aligned', 'hillaryclinton', 'stopped', 'dems', 'saying', 'tpp', 'speak', 'nurse', 'url'], ['keith', 'richards', 'pulled', 'knife', 'donald', 'trump', 'claim', 'rolling', 'stone', 'former', 'promoter', 'url', 'url'], ['rcmp', 'ottawa', 'police', 'news', 'conference', 'beginning', 'watch', 'live', 'url', 'cbcott', 'ottnews'], ['bachmann', 'obama', 'classless', 'missing', 'nancy', 'reagan', 'funeral', 'url', 'url'], ['betty', 'white', 'dy', 'today', 'steal', 'joan', 'thunder', 'unleash', 'reign', 'terror', 'upon', 'nation', 'like', 'u', 'never', 'seen'], ['twenty', 'four', 'year', 'old', 'cpl', 'nathan', 'cirillo', 'shot', 'dead', 'today', 'war', 'memorial', 'ottawa', 'cdnpoli', 'ottawashooting', 'url'], ['cnn', 'alton', 'nolen', 'mother', 'oklahoma', 'man', 'beheaded', 'coworker', 'said', 'two', 'side', 'every', 'story', 'cut', 'woman', 'head'], ['name', 'ferguson', 'cop', 'expected', 'released', 'et', 'police', 'chief', 'say', 'url', 'j', 'b', 'forbes', 'ap', 'url'], ['islamic', 'tribunal', 'texas', 'operating', 'sharia', 'law', 'wtf', 'lodisilverado', 'amymek', 'tcot', 'url', 'url'], ['attack', 'parliament', 'soldier', 'shot', 'gunman', 'loose', 'follow', 'developing', 'story', 'url', 'url'], ['arrested', 'overnight', 'ferguson', 'url'], ['nigerian', 'islamist', 'group', 'boko', 'haram', 'release', 'video', 'purporting', 'show', 'kidnapped', 'chibok', 'schoolgirl', 'url'], ['stevenuniverse', 'finally', 'return', 'screen', 'january', 'url', 'url'], ['one', 'men', 'wanted', 'copy', 'orlando', 'shooter', 'stopped', 'l', 'liberal', 'democrat', 'berniebro', 'url'], ['breaking', 'k', 'patient', 'risk', 'ebola', 'strict', 'isolation', 'ku', 'med', 'center', 'kansa', 'city', 'url', 'kwch'], ['happy', 'nationalchocolatecakeday', 'url'], ['kendall', 'jenner', 'ap', 'rocky', 'full', 'dating', 'exclusive', 'detail', 'url', 'url'], ['confirmed', 'pepsico', 'making', 'doritos', 'flavored', 'mountain', 'dew', 'called', 'dewitos', 'url', 'url'], ['black', 'men', 'may', 'cause', 'run', 'police', 'massachusetts', 'high', 'court', 'say', 'url'], ['missing', 'student', 'mass', 'grave', 'suspect', 'mexico', 'police', 'url'], ['bachmann', 'slam', 'classless', 'obama', 'skipping', 'nancy', 'reagan', 'funeral', 'url', 'url'], ['aerial', 'photo', 'dutch', 'tulip', 'field', 'stunning', 'url', 'url'], ['local', 'school', 'art', 'project', 'titled', 'candlelight', 'url'], ['two', 'gunman', 'killed', 'pakistan', 'university', 'attack', 'police', 'say', 'report', 'others', 'still', 'firing', 'url'], ['cruz', 'stood', 'hour', 'freedom', 'obama', 'stand', 'missing', 'child', 'amberalert', 'shutdown'], ['affordable', 'care', 'act', 'taken', 'effect', 'nearly', 'million', 'american', 'gained', 'coverage', 'potus', 'url'], ['heart', 'go', 'loved', 'one', 'fan', 'paul', 'walker', 'died', 'car', 'wreck', 'saturday', 'word', 'really', 'good', 'dude', 'rippaulwalker'], ['happy', 'birthday', 'man', 'brought', 'sexy', 'back', 'url', 'url'], ['woman', 'stabbed', 'paedophile', 'death', 'east', 'london', 'three', 'half', 'year', 'jail', 'term', 'doubled', 'url'], ['guy', 'bending', 'iphone', 'plus', 'bare', 'hand', 'url', 'url'], ['nc', 'town', 'forced', 'remove', 'statue', 'praying', 'soldier', 'christian', 'flag', 'veteran', 'memorial', 'url'], ['every', 'single', 'one', 'u', 'deserves', 'right', 'freedom', 'opportunity', 'fulfill', 'dream', 'potus', 'roe', 'url'], ['icymi', 'wayne', 'selden', 'dunk', 'absolutely', 'absurd', 'url'], ['american', 'leadership', 'action', 'iran', 'four', 'pathway', 'nuclear', 'weapon', 'blocked', 'irandeal', 'url'], ['great', 'banksy', 'homage', 'charlie', 'hebdo', 'victim', 'rt', 'kowalshki', 'nice', 'work', 'banksy', 'jesuischarlie', 'url'], ['deep', 'fried', 'left', 'wing', 'demo', 'crab', 'cake', 'barack', 'amole', 'chip', 'malia', 'quesadilla', 'hawaiian', 'pizza', 'sloppy', 'joe', 'bidens', 'obamacare', 'rot', 'cake'], ['canadian', 'authority', 'given', 'name', 'suspect', 'ottawa', 'attack', 'u', 'fed', 'ask', 'fbi', 'assistance', 'sr', 'u', 'law', 'enforcement', 'official'], ['penis', 'graffiti', 'drawn', 'bugatti', 'veyron', 'url', 'url'], ['trump', 'top', 'strategist', 'stephanie', 'cegielski', 'quit', 'campaign', 'wrote', 'open', 'letter', 'trump', 'supporter', 'url'], ['rtlny', 'stuyvesant', 'senior', 'made', 'million', 'trading', 'stock', 'lunch', 'break', 'url', 'url'], ['dramatic', 'photo', 'wcuddington', 'scene', 'ottawa', 'url', 'url'], ['thexfiles', 'episode', 'watch', 'return', 'url', 'thexfiles', 'gilliana', 'davidduchovny', 'url'], ['sorry', 'everyone', 'durex', 'making', 'pumpkin', 'spice', 'condom', 'fall', 'url', 'url'], ['cnn', 'new', 'audio', 'reveals', 'shot', 'fired', 'michael', 'brown', 'cluster', 'pause', 'url'], ['slick', 'police', 'chief', 'create', 'narrative', 'mikebrown', 'suspect', 'robbery', 'ferguson'], ['breaking', 'fsu', 'shooter', 'identified', 'myron', 'may', 'lawyer', 'graduated', 'fsu', 'attending', 'texas', 'tech', 'law', 'school', 'fsushooting'], ['madden', 'nfl', 'simulation', 'correctly', 'predicted', 'super', 'bowl', 'final', 'score', 'url', 'url'], ['beatles', 'rooftop', 'concert', 'happened', 'year', 'ago', 'today', 'thing', 'know', 'url', 'url'], ['paul', 'walker', 'happy', 'hour', 'tragic', 'death', 'url'], ['ufc', 'conor', 'mcgregor', 'first', 'fight', 'ever', 'go', 'championship', 'round', 'made', 'url'], ['mexico', 'mass', 'grave', 'discovered', 'student', 'protester', 'go', 'missing', 'url', 'url'], ['religious', 'subjugation', 'u', 'troop', 'bahrain', 'getting', 'ramadan', 'training', 'url', 'tcot'], ['thanks', 'irandeal', 'iran', 'four', 'pathway', 'nuclear', 'weapon', 'blocked', 'url', 'url'], ['ferguson', 'chief', 'let', 'day', 'go', 'b', 'disclosing', 'repeated', 'q', 'cop', 'killed', 'mikebrown', 'knew', 'nothing', 'robbery', 'danger'], ['meet', 'kevin', 'vickers', 'hero', 'shot', 'parliament', 'hill', 'gunman', 'ottawashooting', 'url', 'url'], ['justin', 'bieber', 'must', 'loving', 'right', 'url'], ['look', 'innocent', 'without', 'hood', 'would', 'never', 'think', 'london', 'rapper', 'abdel', 'majed', 'abdel', 'bary', 'beheaded', 'foley', 'url'], ['wake', 'paul', 'walker', 'tragic', 'death', 'future', 'fastfurious', 'movie', 'url', 'rippaulwalker'], ['ferguson', 'police', 'chief', 'basically', 'confirmed', 'mikebrown', 'gunned', 'death', 'crime', 'walking', 'street', 'horrific'], ['saudi', 'cleric', 'proclaims', 'snowman', 'building', 'anti', 'islamic', 'photo', 'video', 'url', 'url'], ['new', 'dog', 'pope', 'say', 'heaven', 'hound', 'url', 'url'], ['malia', 'obama', 'wear', 'shirt', 'anti', 'white', 'anti', 'cop', 'rap', 'group', 'nypd', 'url', 'barbaraboxer', 'respectformuslims', 'blackprivilege'], ['man', 'help', 'woman', 'safety', 'crushed', 'death', 'elevator', 'nyc', 'url', 'url'], ['video', 'clueless', 'hillary', 'clinton', 'call', 'american', 'respect', 'empathize', 'isi', 'url'], ['max', 'baer', 'describes', 'donna', 'douglas', 'elly', 'may', 'day', 'died', 'url', 'cbs', 'url'], ['isi', 'beheads', 'photojournalist', 'james', 'wright', 'foley', 'massage', 'u', 'end', 'intervention', 'iraq', 'url'], ['orlando', 'shooter', 'muslim', 'omar', 'mateen', 'registered', 'democrat', 'url'], ['stephen', 'collins', 'cop', 'swarm', 'home', 'suicide', 'report', 'false', 'alarm', 'url'], ['high', 'school', 'student', 'reportedly', 'make', 'million', 'stock', 'market', 'url', 'wallstreet', 'stuyvesanthigh', 'url'], ['isi', 'video', 'claim', 'show', 'beheading', 'british', 'citizen', 'url'], ['uk', 'jihadi', 'john', 'wounded', 'u', 'airstrike', 'secret', 'bunker', 'meeting', 'isi', 'high', 'command', 'url', 'url'], ['goliath', 'encounter', 'puppy', 'sized', 'spider', 'surprise', 'scientist', 'rainforest', 'url', 'url'], ['police', 'officer', 'deliver', 'pie', 'pizza', 'hut', 'driver', 'injured', 'crash', 'url', 'url'], ['list', 'overnight', 'arrest', 'ferguson', 'show', 'much', 'higher', 'number', 'official', 'reported', 'url', 'url'], ['hasan', 'get', 'k', 'victim', 'denied', 'army', 'benefit', 'disgusting', 'waste', 'tax', 'garnish', 'wage', 'send', 'red', 'cross', 'url'], ['soldier', 'killed', 'war', 'memorial', 'identified', 'cpl', 'nathan', 'cirillo', 'url', 'url'], ['say', 'aloha', 'happiest', 'healthiest', 'u', 'state', 'hawaii', 'alaska', 'montana', 'url', 'url'], ['study', 'find', 'girl', 'outperforming', 'future', 'employer', 'school', 'url', 'url'], ['oprah', 'bill', 'cosby', 'drugged', 'tried', 'rape', 'url'], ['kfc', 'ban', 'wipe', 'offend', 'muslim', 'url', 'ban', 'islam', 'instead', 'halal', 'kfc', 'url'], ['canadian', 'teen', 'find', 'lost', 'mayan', 'city', 'url', 'url'], ['breaking', 'news', 'durex', 'come', 'pumpkin', 'spice', 'condom', 'url', 'url'], ['running', 'chocolate', 'warns', 'world', 'largest', 'chocolate', 'manufacturer', 'url', 'url'], ['selena', 'killer', 'former', 'fan', 'club', 'president', 'released', 'early', 'prison', 'url', 'url'], ['hong', 'kong', 'protester', 'using', 'hand', 'shoot', 'gesture', 'ferguson', 'missouri', 'handsupdontshoot', 'url'], ['late', 'actor', 'paul', 'walker', 'admirable', 'history', 'organizing', 'participating', 'international', 'disaster', 'relief', 'mission', 'url'], ['pepsi', 'currently', 'taste', 'testing', 'doritos', 'flavored', 'mountrain', 'dew', 'would', 'try', 'url', 'url'], ['must', 'address', 'political', 'marginalization', 'institutional', 'racism', 'affecting', 'people', 'color', 'read', 'plan', 'url'], ['irritated', 'chick', 'fil', 'manager', 'make', 'list', 'teen', 'slang', 'employee', 'forbidden', 'use', 'url', 'url'], ['clinton', 'every', 'single', 'american', 'outraged', 'happening', 'flint', 'mich', 'nprdebate'], ['deadline', 'health', 'insurance', 'got', 'one', 'day', 'getcovered', 'url', 'url'], ['source', 'calvin', 'johnson', 'told', 'detroit', 'lion', 'plan', 'retiring', 'nfl', 'url', 'url'], ['fbi', 'super', 'pissed', 'white', 'house', 'meddling', 'url'], ['soldier', 'shot', 'national', 'war', 'memorial', 'ottawa', 'url', 'url'], ['hostage', 'taker', 'paris', 'store', 'demand', 'release', 'kouachibrothers', 'police', 'union', 'spokesman', 'say', 'url', 'url'], ['dog', 'found', 'abandoned', 'scottish', 'train', 'station', 'suitcase', 'filled', 'belonging', 'url', 'url'], ['digital', 'company', 'need', 'liberal', 'art', 'major', 'creativity', 'empathy', 'listening', 'important', 'ever', 'url'], ['rip', 'driver', 'roger', 'died', 'paul', 'walker', 'one', 'talk', 'famous', 'url'], ['pope', 'francis', 'real', 'mvp', 'url'], ['harry', 'potter', 'star', 'react', 'tragic', 'news', 'alan', 'rickman', 'death', 'url', 'url'], ['banksy', 'take', 'charlie', 'hebdo', 'simple', 'elegant', 'uncompromising', 'jesuischarlie', 'url'], ['islamic', 'state', 'video', 'purport', 'show', 'beheading', 'british', 'hostage', 'david', 'haines', 'official', 'confirm', 'dailymirror', 'url'], ['official', 'took', 'away', 'halloween', 'decoration', 'report', 'real', 'suicide', 'victim', 'url'], ['open', 'letter', 'trump', 'voter', 'top', 'strategist', 'stop', 'supporting', 'want', 'win', 'url'], ['caitlyn', 'jenner', 'post', 'nude', 'cover', 'sport', 'illustrated'], ['update', 'gunman', 'kosher', 'grocery', 'store', 'demanding', 'release', 'suspect', 'charliehebdo', 'shooting', 'report', 'url'], ['amazon', 'physical', 'store', 'nyc', 'would', 'offer', 'day', 'delivery', 'pickup', 'dropoffs', 'url', 'url'], ['video', 'released', 'isi', 'apparently', 'showing', 'murder', 'british', 'hostage', 'david', 'haines', 'url'], ['lego', 'letter', 'still', 'offer', 'powerful', 'message', 'parent', 'year', 'later', 'url', 'url'], ['study', 'workplace', 'injury', 'caused', 'bare', 'knuckle', 'boxing', 'url', 'url'], ['race', 'polling', 'prove', 'bernie', 'sander', 'hispanic', 'vote', 'nevada', 'url'], ['reported', 'photograph', 'malaysia', 'airline', 'mh', 'crash', 'url', 'url'], ['kurd', 'killed', 'chemical', 'weapon', 'isi', 'excuse', 'help', 'u', 'kobane', 'url'], ['audio', 'may', 'captured', 'michael', 'brown', 'shooting', 'url'], ['al', 'shabaab', 'leader', 'ahmed', 'abdi', 'godane', 'killed', 'monday', 'u', 'airstrike', 'somalia', 'pentagon', 'say', 'url'], ['belive', 'people', 'comparing', 'paul', 'walker', 'death', 'brian', 'family', 'guy', 'show', 'stupid', 'ignorant', 'people'], ['cam', 'newton', 'steph', 'curry', 'common', 'north', 'carolina', 'proof', 'url', 'url'], ['need', 'get', 'data', 'melbourne', 'data', 'center', 'make', 'aussie', 'yet', 'url'], ['olympics', 'usain', 'bolt', 'win', 'gold', 'staying', 'track', 'gold', 'event', 'olympics', 'url', 'url'], ['watch', 'potus', 'weekly', 'address', 'giving', 'every', 'student', 'opportunity', 'learn', 'computer', 'science', 'url'], ['saudi', 'cleric', 'declared', 'building', 'snowman', 'anti', 'islamic', 'url'], ['one', 'day', 'see', 'animal', 'eternity', 'christ', 'pope', 'francis', 'said', 'boy', 'whose', 'dog', 'died', 'url'], ['p', 'hell', 'pbagcharge', 'url'], ['fast', 'furious', 'star', 'heartbreakingly', 'mourn', 'paul', 'walker', 'death', 'url', 'url'], ['obama', 'skip', 'nancy', 'reagan', 'funeral', 'scalia', 'time', 'attending', 'sxsw', 'url'], ['letter', 'written', 'parent', 'inside', 'lego', 'set', 'perfect', 'url'], ['pregnant', 'ferguson', 'woman', 'blind', 'shot', 'face', 'police', 'bean', 'bag', 'url', 'video', 'url'], ['sugarhill', 'gang', 'big', 'bank', 'hank', 'dy', 'url', 'url'], ['hey', 'take', 'minute', 'minute', 'talk', 'niallofficial', 'glass', 'url', 'url'], ['speculation', 'arrested', 'banksy', 'debut', 'new', 'mural', 'bristol', 'url', 'url'], ['ex', 'marlboro', 'man', 'dy', 'smoking', 'related', 'disease', 'url'], ['whiteliberalproverbs', 'n', 'ggers', 'voting', 'democratic', 'next', 'two', 'hundred', 'year', 'lbj', 'founder', 'modern', 'welfare', 'state'], ['every', 'summer', 'since', 'taking', 'office', 'intern', 'surprised', 'potus', 'birthday', 'card', 'tbt', 'st', 'one', 'url'], ['long', 'dark', 'day', 'ottawa', 'timeline', 'attack', 'url', 'ottawashooting', 'url'], ['kristen', 'stewart', 'reality', 'url', 'demented', 'right', 'wing', 'fantasy', 'url'], ['krispy', 'kreme', 'hull', 'advertising', 'kkk', 'wednesday', 'know', 'know', 'url'], ['cdc', 'whistleblower', 'expose', 'ebola', 'vaccination', 'containing', 'rfid', 'chip', 'national', 'report', 'url', 'via', 'wpusta'], ['another', 'letter', 'parent', 'included', 'lego', 'set', 'url', 'url'], ['photo', 'taken', 'tourist', 'national', 'war', 'memorial', 'shortly', 'nathan', 'cirillo', 'shot', 'killed', 'url'], ['image', 'everyone', 'sharing', 'banksy', 'awesome', 'charliehebdo', 'url', 'url'], ['britain', 'johanna', 'konta', 'clinch', 'australian', 'open', 'semi', 'final', 'place', 'beating', 'zhang', 'shuai', 'melbourne', 'url'], ['obama', 'shut', 'amber', 'alert', 'website', 'find', 'missing', 'child', 'still', 'fuel', 'economy', 'website', 'url'], ['deandre', 'joshua', 'shot', 'head', 'torched', 'childhood', 'friend', 'w', 'sole', 'close', 'witness', 'mike', 'brown', 'murder', 'url'], ['looking', 'forward', 'first', 'matchup', 'la', 'vega', 'nhl', 'expansion', 'team', 'canadian', 'team', 'url'], ['apec', 'photo', 'day', 'rt', 'marc', 'leibowitz', 'photo', 'vladimir', 'putin', 'motorcade', 'posted', 'without', 'comment', 'url'], ['ferguson', 'protestor', 'accidentally', 'burn', 'home', 'blame', 'busy', 'fd', 'failing', 'respond', 'call', 'help', 'url'], ['boy', 'meet', 'mac', 'budweiser', 'family', 'new', 'baby', 'clydesdale', 'budweiser', 'clydesdale', 'url'], ['way', 'lean', 'startup', 'methodology', 'impact', 'business', 'url', 'scottgerber'], ['today', 'mark', 'yr', 'since', 'liberation', 'auschwitz', 'city', 'death', 'url', 'holocaustmemorialday', 'url'], ['good', 'putin', 'coup', 'coalsonr', 'three', 'scenario', 'succession', 'russia', 'url', 'via', 'rferl', 'url'], ['hour', 'five', 'road', 'trip', 'time', 'break', 'pen', 'url'], ['globalisation', 'civil', 'disobedience', 'hongkong', 'protester', 'use', 'ferguson', 'hand', 'shoot', 'gesture', 'url'], ['dubbed', 'bendgate', 'iphone', 'plus', 'user', 'report', 'aluminium', 'body', 'bending', 'pant', 'pocket', 'url', 'url'], ['fanged', 'deer', 'spotted', 'afghanistan', 'first', 'time', 'year', 'url', 'url'], ['rt', 'xxl', 'president', 'obama', 'daughter', 'wear', 'pro', 'era', 'shirt', 'url', 'url'], ['college', 'graduate', 'first', 'person', 'family', 'waste', 'url', 'url'], ['fbi', 'assisting', 'case', 'ottawa', 'shooting', 'source', 'confirmed', 'ctv', 'news'], ['abc', 'reportedly', 'gave', 'darren', 'wilson', 'figure', 'interview', 'true', 'essentially', 'paid', 'bounty', 'killing', 'black', 'child', 'ferguson'], ['mike', 'brown', 'staying', 'grandmother', 'summer', 'lived', 'community', 'ferguson'], ['p', 'bag', 'charge', 'fi', 'dead', 'robthisengland', 'url'], ['manager', 'chick', 'fil', 'made', 'list', 'word', 'employee', 'longer', 'allowed', 'say', 'url', 'url'], ['u', 'govt', 'reportedly', 'threatened', 'prosecute', 'family', 'kidnapped', 'journalist', 'jim', 'foley', 'paid', 'ransom', 'url', 'h', 'acarvin'], ['sydneysiege', 'hostage', 'taker', 'suicide', 'belt', 'demand', 'radio', 'convo', 'abbott', 'report', 'url', 'url'], ['dog', 'find', 'absolutely', 'perfect', 'place', 'shit', 'url'], ['hand', 'shoot', 'hong', 'kong', 'edition', 'url', 'url'], ['beheading', 'suspect', 'attended', 'mosque', 'terrorist', 'moore', 'oklahoma', 'alton', 'nolen', 'man', 'beheaded', 'url'], ['big', 'bank', 'hank', 'sugarhill', 'gang', 'famous', 'hit', 'rapper', 'delight', 'dead', 'url', 'url'], ['kim', 'jong', 'un', 'broke', 'ankle', 'fat'], ['hiphop', 'rap', 'news', 'apple', 'shut', 'beat', 'music', 'streaming', 'service', 'insider', 'beat', 'apple', 'sa', 'url', 'djscrill'], ['paul', 'walker', 'death', 'fast', 'furious', 'delayed', 'scrapped', 'url'], ['best', 'thing', 'p', 'plastic', 'bag', 'charge', 'cupboard', 'next', 'sink', 'worth'], ['dog', 'canadian', 'reservist', 'killed', 'national', 'war', 'memorial', 'wait', 'return', 'home', 'url', 'url'], ['fast', 'furious', 'might', 'still', 'come', 'even', 'paul', 'walker', 'death', 'url'], ['update', 'police', 'confirm', 'former', 'baseball', 'star', 'jose', 'canseco', 'shot', 'left', 'hand', 'accidental', 'shooting', 'cnn'], ['spider', 'scientist', 'find', 'puppy', 'sized', 'spider', 'rainforest', 'sit', 'stay', 'forever', 'url', 'url'], ['purple', 'pain', 'landmark', 'across', 'globe', 'light', 'fitting', 'prince', 'tribute', 'ripprince', 'url', 'url'], ['virginia', 'woolf', 'born', 'today', 'listen', 'known', 'recording', 'voice', 'url', 'url'], ['layton', 'police', 'officer', 'hospitalized', 'subway', 'worker', 'serf', 'meth', 'thc', 'drink', 'video', 'url'], ['one', 'reason', 'abolish', 'penny', 'plastic', 'money', 'worth', 'real', 'money', 'need', 'new', 'money', 'url'], ['confirmed', 'irrelevant', 'rt', 'ksdknews', 'confirmed', 'mikebrown', 'criminal', 'record', 'url', 'ferguson'], ['oregon', 'community', 'help', 'mother', 'boy', 'punished', 'tardy', 'due', 'vehicle', 'problem', 'url', 'url'], ['nhl', 'expansion', 'four', 'team', 'added', 'quebec', 'city', 'toronto', 'seattle', 'la', 'vega', 'b', 'expansion', 'fee'], ['cxn', 'gunman', 'shot', 'dead', 'parliament', 'hill', 'attack', 'soldier', 'shot', 'ottawa', 'url', 'report', 'soldier', 'dead', 'ottawashooting'], ['good', 'relationship', 'call', 'say', 'hi', 'want', 'see', 'brings', 'bk'], ['talk', 'fact', 'teletubby', 'sun', 'baby', 'year', 'old', 'url', 'url'], ['witness', 'say', 'charlie', 'hebdo', 'gunman', 'identified', 'member', 'al', 'qaida', 'url', 'url'], ['watchdog', 'say', 'iran', 'taken', 'step', 'start', 'implementing', 'nuclear', 'deal', 'paving', 'way', 'lifting', 'sanction', 'url'], ['chick', 'fil', 'manager', 'allegedly', 'banned', 'word', 'bae', 'fleek', 'ratchet', 'work', 'url'], ['new', 'leaked', 'phone', 'call', 'rebel', 'leader', 'russian', 'intel', 'agent', 'cossack', 'shot', 'mh', 'url', 'url'], ['breaking', 'one', 'person', 'seriously', 'wounded', 'six', 'taken', 'hostage', 'incident', 'kosher', 'supermarket', 'paris', 'police', 'source'], ['awful', 'mt', 'scclemons', 'uk', 'aid', 'worker', 'david', 'haines', 'beheaded', 'isi', 'remember', 'great', 'man', 'way', 'isi', 'want', 'url'], ['legendary', 'egalitarian', 'letter', 'lego', 'parent', 'url'], ['north', 'korea', 'may', 'preparing', 'missile', 'launch', 'url', 'url'], ['official', 'say', 'know', 'extent', 'al', 'baghdadi', 'apparent', 'injury', 'url'], ['canada', 'parliament', 'building', 'locked', 'shooting', 'least', 'one', 'guard', 'injured', 'url', 'photo', 'ap', 'url'], ['running', 'chocolate', 'warns', 'world', 'largest', 'chocolate', 'manufacturer', 'url', 'url'], ['surveillance', 'robbery', 'release', 'still', 'video', 'ferguson'], ['watch', 'donald', 'trump', 'tell', 'megyn', 'kelly', 'back', 'skipping', 'debate', 'cowardly', 'url', 'url'], ['got', 'plan', 'help', 'make', 'sure', 'kid', 'get', 'opportunity', 'learn', 'computer', 'science', 'potus', 'csforall', 'url'], ['obama', 'daughter', 'pregnant', 'lol', 'michelle', 'spent', 'time', 'instead', 'taking', 'away', 'french', 'fry'], ['iphone', 'owner', 'claim', 'bending', 'pocket', 'url'], ['law', 'enforcement', 'official', 'say', 'shooter', 'myron', 'may', 'graduated', 'florida', 'state', 'url'], ['potus', 'announced', 'new', 'action', 'advance', 'equalpay', 'need', 'know', 'url', 'url'], ['donald', 'trump', 'admits', 'say', 'horrible', 'thing', 'keep', 'people', 'interested', 'url', 'url'], ['update', 'attacker', 'shot', 'dead', 'parliament', 'soldier', 'shot', 'war', 'memorial', 'url', 'ottawashooting', 'url'], ['missouri', 'governor', 'declares', 'state', 'emergency', 'ahead', 'grand', 'jury', 'url'], ['rip', 'alan', 'rickman', 'gave', 'u', 'villain', 'root', 'url', 'url'], ['hillary', 'clinton', 'lying', 'clinton', 'first', 'woman', 'nominated', 'president', 'victoria', 'woodhull', 'url'], ['report', 'leader', 'abu', 'bakr', 'al', 'baghdadi', 'wounded', 'coalition', 'air', 'strike', 'unconfirmed', 'u', 'defense', 'sec', 'john', 'kirby', 'r', 'today'], ['obama', 'skip', 'nancy', 'reagan', 'funeral', 'attend', 'entertainment', 'festival', 'instead', 'url', 'url'], ['hewlett', 'packard', 'split', 'two', 'company', 'wsj', 'say', 'url'], ['r', 'p', 'paul', 'walker', 'people', 'making', 'joke', 'death', 'funny'], ['gilmoregirls', 'revival', 'coming', 'netflix', 'thelaurengraham', 'alexisbledel', 'url', 'url'], ['thumb', 'emoji', 'rt', 'complexmag', 'someone', 'spray', 'painted', 'penis', 'million', 'bugatti', 'veyron', 'url', 'url'], ['french', 'police', 'arrest', 'woman', 'man', 'carrying', 'weapon', 'ammunition', 'disneyland', 'paris', 'hotel', 'url'], ['r', 'p', 'roger', 'rodas', 'man', 'died', 'paul', 'walker', 'everybody', 'forgot', 'rippaulwalker', 'riprogerrodas', 'url'], ['even', 'close', 'url'], ['cdc', 'case', 'zika', 'virus', 'u', 'state', 'patient', 'traveled', 'puerto', 'rico', 'blythebernhard', 'url'], ['official', 'took', 'away', 'halloween', 'decoration', 'report', 'real', 'suicide', 'victim', 'url'], ['r', 'p', 'driver', 'died', 'paul', 'walker', 'one', 'care', 'famous'], ['pentagon', 'confirms', 'ahmed', 'abdi', 'godane', 'leader', 'al', 'shabaab', 'islamist', 'group', 'killed', 'u', 'airstrike', 'url'], ['happy', 'th', 'birthday', 'stephen', 'hawking', 'url'], ['marlboro', 'ad', 'man', 'eric', 'lawson', 'dy', 'chronic', 'lung', 'disease', 'url', 'guardianworld'], ['potus', 'announced', 'new', 'reform', 'address', 'overuse', 'solitary', 'confinement', 'url', 'url'], ['school', 'satan', 'club', 'url'], ['breaking', 'news', 'according', 'document', 'released', 'press', 'mikebrown', 'connected', 'earlier', 'robbery', 'ferguson', 'url'], ['ebola', 'vaccine', 'url', 'news', 'today'], ['concerned', 'airport', 'passenger', 'suit', 'homemade', 'hazmat', 'flight', 'url', 'url']]\n"
          ]
        }
      ],
      "source": [
        "print(corpus)"
      ]
    },
    {
      "cell_type": "code",
      "execution_count": null,
      "metadata": {
        "id": "E6ZFWR9WEVak"
      },
      "outputs": [],
      "source": [
        "model = Word2Vec(min_count=5,\n",
        "                     window=2,\n",
        "                     size=300,\n",
        "                     sample=6e-5, \n",
        "                     alpha=0.03, \n",
        "                     min_alpha=0.0007, \n",
        "                     negative=20,\n",
        "                     )\n"
      ]
    },
    {
      "cell_type": "code",
      "execution_count": null,
      "metadata": {
        "id": "f9lstJCnSGKP",
        "colab": {
          "base_uri": "https://localhost:8080/"
        },
        "outputId": "d0893c87-5b36-47f0-c548-1dfda68a3513"
      },
      "outputs": [
        {
          "output_type": "execute_result",
          "data": {
            "text/plain": [
              "(11732, 80365)"
            ]
          },
          "metadata": {},
          "execution_count": 13
        }
      ],
      "source": [
        "model.build_vocab(corpus, progress_per=1000)\n",
        "model.train(corpus, total_examples=model.corpus_count, epochs=model.epochs, report_delay=1)"
      ]
    },
    {
      "cell_type": "code",
      "execution_count": null,
      "metadata": {
        "id": "Sokiz_ZrcD4w",
        "colab": {
          "base_uri": "https://localhost:8080/"
        },
        "outputId": "07eb5350-d483-4e3b-89f3-764243d2a8f0"
      },
      "outputs": [
        {
          "output_type": "stream",
          "name": "stdout",
          "text": [
            "['open', 'letter', 'trump', 'voter', 'top', 'strategist', 'turned', 'defector', 'url', 'via', 'america', 'potus', 'new', 'offer', 'support', 'hero', 'rip', 'elly', 'may', 'clampett', 'sad', 'learn', 'star', 'donna', 'douglas', 'away', 'former', 'died', 'age', 'according', 'ad', 'get', 'paid', 'hour', 'protest', 'missing', 'afghan', 'soldier', 'found', 'trying', 'canada', 'near', 'fall', 'day', 'ferguson', 'cop', 'told', 'heart', 'like', 'shirt', 'chick', 'fil', 'manager', 'banned', 'list', 'slang', 'word', 'islamic', 'tribunal', 'using', 'sharia', 'law', 'texas', 'confirmed', 'rt', 'photo', 'vladimir', 'putin', 'motorcade', 'posted', 'without', 'mh', 'shooter', 'still', 'shot', 'ottawa', 'war', 'memorial', 'parliament', 'taken', 'report', 'american', 'taking', 'year', 'school', 'woman', 'head', 'last', 'night', 'released', 'plan', 'first', 'store', 'keep', 'say', 'bile', 'gold', 'men', 'team', 'rio', 'let', 'friend', 'know', 'state', 'south', 'cut', 'meat', 'beer', 'believe', 'killed', 'people', 'nothing', 'see', 'wilson', 'shooting', 'north', 'paris', 'french', 'medium', 'car', 'way', 'police', 'chief', 'one', 'officer', 'case', 'charliehebdo', 'suicide', 'forget', 'robbery', 'dead', 'son', 'gun', 'kill', 'taliban', 'militant', 'save', 'hongkong', 'hand', 'shoot', 'seriously', 'racist', 'sign', 'hoax', 'health', 'minister', 'read', 'personal', 'talking', 'angela', 'macklemore', 'tweet', 'watch', 'right', 'paul', 'walker', 'fast', 'furious', 'tupac', 'tv', 'claim', 'co', 'passenger', 'international', 'spotted', 'wearing', 'suit', 'ebola', 'amber', 'alert', 'really', 'shutdown', 'b', 'c', 'obama', 'said', 'go', 'back', 'today', 'child', 'step', 'berniesanders', 'end', 'criminal', 'system', 'iraqi', 'official', 'isi', 'leader', 'wounded', 'airstrike', 'ban', 'foley', 'beheading', 'suspect', 'abdel', 'left', 'london', 'home', 'friday', 'accident', 'look', 'airline', 'u', 'flight', 'reporter', 'live', 'marijuana', 'ex', 'president', 'dy', 'government', 'transgender', 'teen', 'note', 'tumblr', 'death', 'need', 'mean', 'rippaulwalker', 'microsoft', 'buy', 'mojang', 'minecraft', 'around', 'billion', 'nearly', 'k', 'black', 'yr', 'unarmed', 'al', 'tcot', 'la', 'vega', 'girl', 'kobane', 'reportedly', 'beheaded', 'target', 'boycott', 'cross', 'million', 'stock', 'sink', 'hillary', 'clinton', 'kkk', 'made', 'migrant', 'news', 'saudi', 'national', 'human', 'give', 'wtf', 'amymek', 'world', 'purple', 'prince', 'seen', 'air', 'least', 'stop', 'hp', 'two', 'company', 'job', 'making', 'shut', 'website', 'video', 'kevin', 'vickers', 'return', 'real', 'never', 'thought', 'would', 'play', 'kid', 'tell', 'die', 'goliath', 'birdeater', 'breaking', 'british', 'hostage', 'david', 'haines', 'message', 'fix', 'society', 'want', 'policy', 'poll', 'show', 'puppy', 'sized', 'spider', 'surprise', 'scientist', 'rainforest', 'syria', 'protester', 'gesture', 'following', 'hill', 'old', 'pleading', 'could', 'leonardo', 'giving', 'cause', 'actually', 'going', 'meet', 'next', 'security', 'realdonaldtrump', 'make', 'sagawards', 'oregon', 'driver', 'injured', 'crash', 'worker', 'murder', 'alton', 'nolen', 'fbi', 'court', 'destroying', 'someone', 'spray', 'painted', 'penis', 'bugatti', 'veyron', 'p', 'bag', 'charge', 'win', 'set', 'muslim', 'share', 'missile', 'ukraine', 'malaysia', 'plane', 'attacker', 'disease', 'white', 'street', 'face', 'victim', 'work', 'including', 'add', 'russian', 'attack', 'uk', 'twitter', 'campaign', 'man', 'confirms', 'group', 'baghdadi', 'harry', 'potter', 'book', 'everyone', 'st', 'mikebrown', 'oklahoma', 'chemical', 'weapon', 'kurd', 'gunman', 'five', 'please', 'another', 'cpl', 'nathan', 'cirillo', 'cbcott', 'ottnews', 'vote', 'banksy', 'belonging', 'mother', 'took', 'called', 'terror', 'korea', 'bernie', 'sander', 'donald', 'cnn', 'find', 'terrorist', 'killer', 'fox', 'rebel', 'fact', 'coverage', 'fanged', 'deer', 'pop', 'afghanistan', 'pd', 'w', 'destruction', 'little', 'r', 'loved', 'much', 'wear', 'lost', 'got', 'fight', 'club', 'high', 'fukushima', 'nuclear', 'plant', 'leaking', 'ton', 'radioactive', 'water', 'ocean', 'every', 'iraq', 'also', 'cancer', 'hard', 'young', 'happy', 'good', 'business', 'call', 'record', 'jet', 'lego', 'come', 'fan', 'actor', 'picture', 'take', 'powerful', 'parent', 'ur', 'info', 'beverly', 'hillbilly', 'large', 'release', 'joined', 'laziness', 'trait', 'quote', 'saying', 'military', 'known', 'skip', 'town', 'building', 'anti', 'week', 'story', 'worth', 'reported', 'great', 'well', 'confirm', 'multiple', 'getting', 'roger', 'rodas', 'hong', 'kong', 'person', 'hospital', 'eric', 'beautiful', 'talk', 'nevada', 'join', 'cartoonist', 'since', 'marlboro', 'smoking', 'related', 'lockdown', 'boycotting', 'walmart', 'darren', 'force', 'event', 'nurse', 'life', 'member', 'big', 'icymi', 'movie', 'put', 'iphone', 'pocket', 'role', 'boy', 'image', 'injury', 'family', 'love', 'thing', 'moment', 'internet', 'hit', 'used', 'form', 'house', 'help', 'score', 'advance', 'site', 'michael', 'border', 'source', 'dog', 'abandoned', 'scottish', 'station', 'suitcase', 'full', 'caitlyn', 'jenner', 'pose', 'nude', 'sport', 'illustrated', 'latest', 'boko', 'haram', 'sugarhill', 'gang', 'bank', 'hank', 'city', 'nhl', 'expansion', 'kfc', 'separate', 'witness', 'arrest', 'ever', 'even', 'update', 'question', 'spread', 'bug', 'bathroom', 'james', 'time', 'start', 'arrested', 'body', 'fired', 'running', 'chocolate', 'largest', 'manufacturer', 'warns', 'tragic', 'airstrikes', 'canadian', 'irandeal', 'pregnant', 'eye', 'cruz', 'orlando', 'nyc', 'break', 'history', 'run', 'punishment', 'florida', 'third', 'pepsi', 'later', 'mike', 'pay', 'registered', 'democrat', 'data', 'mexico', 'student', 'mass', 'grave', 'bill', 'name', 'brian', 'guy', 'think', 'tesla', 'federal', 'community', 'cover', 'plus', 'user', 'bending', 'phone', 'kenny', 'syndrome', 'perfect', 'pena', 'played', 'alive', 'believed', 'abc', 'interview', 'famous', 'rapper', 'carrying', 'care', 'react', 'audio', 'abu', 'bakr', 'hillaryclinton', 'victoria', 'woodhull', 'stay', 'mom', 'brown', 'alleged', 'tribute', 'charlie', 'hebdo', 'sydneysiege', 'doritos', 'flavored', 'mountain', 'dew', 'ap', 'strike', 'drive', 'nancy', 'reagan', 'funeral', 'glass', 'sandwich', 'iran', 'bomb', 'breast', 'search', 'move', 'usa', 'doctor', 'christian', 'steve', 'instead', 'center', 'george', 'pope', 'francis', 'hotel', 'feel', 'killing', 'pacific', 'close', 'deal', 'hot', 'vegetarian', 'th', 'testing', 'pic', 'ottawashooting', 'address', 'pro', 'three', 'patient', 'coming', 'accidentally', 'place', 'identified', 'must', 'brought', 'alan', 'rickman', 'emergency', 'sure', 'baby', 'seems', 'overnight', 'number', 'four', 'beat', 'japan', 'jihadi', 'john', 'hewlett', 'packard', 'split', 'eat', 'file', 'zimmerman', 'predicted', 'final', 'owner', 'reveals', 'six', 'apple', 'l', 'due', 'stephen', 'prison', 'sydney', 'olympics', 'detail', 'employee', 'daughter', 'michelle', 'document', 'use', 'study']\n",
            "725\n"
          ]
        }
      ],
      "source": [
        "vocab = list(model.wv.vocab)\n",
        "print(vocab)\n",
        "print(len(vocab))"
      ]
    },
    {
      "cell_type": "code",
      "source": [
        "vector=model.wv.vectors\n",
        "vector"
      ],
      "metadata": {
        "id": "ixNHW-K7md-q",
        "colab": {
          "base_uri": "https://localhost:8080/"
        },
        "outputId": "8ad87c86-4050-4ff6-f0e7-2d40aec13732"
      },
      "execution_count": null,
      "outputs": [
        {
          "output_type": "execute_result",
          "data": {
            "text/plain": [
              "array([[-0.05072695,  0.08104977, -0.05636467, ...,  0.0184574 ,\n",
              "        -0.02163253, -0.0164174 ],\n",
              "       [-0.01495166,  0.02726618, -0.01668645, ...,  0.00493848,\n",
              "        -0.00655742, -0.00555997],\n",
              "       [-0.01607266,  0.02734165, -0.02060434, ...,  0.00738106,\n",
              "        -0.00733394, -0.00486929],\n",
              "       ...,\n",
              "       [-0.00675112,  0.01163138, -0.00938997, ...,  0.00415649,\n",
              "        -0.00276921, -0.00190965],\n",
              "       [-0.00129265,  0.00179294, -0.00050877, ...,  0.00095633,\n",
              "        -0.00209406,  0.00028799],\n",
              "       [-0.0033877 ,  0.00544167, -0.00406166, ...,  0.00094302,\n",
              "        -0.00269175, -0.00179486]], dtype=float32)"
            ]
          },
          "metadata": {},
          "execution_count": 15
        }
      ]
    },
    {
      "cell_type": "code",
      "execution_count": null,
      "metadata": {
        "id": "DkLTKLkkBVcT",
        "colab": {
          "base_uri": "https://localhost:8080/"
        },
        "outputId": "cbd467d2-3346-40b0-9073-9ec5d2f99075"
      },
      "outputs": [
        {
          "output_type": "execute_result",
          "data": {
            "text/plain": [
              "[('url', 0.9890867471694946),\n",
              " ('died', 0.9882146120071411),\n",
              " ('mojang', 0.9878290891647339),\n",
              " ('say', 0.9874548316001892),\n",
              " ('people', 0.9874523282051086),\n",
              " ('two', 0.9871696829795837),\n",
              " ('p', 0.9871575832366943),\n",
              " ('least', 0.9870786070823669),\n",
              " ('soldier', 0.987033486366272),\n",
              " ('ferguson', 0.9870274066925049)]"
            ]
          },
          "metadata": {},
          "execution_count": 16
        }
      ],
      "source": [
        "model.wv.most_similar(positive=[\"letter\"])"
      ]
    },
    {
      "cell_type": "code",
      "execution_count": null,
      "metadata": {
        "id": "1D_YOYAG_4UQ",
        "colab": {
          "base_uri": "https://localhost:8080/"
        },
        "outputId": "2beb7bba-3ee1-4b98-d6d0-cdb911117bf5"
      },
      "outputs": [
        {
          "output_type": "stream",
          "name": "stdout",
          "text": [
            "(1489, 1)\n",
            "[['open letter trump voter top strategist turned defector url via xojanedotcom']\n",
            " ['america nation second chance potus new reform solitary confinement url url']\n",
            " ['brandon marshall visit offer advice support brother fallen hero zaevion dobson url url']\n",
            " ...\n",
            " ['breaking news according document released press mikebrown connected earlier robbery ferguson url']\n",
            " ['ebola vaccine url news today']\n",
            " ['concerned airport passenger suit homemade hazmat flight url url']]\n",
            "(1489, 1)\n"
          ]
        }
      ],
      "source": [
        "x=dataset.iloc[:,1:2].values\n",
        "y = dataset.iloc[:, -1].values\n",
        "\n",
        "x.reshape(-1,1)\n",
        "# print(x)\n",
        "print(x.shape)\n",
        "print(x)\n",
        "y=np.reshape(y,(1489,1))\n",
        "print(y.shape)\n"
      ]
    },
    {
      "cell_type": "code",
      "execution_count": null,
      "metadata": {
        "id": "BHiTldWB_9W0",
        "colab": {
          "base_uri": "https://localhost:8080/"
        },
        "outputId": "3a77adc4-2a85-4b5f-eeef-cf3a32c99c01"
      },
      "outputs": [
        {
          "output_type": "stream",
          "name": "stdout",
          "text": [
            "[3 1 1 ... 3 0 3]\n"
          ]
        },
        {
          "output_type": "stream",
          "name": "stderr",
          "text": [
            "/usr/local/lib/python3.7/dist-packages/sklearn/preprocessing/_label.py:115: DataConversionWarning: A column-vector y was passed when a 1d array was expected. Please change the shape of y to (n_samples, ), for example using ravel().\n",
            "  y = column_or_1d(y, warn=True)\n"
          ]
        },
        {
          "output_type": "execute_result",
          "data": {
            "text/plain": [
              "4"
            ]
          },
          "metadata": {},
          "execution_count": 18
        }
      ],
      "source": [
        "from sklearn.preprocessing import LabelEncoder\n",
        "le = LabelEncoder()\n",
        "y = le.fit_transform(y)\n",
        "print(y)\n",
        "from collections import Counter\n",
        "items = Counter(y).keys()\n",
        "len(items)"
      ]
    },
    {
      "cell_type": "code",
      "source": [
        "from tensorflow.keras.preprocessing.text import Tokenizer, text_to_word_sequence\n",
        "tokenizer = Tokenizer()\n",
        "tokenizer.fit_on_texts(dataset['review'])\n",
        "train_sequences = tokenizer.texts_to_sequences(dataset['review']) #Converting text to a vector of word indexes\n",
        "word_index = tokenizer.word_index\n",
        "print('Found %s unique tokens.' % len(word_index))\n",
        "print('1st token-id sequnce', train_sequences[0])"
      ],
      "metadata": {
        "id": "QTMZ3fz0SSiH",
        "colab": {
          "base_uri": "https://localhost:8080/"
        },
        "outputId": "b8198030-2774-42dc-f41f-538521114606"
      },
      "execution_count": null,
      "outputs": [
        {
          "output_type": "stream",
          "name": "stdout",
          "text": [
            "Found 4180 unique tokens.\n",
            "1st token-id sequnce [260, 53, 28, 423, 261, 262, 424, 589, 1, 32, 1264]\n"
          ]
        }
      ]
    },
    {
      "cell_type": "code",
      "source": [
        "train_sequences = tokenizer.texts_to_sequences(dataset['review']) \n",
        "print(dataset['review'][0])\n",
        "print(text_to_word_sequence(dataset['review'][0]))\n",
        "print()\n",
        "tokenizer.num_words = None # take all the tokens\n",
        "print(tokenizer.texts_to_sequences(dataset['review'])[0])\n",
        "tokenizer.num_words = 100\n",
        "print(tokenizer.texts_to_sequences(dataset['review'])[0])"
      ],
      "metadata": {
        "id": "QT4P644xn1Oy",
        "colab": {
          "base_uri": "https://localhost:8080/"
        },
        "outputId": "1b851c75-100c-4c1e-f72f-589e01e021f1"
      },
      "execution_count": null,
      "outputs": [
        {
          "output_type": "stream",
          "name": "stdout",
          "text": [
            "open letter trump voter top strategist turned defector url via xojanedotcom\n",
            "['open', 'letter', 'trump', 'voter', 'top', 'strategist', 'turned', 'defector', 'url', 'via', 'xojanedotcom']\n",
            "\n",
            "[260, 53, 28, 423, 261, 262, 424, 589, 1, 32, 1264]\n",
            "[53, 28, 1, 32]\n"
          ]
        }
      ]
    },
    {
      "cell_type": "code",
      "source": [
        "from tensorflow.keras.preprocessing.sequence import pad_sequences\n",
        "print(sum(dataset['review'].str.count(' '))/len(dataset))"
      ],
      "metadata": {
        "id": "PS9A7X99pnSI",
        "colab": {
          "base_uri": "https://localhost:8080/"
        },
        "outputId": "0fde243a-fdbf-4688-ed0d-58d877a3c6d9"
      },
      "execution_count": null,
      "outputs": [
        {
          "output_type": "stream",
          "name": "stdout",
          "text": [
            "9.794492948287441\n"
          ]
        }
      ]
    },
    {
      "cell_type": "code",
      "source": [
        "MAX_SEQUENCE_LENGTH = 10 \n",
        "trainvalid_data_pre = pad_sequences(train_sequences, maxlen=MAX_SEQUENCE_LENGTH, \n",
        "                                padding='pre',\n",
        "                                truncating='pre',)\n",
        "print(trainvalid_data_pre.shape)\n",
        "# type(trainvalid_data_pre)"
      ],
      "metadata": {
        "id": "FaNwipE5p48m",
        "colab": {
          "base_uri": "https://localhost:8080/"
        },
        "outputId": "541150fa-c9ea-4154-9736-4d3e408685cb"
      },
      "execution_count": null,
      "outputs": [
        {
          "output_type": "stream",
          "name": "stdout",
          "text": [
            "(1489, 10)\n"
          ]
        }
      ]
    },
    {
      "cell_type": "code",
      "source": [
        "from sklearn.impute import SimpleImputer\n",
        "imputer = SimpleImputer(missing_values=np.nan, strategy='constant')\n",
        "imputer.fit(trainvalid_data_pre)\n",
        "trainvalid_data_pre = imputer.transform(trainvalid_data_pre)\n",
        "\n",
        "print(trainvalid_data_pre.shape)"
      ],
      "metadata": {
        "id": "yF5nwUhKtv3R",
        "colab": {
          "base_uri": "https://localhost:8080/"
        },
        "outputId": "cdd8472e-11c5-4396-e52c-2df80d4c9831"
      },
      "execution_count": null,
      "outputs": [
        {
          "output_type": "stream",
          "name": "stdout",
          "text": [
            "(1489, 10)\n"
          ]
        }
      ]
    },
    {
      "cell_type": "code",
      "source": [
        "train_embedding_weights= np.zeros((len(word_index)+1, 300))\n",
        "for word,index in word_index.items():\n",
        "  train_embedding_weights[index,:] = model.wv[word] if word in model.wv else np.random.rand(300)\n",
        "print(train_embedding_weights.shape)"
      ],
      "metadata": {
        "id": "X_GMPD4wTO6O",
        "colab": {
          "base_uri": "https://localhost:8080/"
        },
        "outputId": "ba053c32-ac9d-4a7b-8dd0-f105925ef4a8"
      },
      "execution_count": null,
      "outputs": [
        {
          "output_type": "stream",
          "name": "stdout",
          "text": [
            "(4181, 300)\n"
          ]
        }
      ]
    },
    {
      "cell_type": "code",
      "source": [
        "from sklearn.model_selection import train_test_split\n",
        "X_train, X_test, y_train, y_test = train_test_split(trainvalid_data_pre, y, test_size = 0.2, random_state = 1)"
      ],
      "metadata": {
        "id": "OP9fQwct0nyu"
      },
      "execution_count": null,
      "outputs": []
    },
    {
      "cell_type": "code",
      "execution_count": null,
      "metadata": {
        "id": "XyayLV89mkXN",
        "colab": {
          "base_uri": "https://localhost:8080/"
        },
        "outputId": "3acb7b6d-efd6-4134-85ca-40ec01e45117"
      },
      "outputs": [
        {
          "output_type": "stream",
          "name": "stdout",
          "text": [
            "(1191, 10)\n",
            "(298, 10)\n",
            "(1191,)\n",
            "(298,)\n"
          ]
        }
      ],
      "source": [
        "print(X_train.shape)\n",
        "print(X_test.shape)\n",
        "print(y_train.shape)\n",
        "print(y_test.shape)"
      ]
    },
    {
      "cell_type": "code",
      "source": [
        "from sklearn.preprocessing import StandardScaler\n",
        "sc = StandardScaler()\n",
        "X_train = sc.fit_transform(X_train)\n",
        "X_test = sc.transform(X_test)"
      ],
      "metadata": {
        "id": "r5cYaYrFpObz"
      },
      "execution_count": null,
      "outputs": []
    },
    {
      "cell_type": "code",
      "execution_count": null,
      "metadata": {
        "id": "gJqT2pqm4sRN",
        "colab": {
          "base_uri": "https://localhost:8080/"
        },
        "outputId": "ca3e1d7b-ef67-42cf-8004-0fd11ae1aba2"
      },
      "outputs": [
        {
          "output_type": "stream",
          "name": "stdout",
          "text": [
            "[[32 19  8 18]\n",
            " [19 38  6 16]\n",
            " [16  5 33 26]\n",
            " [21 16  7 18]]\n"
          ]
        },
        {
          "output_type": "execute_result",
          "data": {
            "text/plain": [
              "0.40604026845637586"
            ]
          },
          "metadata": {},
          "execution_count": 28
        }
      ],
      "source": [
        "from sklearn.ensemble import RandomForestClassifier\n",
        "classifier = RandomForestClassifier(n_estimators = 10, criterion = 'entropy', random_state = 0)\n",
        "classifier.fit(X_train, y_train)\n",
        "y_pred = classifier.predict(X_test)\n",
        "cm = confusion_matrix(y_test, y_pred)\n",
        "print(cm)\n",
        "accuracy_score(y_test, y_pred)"
      ]
    },
    {
      "cell_type": "code",
      "source": [
        "from sklearn.svm import SVC\n",
        "classifier = SVC(kernel = 'rbf',degree=5, random_state = 0)\n",
        "classifier.fit(X_train, y_train)\n",
        "y_pred = classifier.predict(X_test)\n",
        "cm = confusion_matrix(y_test, y_pred)\n",
        "print(cm)\n",
        "accuracy_score(y_test, y_pred)"
      ],
      "metadata": {
        "id": "YDbutPqIlwQf",
        "colab": {
          "base_uri": "https://localhost:8080/"
        },
        "outputId": "7f889e88-ab25-40d0-e762-4478cf45b535"
      },
      "execution_count": null,
      "outputs": [
        {
          "output_type": "stream",
          "name": "stdout",
          "text": [
            "[[16 19 30 12]\n",
            " [13 46  5 15]\n",
            " [13 16 37 14]\n",
            " [14 15 19 14]]\n"
          ]
        },
        {
          "output_type": "execute_result",
          "data": {
            "text/plain": [
              "0.37919463087248323"
            ]
          },
          "metadata": {},
          "execution_count": 29
        }
      ]
    },
    {
      "cell_type": "code",
      "source": [
        "from sklearn.tree import DecisionTreeClassifier\n",
        "classifier = DecisionTreeClassifier(criterion = 'entropy', random_state = 0)\n",
        "classifier.fit(X_train, y_train)\n",
        "y_pred = classifier.predict(X_test)\n",
        "cm = confusion_matrix(y_test, y_pred)\n",
        "print(cm)\n",
        "accuracy_score(y_test, y_pred)"
      ],
      "metadata": {
        "id": "ydHO7fxbn0QH",
        "colab": {
          "base_uri": "https://localhost:8080/"
        },
        "outputId": "75de0930-5398-45f3-c473-640bd5508c7e"
      },
      "execution_count": null,
      "outputs": [
        {
          "output_type": "stream",
          "name": "stdout",
          "text": [
            "[[23 21 17 16]\n",
            " [10 36 11 22]\n",
            " [13  9 35 23]\n",
            " [18  9  8 27]]\n"
          ]
        },
        {
          "output_type": "execute_result",
          "data": {
            "text/plain": [
              "0.40604026845637586"
            ]
          },
          "metadata": {},
          "execution_count": 30
        }
      ]
    },
    {
      "cell_type": "code",
      "source": [
        "from sklearn.naive_bayes import GaussianNB\n",
        "classifier = GaussianNB()\n",
        "classifier.fit(X_train, y_train)\n",
        "y_pred = classifier.predict(X_test)\n",
        "cm = confusion_matrix(y_test, y_pred)\n",
        "print(cm)\n",
        "accuracy_score(y_test, y_pred)"
      ],
      "metadata": {
        "id": "xPo4XcIHpdrY",
        "colab": {
          "base_uri": "https://localhost:8080/"
        },
        "outputId": "045038ca-4522-44e6-920d-37e120baeb40"
      },
      "execution_count": null,
      "outputs": [
        {
          "output_type": "stream",
          "name": "stdout",
          "text": [
            "[[ 6 22 44  5]\n",
            " [ 8 47 20  4]\n",
            " [15 17 46  2]\n",
            " [11 17 32  2]]\n"
          ]
        },
        {
          "output_type": "execute_result",
          "data": {
            "text/plain": [
              "0.3389261744966443"
            ]
          },
          "metadata": {},
          "execution_count": 31
        }
      ]
    },
    {
      "cell_type": "code",
      "source": [
        "import spacy\n",
        "from spacy import displacy\n",
        "nlp = spacy.load('en_core_web_sm')\n",
        "from spacy.matcher import Matcher \n",
        "from spacy.tokens import Span \n",
        "from tqdm import tqdm"
      ],
      "metadata": {
        "id": "bJ3mn3XLBHFn"
      },
      "execution_count": null,
      "outputs": []
    },
    {
      "cell_type": "code",
      "source": [
        "from sklearn.model_selection import train_test_split\n",
        "review = dataset['review'].values\n",
        "label = dataset['answer'].values\n",
        "label = le.fit_transform(label)\n",
        "review_train, review_test, label_train, label_test = train_test_split(\n",
        "review, label, test_size=0.25, random_state=1000)"
      ],
      "metadata": {
        "id": "zgTqK51PSpJW"
      },
      "execution_count": null,
      "outputs": []
    },
    {
      "cell_type": "code",
      "source": [
        "from sklearn.feature_extraction.text import CountVectorizer\n",
        "review_vectorizer = CountVectorizer()\n",
        "review_vectorizer.fit(review_train)\n",
        "Xlr_train = review_vectorizer.transform(review_train)\n",
        "Xlr_test  = review_vectorizer.transform(review_test)\n",
        "Xlr_train "
      ],
      "metadata": {
        "id": "pXgOEMqkTCJ9",
        "colab": {
          "base_uri": "https://localhost:8080/"
        },
        "outputId": "319c3370-0fa6-48a3-c985-e0ad596ea98c"
      },
      "execution_count": null,
      "outputs": [
        {
          "output_type": "execute_result",
          "data": {
            "text/plain": [
              "<1116x3546 sparse matrix of type '<class 'numpy.int64'>'\n",
              "\twith 11313 stored elements in Compressed Sparse Row format>"
            ]
          },
          "metadata": {},
          "execution_count": 34
        }
      ]
    },
    {
      "cell_type": "code",
      "source": [
        "print(Xlr_train.shape)\n",
        "print(Xlr_test.shape)\n",
        "print(label_train.shape)\n",
        "print(label_test.shape)"
      ],
      "metadata": {
        "id": "UEY_vwJubEna",
        "colab": {
          "base_uri": "https://localhost:8080/"
        },
        "outputId": "d726ec60-9bc1-49a7-8faa-ddcb129c5b5d"
      },
      "execution_count": null,
      "outputs": [
        {
          "output_type": "stream",
          "name": "stdout",
          "text": [
            "(1116, 3546)\n",
            "(373, 3546)\n",
            "(1116,)\n",
            "(373,)\n"
          ]
        }
      ]
    },
    {
      "cell_type": "code",
      "source": [
        "from collections import Counter\n",
        "items = Counter(label_train).keys()\n",
        "print(len(items))\n",
        "items1 = Counter(label_test).keys()\n",
        "print(len(items1))"
      ],
      "metadata": {
        "id": "uelZBprHbRsO",
        "colab": {
          "base_uri": "https://localhost:8080/"
        },
        "outputId": "a6bbced3-b259-4bb2-e757-684ba972ccf8"
      },
      "execution_count": null,
      "outputs": [
        {
          "output_type": "stream",
          "name": "stdout",
          "text": [
            "4\n",
            "4\n"
          ]
        }
      ]
    },
    {
      "cell_type": "code",
      "source": [
        "from sklearn.linear_model import LogisticRegression\n",
        "LRmodel = LogisticRegression()\n",
        "LRmodel.fit(Xlr_train, label_train)\n",
        "score = LRmodel.score(Xlr_test, label_test)\n",
        "print(\"Accuracy:\", score) "
      ],
      "metadata": {
        "id": "HD8JyGlJTSgj",
        "colab": {
          "base_uri": "https://localhost:8080/"
        },
        "outputId": "3f6c63c1-5073-4c3d-ec9c-39e4da1100a3"
      },
      "execution_count": null,
      "outputs": [
        {
          "output_type": "stream",
          "name": "stdout",
          "text": [
            "Accuracy: 0.8310991957104558\n"
          ]
        }
      ]
    },
    {
      "cell_type": "code",
      "source": [
        "from sklearn.ensemble import RandomForestClassifier\n",
        "classifier = RandomForestClassifier(n_estimators = 10, criterion = 'entropy', random_state = 0)\n",
        "classifier.fit(Xlr_train, label_train)\n",
        "score1 = classifier.score(Xlr_test, label_test)\n",
        "print(\"Accuracy:\", score1) \n",
        "# print(\"Accuracy:\", score) \n",
        "# label_pred = classifier.predict(Xlr_test)\n",
        "# cm = confusion_matrix(label_test, label_pred)\n",
        "# print(cm)\n",
        "# accuracy_score(y_test, y_pred)"
      ],
      "metadata": {
        "id": "ZKZpxixiTep2",
        "colab": {
          "base_uri": "https://localhost:8080/"
        },
        "outputId": "fc8baf93-3768-4335-ae77-06f62696772b"
      },
      "execution_count": null,
      "outputs": [
        {
          "output_type": "stream",
          "name": "stdout",
          "text": [
            "Accuracy: 0.774798927613941\n"
          ]
        }
      ]
    },
    {
      "cell_type": "code",
      "source": [
        "from keras.preprocessing.text import Tokenizer\n",
        "tokenizer = Tokenizer(num_words=4200)\n",
        "tokenizer.fit_on_texts(review_train)\n",
        "Xcnn_train = tokenizer.texts_to_sequences(review_train)\n",
        "Xcnn_test = tokenizer.texts_to_sequences(review_test)\n",
        "vocab_size = len(tokenizer.word_index) + 1  \n",
        "print(review_train[1])\n",
        "print(Xcnn_train[1]) "
      ],
      "metadata": {
        "id": "9zgbpk9oVdIL",
        "colab": {
          "base_uri": "https://localhost:8080/"
        },
        "outputId": "a44a91c3-b298-4f76-b51a-5a6bb950ce1b"
      },
      "execution_count": null,
      "outputs": [
        {
          "output_type": "stream",
          "name": "stdout",
          "text": [
            "realdonaldtrump son eric slam hillaryclinton potus response flooding louisiana url\n",
            "[442, 286, 542, 716, 287, 32, 717, 980, 543, 1]\n"
          ]
        }
      ]
    },
    {
      "cell_type": "code",
      "source": [
        "print(np.shape(Xcnn_train))\n",
        "print(np.shape(label_train))\n",
        "print(np.shape(Xcnn_test))\n",
        "print(np.shape(label_test))"
      ],
      "metadata": {
        "colab": {
          "base_uri": "https://localhost:8080/"
        },
        "id": "eo6HSwCayR7f",
        "outputId": "b6152dbc-bda3-41b6-8a96-621c21fbb384"
      },
      "execution_count": null,
      "outputs": [
        {
          "output_type": "stream",
          "name": "stdout",
          "text": [
            "(1116,)\n",
            "(1116,)\n",
            "(373,)\n",
            "(373,)\n"
          ]
        },
        {
          "output_type": "stream",
          "name": "stderr",
          "text": [
            "/usr/local/lib/python3.7/dist-packages/numpy/core/fromnumeric.py:1970: VisibleDeprecationWarning: Creating an ndarray from ragged nested sequences (which is a list-or-tuple of lists-or-tuples-or ndarrays with different lengths or shapes) is deprecated. If you meant to do this, you must specify 'dtype=object' when creating the ndarray.\n",
            "  result = asarray(a).shape\n"
          ]
        }
      ]
    },
    {
      "cell_type": "code",
      "source": [
        "from keras.preprocessing.sequence import pad_sequences\n",
        "maxlen = 50\n",
        "Xcnn_train = pad_sequences(Xcnn_train, padding='post', maxlen=maxlen)\n",
        "Xcnn_test = pad_sequences(Xcnn_test, padding='post', maxlen=maxlen)\n",
        "print(Xcnn_train[0, :])\n",
        "len(Xcnn_train)"
      ],
      "metadata": {
        "id": "S76mKr5hWcKV",
        "colab": {
          "base_uri": "https://localhost:8080/"
        },
        "outputId": "a616a326-2e5a-44fb-9d7b-6108200dc4da"
      },
      "execution_count": null,
      "outputs": [
        {
          "output_type": "stream",
          "name": "stdout",
          "text": [
            "[ 128   25  540  541   46  205  174 1575  715    1    0    0    0    0\n",
            "    0    0    0    0    0    0    0    0    0    0    0    0    0    0\n",
            "    0    0    0    0    0    0    0    0    0    0    0    0    0    0\n",
            "    0    0    0    0    0    0    0    0]\n"
          ]
        },
        {
          "output_type": "execute_result",
          "data": {
            "text/plain": [
              "1116"
            ]
          },
          "metadata": {},
          "execution_count": 41
        }
      ]
    },
    {
      "cell_type": "code",
      "source": [
        "print(np.shape(Xcnn_train))\n",
        "print(np.shape(label_train))\n",
        "print(np.shape(Xcnn_test))\n",
        "print(np.shape(label_test))"
      ],
      "metadata": {
        "colab": {
          "base_uri": "https://localhost:8080/"
        },
        "id": "wEGJBoY61vff",
        "outputId": "b3229561-4193-4bd1-e722-40919ad6cb49"
      },
      "execution_count": null,
      "outputs": [
        {
          "output_type": "stream",
          "name": "stdout",
          "text": [
            "(1116, 50)\n",
            "(1116,)\n",
            "(373, 50)\n",
            "(373,)\n"
          ]
        }
      ]
    },
    {
      "cell_type": "code",
      "source": [
        "from tensorflow.keras.utils import to_categorical\n",
        "# Xcnn_train = to_categorical(label_train)\n",
        "Xcnn_test= to_categorical(Xcnn_test)\n",
        "label_test=to_categorical(label_test)\n",
        "# Xcnn_test.shape()\n",
        "len(Xcnn_test)"
      ],
      "metadata": {
        "id": "qvZF7ciycJmQ",
        "colab": {
          "base_uri": "https://localhost:8080/"
        },
        "outputId": "9cd8b578-aa20-4665-a698-8ba975e8ed71"
      },
      "execution_count": null,
      "outputs": [
        {
          "output_type": "execute_result",
          "data": {
            "text/plain": [
              "373"
            ]
          },
          "metadata": {},
          "execution_count": 43
        }
      ]
    },
    {
      "cell_type": "code",
      "source": [
        "print(len(Xcnn_test))\n",
        "# len(Xcnn_test[0])\n",
        "print(len(label_test))\n",
        "print(len(label_test[0]))"
      ],
      "metadata": {
        "colab": {
          "base_uri": "https://localhost:8080/"
        },
        "id": "DijDT7z3yzCw",
        "outputId": "ffb268b1-459c-4e8d-d5e2-32a78577fbef"
      },
      "execution_count": null,
      "outputs": [
        {
          "output_type": "stream",
          "name": "stdout",
          "text": [
            "373\n",
            "373\n",
            "4\n"
          ]
        }
      ]
    },
    {
      "cell_type": "code",
      "source": [
        "#cnn on text\n",
        "from keras.models import Sequential\n",
        "# from keras.optimizers import SGD\n",
        "from keras import layers \n",
        "embedding_dim = 200\n",
        "textcnnmodel = Sequential()\n",
        "textcnnmodel.add(layers.Embedding(vocab_size, embedding_dim, input_length=maxlen))\n",
        "textcnnmodel.add(layers.Conv1D(128, 5, activation='relu'))\n",
        "textcnnmodel.add(layers.GlobalMaxPooling1D())\n",
        "textcnnmodel.add(layers.Dense(10, activation='relu'))\n",
        "textcnnmodel.add(layers.Dense(4, activation='softmax'))\n",
        "# opt = SGD(lr=0.01, momentum=0.9)\n",
        "textcnnmodel.compile(optimizer='adam',\n",
        "               loss='sparse_categorical_crossentropy',\n",
        "               metrics=['accuracy'])\n",
        "textcnnmodel.summary() "
      ],
      "metadata": {
        "id": "vrXTnLexCiI2",
        "colab": {
          "base_uri": "https://localhost:8080/"
        },
        "outputId": "bf4d994e-3172-44e0-a17e-1f0e315e550f"
      },
      "execution_count": null,
      "outputs": [
        {
          "output_type": "stream",
          "name": "stdout",
          "text": [
            "Model: \"sequential\"\n",
            "_________________________________________________________________\n",
            " Layer (type)                Output Shape              Param #   \n",
            "=================================================================\n",
            " embedding (Embedding)       (None, 50, 200)           712800    \n",
            "                                                                 \n",
            " conv1d (Conv1D)             (None, 46, 128)           128128    \n",
            "                                                                 \n",
            " global_max_pooling1d (Globa  (None, 128)              0         \n",
            " lMaxPooling1D)                                                  \n",
            "                                                                 \n",
            " dense (Dense)               (None, 10)                1290      \n",
            "                                                                 \n",
            " dense_1 (Dense)             (None, 4)                 44        \n",
            "                                                                 \n",
            "=================================================================\n",
            "Total params: 842,262\n",
            "Trainable params: 842,262\n",
            "Non-trainable params: 0\n",
            "_________________________________________________________________\n"
          ]
        }
      ]
    },
    {
      "cell_type": "code",
      "source": [
        "print(len(Xcnn_test))\n",
        "print(len(label_test))\n",
        "print(len(Xcnn_train))\n",
        "print(len(label_train))\n"
      ],
      "metadata": {
        "colab": {
          "base_uri": "https://localhost:8080/"
        },
        "id": "f3v5W1G10Yng",
        "outputId": "e552bbe4-a904-439a-fa96-3fb73ba1f8f3"
      },
      "execution_count": null,
      "outputs": [
        {
          "output_type": "stream",
          "name": "stdout",
          "text": [
            "373\n",
            "373\n",
            "1116\n",
            "1116\n"
          ]
        }
      ]
    },
    {
      "cell_type": "code",
      "source": [
        "print(np.shape(Xcnn_train))\n",
        "print(np.shape(label_train))\n",
        "print(np.shape(Xcnn_test))\n",
        "print(np.shape(label_test))"
      ],
      "metadata": {
        "colab": {
          "base_uri": "https://localhost:8080/"
        },
        "id": "AapWdOGE1Y8z",
        "outputId": "21f247a8-e1b1-4222-8975-61d093db3aad"
      },
      "execution_count": null,
      "outputs": [
        {
          "output_type": "stream",
          "name": "stdout",
          "text": [
            "(1116, 50)\n",
            "(1116,)\n",
            "(373, 50, 3564)\n",
            "(373, 4)\n"
          ]
        }
      ]
    },
    {
      "cell_type": "code",
      "source": [
        "textcnnmodel.fit(Xcnn_train, label_train,\n",
        "                     epochs=50,\n",
        "                     verbose=True,\n",
        "                     validation_data=(Xcnn_test, label_test),\n",
        "                     batch_size=5)\n",
        "\n",
        "# # loss, accuracy = textcnnmodel.evaluate(Xcnn_train, label_train, verbose=False)\n",
        "# print(\"Training Accuracy: {:.4f}\".format(accuracy))\n",
        "# # loss, accuracy = textcnnmodel.evaluate(Xcnn_test, label_test, verbose=False)\n",
        "# print(\"Testing Accuracy:  {:.4f}\".format(accuracy)) "
      ],
      "metadata": {
        "id": "EAHEDJAGAgwK",
        "colab": {
          "base_uri": "https://localhost:8080/",
          "height": 985
        },
        "outputId": "c102ebea-6548-4174-cdb5-e1945a8d8f54"
      },
      "execution_count": null,
      "outputs": [
        {
          "output_type": "stream",
          "name": "stdout",
          "text": [
            "Epoch 1/50\n",
            "223/224 [============================>.] - ETA: 0s - loss: 1.2030 - accuracy: 0.4332WARNING:tensorflow:Model was constructed with shape (None, 50) for input KerasTensor(type_spec=TensorSpec(shape=(None, 50), dtype=tf.float32, name='embedding_input'), name='embedding_input', description=\"created by layer 'embedding_input'\"), but it was called on an input with incompatible shape (None, 50, 3564).\n"
          ]
        },
        {
          "output_type": "error",
          "ename": "ValueError",
          "evalue": "ignored",
          "traceback": [
            "\u001b[0;31m---------------------------------------------------------------------------\u001b[0m",
            "\u001b[0;31mValueError\u001b[0m                                Traceback (most recent call last)",
            "\u001b[0;32m<ipython-input-48-f01b9a3ad99a>\u001b[0m in \u001b[0;36m<module>\u001b[0;34m()\u001b[0m\n\u001b[1;32m      3\u001b[0m                      \u001b[0mverbose\u001b[0m\u001b[0;34m=\u001b[0m\u001b[0;32mTrue\u001b[0m\u001b[0;34m,\u001b[0m\u001b[0;34m\u001b[0m\u001b[0;34m\u001b[0m\u001b[0m\n\u001b[1;32m      4\u001b[0m                      \u001b[0mvalidation_data\u001b[0m\u001b[0;34m=\u001b[0m\u001b[0;34m(\u001b[0m\u001b[0mXcnn_test\u001b[0m\u001b[0;34m,\u001b[0m \u001b[0mlabel_test\u001b[0m\u001b[0;34m)\u001b[0m\u001b[0;34m,\u001b[0m\u001b[0;34m\u001b[0m\u001b[0;34m\u001b[0m\u001b[0m\n\u001b[0;32m----> 5\u001b[0;31m                      batch_size=5)\n\u001b[0m\u001b[1;32m      6\u001b[0m \u001b[0;34m\u001b[0m\u001b[0m\n\u001b[1;32m      7\u001b[0m \u001b[0;31m# # loss, accuracy = textcnnmodel.evaluate(Xcnn_train, label_train, verbose=False)\u001b[0m\u001b[0;34m\u001b[0m\u001b[0;34m\u001b[0m\u001b[0;34m\u001b[0m\u001b[0m\n",
            "\u001b[0;32m/usr/local/lib/python3.7/dist-packages/keras/utils/traceback_utils.py\u001b[0m in \u001b[0;36merror_handler\u001b[0;34m(*args, **kwargs)\u001b[0m\n\u001b[1;32m     65\u001b[0m     \u001b[0;32mexcept\u001b[0m \u001b[0mException\u001b[0m \u001b[0;32mas\u001b[0m \u001b[0me\u001b[0m\u001b[0;34m:\u001b[0m  \u001b[0;31m# pylint: disable=broad-except\u001b[0m\u001b[0;34m\u001b[0m\u001b[0;34m\u001b[0m\u001b[0m\n\u001b[1;32m     66\u001b[0m       \u001b[0mfiltered_tb\u001b[0m \u001b[0;34m=\u001b[0m \u001b[0m_process_traceback_frames\u001b[0m\u001b[0;34m(\u001b[0m\u001b[0me\u001b[0m\u001b[0;34m.\u001b[0m\u001b[0m__traceback__\u001b[0m\u001b[0;34m)\u001b[0m\u001b[0;34m\u001b[0m\u001b[0;34m\u001b[0m\u001b[0m\n\u001b[0;32m---> 67\u001b[0;31m       \u001b[0;32mraise\u001b[0m \u001b[0me\u001b[0m\u001b[0;34m.\u001b[0m\u001b[0mwith_traceback\u001b[0m\u001b[0;34m(\u001b[0m\u001b[0mfiltered_tb\u001b[0m\u001b[0;34m)\u001b[0m \u001b[0;32mfrom\u001b[0m \u001b[0;32mNone\u001b[0m\u001b[0;34m\u001b[0m\u001b[0;34m\u001b[0m\u001b[0m\n\u001b[0m\u001b[1;32m     68\u001b[0m     \u001b[0;32mfinally\u001b[0m\u001b[0;34m:\u001b[0m\u001b[0;34m\u001b[0m\u001b[0;34m\u001b[0m\u001b[0m\n\u001b[1;32m     69\u001b[0m       \u001b[0;32mdel\u001b[0m \u001b[0mfiltered_tb\u001b[0m\u001b[0;34m\u001b[0m\u001b[0;34m\u001b[0m\u001b[0m\n",
            "\u001b[0;32m/usr/local/lib/python3.7/dist-packages/tensorflow/python/framework/func_graph.py\u001b[0m in \u001b[0;36mautograph_handler\u001b[0;34m(*args, **kwargs)\u001b[0m\n\u001b[1;32m   1145\u001b[0m           \u001b[0;32mexcept\u001b[0m \u001b[0mException\u001b[0m \u001b[0;32mas\u001b[0m \u001b[0me\u001b[0m\u001b[0;34m:\u001b[0m  \u001b[0;31m# pylint:disable=broad-except\u001b[0m\u001b[0;34m\u001b[0m\u001b[0;34m\u001b[0m\u001b[0m\n\u001b[1;32m   1146\u001b[0m             \u001b[0;32mif\u001b[0m \u001b[0mhasattr\u001b[0m\u001b[0;34m(\u001b[0m\u001b[0me\u001b[0m\u001b[0;34m,\u001b[0m \u001b[0;34m\"ag_error_metadata\"\u001b[0m\u001b[0;34m)\u001b[0m\u001b[0;34m:\u001b[0m\u001b[0;34m\u001b[0m\u001b[0;34m\u001b[0m\u001b[0m\n\u001b[0;32m-> 1147\u001b[0;31m               \u001b[0;32mraise\u001b[0m \u001b[0me\u001b[0m\u001b[0;34m.\u001b[0m\u001b[0mag_error_metadata\u001b[0m\u001b[0;34m.\u001b[0m\u001b[0mto_exception\u001b[0m\u001b[0;34m(\u001b[0m\u001b[0me\u001b[0m\u001b[0;34m)\u001b[0m\u001b[0;34m\u001b[0m\u001b[0;34m\u001b[0m\u001b[0m\n\u001b[0m\u001b[1;32m   1148\u001b[0m             \u001b[0;32melse\u001b[0m\u001b[0;34m:\u001b[0m\u001b[0;34m\u001b[0m\u001b[0;34m\u001b[0m\u001b[0m\n\u001b[1;32m   1149\u001b[0m               \u001b[0;32mraise\u001b[0m\u001b[0;34m\u001b[0m\u001b[0;34m\u001b[0m\u001b[0m\n",
            "\u001b[0;31mValueError\u001b[0m: in user code:\n\n    File \"/usr/local/lib/python3.7/dist-packages/keras/engine/training.py\", line 1525, in test_function  *\n        return step_function(self, iterator)\n    File \"/usr/local/lib/python3.7/dist-packages/keras/engine/training.py\", line 1514, in step_function  **\n        outputs = model.distribute_strategy.run(run_step, args=(data,))\n    File \"/usr/local/lib/python3.7/dist-packages/keras/engine/training.py\", line 1507, in run_step  **\n        outputs = model.test_step(data)\n    File \"/usr/local/lib/python3.7/dist-packages/keras/engine/training.py\", line 1471, in test_step\n        y_pred = self(x, training=False)\n    File \"/usr/local/lib/python3.7/dist-packages/keras/utils/traceback_utils.py\", line 67, in error_handler\n        raise e.with_traceback(filtered_tb) from None\n    File \"/usr/local/lib/python3.7/dist-packages/keras/engine/input_spec.py\", line 214, in assert_input_compatibility\n        raise ValueError(f'Input {input_index} of layer \"{layer_name}\" '\n\n    ValueError: Exception encountered when calling layer \"sequential\" (type Sequential).\n    \n    Input 0 of layer \"global_max_pooling1d\" is incompatible with the layer: expected ndim=3, found ndim=4. Full shape received: (None, 50, 3560, 128)\n    \n    Call arguments received:\n      • inputs=tf.Tensor(shape=(None, 50, 3564), dtype=float32)\n      • training=False\n      • mask=None\n"
          ]
        }
      ]
    }
  ],
  "metadata": {
    "colab": {
      "collapsed_sections": [],
      "name": "Rumour Verification .ipynb",
      "provenance": [],
      "toc_visible": true,
      "include_colab_link": true
    },
    "kernelspec": {
      "display_name": "Python 3",
      "name": "python3"
    },
    "language_info": {
      "name": "python"
    }
  },
  "nbformat": 4,
  "nbformat_minor": 0
}